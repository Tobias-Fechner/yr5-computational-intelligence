{
 "cells": [
  {
   "cell_type": "markdown",
   "metadata": {},
   "source": [
    "# Exploration"
   ]
  },
  {
   "cell_type": "markdown",
   "metadata": {},
   "source": [
    "# Setup"
   ]
  },
  {
   "cell_type": "code",
   "execution_count": null,
   "metadata": {},
   "outputs": [],
   "source": [
    "import scipy.io as spio\n",
    "import plotly.express as px\n",
    "import plotly.graph_objects as go\n",
    "import numpy as np\n",
    "import pandas as pd\n",
    "from scipy.signal import butter, lfilter, savgol_filter\n",
    "from scipy.interpolate import CubicSpline, interp1d"
   ]
  },
  {
   "cell_type": "code",
   "execution_count": null,
   "metadata": {},
   "outputs": [],
   "source": [
    "data = pd.read_csv('./datasources/spikes/dev/training_data_50k.csv', index_col=0)"
   ]
  },
  {
   "cell_type": "code",
   "execution_count": null,
   "metadata": {},
   "outputs": [],
   "source": [
    "data.head()"
   ]
  },
  {
   "cell_type": "markdown",
   "metadata": {},
   "source": [
    "# Plot Data"
   ]
  },
  {
   "cell_type": "code",
   "execution_count": null,
   "metadata": {
    "scrolled": false
   },
   "outputs": [],
   "source": [
    "px.line(x=data['time (s)'], y=data['signal'])"
   ]
  },
  {
   "cell_type": "markdown",
   "metadata": {},
   "source": [
    "# Function Definition"
   ]
  },
  {
   "cell_type": "markdown",
   "metadata": {},
   "source": [
    "### Filter"
   ]
  },
  {
   "cell_type": "code",
   "execution_count": null,
   "metadata": {},
   "outputs": [],
   "source": [
    "def bandPassFilter(signal, lowCut=300.00, highCut=3000.00, sampleRate=25000, order=1):\n",
    "    \n",
    "    # TODO: Calculate something\n",
    "    nyq = 0.5 * sampleRate\n",
    "    low = lowCut / nyq\n",
    "    high = highCut / nyq\n",
    "    \n",
    "    # Generate filter coefficients for butterworth filter\n",
    "    b, a = butter(order, [low, high], btype='bandpass')\n",
    "\n",
    "    signalFiltered = lfilter(b, a, signal)\n",
    "    return signalFiltered"
   ]
  },
  {
   "cell_type": "markdown",
   "metadata": {},
   "source": [
    "### Detect spikes"
   ]
  },
  {
   "cell_type": "code",
   "execution_count": null,
   "metadata": {},
   "outputs": [],
   "source": [
    "def detectPeaks(data, threshold=1.0):\n",
    "    df = data.loc[data['signalFiltered'] > threshold]\n",
    "    \n",
    "    valleys = df[(df['signalFiltered'].shift(1) > df['signalFiltered']) &\n",
    "                 (df['signalFiltered'].shift(-1) > df['signalFiltered'])]\n",
    "    \n",
    "    peaks = df[(df['signalFiltered'].shift(1) < df['signalFiltered']) &\n",
    "               (df['signalFiltered'].shift(-1) < df['signalFiltered'])]\n",
    "    \n",
    "    return peaks.index"
   ]
  },
  {
   "cell_type": "markdown",
   "metadata": {},
   "source": [
    "### Get putative spike waveforms"
   ]
  },
  {
   "cell_type": "code",
   "execution_count": null,
   "metadata": {},
   "outputs": [],
   "source": [
    "def getSpikeWaveform(spikes, data, window=200):\n",
    "    \n",
    "    if 'waveform' not in spikes.columns:\n",
    "        spikes.insert(len(spikes.columns), 'waveform', None)\n",
    "    \n",
    "    for index in spikes.index:\n",
    "        \n",
    "        spikes.at[index, 'waveform'] = data.loc[index-int(window/4):index+int(3/4*window), 'signalFiltered'].tolist()\n",
    "        \n",
    "    return spikes"
   ]
  },
  {
   "cell_type": "markdown",
   "metadata": {},
   "source": [
    "### Get signal plot"
   ]
  },
  {
   "cell_type": "code",
   "execution_count": null,
   "metadata": {},
   "outputs": [],
   "source": [
    "def plotSignal(signal, peaks):\n",
    "    \n",
    "    fig = go.Figure()\n",
    "    \n",
    "    fig.add_trace(go.Scatter(\n",
    "        y=signal,\n",
    "        mode='lines',\n",
    "        name='Signal'\n",
    "    ))\n",
    "\n",
    "    fig.add_trace(go.Scatter(\n",
    "        x=peaks,\n",
    "        y=[signal[j] for j in peaks],\n",
    "        mode='markers',\n",
    "        marker=dict(\n",
    "            size=8,\n",
    "            color='red',\n",
    "            symbol='cross'\n",
    "        ),\n",
    "        name='Detected Peaks'\n",
    "    ))\n",
    "\n",
    "    fig.show()"
   ]
  },
  {
   "cell_type": "markdown",
   "metadata": {},
   "source": [
    "---"
   ]
  },
  {
   "cell_type": "markdown",
   "metadata": {},
   "source": [
    "Add column for waveform"
   ]
  },
  {
   "cell_type": "code",
   "execution_count": null,
   "metadata": {},
   "outputs": [],
   "source": [
    "spikes = data.loc[data['isPeak']==True, :]\n",
    "spikes.head()"
   ]
  },
  {
   "cell_type": "code",
   "execution_count": null,
   "metadata": {},
   "outputs": [],
   "source": [
    "spikes = getSpikeWaveform(spikes, data)\n",
    "spikes.head()"
   ]
  },
  {
   "cell_type": "code",
   "execution_count": null,
   "metadata": {
    "scrolled": false
   },
   "outputs": [],
   "source": [
    "z = 4*50\n",
    "xRange = np.linspace(0,z, z+1)\n",
    "sample = spikes.iloc[-10:, 4].tolist()\n",
    "\n",
    "px.line(x=xRange, y=sample)"
   ]
  },
  {
   "cell_type": "markdown",
   "metadata": {},
   "source": [
    "Need to smooth the waveforms but for now will continue to develop NN."
   ]
  }
 ],
 "metadata": {
  "kernelspec": {
   "display_name": "Python 3",
   "language": "python",
   "name": "python3"
  },
  "language_info": {
   "codemirror_mode": {
    "name": "ipython",
    "version": 3
   },
   "file_extension": ".py",
   "mimetype": "text/x-python",
   "name": "python",
   "nbconvert_exporter": "python",
   "pygments_lexer": "ipython3",
   "version": "3.8.1"
  }
 },
 "nbformat": 4,
 "nbformat_minor": 4
}
