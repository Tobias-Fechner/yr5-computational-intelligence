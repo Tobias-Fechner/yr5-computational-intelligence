{
 "cells": [
  {
   "cell_type": "markdown",
   "metadata": {},
   "source": [
    "# Optimising Character Classification Network"
   ]
  },
  {
   "cell_type": "markdown",
   "metadata": {},
   "source": [
    "## Import"
   ]
  },
  {
   "cell_type": "code",
   "execution_count": null,
   "metadata": {},
   "outputs": [],
   "source": [
    "from lab3.nn_general import NeuralNetwork, batchTrain, test\n",
    "import numpy as np\n",
    "from tqdm import tqdm\n",
    "import matplotlib.pyplot as plt\n",
    "plt.rcParams.update({'font.size': 13})\n",
    "import pandas as pd"
   ]
  },
  {
   "cell_type": "markdown",
   "metadata": {},
   "source": [
    "## Get Data"
   ]
  },
  {
   "cell_type": "markdown",
   "metadata": {},
   "source": [
    "Get full training dataset"
   ]
  },
  {
   "cell_type": "code",
   "execution_count": null,
   "metadata": {},
   "outputs": [],
   "source": [
    "file = open(\"datasources\\mnist_train.csv\", 'r')\n",
    "data_training = file.readlines()\n",
    "file.close()\n",
    "\n",
    "data_training = data_training[:-5000]"
   ]
  },
  {
   "cell_type": "markdown",
   "metadata": {},
   "source": [
    "Get validation data of 5000 lines from other end of full dataset"
   ]
  },
  {
   "cell_type": "code",
   "execution_count": null,
   "metadata": {},
   "outputs": [],
   "source": [
    "data_validation = data_training[-5000:]"
   ]
  },
  {
   "cell_type": "markdown",
   "metadata": {},
   "source": [
    "Check split has been done correctly (not including last/ first record twice)"
   ]
  },
  {
   "cell_type": "code",
   "execution_count": null,
   "metadata": {},
   "outputs": [],
   "source": [
    "assert not data_training[-1].split(',')[0] == data_validation[0].split(',')[0]"
   ]
  },
  {
   "cell_type": "markdown",
   "metadata": {},
   "source": [
    "Get full test dataset"
   ]
  },
  {
   "cell_type": "code",
   "execution_count": null,
   "metadata": {},
   "outputs": [],
   "source": [
    "file = open(\"datasources\\mnist_test.csv\", 'r')\n",
    "data_testing = file.readlines()\n",
    "file.close()"
   ]
  },
  {
   "cell_type": "markdown",
   "metadata": {},
   "source": [
    "## Get models and set parameters"
   ]
  },
  {
   "cell_type": "markdown",
   "metadata": {},
   "source": [
    "Load 3 best performing models from excel"
   ]
  },
  {
   "cell_type": "code",
   "execution_count": null,
   "metadata": {},
   "outputs": [],
   "source": [
    "selected = pd.read_excel('.\\datasources\\selected.xlsx', index_col=0)\n",
    "selected = selected.sort_values(by='performanceUpdated',ascending=False, ignore_index=True).head(3)\n",
    "selected"
   ]
  },
  {
   "cell_type": "code",
   "execution_count": null,
   "metadata": {},
   "outputs": [],
   "source": [
    "epochs=55\n",
    "batchSize=5000"
   ]
  },
  {
   "cell_type": "markdown",
   "metadata": {},
   "source": [
    "## Training"
   ]
  },
  {
   "cell_type": "code",
   "execution_count": null,
   "metadata": {},
   "outputs": [],
   "source": [
    "results = {'900': {'training':[], 'validation':[], 'nn':None}, \n",
    "           '700': {'training':[], 'validation':[], 'nn':None}, \n",
    "           '200': {'training':[], 'validation':[], 'nn':None}}\n",
    "results"
   ]
  },
  {
   "cell_type": "code",
   "execution_count": null,
   "metadata": {},
   "outputs": [],
   "source": [
    "for hid in results.keys():\n",
    "    nn = NeuralNetwork(input_nodes=784, \n",
    "                       hidden_nodes=int(hid), \n",
    "                       output_nodes=10, \n",
    "                       lr=0.3,\n",
    "                       error_function='difference-squared')\n",
    "\n",
    "    nn, trainingCurve, validationCurve, = batchTrain(data_training=data_training,\n",
    "                                                     data_validation=data_validation,\n",
    "                                                     nn=nn,\n",
    "                                                     batchSize=batchSize,\n",
    "                                                     epochs=epochs)\n",
    "    results[hid]['nn'] = nn\n",
    "    results[hid]['training'] = trainingCurve\n",
    "    results[hid]['validation'] = validationCurve"
   ]
  },
  {
   "cell_type": "code",
   "execution_count": null,
   "metadata": {},
   "outputs": [],
   "source": [
    "finalModel = results['200']['nn']"
   ]
  },
  {
   "cell_type": "code",
   "execution_count": null,
   "metadata": {},
   "outputs": [],
   "source": [
    "finalScore = test(data_testing, finalModel)"
   ]
  },
  {
   "cell_type": "code",
   "execution_count": null,
   "metadata": {},
   "outputs": [],
   "source": [
    "finalScore"
   ]
  },
  {
   "cell_type": "code",
   "execution_count": null,
   "metadata": {},
   "outputs": [],
   "source": [
    "results"
   ]
  },
  {
   "cell_type": "code",
   "execution_count": null,
   "metadata": {},
   "outputs": [],
   "source": [
    "colours = [('navy', \n",
    "           'cornflowerblue'), \n",
    "           ('darkred', \n",
    "           'lightcoral'), \n",
    "           ('darkgreen', \n",
    "           'lightgreen')]"
   ]
  },
  {
   "cell_type": "code",
   "execution_count": null,
   "metadata": {},
   "outputs": [],
   "source": [
    "for hid, colour in zip(results.keys(), colours):\n",
    "    label='{} '.format(int(hid)) + list(results[hid].keys())[0]\n",
    "    plt.plot(range(len(results[hid]['training'])), \n",
    "             results[hid]['training'], \n",
    "             label=label, \n",
    "             c=colour[0])\n",
    "    \n",
    "    label='{} '.format(int(hid)) + list(results[hid].keys())[1]\n",
    "    plt.plot(range(len(results[hid]['validation'])), \n",
    "             results[hid]['validation'], \n",
    "             label=label, \n",
    "             c=colour[1], \n",
    "             linestyle='--')\n",
    "    \n",
    "plt.ylabel('performance')\n",
    "plt.xlabel('epochs')\n",
    "plt.legend()\n",
    "plt.show()"
   ]
  },
  {
   "cell_type": "code",
   "execution_count": null,
   "metadata": {},
   "outputs": [],
   "source": [
    "list(results['700'].keys())"
   ]
  },
  {
   "cell_type": "code",
   "execution_count": null,
   "metadata": {},
   "outputs": [],
   "source": [
    "len(results['200']['training'])"
   ]
  },
  {
   "cell_type": "code",
   "execution_count": null,
   "metadata": {},
   "outputs": [],
   "source": []
  }
 ],
 "metadata": {
  "kernelspec": {
   "display_name": "Python 3",
   "language": "python",
   "name": "python3"
  },
  "language_info": {
   "codemirror_mode": {
    "name": "ipython",
    "version": 3
   },
   "file_extension": ".py",
   "mimetype": "text/x-python",
   "name": "python",
   "nbconvert_exporter": "python",
   "pygments_lexer": "ipython3",
   "version": "3.8.1"
  }
 },
 "nbformat": 4,
 "nbformat_minor": 4
}
