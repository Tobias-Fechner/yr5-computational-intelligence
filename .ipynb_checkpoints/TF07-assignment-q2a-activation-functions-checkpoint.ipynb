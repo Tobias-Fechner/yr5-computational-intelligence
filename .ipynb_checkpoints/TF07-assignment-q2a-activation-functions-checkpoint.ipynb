{
 "cells": [
  {
   "cell_type": "markdown",
   "metadata": {},
   "source": [
    "# Optimising Character Classification Network"
   ]
  },
  {
   "cell_type": "markdown",
   "metadata": {},
   "source": [
    "## Import"
   ]
  },
  {
   "cell_type": "code",
   "execution_count": 1,
   "metadata": {},
   "outputs": [],
   "source": [
    "from lab3.nn_general import NeuralNetwork, batchTrain, test\n",
    "import numpy as np\n",
    "from tqdm import tqdm\n",
    "import matplotlib.pyplot as plt\n",
    "plt.rcParams.update({'font.size': 13})\n",
    "import pandas as pd"
   ]
  },
  {
   "cell_type": "markdown",
   "metadata": {},
   "source": [
    "## Train with different activation functions"
   ]
  },
  {
   "cell_type": "markdown",
   "metadata": {},
   "source": [
    "Get training data with 5000 lines"
   ]
  },
  {
   "cell_type": "code",
   "execution_count": 5,
   "metadata": {},
   "outputs": [],
   "source": [
    "file = open(\"datasources\\mnist_train_5000.csv\", 'r')\n",
    "data_training = file.readlines()\n",
    "file.close()"
   ]
  },
  {
   "cell_type": "markdown",
   "metadata": {},
   "source": [
    "Get validation data of 500 lines from other end of full dataset"
   ]
  },
  {
   "cell_type": "code",
   "execution_count": 6,
   "metadata": {},
   "outputs": [],
   "source": [
    "file = open(\"datasources\\mnist_validation_500.csv\", 'r')\n",
    "data_validation = file.readlines()\n",
    "file.close()"
   ]
  },
  {
   "cell_type": "markdown",
   "metadata": {},
   "source": [
    "Get test data of 100 lines from completely independent dataset"
   ]
  },
  {
   "cell_type": "code",
   "execution_count": 7,
   "metadata": {},
   "outputs": [],
   "source": [
    "file = open(\"datasources\\mnist_test_100.csv\", 'r')\n",
    "data_testing = file.readlines()\n",
    "file.close()"
   ]
  },
  {
   "cell_type": "markdown",
   "metadata": {},
   "source": [
    "Load 3 best performers from excel"
   ]
  },
  {
   "cell_type": "code",
   "execution_count": 8,
   "metadata": {},
   "outputs": [
    {
     "data": {
      "text/html": [
       "<div>\n",
       "<style scoped>\n",
       "    .dataframe tbody tr th:only-of-type {\n",
       "        vertical-align: middle;\n",
       "    }\n",
       "\n",
       "    .dataframe tbody tr th {\n",
       "        vertical-align: top;\n",
       "    }\n",
       "\n",
       "    .dataframe thead th {\n",
       "        text-align: right;\n",
       "    }\n",
       "</style>\n",
       "<table border=\"1\" class=\"dataframe\">\n",
       "  <thead>\n",
       "    <tr style=\"text-align: right;\">\n",
       "      <th></th>\n",
       "      <th>learningRates</th>\n",
       "      <th>performance</th>\n",
       "      <th>hiddenNodes</th>\n",
       "      <th>performanceUpdated</th>\n",
       "      <th>trainingCurve</th>\n",
       "      <th>validationCurve</th>\n",
       "      <th>performance5k</th>\n",
       "    </tr>\n",
       "  </thead>\n",
       "  <tbody>\n",
       "    <tr>\n",
       "      <th>0</th>\n",
       "      <td>0.3</td>\n",
       "      <td>90</td>\n",
       "      <td>700</td>\n",
       "      <td>97</td>\n",
       "      <td>97.36,98.34,99.32,99.44,99.38</td>\n",
       "      <td>94.41117764471058,95.20958083832335,96.0079840...</td>\n",
       "      <td>96.606786</td>\n",
       "    </tr>\n",
       "    <tr>\n",
       "      <th>1</th>\n",
       "      <td>0.3</td>\n",
       "      <td>90</td>\n",
       "      <td>200</td>\n",
       "      <td>96</td>\n",
       "      <td>96.82,98.61999999999999,99.1,99.48,99.52</td>\n",
       "      <td>93.812375249501,96.00798403193613,96.207584830...</td>\n",
       "      <td>96.606786</td>\n",
       "    </tr>\n",
       "    <tr>\n",
       "      <th>2</th>\n",
       "      <td>0.3</td>\n",
       "      <td>90</td>\n",
       "      <td>1100</td>\n",
       "      <td>96</td>\n",
       "      <td>96.56,98.54,99.32,99.46000000000001,99.5</td>\n",
       "      <td>93.6127744510978,95.60878243512974,96.40718562...</td>\n",
       "      <td>96.606786</td>\n",
       "    </tr>\n",
       "  </tbody>\n",
       "</table>\n",
       "</div>"
      ],
      "text/plain": [
       "   learningRates  performance  hiddenNodes  performanceUpdated  \\\n",
       "0            0.3           90          700                  97   \n",
       "1            0.3           90          200                  96   \n",
       "2            0.3           90         1100                  96   \n",
       "\n",
       "                              trainingCurve  \\\n",
       "0             97.36,98.34,99.32,99.44,99.38   \n",
       "1  96.82,98.61999999999999,99.1,99.48,99.52   \n",
       "2  96.56,98.54,99.32,99.46000000000001,99.5   \n",
       "\n",
       "                                     validationCurve  performance5k  \n",
       "0  94.41117764471058,95.20958083832335,96.0079840...      96.606786  \n",
       "1  93.812375249501,96.00798403193613,96.207584830...      96.606786  \n",
       "2  93.6127744510978,95.60878243512974,96.40718562...      96.606786  "
      ]
     },
     "execution_count": 8,
     "metadata": {},
     "output_type": "execute_result"
    }
   ],
   "source": [
    "selected = pd.read_csv('.\\datasources\\selected_5k.csv', index_col=0)\n",
    "selected = selected.sort_values(by='performance5k',ascending=False, ignore_index=True).head(3)\n",
    "selected"
   ]
  },
  {
   "cell_type": "code",
   "execution_count": 9,
   "metadata": {},
   "outputs": [],
   "source": [
    "epochs=3\n",
    "batchSize=200"
   ]
  },
  {
   "cell_type": "code",
   "execution_count": 10,
   "metadata": {
    "scrolled": false
   },
   "outputs": [
    {
     "name": "stderr",
     "output_type": "stream",
     "text": [
      "0it [00:00, ?it/s]C:\\Users\\Tobias Fechner\\Documents\\1 - Uni\\yr-5\\ee40098-computational-intelligence\\git_repo\\lab3\\nn_general.py:60: RuntimeWarning: overflow encountered in multiply\n",
      "  self.who += self.lr * np.dot((output_errors * final_outputs * (1.0 - final_outputs)),\n",
      "C:\\Users\\Tobias Fechner\\Documents\\1 - Uni\\yr-5\\ee40098-computational-intelligence\\git_repo\\lab3\\nn_general.py:64: RuntimeWarning: invalid value encountered in multiply\n",
      "  self.wih += self.lr * np.dot((hidden_errors * hidden_outputs * (1.0 - hidden_outputs)),\n"
     ]
    },
    {
     "name": "stdout",
     "output_type": "stream",
     "text": [
      "epoch number:  0\n",
      "epoch number:  1\n",
      "epoch number:  2\n"
     ]
    },
    {
     "data": {
      "image/png": "[encoded data removed]",
      "text/plain": [
       "<Figure size 432x288 with 1 Axes>"
      ]
     },
     "metadata": {
      "needs_background": "light"
     },
     "output_type": "display_data"
    },
    {
     "name": "stdout",
     "output_type": "stream",
     "text": [
      "epoch number:  0\n"
     ]
    },
    {
     "name": "stderr",
     "output_type": "stream",
     "text": [
      "C:\\Users\\Tobias Fechner\\Documents\\1 - Uni\\yr-5\\ee40098-computational-intelligence\\git_repo\\lab3\\nn_general.py:100: RuntimeWarning: overflow encountered in exp\n",
      "  return lambda x: (2/(1 + np.exp(-2*x))) -1\n"
     ]
    },
    {
     "name": "stdout",
     "output_type": "stream",
     "text": [
      "epoch number:  1\n",
      "epoch number:  2\n"
     ]
    },
    {
     "data": {
      "image/png": "[encoded data removed]",
      "text/plain": [
       "<Figure size 432x288 with 1 Axes>"
      ]
     },
     "metadata": {
      "needs_background": "light"
     },
     "output_type": "display_data"
    },
    {
     "name": "stdout",
     "output_type": "stream",
     "text": [
      "epoch number:  0\n",
      "epoch number:  1\n",
      "epoch number:  2\n"
     ]
    },
    {
     "data": {
      "image/png": "[encoded data removed]",
      "text/plain": [
       "<Figure size 432x288 with 1 Axes>"
      ]
     },
     "metadata": {
      "needs_background": "light"
     },
     "output_type": "display_data"
    },
    {
     "name": "stderr",
     "output_type": "stream",
     "text": [
      "\r",
      "1it [04:22, 262.64s/it]"
     ]
    },
    {
     "name": "stdout",
     "output_type": "stream",
     "text": [
      "epoch number:  0\n",
      "epoch number:  1\n",
      "epoch number:  2\n"
     ]
    },
    {
     "data": {
      "image/png": "[encoded data removed]",
      "text/plain": [
       "<Figure size 432x288 with 1 Axes>"
      ]
     },
     "metadata": {
      "needs_background": "light"
     },
     "output_type": "display_data"
    },
    {
     "name": "stdout",
     "output_type": "stream",
     "text": [
      "epoch number:  0\n"
     ]
    },
    {
     "name": "stderr",
     "output_type": "stream",
     "text": [
      "1it [04:54, 294.83s/it]\n"
     ]
    },
    {
     "ename": "KeyboardInterrupt",
     "evalue": "",
     "output_type": "error",
     "traceback": [
      "\u001b[1;31m---------------------------------------------------------------------------\u001b[0m",
      "\u001b[1;31mKeyboardInterrupt\u001b[0m                         Traceback (most recent call last)",
      "\u001b[1;32m<ipython-input-10-301b1e1d3772>\u001b[0m in \u001b[0;36m<module>\u001b[1;34m\u001b[0m\n\u001b[0;32m     10\u001b[0m                            activation_function=activation_function)\n\u001b[0;32m     11\u001b[0m \u001b[1;33m\u001b[0m\u001b[0m\n\u001b[1;32m---> 12\u001b[1;33m         nn, trainingCurve, validationCurve = batchTrain(data_training=data_training, \n\u001b[0m\u001b[0;32m     13\u001b[0m                                                         \u001b[0mdata_validation\u001b[0m\u001b[1;33m=\u001b[0m\u001b[0mdata_validation\u001b[0m\u001b[1;33m,\u001b[0m\u001b[1;33m\u001b[0m\u001b[1;33m\u001b[0m\u001b[0m\n\u001b[0;32m     14\u001b[0m                                                         \u001b[0mnn\u001b[0m\u001b[1;33m=\u001b[0m\u001b[0mnn\u001b[0m\u001b[1;33m,\u001b[0m\u001b[1;33m\u001b[0m\u001b[1;33m\u001b[0m\u001b[0m\n",
      "\u001b[1;32m~\\Documents\\1 - Uni\\yr-5\\ee40098-computational-intelligence\\git_repo\\lab3\\nn_general.py\u001b[0m in \u001b[0;36mbatchTrain\u001b[1;34m(data_training, data_validation, nn, batchSize, epochs)\u001b[0m\n\u001b[0;32m    141\u001b[0m             \u001b[0mdata_batch\u001b[0m \u001b[1;33m=\u001b[0m \u001b[0mdata_training\u001b[0m\u001b[1;33m[\u001b[0m\u001b[0mbatchStart\u001b[0m\u001b[1;33m:\u001b[0m\u001b[0mbatchEnd\u001b[0m\u001b[1;33m]\u001b[0m\u001b[1;33m\u001b[0m\u001b[1;33m\u001b[0m\u001b[0m\n\u001b[0;32m    142\u001b[0m \u001b[1;33m\u001b[0m\u001b[0m\n\u001b[1;32m--> 143\u001b[1;33m             \u001b[0mnn\u001b[0m \u001b[1;33m=\u001b[0m \u001b[0mtrain\u001b[0m\u001b[1;33m(\u001b[0m\u001b[0mdata_batch\u001b[0m\u001b[1;33m,\u001b[0m \u001b[0mnn\u001b[0m\u001b[1;33m)\u001b[0m\u001b[1;33m\u001b[0m\u001b[1;33m\u001b[0m\u001b[0m\n\u001b[0m\u001b[0;32m    144\u001b[0m \u001b[1;33m\u001b[0m\u001b[0m\n\u001b[0;32m    145\u001b[0m             \u001b[0mbatchStart\u001b[0m \u001b[1;33m=\u001b[0m \u001b[0mbatchEnd\u001b[0m \u001b[1;33m+\u001b[0m \u001b[1;36m1\u001b[0m\u001b[1;33m\u001b[0m\u001b[1;33m\u001b[0m\u001b[0m\n",
      "\u001b[1;32m~\\Documents\\1 - Uni\\yr-5\\ee40098-computational-intelligence\\git_repo\\lab3\\nn_general.py\u001b[0m in \u001b[0;36mtrain\u001b[1;34m(data, nn)\u001b[0m\n\u001b[0;32m    120\u001b[0m \u001b[1;33m\u001b[0m\u001b[0m\n\u001b[0;32m    121\u001b[0m         \u001b[1;31m# Train the network\u001b[0m\u001b[1;33m\u001b[0m\u001b[1;33m\u001b[0m\u001b[1;33m\u001b[0m\u001b[0m\n\u001b[1;32m--> 122\u001b[1;33m         \u001b[0mnn\u001b[0m\u001b[1;33m.\u001b[0m\u001b[0mtrain\u001b[0m\u001b[1;33m(\u001b[0m\u001b[0minputs\u001b[0m\u001b[1;33m.\u001b[0m\u001b[0mtolist\u001b[0m\u001b[1;33m(\u001b[0m\u001b[1;33m)\u001b[0m\u001b[1;33m,\u001b[0m \u001b[0mtargets\u001b[0m\u001b[1;33m.\u001b[0m\u001b[0mtolist\u001b[0m\u001b[1;33m(\u001b[0m\u001b[1;33m)\u001b[0m\u001b[1;33m)\u001b[0m\u001b[1;33m\u001b[0m\u001b[1;33m\u001b[0m\u001b[0m\n\u001b[0m\u001b[0;32m    123\u001b[0m \u001b[1;33m\u001b[0m\u001b[0m\n\u001b[0;32m    124\u001b[0m     \u001b[1;32mreturn\u001b[0m \u001b[0mnn\u001b[0m\u001b[1;33m\u001b[0m\u001b[1;33m\u001b[0m\u001b[0m\n",
      "\u001b[1;32m~\\Documents\\1 - Uni\\yr-5\\ee40098-computational-intelligence\\git_repo\\lab3\\nn_general.py\u001b[0m in \u001b[0;36mtrain\u001b[1;34m(self, inputs, targets)\u001b[0m\n\u001b[0;32m     62\u001b[0m \u001b[1;33m\u001b[0m\u001b[0m\n\u001b[0;32m     63\u001b[0m         \u001b[1;31m# Update the weights for the links between the input and hidden layers\u001b[0m\u001b[1;33m\u001b[0m\u001b[1;33m\u001b[0m\u001b[1;33m\u001b[0m\u001b[0m\n\u001b[1;32m---> 64\u001b[1;33m         self.wih += self.lr * np.dot((hidden_errors * hidden_outputs * (1.0 - hidden_outputs)),\n\u001b[0m\u001b[0;32m     65\u001b[0m                                      np.transpose(inputs_array))\n\u001b[0;32m     66\u001b[0m \u001b[1;33m\u001b[0m\u001b[0m\n",
      "\u001b[1;31mKeyboardInterrupt\u001b[0m: "
     ]
    }
   ],
   "source": [
    "for index, row in tqdm(selected.iterrows()):\n",
    "    \n",
    "    for activation_function in ['relu', 'tanh', 'sigmoid']:\n",
    "\n",
    "        # Create new nn\n",
    "        nn = NeuralNetwork(input_nodes=784, \n",
    "                           hidden_nodes=int(row['hiddenNodes']), \n",
    "                           output_nodes=10, \n",
    "                           lr=float(row['learningRates']),\n",
    "                           activation_function=activation_function)\n",
    "\n",
    "        nn, trainingCurve, validationCurve = batchTrain(data_training=data_training, \n",
    "                                                        data_validation=data_validation, \n",
    "                                                        nn=nn, \n",
    "                                                        batchSize=batchSize, \n",
    "                                                        epochs=epochs)\n",
    "\n",
    "        plt.plot(range(1, epochs+1), trainingCurve, label='trainingCurve')\n",
    "        plt.plot(range(1, epochs+1), validationCurve, label='validationCurve')\n",
    "        plt.ylabel('performance')\n",
    "        plt.xlabel('epochs')\n",
    "        plt.show()\n",
    "\n",
    "        selected.at[index, 'trainingCurve'] = \",\".join([str(x) for x in trainingCurve])\n",
    "        selected.at[index, 'validationCurve'] = \",\".join([str(x) for x in validationCurve])"
   ]
  },
  {
   "cell_type": "code",
   "execution_count": null,
   "metadata": {},
   "outputs": [],
   "source": [
    "selected['performance5k'] = selected['validationCurve'].apply(lambda x: max(x.split(',')))"
   ]
  },
  {
   "cell_type": "code",
   "execution_count": null,
   "metadata": {},
   "outputs": [],
   "source": [
    "selected"
   ]
  },
  {
   "cell_type": "markdown",
   "metadata": {},
   "source": [
    "## Save NN"
   ]
  },
  {
   "cell_type": "code",
   "execution_count": null,
   "metadata": {},
   "outputs": [],
   "source": [
    "if nn:\n",
    "    \n",
    "else:\n",
    "    print(\"No network to save.\")"
   ]
  }
 ],
 "metadata": {
  "kernelspec": {
   "display_name": "Python 3",
   "language": "python",
   "name": "python3"
  },
  "language_info": {
   "codemirror_mode": {
    "name": "ipython",
    "version": 3
   },
   "file_extension": ".py",
   "mimetype": "text/x-python",
   "name": "python",
   "nbconvert_exporter": "python",
   "pygments_lexer": "ipython3",
   "version": "3.8.1"
  }
 },
 "nbformat": 4,
 "nbformat_minor": 4
}
