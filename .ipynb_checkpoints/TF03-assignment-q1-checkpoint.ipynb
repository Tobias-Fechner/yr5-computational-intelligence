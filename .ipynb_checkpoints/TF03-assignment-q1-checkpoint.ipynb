{
 "cells": [
  {
   "cell_type": "markdown",
   "metadata": {},
   "source": [
    "# Assignment Q1"
   ]
  },
  {
   "cell_type": "code",
   "execution_count": null,
   "metadata": {},
   "outputs": [],
   "source": [
    "from lab2.perceptron_model import plotResults, plotXORResults"
   ]
  },
  {
   "cell_type": "markdown",
   "metadata": {},
   "source": [
    "## OR"
   ]
  },
  {
   "cell_type": "code",
   "execution_count": null,
   "metadata": {},
   "outputs": [],
   "source": [
    "# Parameters setup\n",
    "inputs = [[0,0],\n",
    "          [0,1],\n",
    "          [1,0],\n",
    "          [1,1]]\n",
    "weights = [2,2]\n",
    "bias = -1"
   ]
  },
  {
   "cell_type": "code",
   "execution_count": null,
   "metadata": {},
   "outputs": [],
   "source": [
    "plotResults(inputBitPairs=inputs, weights=weights, bias=bias, logicFunction='OR')"
   ]
  },
  {
   "cell_type": "markdown",
   "metadata": {},
   "source": [
    "## AND"
   ]
  },
  {
   "cell_type": "code",
   "execution_count": null,
   "metadata": {},
   "outputs": [],
   "source": [
    "# Parameters setup\n",
    "inputs = [[0,0],\n",
    "          [0,1],\n",
    "          [1,0],\n",
    "          [1,1]]\n",
    "weights = [2,2]\n",
    "bias = -3"
   ]
  },
  {
   "cell_type": "code",
   "execution_count": null,
   "metadata": {},
   "outputs": [],
   "source": [
    "plotResults(inputBitPairs=inputs, weights=weights, bias=bias, logicFunction=\"AND\")"
   ]
  },
  {
   "cell_type": "markdown",
   "metadata": {},
   "source": [
    "## NAND"
   ]
  },
  {
   "cell_type": "code",
   "execution_count": null,
   "metadata": {},
   "outputs": [],
   "source": [
    "# Parameters setup\n",
    "inputs = [[0,0],\n",
    "          [0,1],\n",
    "          [1,0],\n",
    "          [1,1]]\n",
    "weights = [-2,-2]\n",
    "bias = 3"
   ]
  },
  {
   "cell_type": "code",
   "execution_count": null,
   "metadata": {},
   "outputs": [],
   "source": [
    "plotResults(inputBitPairs=inputs, weights=weights, bias=bias, logicFunction=\"NAND\")"
   ]
  },
  {
   "cell_type": "markdown",
   "metadata": {},
   "source": [
    "## XOR"
   ]
  },
  {
   "cell_type": "code",
   "execution_count": null,
   "metadata": {},
   "outputs": [],
   "source": [
    "# Parameters setup for OR\n",
    "inputs = [[0,0],\n",
    "          [0,1],\n",
    "          [1,0],\n",
    "          [1,1]]\n",
    "weights = [2,2]\n",
    "bias = -1\n",
    "\n",
    "# Generate output for OR\n",
    "inputsFromOR = plotResults(inputBitPairs=inputs, weights=weights, bias=bias, logicFunction=\"OR\")"
   ]
  },
  {
   "cell_type": "code",
   "execution_count": null,
   "metadata": {},
   "outputs": [],
   "source": [
    "# Parameters setup for AND\n",
    "inputs = [[0,0],\n",
    "          [0,1],\n",
    "          [1,0],\n",
    "          [1,1]]\n",
    "weights = [2,2]\n",
    "bias = -3\n",
    "\n",
    "# Generate output for AND\n",
    "inputsFromAND = plotResults(inputBitPairs=inputs, weights=weights, bias=bias, logicFunction=\"AND\")"
   ]
  },
  {
   "cell_type": "markdown",
   "metadata": {},
   "source": [
    "Combine outputs from OR and AND in another perceptron with simple weights that subtract one from the other."
   ]
  },
  {
   "cell_type": "code",
   "execution_count": null,
   "metadata": {},
   "outputs": [],
   "source": [
    "for x1, x2 in zip(inputsFromAND, inputsFromOR):\n",
    "    print (x1, x2)"
   ]
  },
  {
   "cell_type": "code",
   "execution_count": null,
   "metadata": {},
   "outputs": [],
   "source": [
    "# Parameters setup for SUBTRACTION PERCEPTRON\n",
    "originalInputs = [[0,0],\n",
    "          [0,1],\n",
    "          [1,0],\n",
    "          [1,1]]\n",
    "originalWeights = [[2,2], [2,2]]\n",
    "originalBias = [-3, -1]\n",
    "weights = [-1,1]\n",
    "bias = 0"
   ]
  },
  {
   "cell_type": "markdown",
   "metadata": {},
   "source": [
    "Two blocks below used for intermediary debugging"
   ]
  },
  {
   "cell_type": "markdown",
   "metadata": {},
   "source": [
    "import numpy as np"
   ]
  },
  {
   "cell_type": "markdown",
   "metadata": {},
   "source": [
    "for x1, x2, inputVector in zip(inputsFromAND, inputsFromOR, originalInputs):\n",
    "    # Calculate the dot product and add bias\n",
    "    summed = np.dot([x1,x2], weights) + bias\n",
    "    print(x1, x2, inputVector, summed)"
   ]
  },
  {
   "cell_type": "code",
   "execution_count": null,
   "metadata": {},
   "outputs": [],
   "source": [
    "# Generate output for XOR\n",
    "plotXORResults(originalInputs=originalInputs, \n",
    "               originalWeights=originalWeights, \n",
    "               originalBias=originalBias, \n",
    "               inputsFromAND=inputsFromAND, \n",
    "               inputsFromOR=inputsFromOR, \n",
    "               weights=weights, \n",
    "               bias=bias)"
   ]
  },
  {
   "cell_type": "code",
   "execution_count": null,
   "metadata": {},
   "outputs": [],
   "source": []
  }
 ],
 "metadata": {
  "kernelspec": {
   "display_name": "Python 3",
   "language": "python",
   "name": "python3"
  },
  "language_info": {
   "codemirror_mode": {
    "name": "ipython",
    "version": 3
   },
   "file_extension": ".py",
   "mimetype": "text/x-python",
   "name": "python",
   "nbconvert_exporter": "python",
   "pygments_lexer": "ipython3",
   "version": "3.8.1"
  }
 },
 "nbformat": 4,
 "nbformat_minor": 4
}
