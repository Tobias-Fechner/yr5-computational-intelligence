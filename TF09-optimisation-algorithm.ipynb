{
 "cells": [
  {
   "cell_type": "markdown",
   "metadata": {},
   "source": [
    "# Imports"
   ]
  },
  {
   "cell_type": "code",
   "execution_count": 1,
   "metadata": {},
   "outputs": [],
   "source": [
    "import pandas as pd\n",
    "import numpy as np\n",
    "from nn_spikes import NeuralNetwork, batchTrain, test\n",
    "import spike_tools, utilities, KNN_spikes\n",
    "from nn_spikes import getInputsAndTargets\n",
    "import plotly.express as px"
   ]
  },
  {
   "cell_type": "code",
   "execution_count": 2,
   "metadata": {},
   "outputs": [],
   "source": [
    "data = pd.read_csv('./datasources/spikes/training_data.csv')\n",
    "spikeLocations = pd.read_csv('./datasources/spikes/training_spike_locations.csv', index_col=0)"
   ]
  },
  {
   "cell_type": "code",
   "execution_count": 3,
   "metadata": {
    "scrolled": true
   },
   "outputs": [
    {
     "name": "stdout",
     "output_type": "stream",
     "text": [
      "3528 peaks detected.\n",
      "Assigning known labels to detected spikes.\n",
      "Dropped 33 detected spikes that relate to more than one label.\n",
      "Returning with 3495 detected spikes.\n"
     ]
    }
   ],
   "source": [
    "data_training, data_validation, spikeIndexes_training, spikeIndexes_validation = spike_tools.dataPreProcess(data, spikeLocations, waveformWindow=100)"
   ]
  },
  {
   "cell_type": "code",
   "execution_count": 5,
   "metadata": {},
   "outputs": [
    {
     "data": {
      "text/html": [
       "<div>\n",
       "<style scoped>\n",
       "    .dataframe tbody tr th:only-of-type {\n",
       "        vertical-align: middle;\n",
       "    }\n",
       "\n",
       "    .dataframe tbody tr th {\n",
       "        vertical-align: top;\n",
       "    }\n",
       "\n",
       "    .dataframe thead th {\n",
       "        text-align: right;\n",
       "    }\n",
       "</style>\n",
       "<table border=\"1\" class=\"dataframe\">\n",
       "  <thead>\n",
       "    <tr style=\"text-align: right;\">\n",
       "      <th></th>\n",
       "      <th>time (s)</th>\n",
       "      <th>signal</th>\n",
       "      <th>knownSpike</th>\n",
       "      <th>knownClass</th>\n",
       "      <th>predictedSpike</th>\n",
       "      <th>predictedClass</th>\n",
       "      <th>signalSavgol</th>\n",
       "      <th>signalSavgolBP</th>\n",
       "      <th>waveform</th>\n",
       "    </tr>\n",
       "  </thead>\n",
       "  <tbody>\n",
       "    <tr>\n",
       "      <th>731</th>\n",
       "      <td>0.02924</td>\n",
       "      <td>-0.121707</td>\n",
       "      <td>True</td>\n",
       "      <td>0</td>\n",
       "      <td>True</td>\n",
       "      <td>0</td>\n",
       "      <td>1.391931</td>\n",
       "      <td>0.693226</td>\n",
       "      <td>0      0.049464\n",
       "1      0.025531\n",
       "2     -0.04685...</td>\n",
       "    </tr>\n",
       "    <tr>\n",
       "      <th>905</th>\n",
       "      <td>0.03620</td>\n",
       "      <td>0.721561</td>\n",
       "      <td>False</td>\n",
       "      <td>3</td>\n",
       "      <td>True</td>\n",
       "      <td>0</td>\n",
       "      <td>0.943373</td>\n",
       "      <td>0.523216</td>\n",
       "      <td>0      0.016337\n",
       "1      0.021483\n",
       "2     -0.01542...</td>\n",
       "    </tr>\n",
       "    <tr>\n",
       "      <th>945</th>\n",
       "      <td>0.03780</td>\n",
       "      <td>0.777869</td>\n",
       "      <td>True</td>\n",
       "      <td>0</td>\n",
       "      <td>True</td>\n",
       "      <td>0</td>\n",
       "      <td>2.250108</td>\n",
       "      <td>-0.017799</td>\n",
       "      <td>0      3.056513\n",
       "1      3.032812\n",
       "2      2.96985...</td>\n",
       "    </tr>\n",
       "    <tr>\n",
       "      <th>1110</th>\n",
       "      <td>0.04440</td>\n",
       "      <td>0.243796</td>\n",
       "      <td>True</td>\n",
       "      <td>1</td>\n",
       "      <td>True</td>\n",
       "      <td>0</td>\n",
       "      <td>0.826328</td>\n",
       "      <td>0.438443</td>\n",
       "      <td>0      0.107611\n",
       "1      0.106348\n",
       "2      0.08650...</td>\n",
       "    </tr>\n",
       "    <tr>\n",
       "      <th>1412</th>\n",
       "      <td>0.05648</td>\n",
       "      <td>0.111654</td>\n",
       "      <td>True</td>\n",
       "      <td>0</td>\n",
       "      <td>True</td>\n",
       "      <td>0</td>\n",
       "      <td>1.582823</td>\n",
       "      <td>0.845603</td>\n",
       "      <td>0      0.050484\n",
       "1      0.056866\n",
       "2      0.06204...</td>\n",
       "    </tr>\n",
       "    <tr>\n",
       "      <th>...</th>\n",
       "      <td>...</td>\n",
       "      <td>...</td>\n",
       "      <td>...</td>\n",
       "      <td>...</td>\n",
       "      <td>...</td>\n",
       "      <td>...</td>\n",
       "      <td>...</td>\n",
       "      <td>...</td>\n",
       "      <td>...</td>\n",
       "    </tr>\n",
       "    <tr>\n",
       "      <th>1149941</th>\n",
       "      <td>45.99764</td>\n",
       "      <td>-0.302700</td>\n",
       "      <td>False</td>\n",
       "      <td>2</td>\n",
       "      <td>True</td>\n",
       "      <td>0</td>\n",
       "      <td>0.445101</td>\n",
       "      <td>0.233923</td>\n",
       "      <td>0     -0.102231\n",
       "1     -0.090474\n",
       "2     -0.11689...</td>\n",
       "    </tr>\n",
       "    <tr>\n",
       "      <th>1150458</th>\n",
       "      <td>46.01832</td>\n",
       "      <td>0.708031</td>\n",
       "      <td>False</td>\n",
       "      <td>1</td>\n",
       "      <td>True</td>\n",
       "      <td>0</td>\n",
       "      <td>0.931990</td>\n",
       "      <td>0.567270</td>\n",
       "      <td>0      0.030405\n",
       "1      0.048752\n",
       "2      0.03208...</td>\n",
       "    </tr>\n",
       "    <tr>\n",
       "      <th>1150708</th>\n",
       "      <td>46.02832</td>\n",
       "      <td>0.039795</td>\n",
       "      <td>False</td>\n",
       "      <td>2</td>\n",
       "      <td>True</td>\n",
       "      <td>0</td>\n",
       "      <td>0.213756</td>\n",
       "      <td>0.047311</td>\n",
       "      <td>0      0.013125\n",
       "1     -0.050940\n",
       "2     -0.03980...</td>\n",
       "    </tr>\n",
       "    <tr>\n",
       "      <th>1151100</th>\n",
       "      <td>46.04400</td>\n",
       "      <td>0.100155</td>\n",
       "      <td>True</td>\n",
       "      <td>1</td>\n",
       "      <td>True</td>\n",
       "      <td>0</td>\n",
       "      <td>0.812755</td>\n",
       "      <td>0.469148</td>\n",
       "      <td>0     -0.225639\n",
       "1     -0.186548\n",
       "2     -0.18385...</td>\n",
       "    </tr>\n",
       "    <tr>\n",
       "      <th>1151984</th>\n",
       "      <td>46.07936</td>\n",
       "      <td>0.031181</td>\n",
       "      <td>True</td>\n",
       "      <td>0</td>\n",
       "      <td>True</td>\n",
       "      <td>0</td>\n",
       "      <td>1.350646</td>\n",
       "      <td>0.713458</td>\n",
       "      <td>0     -0.012241\n",
       "1     -0.039254\n",
       "2     -0.06949...</td>\n",
       "    </tr>\n",
       "  </tbody>\n",
       "</table>\n",
       "<p>2802 rows × 9 columns</p>\n",
       "</div>"
      ],
      "text/plain": [
       "         time (s)    signal  knownSpike  knownClass  predictedSpike  \\\n",
       "731       0.02924 -0.121707        True           0            True   \n",
       "905       0.03620  0.721561       False           3            True   \n",
       "945       0.03780  0.777869        True           0            True   \n",
       "1110      0.04440  0.243796        True           1            True   \n",
       "1412      0.05648  0.111654        True           0            True   \n",
       "...           ...       ...         ...         ...             ...   \n",
       "1149941  45.99764 -0.302700       False           2            True   \n",
       "1150458  46.01832  0.708031       False           1            True   \n",
       "1150708  46.02832  0.039795       False           2            True   \n",
       "1151100  46.04400  0.100155        True           1            True   \n",
       "1151984  46.07936  0.031181        True           0            True   \n",
       "\n",
       "         predictedClass  signalSavgol  signalSavgolBP  \\\n",
       "731                   0      1.391931        0.693226   \n",
       "905                   0      0.943373        0.523216   \n",
       "945                   0      2.250108       -0.017799   \n",
       "1110                  0      0.826328        0.438443   \n",
       "1412                  0      1.582823        0.845603   \n",
       "...                 ...           ...             ...   \n",
       "1149941               0      0.445101        0.233923   \n",
       "1150458               0      0.931990        0.567270   \n",
       "1150708               0      0.213756        0.047311   \n",
       "1151100               0      0.812755        0.469148   \n",
       "1151984               0      1.350646        0.713458   \n",
       "\n",
       "                                                  waveform  \n",
       "731      0      0.049464\n",
       "1      0.025531\n",
       "2     -0.04685...  \n",
       "905      0      0.016337\n",
       "1      0.021483\n",
       "2     -0.01542...  \n",
       "945      0      3.056513\n",
       "1      3.032812\n",
       "2      2.96985...  \n",
       "1110     0      0.107611\n",
       "1      0.106348\n",
       "2      0.08650...  \n",
       "1412     0      0.050484\n",
       "1      0.056866\n",
       "2      0.06204...  \n",
       "...                                                    ...  \n",
       "1149941  0     -0.102231\n",
       "1     -0.090474\n",
       "2     -0.11689...  \n",
       "1150458  0      0.030405\n",
       "1      0.048752\n",
       "2      0.03208...  \n",
       "1150708  0      0.013125\n",
       "1     -0.050940\n",
       "2     -0.03980...  \n",
       "1151100  0     -0.225639\n",
       "1     -0.186548\n",
       "2     -0.18385...  \n",
       "1151984  0     -0.012241\n",
       "1     -0.039254\n",
       "2     -0.06949...  \n",
       "\n",
       "[2802 rows x 9 columns]"
      ]
     },
     "execution_count": 5,
     "metadata": {},
     "output_type": "execute_result"
    }
   ],
   "source": [
    "data_training.loc[spikeIndexes_training]"
   ]
  },
  {
   "cell_type": "code",
   "execution_count": 13,
   "metadata": {},
   "outputs": [
    {
     "data": {
      "text/plain": [
       "pandas.core.series.Series"
      ]
     },
     "execution_count": 13,
     "metadata": {},
     "output_type": "execute_result"
    }
   ],
   "source": [
    "type(data_training.loc[731, 'waveform'])"
   ]
  },
  {
   "cell_type": "code",
   "execution_count": null,
   "metadata": {},
   "outputs": [],
   "source": [
    "#spike_tools.getAverageWaveforms(data_training, spikeIndexes_training[:200], classToPlot=3)"
   ]
  },
  {
   "cell_type": "code",
   "execution_count": null,
   "metadata": {},
   "outputs": [],
   "source": [
    "#spike_tools.getAverageWaveforms(data_training, spikeIndexes_training[:200], classToPlot=2)"
   ]
  },
  {
   "cell_type": "code",
   "execution_count": null,
   "metadata": {},
   "outputs": [],
   "source": [
    "#spike_tools.getAverageWaveforms(data_training, spikeIndexes_training[:200], classToPlot=1)"
   ]
  },
  {
   "cell_type": "code",
   "execution_count": null,
   "metadata": {},
   "outputs": [],
   "source": [
    "#spike_tools.getAverageWaveforms(data_training, spikeIndexes_training[:200], classToPlot=0)"
   ]
  },
  {
   "cell_type": "code",
   "execution_count": null,
   "metadata": {},
   "outputs": [],
   "source": [
    "spikeInd = np.arange(0,50,3)\n",
    "spikeInd"
   ]
  },
  {
   "cell_type": "code",
   "execution_count": null,
   "metadata": {},
   "outputs": [],
   "source": [
    "duffs"
   ]
  },
  {
   "cell_type": "code",
   "execution_count": null,
   "metadata": {},
   "outputs": [],
   "source": [
    "np.where(spikeInd == duffs[0])"
   ]
  },
  {
   "cell_type": "code",
   "execution_count": null,
   "metadata": {},
   "outputs": [],
   "source": [
    "[np.where(spikeInd == a)[0][0] for a in duffs]"
   ]
  },
  {
   "cell_type": "code",
   "execution_count": null,
   "metadata": {},
   "outputs": [],
   "source": [
    "mask = np.ones(len(spikeInd), dtype=bool)\n",
    "mask[duffs] = False\n",
    "spikeInd = spikeInd[mask]\n",
    "spikeInd"
   ]
  },
  {
   "cell_type": "markdown",
   "metadata": {},
   "source": [
    "# Run Neural Network Classifier"
   ]
  },
  {
   "cell_type": "code",
   "execution_count": null,
   "metadata": {},
   "outputs": [],
   "source": [
    "results = utilities.createResultsRepo([200, 500, 700, 900, 1100])"
   ]
  },
  {
   "cell_type": "code",
   "execution_count": null,
   "metadata": {},
   "outputs": [],
   "source": [
    "for hid in results.keys():\n",
    "    \n",
    "    nn = NeuralNetwork(input_nodes=len(data_training.loc[spikeIndexes_training[0], 'waveform']), \n",
    "                       hidden_nodes=int(hid), \n",
    "                       output_nodes=4, \n",
    "                       lr=0.1,\n",
    "                       error_function='difference-squared')\n",
    "\n",
    "    nn, trainingCurve, validationCurve = batchTrain(data_training=data_training,\n",
    "                                                              data_validation=data_validation,\n",
    "                                                              spikeIndexes_training=spikeIndexes_training, \n",
    "                                                              spikeIndexes_validation=spikeIndexes_validation, \n",
    "                                                              nn=nn,\n",
    "                                                              epochs=30,\n",
    "                                                              plotCurves=False)\n",
    "    results[hid]['nn'] = nn\n",
    "    results[hid]['trainingCurve'] = trainingCurve\n",
    "    results[hid]['validationCurve'] = validationCurve"
   ]
  },
  {
   "cell_type": "code",
   "execution_count": null,
   "metadata": {},
   "outputs": [],
   "source": [
    "utilities.plotLearningCurves(results)"
   ]
  },
  {
   "cell_type": "code",
   "execution_count": null,
   "metadata": {},
   "outputs": [],
   "source": [
    "waveforms = data_validation[data_validation['predictedSpike']==True]['waveform']\n",
    "predictionsMLP = spike_tools.classifySpikesMLP(waveforms, nn)"
   ]
  },
  {
   "cell_type": "code",
   "execution_count": null,
   "metadata": {},
   "outputs": [],
   "source": [
    "predictionsMLP"
   ]
  },
  {
   "cell_type": "markdown",
   "metadata": {},
   "source": [
    "# Run SA"
   ]
  },
  {
   "cell_type": "code",
   "execution_count": null,
   "metadata": {},
   "outputs": [],
   "source": []
  }
 ],
 "metadata": {
  "kernelspec": {
   "display_name": "Python 3",
   "language": "python",
   "name": "python3"
  },
  "language_info": {
   "codemirror_mode": {
    "name": "ipython",
    "version": 3
   },
   "file_extension": ".py",
   "mimetype": "text/x-python",
   "name": "python",
   "nbconvert_exporter": "python",
   "pygments_lexer": "ipython3",
   "version": "3.8.1"
  }
 },
 "nbformat": 4,
 "nbformat_minor": 4
}
