{
 "cells": [
  {
   "cell_type": "markdown",
   "metadata": {},
   "source": [
    "# Lab 3 Exersizes"
   ]
  },
  {
   "cell_type": "markdown",
   "metadata": {},
   "source": [
    "### Ex 1"
   ]
  },
  {
   "cell_type": "markdown",
   "metadata": {},
   "source": [
    "Put some random inputs into an untrained model. How can you explain the results?"
   ]
  },
  {
   "cell_type": "code",
   "execution_count": null,
   "metadata": {},
   "outputs": [],
   "source": [
    "from lab3.nn_general import NeuralNetwork\n",
    "import numpy as np"
   ]
  },
  {
   "cell_type": "code",
   "execution_count": null,
   "metadata": {},
   "outputs": [],
   "source": [
    "nn = NeuralNetwork(2,2,1,0.5)"
   ]
  },
  {
   "cell_type": "code",
   "execution_count": null,
   "metadata": {},
   "outputs": [],
   "source": [
    "resultsUntrained = nn.queryNN([1,1])\n",
    "resultsUntrained"
   ]
  },
  {
   "cell_type": "markdown",
   "metadata": {},
   "source": [
    "The inputs [1,1] were given to an untrained feed-forward, 2-layer NN. "
   ]
  },
  {
   "cell_type": "markdown",
   "metadata": {},
   "source": [
    "The output is around 0.8. [explain why]"
   ]
  },
  {
   "cell_type": "markdown",
   "metadata": {},
   "source": [
    "### Ex 2"
   ]
  },
  {
   "cell_type": "markdown",
   "metadata": {},
   "source": [
    "Create a set of training vectors for all possible inputs, i.e [[0,0], [0,1], [1,0], [1,1]], and a target vector for one of the logical functions such as AND."
   ]
  },
  {
   "cell_type": "code",
   "execution_count": null,
   "metadata": {},
   "outputs": [],
   "source": [
    "inputs = [[0,0], [0,1], [1,0], [1,1]]\n",
    "targets = [0,0,0,1]"
   ]
  },
  {
   "cell_type": "markdown",
   "metadata": {},
   "source": [
    "### Ex 3"
   ]
  },
  {
   "cell_type": "markdown",
   "metadata": {},
   "source": [
    "Train the network once for each target, then query the network for all possible inputs. Has your network successfully learned the AND function? If not, then why not?"
   ]
  },
  {
   "cell_type": "markdown",
   "metadata": {},
   "source": [
    "note, the below is wrong, I haven't corrected it yet."
   ]
  },
  {
   "cell_type": "code",
   "execution_count": null,
   "metadata": {},
   "outputs": [],
   "source": [
    "for inputVec, target in zip(inputs, targets):\n",
    "    nn.train(inputVec, [target])"
   ]
  },
  {
   "cell_type": "code",
   "execution_count": null,
   "metadata": {},
   "outputs": [],
   "source": [
    "for inputVec in inputs:\n",
    "    print(nn.queryNN(inputVec))"
   ]
  },
  {
   "cell_type": "markdown",
   "metadata": {},
   "source": [
    "One iteration of back propagation is not enough. There is no evidence of the network having learned anything. The fourth input, target combination is no closer to an output of 1.\n",
    "\n",
    "Also just realised there are potentially two output nodes when there is only supposed to be one."
   ]
  },
  {
   "cell_type": "markdown",
   "metadata": {},
   "source": [
    "### Ex 4 - Debugging"
   ]
  },
  {
   "cell_type": "markdown",
   "metadata": {},
   "source": [
    "Extend your training routine to repeat the training process more than once for each target (using a loop), how many iterations doesit take for the network to learn the AND function with two inputs?"
   ]
  },
  {
   "cell_type": "markdown",
   "metadata": {},
   "source": [
    "Setup"
   ]
  },
  {
   "cell_type": "code",
   "execution_count": 1,
   "metadata": {},
   "outputs": [],
   "source": [
    "from lab3.nn_general import NeuralNetwork\n",
    "import numpy as np"
   ]
  },
  {
   "cell_type": "code",
   "execution_count": 2,
   "metadata": {},
   "outputs": [],
   "source": [
    "nn = NeuralNetwork(2,2,1,0.5)"
   ]
  },
  {
   "cell_type": "code",
   "execution_count": 3,
   "metadata": {},
   "outputs": [],
   "source": [
    "inputs = [[0,0], [0,1], [1,0], [1,1]]\n",
    "targets = [0,0,0,1]"
   ]
  },
  {
   "cell_type": "code",
   "execution_count": 4,
   "metadata": {},
   "outputs": [],
   "source": [
    "inputs_array = np.array(inputs, ndmin=2).T\n",
    "targets_array = np.array(targets)"
   ]
  },
  {
   "cell_type": "markdown",
   "metadata": {},
   "source": [
    "USE BELOW FOR DEBUGGING ONLY - REFER TO THE LOOP AFTER THE DIVIDER FOR EXERCISE FUNCTIONALITY. \n",
    "\n",
    "Generate inputs into hidden layer and outputs from hidden layer"
   ]
  },
  {
   "cell_type": "code",
   "execution_count": null,
   "metadata": {},
   "outputs": [],
   "source": [
    "# Convert the inputs list into a 2D array and use to calculate signals into hidden layer\n",
    "hidden_inputs = np.dot(nn.wih, inputs_array)\n",
    "\n",
    "# Calculates the signals emerging from hidden layer\n",
    "hidden_outputs = nn.activation_function(hidden_inputs)"
   ]
  },
  {
   "cell_type": "markdown",
   "metadata": {},
   "source": [
    "Generate inputs and outputs to/ from final layer"
   ]
  },
  {
   "cell_type": "code",
   "execution_count": null,
   "metadata": {},
   "outputs": [],
   "source": [
    "# Calculates the signals into final output layer\n",
    "final_inputs = np.dot(nn.who, hidden_outputs)\n",
    "\n",
    "# Calculate signals emerging from final output layer\n",
    "final_outputs = nn.activation_function(final_inputs)"
   ]
  },
  {
   "cell_type": "markdown",
   "metadata": {},
   "source": [
    "Some shape checking"
   ]
  },
  {
   "cell_type": "code",
   "execution_count": null,
   "metadata": {},
   "outputs": [],
   "source": [
    "print(\"Final outputs: \", final_outputs)\n",
    "print(\"Weights hidden to output: \", nn.who)\n",
    "print(\"targets array: \", targets_array)\n",
    "print(\"output errors: \", output_errors)"
   ]
  },
  {
   "cell_type": "markdown",
   "metadata": {},
   "source": [
    "Calculate errors"
   ]
  },
  {
   "cell_type": "code",
   "execution_count": null,
   "metadata": {},
   "outputs": [],
   "source": [
    "# Calculate current error as = target - actual\n",
    "output_errors = targets_array - final_outputs\n",
    "\n",
    "# Hidden layer errors are the output errors, split by the weights, recombined at the hidden nodes\n",
    "hidden_errors = np.dot(nn.who.T, output_errors)"
   ]
  },
  {
   "cell_type": "markdown",
   "metadata": {},
   "source": [
    "Check errors"
   ]
  },
  {
   "cell_type": "code",
   "execution_count": null,
   "metadata": {},
   "outputs": [],
   "source": [
    "output_errors"
   ]
  },
  {
   "cell_type": "code",
   "execution_count": null,
   "metadata": {},
   "outputs": [],
   "source": [
    "hidden_errors"
   ]
  },
  {
   "cell_type": "markdown",
   "metadata": {},
   "source": [
    "Update the weights using back propagation"
   ]
  },
  {
   "cell_type": "code",
   "execution_count": null,
   "metadata": {},
   "outputs": [],
   "source": [
    "# Update the weights for the links between the hidden and output layers\n",
    "nn.who += nn.lr * np.dot((output_errors * final_outputs * (1.0 - final_outputs)), np.transpose(hidden_outputs))\n",
    "\n",
    "# Update the weights for the links between the input and hidden layers\n",
    "nn.wih += nn.lr * np.dot((hidden_errors * hidden_outputs * (1.0 - hidden_outputs)), np.transpose(inputs_array))"
   ]
  },
  {
   "cell_type": "markdown",
   "metadata": {},
   "source": [
    "---"
   ]
  },
  {
   "cell_type": "markdown",
   "metadata": {},
   "source": [
    "### Ex 4 & 5"
   ]
  },
  {
   "cell_type": "markdown",
   "metadata": {},
   "source": [
    "USE THIS FOR EXERCISE FUNCTIONALITY\n",
    "\n",
    "Train with while loop until below error threshold or after timeout"
   ]
  },
  {
   "cell_type": "code",
   "execution_count": 36,
   "metadata": {},
   "outputs": [
    {
     "name": "stdout",
     "output_type": "stream",
     "text": [
      "Learning rate:  0.0\n",
      "Count:  150000\n",
      "Errors:  [[-0.76074334 -0.75727496 -0.77535284  0.22793259]]\n",
      "\n",
      "\n",
      "\n",
      "Learning rate:  0.1\n",
      "Count:  150000\n",
      "Errors:  [[-0.00443861 -0.00464163 -0.00472277  0.00802928]]\n",
      "\n",
      "\n",
      "\n",
      "Learning rate:  0.2\n",
      "Count:  150000\n",
      "Errors:  [[-0.00320055 -0.00332766 -0.00331618  0.0056854 ]]\n",
      "\n",
      "\n",
      "\n",
      "Learning rate:  0.30000000000000004\n",
      "Count:  150000\n",
      "Errors:  [[-0.00238465 -0.00141899 -0.00440841  0.0057786 ]]\n",
      "\n",
      "\n",
      "\n",
      "Learning rate:  0.4\n",
      "Count:  150000\n",
      "Errors:  [[-0.00261076 -0.00364668 -0.00197967  0.00457359]]\n",
      "\n",
      "\n",
      "\n",
      "Learning rate:  0.5\n",
      "Count:  150000\n",
      "Errors:  [[-0.0020456  -0.00212066 -0.00206712  0.00362974]]\n",
      "\n",
      "\n",
      "\n",
      "Learning rate:  0.6000000000000001\n",
      "Count:  150000\n",
      "Errors:  [[-0.00213289 -0.00298269 -0.00159877  0.00373815]]\n",
      "\n",
      "\n",
      "\n",
      "Learning rate:  0.7000000000000001\n",
      "Count:  150000\n",
      "Errors:  [[-0.00173467 -0.00174891 -0.0017896   0.00306774]]\n",
      "\n",
      "\n",
      "\n",
      "Learning rate:  0.8\n",
      "Count:  131029\n",
      "Errors:  [[-0.00174048 -0.00183432 -0.00171895  0.00299999]]\n",
      "\n",
      "\n",
      "\n",
      "Learning rate:  0.9\n",
      "Count:  121877\n",
      "Errors:  [[-0.00170559 -0.00174412 -0.00173225  0.00299999]]\n",
      "\n",
      "\n",
      "\n",
      "Learning rate:  1.0\n",
      "Count:  110876\n",
      "Errors:  [[-0.00167773 -0.00176201 -0.00165989  0.00299999]]\n",
      "\n",
      "\n",
      "\n"
     ]
    }
   ],
   "source": [
    "inputs = [[0,0], [0,1], [1,0], [1,1]]\n",
    "targets = [0,0,0,1]\n",
    "\n",
    "for lr in np.linspace(0,1,11):\n",
    "    nnEx45 = NeuralNetwork(2,4,1, lr)\n",
    "    bigErrors = np.array([True,True,True,True])\n",
    "    count = 0\n",
    "    \n",
    "    while bigErrors.any() and count < 150000:\n",
    "        errors = nnEx45.train(inputs, targets)\n",
    "        bigErrors = errors > 0.003\n",
    "        count += 1\n",
    "    \n",
    "    print(\"Learning rate: \", lr)\n",
    "    print(\"Count: \", count)\n",
    "    print(\"Errors: \", errors)\n",
    "    print(\"\\n\\n\")"
   ]
  },
  {
   "cell_type": "code",
   "execution_count": 26,
   "metadata": {},
   "outputs": [
    {
     "data": {
      "text/plain": [
       "array([[0.00379605]])"
      ]
     },
     "execution_count": 26,
     "metadata": {},
     "output_type": "execute_result"
    }
   ],
   "source": [
    "nn2.queryNN([1,0])"
   ]
  },
  {
   "cell_type": "markdown",
   "metadata": {},
   "source": [
    "Answer to question 'How many iterations doesit take for the network to learn the AND function with two inputs?'\n",
    "\n",
    "Trick question! The AND function isn't learned with 2 nodes on the hidden layer. The output for the first three inputs converges to the target (all where target output is zero). But for the final input of [1,1] which should generate an output of [1], the network get's stuck at an error of 0.5."
   ]
  },
  {
   "cell_type": "markdown",
   "metadata": {},
   "source": [
    "### Ex 5"
   ]
  },
  {
   "cell_type": "markdown",
   "metadata": {},
   "source": [
    "Experiment with the number of neurons in the hidden layer, and the learning rate [done above], what effect do these have on training the AND function?"
   ]
  },
  {
   "cell_type": "markdown",
   "metadata": {},
   "source": [
    "Increasing the number of nodes in the hidden layer allows us to achieve the target output [1] for the final input combination [1,1]. The minimum number of nodes on the hidden layer required were 4. The LR did not mitigate this blocker in any way. \n",
    "\n",
    "Increasing the LR means the network can be trained to achieve outputs below the error threshold with fewer iterations of the back propagation learning algorithm. Although this didn't happen severely in this case, a too high LR may cause the output error to oscillate. A very minor example of this is seen in the results from LR 0.8-1.0, where a lower final output error was seen for a few of the outputs with lower learning rates."
   ]
  },
  {
   "cell_type": "markdown",
   "metadata": {},
   "source": [
    "### Ex 6"
   ]
  },
  {
   "cell_type": "markdown",
   "metadata": {},
   "source": [
    "If you have time, try other functions, such as XOR. What effect do the number of neurons in the hidden layer have and why?"
   ]
  },
  {
   "cell_type": "markdown",
   "metadata": {},
   "source": [
    "XOR"
   ]
  },
  {
   "cell_type": "markdown",
   "metadata": {},
   "source": [
    "|0     |0     |0     |\n",
    "\n",
    "|0     |1     |1     |\n",
    "\n",
    "|1     |0     |1     |\n",
    "\n",
    "|1     |1     |0     |"
   ]
  },
  {
   "cell_type": "code",
   "execution_count": 55,
   "metadata": {},
   "outputs": [
    {
     "name": "stdout",
     "output_type": "stream",
     "text": [
      "Nodes in hidden layer:  1\n",
      "Count:  150000\n",
      "Errors:  [[-0.00423897  0.50000462  0.50000462 -0.5       ]]\n",
      "Avg. error 0.12394256694407846\n",
      "\n",
      "\n",
      "\n",
      "Nodes in hidden layer:  2\n",
      "Count:  150000\n",
      "Errors:  [[-0.00507844  0.00421779  0.50000461 -0.50000714]]\n",
      "Avg. error -0.0002157961856397994\n",
      "\n",
      "\n",
      "\n",
      "Nodes in hidden layer:  3\n",
      "Count:  150000\n",
      "Errors:  [[-0.00929537  0.00548854  0.00548854 -0.00010024]]\n",
      "Avg. error 0.00039536877919270797\n",
      "\n",
      "\n",
      "\n",
      "Nodes in hidden layer:  4\n",
      "Count:  150000\n",
      "Errors:  [[-0.00303362  0.00457576  0.00457575 -0.00497139]]\n",
      "Avg. error 0.00028662379337161814\n",
      "\n",
      "\n",
      "\n",
      "Nodes in hidden layer:  5\n",
      "Count:  150000\n",
      "Errors:  [[-0.00409635  0.0035548   0.00410995 -0.00356471]]\n",
      "Avg. error 9.246812677427604e-07\n",
      "\n",
      "\n",
      "\n",
      "Nodes in hidden layer:  6\n",
      "Count:  150000\n",
      "Errors:  [[-0.00333773  0.00311606  0.0037305  -0.00353888]]\n",
      "Avg. error -7.511085737319564e-06\n",
      "\n",
      "\n",
      "\n",
      "Nodes in hidden layer:  7\n",
      "Count:  150000\n",
      "Errors:  [[-0.00322702  0.00313061  0.00313086 -0.00291491]]\n",
      "Avg. error 2.988541261648417e-05\n",
      "\n",
      "\n",
      "\n",
      "Nodes in hidden layer:  8\n",
      "Count:  150000\n",
      "Errors:  [[-0.00258686  0.00300817  0.00326417 -0.00313015]]\n",
      "Avg. error 0.0001388288227536224\n",
      "\n",
      "\n",
      "\n",
      "Nodes in hidden layer:  9\n",
      "Count:  140832\n",
      "Errors:  [[-0.00286003  0.003       0.002718   -0.00274857]]\n",
      "Avg. error 2.7348502082010038e-05\n",
      "\n",
      "\n",
      "\n",
      "Nodes in hidden layer:  10\n",
      "Count:  147966\n",
      "Errors:  [[-0.00230193  0.003       0.00292368 -0.00293458]]\n",
      "Avg. error 0.0001717923090916976\n",
      "\n",
      "\n",
      "\n"
     ]
    }
   ],
   "source": [
    "inputs = [[0,0], [0,1], [1,0], [1,1]]\n",
    "targets = [0,1,1,0]\n",
    "\n",
    "for hiddenNodes in [1,2,3,4,5,6,7,8,9,10]:\n",
    "    \n",
    "    nnEx6A = NeuralNetwork(2,hiddenNodes,1, 0.8)\n",
    "    bigErrors = np.array([True,True,True,True])\n",
    "    count = 0\n",
    "    \n",
    "    while bigErrors.any() and count < 150000:\n",
    "        errors = nnEx6A.train(inputs, targets)\n",
    "        bigErrors = errors > 0.003\n",
    "        count += 1\n",
    "\n",
    "    print(\"Nodes in hidden layer: \", hiddenNodes)\n",
    "    print(\"Count: \", count)\n",
    "    print(\"Errors: \", errors)\n",
    "    print(\"Avg. error\", np.mean(errors))\n",
    "    print(\"\\n\\n\")"
   ]
  },
  {
   "cell_type": "markdown",
   "metadata": {},
   "source": [
    "Average error has a strange shape when you vary the number of nodes in the hidden layer. Minimum for int range [0 10] at 5 hidden nodes. avg. error then oscillates for the higher number of nodes in hidden layer. "
   ]
  },
  {
   "cell_type": "markdown",
   "metadata": {},
   "source": [
    "XNOR"
   ]
  },
  {
   "cell_type": "markdown",
   "metadata": {},
   "source": [
    "|0     |0     |1     |\n",
    "\n",
    "|0     |1     |0     |\n",
    "\n",
    "|1     |0     |0     |\n",
    "\n",
    "|1     |1     |1     |"
   ]
  },
  {
   "cell_type": "code",
   "execution_count": 58,
   "metadata": {},
   "outputs": [
    {
     "name": "stdout",
     "output_type": "stream",
     "text": [
      "Nodes in hidden layer:  1\n",
      "Count:  150000\n",
      "Errors:  [[ 0.53744299 -0.42589719 -0.42589701  0.57446653]]\n",
      "Avg. error 0.06502883001430788\n",
      "\n",
      "\n",
      "\n",
      "Nodes in hidden layer:  2\n",
      "Count:  150000\n",
      "Errors:  [[ 0.0050806  -0.00421957 -0.50000461  0.50000715]]\n",
      "Avg. error 0.0002158915368334069\n",
      "\n",
      "\n",
      "\n",
      "Nodes in hidden layer:  3\n",
      "Count:  150000\n",
      "Errors:  [[ 9.26396015e-03 -5.47003040e-03 -5.47003218e-03  9.94648793e-05]]\n",
      "Avg. error -0.0003941593881739954\n",
      "\n",
      "\n",
      "\n",
      "Nodes in hidden layer:  4\n",
      "Count:  150000\n",
      "Errors:  [[ 0.00316227 -0.00452816 -0.00452819  0.00486811]]\n",
      "Avg. error -0.0002564915013063718\n",
      "\n",
      "\n",
      "\n",
      "Nodes in hidden layer:  5\n",
      "Count:  150000\n",
      "Errors:  [[ 0.00411296 -0.00354876 -0.00408986  0.00353325]]\n",
      "Avg. error 1.8983449054002077e-06\n",
      "\n",
      "\n",
      "\n",
      "Nodes in hidden layer:  6\n",
      "Count:  150000\n",
      "Errors:  [[ 0.00409382 -0.00353991 -0.00354235  0.00287956]]\n",
      "Avg. error -2.722046009283395e-05\n",
      "\n",
      "\n",
      "\n",
      "Nodes in hidden layer:  7\n",
      "Count:  150000\n",
      "Errors:  [[ 0.00408459 -0.00369546 -0.00344651  0.00254905]]\n",
      "Avg. error -0.0001270813842267737\n",
      "\n",
      "\n",
      "\n",
      "Nodes in hidden layer:  8\n",
      "Count:  150000\n",
      "Errors:  [[ 0.00391557 -0.00289299 -0.00320433  0.00253034]]\n",
      "Avg. error 8.714594814435703e-05\n",
      "\n",
      "\n",
      "\n",
      "Nodes in hidden layer:  9\n",
      "Count:  150000\n",
      "Errors:  [[ 0.00301401 -0.00303784 -0.0031956   0.00272031]]\n",
      "Avg. error -0.00012478210014854152\n",
      "\n",
      "\n",
      "\n",
      "Nodes in hidden layer:  10\n",
      "Count:  121402\n",
      "Errors:  [[ 0.003      -0.00277585 -0.00308221  0.0029513 ]]\n",
      "Avg. error 2.3310206445790386e-05\n",
      "\n",
      "\n",
      "\n"
     ]
    }
   ],
   "source": [
    "inputs = [[0,0], [0,1], [1,0], [1,1]]\n",
    "targets = [1,0,0,1]\n",
    "\n",
    "for hiddenNodes in [1,2,3,4,5,6,7,8,9,10]:\n",
    "    \n",
    "    nnEx6B = NeuralNetwork(2,hiddenNodes,1, 0.8)\n",
    "    bigErrors = np.array([True,True,True,True])\n",
    "    count = 0\n",
    "    \n",
    "    while bigErrors.any() and count < 150000:\n",
    "        errors = nnEx6B.train(inputs, targets)\n",
    "        bigErrors = errors > 0.003\n",
    "        count += 1\n",
    "\n",
    "    print(\"Nodes in hidden layer: \", hiddenNodes)\n",
    "    print(\"Count: \", count)\n",
    "    print(\"Errors: \", errors)\n",
    "    print(\"Avg. error\", np.mean(errors))\n",
    "    print(\"\\n\\n\")"
   ]
  },
  {
   "cell_type": "markdown",
   "metadata": {},
   "source": [
    "Lowest avg error again at 5 hidden nodes. XNOR can be implemented too. "
   ]
  },
  {
   "cell_type": "markdown",
   "metadata": {},
   "source": [
    "### Ex 7"
   ]
  },
  {
   "cell_type": "markdown",
   "metadata": {},
   "source": [
    "How do these effects scale if you create, for example, a 4 input logical function?"
   ]
  },
  {
   "cell_type": "code",
   "execution_count": 60,
   "metadata": {},
   "outputs": [
    {
     "name": "stdout",
     "output_type": "stream",
     "text": [
      "Nodes in hidden layer:  1\n",
      "Count:  150000\n",
      "Errors:  [[4.10523766e-03 1.84128025e-05 1.84263074e-05 1.70021369e-05\n",
      "  1.84472231e-05 1.70022811e-05 1.70023764e-05 1.69919923e-05\n",
      "  1.83689109e-05 1.70017405e-05 1.70018309e-05 1.69919883e-05\n",
      "  1.70019707e-05 1.69919893e-05 1.69919900e-05 1.69919158e-05]]\n",
      "Avg. error 0.0002728665698515237\n",
      "\n",
      "\n",
      "\n",
      "Nodes in hidden layer:  2\n",
      "Count:  140037\n",
      "Errors:  [[2.99999524e-03 1.16921422e-05 1.16514551e-05 9.12270165e-06\n",
      "  1.17468103e-05 9.12731625e-06 9.12466553e-06 9.05660677e-06\n",
      "  1.16426630e-05 9.12270527e-06 9.12034602e-06 9.05642063e-06\n",
      "  9.12467586e-06 9.05661088e-06 9.05649773e-06 9.05422295e-06]]\n",
      "Avg. error 0.00019667194258297938\n",
      "\n",
      "\n",
      "\n",
      "Nodes in hidden layer:  3\n",
      "Count:  93302\n",
      "Errors:  [[2.99999004e-03 1.44742717e-05 1.40798230e-05 9.29964898e-06\n",
      "  1.37895279e-05 9.26787528e-06 9.24924641e-06 9.06744584e-06\n",
      "  1.38575109e-05 9.26295442e-06 9.24682489e-06 9.06678758e-06\n",
      "  9.22654113e-06 9.06485094e-06 9.06379099e-06 9.05483277e-06]]\n",
      "Avg. error 0.00019731637357951054\n",
      "\n",
      "\n",
      "\n",
      "Nodes in hidden layer:  4\n",
      "Count:  69881\n",
      "Errors:  [[2.99999337e-03 1.67431240e-05 1.69656832e-05 9.45216791e-06\n",
      "  1.71348163e-05 9.45555560e-06 9.47710571e-06 9.08330713e-06\n",
      "  1.72401113e-05 9.45811845e-06 9.48128555e-06 9.08331188e-06\n",
      "  9.50338961e-06 9.08476710e-06 9.08705454e-06 9.05652628e-06]]\n",
      "Avg. error 0.00019814373086439463\n",
      "\n",
      "\n",
      "\n",
      "Nodes in hidden layer:  5\n",
      "Count:  55870\n",
      "Errors:  [[2.99999992e-03 2.13378929e-05 2.10552686e-05 1.01814243e-05\n",
      "  2.09156528e-05 1.01608575e-05 1.02025979e-05 9.23293545e-06\n",
      "  2.08155976e-05 1.01321032e-05 1.01599584e-05 9.22463871e-06\n",
      "  1.01567459e-05 9.22254517e-06 9.24014653e-06 9.08566085e-06]]\n",
      "Avg. error 0.00019944524651157453\n",
      "\n",
      "\n",
      "\n",
      "Nodes in hidden layer:  6\n",
      "Count:  46647\n",
      "Errors:  [[2.99998051e-03 3.40385891e-05 3.21108037e-05 2.06277314e-05\n",
      "  3.34327860e-05 2.08398800e-05 2.00088174e-05 2.05810782e-05\n",
      "  3.22350558e-05 2.07515997e-05 1.99033716e-05 2.07252284e-05\n",
      "  2.01729437e-05 2.07012677e-05 2.01668669e-05 2.11726401e-05]]\n",
      "Avg. error 0.00020984057301497855\n",
      "\n",
      "\n",
      "\n",
      "Nodes in hidden layer:  7\n",
      "Count:  39913\n",
      "Errors:  [[2.99999406e-03 2.84654466e-05 2.92268188e-05 1.17664481e-05\n",
      "  3.04156138e-05 1.22441604e-05 1.22860271e-05 1.00403068e-05\n",
      "  3.17559594e-05 1.26095877e-05 1.26236688e-05 1.01483332e-05\n",
      "  1.34861793e-05 1.06045392e-05 1.05384078e-05 9.66740733e-06]]\n",
      "Avg. error 0.00020286705999157661\n",
      "\n",
      "\n",
      "\n",
      "Nodes in hidden layer:  8\n",
      "Count:  35009\n",
      "Errors:  [[2.99996087e-03 2.19000550e-05 2.39833191e-05 6.01666500e-06\n",
      "  2.36185497e-05 6.05896604e-06 6.41557600e-06 4.67228859e-06\n",
      "  2.37034889e-05 6.14276701e-06 6.58582743e-06 4.70178053e-06\n",
      "  6.58006647e-06 4.74417943e-06 4.87216613e-06 4.40406129e-06]]\n",
      "Avg. error 0.00019714753906018012\n",
      "\n",
      "\n",
      "\n",
      "Nodes in hidden layer:  9\n",
      "Count:  30964\n",
      "Errors:  [[2.99996763e-03 3.95111582e-05 4.12447882e-05 1.53338463e-05\n",
      "  3.94385737e-05 1.48784202e-05 1.52284327e-05 1.31028937e-05\n",
      "  4.03644678e-05 1.53163041e-05 1.56189974e-05 1.33134407e-05\n",
      "  1.51180845e-05 1.31049046e-05 1.32068111e-05 1.29763536e-05]]\n",
      "Avg. error 0.00020735781930684982\n",
      "\n",
      "\n",
      "\n",
      "Nodes in hidden layer:  10\n",
      "Count:  28060\n",
      "Errors:  [[2.99999738e-03 3.16633292e-05 3.28574685e-05 1.14433828e-05\n",
      "  2.71496718e-05 9.53338871e-06 9.43314138e-06 7.54847021e-06\n",
      "  2.94037690e-05 1.02768535e-05 1.05142776e-05 8.16227757e-06\n",
      "  8.63973385e-06 7.05770934e-06 6.82736769e-06 6.58051957e-06]]\n",
      "Avg. error 0.00020106804628237246\n",
      "\n",
      "\n",
      "\n"
     ]
    }
   ],
   "source": [
    "# 16 combinations for a 4 inputs logic gate\n",
    "inputs = [[0,0,0,0], \n",
    "          [0,0,0,1],\n",
    "          [0,0,1,0],\n",
    "          [0,0,1,1], \n",
    "          [0,1,0,0],\n",
    "          [0,1,0,1],\n",
    "          [0,1,1,0], \n",
    "          [0,1,1,1],\n",
    "          [1,0,0,0],\n",
    "          [1,0,0,1], \n",
    "          [1,0,1,0],\n",
    "          [1,0,1,1],\n",
    "          [1,1,0,0], \n",
    "          [1,1,0,1],\n",
    "          [1,1,1,0],\n",
    "          [1,1,1,1]]\n",
    "# 16 output mappings to the single output node\n",
    "targets = [1]*16\n",
    "\n",
    "for hiddenNodes in [1,2,3,4,5,6,7,8,9,10]:\n",
    "    \n",
    "    nnEx6B = NeuralNetwork(4,hiddenNodes,1, 0.8)\n",
    "    bigErrors = np.array([True,True,True,True])\n",
    "    count = 0\n",
    "    \n",
    "    while bigErrors.any() and count < 150000:\n",
    "        errors = nnEx6B.train(inputs, targets)\n",
    "        bigErrors = errors > 0.003\n",
    "        count += 1\n",
    "\n",
    "    print(\"Nodes in hidden layer: \", hiddenNodes)\n",
    "    print(\"Count: \", count)\n",
    "    print(\"Errors: \", errors)\n",
    "    print(\"Avg. error\", np.mean(errors))\n",
    "    print(\"\\n\\n\")"
   ]
  },
  {
   "cell_type": "markdown",
   "metadata": {},
   "source": [
    "No idea what these results mean tbh..."
   ]
  }
 ],
 "metadata": {
  "kernelspec": {
   "display_name": "Python 3",
   "language": "python",
   "name": "python3"
  },
  "language_info": {
   "codemirror_mode": {
    "name": "ipython",
    "version": 3
   },
   "file_extension": ".py",
   "mimetype": "text/x-python",
   "name": "python",
   "nbconvert_exporter": "python",
   "pygments_lexer": "ipython3",
   "version": "3.8.1"
  }
 },
 "nbformat": 4,
 "nbformat_minor": 4
}
