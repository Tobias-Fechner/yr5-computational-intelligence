{
 "cells": [
  {
   "cell_type": "markdown",
   "metadata": {},
   "source": [
    "# Import"
   ]
  },
  {
   "cell_type": "code",
   "execution_count": null,
   "metadata": {},
   "outputs": [],
   "source": [
    "import ga_original as ga\n",
    "import plotly.express as px\n",
    "import numpy as np\n",
    "import pandas as pd"
   ]
  },
  {
   "cell_type": "markdown",
   "metadata": {},
   "source": [
    "# Generate Targets in Same Way"
   ]
  },
  {
   "cell_type": "code",
   "execution_count": null,
   "metadata": {},
   "outputs": [],
   "source": [
    "xRange = 100\n",
    "\n",
    "yTarget = np.array([])\n",
    "\n",
    "xValues = np.linspace(-1,1, xRange)\n",
    "\n",
    "for x in xValues:\n",
    "    yTarget = np.append(yTarget, \n",
    "                        25*x**5 + 18*x**4 + 31*x**3 - 14*x**2 + 7*x -19)\n",
    "\n",
    "TARGET_POINTS = yTarget\n",
    "print(\"Target individual: {}\".format(TARGET_POINTS))"
   ]
  },
  {
   "cell_type": "markdown",
   "metadata": {},
   "source": [
    "# Load Data for Comparison"
   ]
  },
  {
   "cell_type": "code",
   "execution_count": null,
   "metadata": {},
   "outputs": [],
   "source": [
    "polynomialPoints = pd.read_csv(\"target_and_best_vanilla_points.csv\", index_col=0)\n",
    "polynomialPoints.index.name = 'x'\n",
    "\n",
    "figPolynomials = px.line(polynomialPoints, title='Polynomial Comparisons')\n",
    "figPolynomials.show()"
   ]
  },
  {
   "cell_type": "code",
   "execution_count": null,
   "metadata": {},
   "outputs": [],
   "source": [
    "fitness = pd.read_csv(\"best_vanilla_fitness.csv\", index_col=0)\n",
    "fitness.columns = ['random']\n",
    "\n",
    "figFitness = px.line(fitness, title='Fitness History')\n",
    "figFitness.show()"
   ]
  },
  {
   "cell_type": "markdown",
   "metadata": {},
   "source": [
    "---"
   ]
  },
  {
   "cell_type": "markdown",
   "metadata": {},
   "source": [
    "# Roulette Comparison"
   ]
  },
  {
   "cell_type": "code",
   "execution_count": null,
   "metadata": {},
   "outputs": [],
   "source": [
    "maxGen = 5000\n",
    "count = 500\n",
    "individualLength = xRange\n",
    "individualMin = int(min(TARGET_POINTS)*1.1)\n",
    "individualMax = int(max(TARGET_POINTS)*1.1)"
   ]
  },
  {
   "cell_type": "code",
   "execution_count": null,
   "metadata": {},
   "outputs": [],
   "source": [
    "retain = 0.1\n",
    "mutate = 0.2\n",
    "random_select = 0.05\n",
    "\n",
    "lastGrade=1\n",
    "\n",
    "population = ga.population(count, individualLength, individualMin, individualMax)\n",
    "fitness_history = [ga.grade(population, TARGET_POINTS)]\n",
    "\n",
    "while lastGrade != 0 and len(fitness_history) < maxGen:\n",
    "\n",
    "    population = ga.evolve(population, \n",
    "                           TARGET_POINTS, \n",
    "                           retain=retain,\n",
    "                           random_select=random_select, \n",
    "                           mutate=mutate, selectMethod='roulette')\n",
    "\n",
    "    lastGrade = ga.grade(population, TARGET_POINTS)\n",
    "    fitness_history.append(lastGrade)"
   ]
  },
  {
   "cell_type": "code",
   "execution_count": null,
   "metadata": {},
   "outputs": [],
   "source": [
    "fitness['roulette'] = fitness_history"
   ]
  },
  {
   "cell_type": "code",
   "execution_count": null,
   "metadata": {},
   "outputs": [],
   "source": [
    "figFitness = px.line(fitness, title='Fitness History')\n",
    "figFitness.show()"
   ]
  },
  {
   "cell_type": "code",
   "execution_count": null,
   "metadata": {},
   "outputs": [],
   "source": [
    "polynomialPoints.columns = ['target', 'random', 'roulette']\n",
    "figPolynomials = px.line(polynomialPoints, title='Polynomial Comparisons')\n",
    "figPolynomials.show()"
   ]
  },
  {
   "cell_type": "markdown",
   "metadata": {},
   "source": [
    "# Floating point"
   ]
  },
  {
   "cell_type": "code",
   "execution_count": null,
   "metadata": {},
   "outputs": [],
   "source": [
    "maxGen = 10000\n",
    "count = 500\n",
    "individualLength = xRange\n",
    "individualMin = min(TARGET_POINTS)*1.2\n",
    "individualMax = max(TARGET_POINTS)*1.2"
   ]
  },
  {
   "cell_type": "code",
   "execution_count": null,
   "metadata": {},
   "outputs": [],
   "source": [
    "retain = 0.1\n",
    "mutate = 0.2\n",
    "random_select = 0.05\n",
    "\n",
    "lastGrade=1\n",
    "\n",
    "population = ga.population(count, individualLength, individualMin, individualMax)\n",
    "fitness_history = [ga.grade(population, TARGET_POINTS)]\n",
    "\n",
    "while lastGrade != 0 and len(fitness_history) < maxGen:\n",
    "\n",
    "    population = ga.evolve(population, \n",
    "                           TARGET_POINTS, \n",
    "                           retain=retain,\n",
    "                           random_select=random_select, \n",
    "                           mutate=mutate)\n",
    "\n",
    "    lastGrade = ga.grade(population, TARGET_POINTS)\n",
    "    fitness_history.append(lastGrade)"
   ]
  },
  {
   "cell_type": "code",
   "execution_count": null,
   "metadata": {
    "scrolled": true
   },
   "outputs": [],
   "source": [
    "# filled = np.full_like(fitness['random'], fitness_history[-1])\n",
    "# filled[:len(fitness_history)] = fitness_history\n",
    "\n",
    "fitness['floatingPoint'] = fitness_history\n",
    "polynomialPoints['floatingPoint'] = population[0]"
   ]
  },
  {
   "cell_type": "code",
   "execution_count": null,
   "metadata": {},
   "outputs": [],
   "source": [
    "polynomialPoints.head()"
   ]
  },
  {
   "cell_type": "code",
   "execution_count": null,
   "metadata": {},
   "outputs": [],
   "source": [
    "polynomialPoints['floating_gen10k'] = population[0]\n",
    "polynomialPoints"
   ]
  },
  {
   "cell_type": "code",
   "execution_count": null,
   "metadata": {},
   "outputs": [],
   "source": [
    "figFitness = px.line(polynomialPoints, title='Highly optimised solution')\n",
    "figFitness.show()"
   ]
  },
  {
   "cell_type": "code",
   "execution_count": null,
   "metadata": {},
   "outputs": [],
   "source": [
    "polynomialPoints.columns = ['target', 'integer', 'floating point']\n",
    "figPolynomials = px.line(polynomialPoints, title='Polynomial Comparisons')\n",
    "figPolynomials.show()"
   ]
  },
  {
   "cell_type": "code",
   "execution_count": null,
   "metadata": {},
   "outputs": [],
   "source": []
  }
 ],
 "metadata": {
  "kernelspec": {
   "display_name": "Python 3",
   "language": "python",
   "name": "python3"
  },
  "language_info": {
   "codemirror_mode": {
    "name": "ipython",
    "version": 3
   },
   "file_extension": ".py",
   "mimetype": "text/x-python",
   "name": "python",
   "nbconvert_exporter": "python",
   "pygments_lexer": "ipython3",
   "version": "3.8.1"
  }
 },
 "nbformat": 4,
 "nbformat_minor": 4
}
