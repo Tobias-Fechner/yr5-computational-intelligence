{
 "cells": [
  {
   "cell_type": "code",
   "execution_count": null,
   "metadata": {},
   "outputs": [],
   "source": [
    "import ga_polynomial_simple as ga\n",
    "import plotly.express as px\n",
    "import numpy as np\n",
    "import pandas as pd\n",
    "import logging"
   ]
  },
  {
   "cell_type": "code",
   "execution_count": null,
   "metadata": {},
   "outputs": [],
   "source": [
    "logging.getLogger().setLevel(logging.INFO)"
   ]
  },
  {
   "cell_type": "code",
   "execution_count": null,
   "metadata": {},
   "outputs": [],
   "source": [
    "xRange = 20\n",
    "\n",
    "yTarget = np.array([])\n",
    "\n",
    "xValues = np.linspace(-1,1, xRange)\n",
    "\n",
    "for x in xValues:\n",
    "    yTarget = np.append(yTarget, \n",
    "                        25*x**5 + 18*x**4 + 31*x**3 - 14*x**2 + 7*x -19)\n",
    "\n",
    "TARGET_COEFFS = [25,18,31,-14,7,-19]\n",
    "TARGET_POINTS = yTarget\n",
    "print(\"Global variables have been generated successfully for target points and target coefficient values.\")"
   ]
  },
  {
   "cell_type": "markdown",
   "metadata": {},
   "source": [
    "## Visualising Target Polynomial"
   ]
  },
  {
   "cell_type": "code",
   "execution_count": null,
   "metadata": {},
   "outputs": [],
   "source": [
    "figTargetPolynomial = px.line(x=xValues, y=TARGET_POINTS, title='Target Polynomial')\n",
    "figTargetPolynomial.show()"
   ]
  },
  {
   "cell_type": "markdown",
   "metadata": {},
   "source": [
    "## Producing GA Predictions"
   ]
  },
  {
   "cell_type": "markdown",
   "metadata": {},
   "source": [
    "#### Setup Parameters"
   ]
  },
  {
   "cell_type": "code",
   "execution_count": null,
   "metadata": {},
   "outputs": [],
   "source": [
    "count = 500\n",
    "individualLength = xRange\n",
    "individualMin = min(TARGET_POINTS)*1.1\n",
    "individualMax = max(TARGET_POINTS)*1.1\n",
    "\n",
    "retain = 0.15\n",
    "mutate = 0.01\n",
    "random_select = 0.05"
   ]
  },
  {
   "cell_type": "markdown",
   "metadata": {},
   "source": [
    "#### Running with selecion by roulette wheel"
   ]
  },
  {
   "cell_type": "markdown",
   "metadata": {},
   "source": [
    "Specify GA training configuration"
   ]
  },
  {
   "cell_type": "code",
   "execution_count": null,
   "metadata": {},
   "outputs": [],
   "source": [
    "maxGen = 401"
   ]
  },
  {
   "cell_type": "markdown",
   "metadata": {},
   "source": [
    "Create first population and grade"
   ]
  },
  {
   "cell_type": "code",
   "execution_count": null,
   "metadata": {},
   "outputs": [],
   "source": [
    "population = ga.createPopulation(count, individualMin, individualMax, individualLength)\n",
    "fitness_history = [ga.getAvgPopulationError(population, target=TARGET_POINTS)]"
   ]
  },
  {
   "cell_type": "markdown",
   "metadata": {},
   "source": [
    "Show some data for sanity check"
   ]
  },
  {
   "cell_type": "code",
   "execution_count": null,
   "metadata": {},
   "outputs": [],
   "source": [
    "print(\"Average absolute error of initial population: {}\".format(fitness_history[0]))"
   ]
  },
  {
   "cell_type": "markdown",
   "metadata": {},
   "source": [
    "Create dataframe to store results"
   ]
  },
  {
   "cell_type": "code",
   "execution_count": null,
   "metadata": {},
   "outputs": [],
   "source": [
    "comparison = pd.DataFrame()\n",
    "comparison['target polynomial'] = TARGET_POINTS\n",
    "comparison.name = 'Predicted vs. Target Polynomial'\n",
    "comparison.index = xValues\n",
    "comparison.index.name = 'x'\n",
    "comparison.head()"
   ]
  },
  {
   "cell_type": "markdown",
   "metadata": {},
   "source": [
    "Train GA for set configuration"
   ]
  },
  {
   "cell_type": "code",
   "execution_count": null,
   "metadata": {
    "scrolled": false
   },
   "outputs": [],
   "source": [
    "lastGrade = 1\n",
    "gen=1\n",
    "\n",
    "while lastGrade != 0 and len(fitness_history) < maxGen:\n",
    "\n",
    "    population = ga.evolve(population, \n",
    "                           TARGET_POINTS, \n",
    "                           retain=retain, \n",
    "                           mutate=mutate, \n",
    "                           select='random')\n",
    "\n",
    "    lastGrade = ga.getAvgPopulationError(population, TARGET_POINTS)\n",
    "    fitness_history.append(lastGrade)\n",
    "    \n",
    "    if gen%200 == 0:\n",
    "        comparison['gen_' + str(gen)] = population[0]\n",
    "        comparison.head()\n",
    "\n",
    "    gen += 1"
   ]
  },
  {
   "cell_type": "code",
   "execution_count": null,
   "metadata": {},
   "outputs": [],
   "source": [
    "figTargetPolynomial = px.line(comparison, title='Predicted vs. Target Polynomial')\n",
    "figTargetPolynomial.show()"
   ]
  },
  {
   "cell_type": "code",
   "execution_count": null,
   "metadata": {},
   "outputs": [],
   "source": [
    "poppy = ga.createPopulation(20, 0, 21, 20)\n",
    "poppy"
   ]
  },
  {
   "cell_type": "code",
   "execution_count": null,
   "metadata": {},
   "outputs": [],
   "source": [
    "df = pd.DataFrame({'individual':poppy})\n",
    "df"
   ]
  },
  {
   "cell_type": "code",
   "execution_count": null,
   "metadata": {},
   "outputs": [],
   "source": [
    "df['grade'] = df.apply(lambda x: ga.getSumAbsError(x['individual'], TARGET_POINTS), axis=1)\n",
    "df"
   ]
  },
  {
   "cell_type": "code",
   "execution_count": null,
   "metadata": {},
   "outputs": [],
   "source": [
    "df = df.sort_values('grade')\n",
    "df"
   ]
  },
  {
   "cell_type": "code",
   "execution_count": null,
   "metadata": {},
   "outputs": [],
   "source": [
    "df['random'] = np.random.uniform(0.0, 1.0, len(df))\n",
    "df"
   ]
  },
  {
   "cell_type": "code",
   "execution_count": null,
   "metadata": {},
   "outputs": [],
   "source": [
    "mask = df['random'] > 0.5\n",
    "mask"
   ]
  },
  {
   "cell_type": "code",
   "execution_count": null,
   "metadata": {},
   "outputs": [],
   "source": [
    "df.loc[mask]"
   ]
  },
  {
   "cell_type": "code",
   "execution_count": null,
   "metadata": {},
   "outputs": [],
   "source": [
    "a = [[3,4,5]]\n",
    "a.append([99,88,77])\n",
    "a"
   ]
  },
  {
   "cell_type": "code",
   "execution_count": null,
   "metadata": {},
   "outputs": [],
   "source": [
    "retainLength = int(len(poppy)*retain)\n",
    "retainLength"
   ]
  },
  {
   "cell_type": "code",
   "execution_count": null,
   "metadata": {},
   "outputs": [],
   "source": [
    "df = pd.DataFrame({'individual': poppy})\n",
    "\n",
    "# Create second column with grade for each individual in population\n",
    "df['grade'] = df.apply(lambda x: ga.getSumAbsError(x['individual'], TARGET_POINTS), axis=1)\n",
    "\n",
    "# Sort rows based on grade of individual\n",
    "graded = df.sort_values('grade')\n",
    "\n",
    "# Create list of best performers to retain\n",
    "matingPool = graded.iloc[:retainLength, 0].tolist()"
   ]
  },
  {
   "cell_type": "code",
   "execution_count": null,
   "metadata": {},
   "outputs": [],
   "source": [
    "graded"
   ]
  },
  {
   "cell_type": "code",
   "execution_count": null,
   "metadata": {},
   "outputs": [],
   "source": [
    "matingPool"
   ]
  },
  {
   "cell_type": "code",
   "execution_count": null,
   "metadata": {},
   "outputs": [],
   "source": [
    "# Select subset of rows from graded dataframe with remaining individuals\n",
    "remaining = graded.iloc[retainLength:, :]\n",
    "\n",
    "# Create new column with random float between range [0,1] for each remaining individual\n",
    "remaining.insert(2, 'random', np.random.uniform(0.0, 1.0, len(remaining)))"
   ]
  },
  {
   "cell_type": "code",
   "execution_count": null,
   "metadata": {},
   "outputs": [],
   "source": [
    "remaining.head()"
   ]
  },
  {
   "cell_type": "code",
   "execution_count": null,
   "metadata": {},
   "outputs": [],
   "source": [
    "# Randomly select a subset of these individuals by comparing to random_select float\n",
    "mask = remaining['random'] < 0.3\n",
    "selected = remaining.loc[mask]"
   ]
  },
  {
   "cell_type": "code",
   "execution_count": null,
   "metadata": {},
   "outputs": [],
   "source": [
    "selected"
   ]
  },
  {
   "cell_type": "code",
   "execution_count": null,
   "metadata": {},
   "outputs": [],
   "source": [
    "# Cast column with individual's chromosome values to list to append to mating pool\n",
    "matingPool.extend(selected['individual'].tolist())\n",
    "matingPool"
   ]
  },
  {
   "cell_type": "code",
   "execution_count": null,
   "metadata": {},
   "outputs": [],
   "source": [
    "selected['individual'].tolist()"
   ]
  },
  {
   "cell_type": "code",
   "execution_count": null,
   "metadata": {},
   "outputs": [],
   "source": [
    "selected['individual']"
   ]
  },
  {
   "cell_type": "code",
   "execution_count": null,
   "metadata": {},
   "outputs": [],
   "source": []
  },
  {
   "cell_type": "code",
   "execution_count": null,
   "metadata": {},
   "outputs": [],
   "source": []
  }
 ],
 "metadata": {
  "kernelspec": {
   "display_name": "Python 3",
   "language": "python",
   "name": "python3"
  },
  "language_info": {
   "codemirror_mode": {
    "name": "ipython",
    "version": 3
   },
   "file_extension": ".py",
   "mimetype": "text/x-python",
   "name": "python",
   "nbconvert_exporter": "python",
   "pygments_lexer": "ipython3",
   "version": "3.8.1"
  }
 },
 "nbformat": 4,
 "nbformat_minor": 4
}
