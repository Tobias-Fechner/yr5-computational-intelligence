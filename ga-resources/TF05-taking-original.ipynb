{
 "cells": [
  {
   "cell_type": "code",
   "execution_count": null,
   "metadata": {},
   "outputs": [],
   "source": [
    "import ga_original as ga\n",
    "import plotly.express as px\n",
    "import numpy as np\n",
    "import pandas as pd"
   ]
  },
  {
   "cell_type": "code",
   "execution_count": null,
   "metadata": {
    "scrolled": true
   },
   "outputs": [],
   "source": [
    "xRange = 100\n",
    "\n",
    "yTarget = np.array([])\n",
    "\n",
    "xValues = np.linspace(-1,1, xRange)\n",
    "\n",
    "for x in xValues:\n",
    "    yTarget = np.append(yTarget, \n",
    "                        25*x**5 + 18*x**4 + 31*x**3 - 14*x**2 + 7*x -19)\n",
    "\n",
    "TARGET_POINTS = yTarget\n",
    "print(\"Target individual: {}\".format(TARGET_POINTS))"
   ]
  },
  {
   "cell_type": "code",
   "execution_count": null,
   "metadata": {},
   "outputs": [],
   "source": [
    "maxGen = 1001\n",
    "count = 500\n",
    "individualLength = xRange\n",
    "individualMin = int(min(TARGET_POINTS)*1.2)\n",
    "individualMax = int(max(TARGET_POINTS)*1.2)"
   ]
  },
  {
   "cell_type": "markdown",
   "metadata": {},
   "source": [
    "# Sweep of retain"
   ]
  },
  {
   "cell_type": "code",
   "execution_count": null,
   "metadata": {
    "scrolled": true
   },
   "outputs": [],
   "source": [
    "comparisonRetain = pd.DataFrame()\n",
    "comparisonRetain['target polynomial'] = TARGET_POINTS\n",
    "comparisonRetain.name = 'Predicted vs. Target Polynomials'\n",
    "comparisonRetain.index = xValues\n",
    "comparisonRetain.index.name = 'x'\n",
    "comparisonRetain.head()"
   ]
  },
  {
   "cell_type": "code",
   "execution_count": null,
   "metadata": {},
   "outputs": [],
   "source": [
    "fitnessHistoryRetain = pd.DataFrame()\n",
    "fitnessHistoryRetain.name = 'Fitness history comparison: retain sweep'"
   ]
  },
  {
   "cell_type": "code",
   "execution_count": null,
   "metadata": {},
   "outputs": [],
   "source": [
    "mutate = 0.05\n",
    "random_select = 0.1\n",
    "\n",
    "for retain in [0.01, 0.05, 0.1, 0.2]:\n",
    "    \n",
    "    gen=1\n",
    "    lastGrade=1\n",
    "    population = ga.population(count, individualLength, individualMin, individualMax)\n",
    "    fitness_history = [ga.grade(population, TARGET_POINTS)]\n",
    "    \n",
    "    while lastGrade != 0 and len(fitness_history) < maxGen:\n",
    "\n",
    "        population = ga.evolve(population, \n",
    "                               TARGET_POINTS, \n",
    "                               retain=retain,\n",
    "                               random_select=random_select, \n",
    "                               mutate=mutate)\n",
    "\n",
    "        lastGrade = ga.grade(population, TARGET_POINTS)\n",
    "        fitness_history.append(lastGrade)\n",
    "\n",
    "        if gen%200 == 0:\n",
    "            comparisonRetain['retain_' + str(retain) + 'gen_' + str(gen)] = population[0]\n",
    "\n",
    "        gen += 1\n",
    "    \n",
    "    fitnessHistoryRetain['retain_' + str(retain)] = fitness_history"
   ]
  },
  {
   "cell_type": "code",
   "execution_count": null,
   "metadata": {},
   "outputs": [],
   "source": [
    "fitnessHistoryRetain.head()"
   ]
  },
  {
   "cell_type": "code",
   "execution_count": null,
   "metadata": {},
   "outputs": [],
   "source": [
    "figRetainFitness = px.line(fitnessHistoryRetain, title=fitnessHistoryRetain.name)\n",
    "figRetainFitness.show()"
   ]
  },
  {
   "cell_type": "code",
   "execution_count": null,
   "metadata": {},
   "outputs": [],
   "source": [
    "comparisonRetain.head()"
   ]
  },
  {
   "cell_type": "code",
   "execution_count": null,
   "metadata": {},
   "outputs": [],
   "source": [
    "figRetainPolynomials = px.line(comparison, title='Predicted vs. Target Polynomial')\n",
    "figRetainPolynomials.show()"
   ]
  },
  {
   "cell_type": "markdown",
   "metadata": {},
   "source": [
    "# Sweep of mutate"
   ]
  },
  {
   "cell_type": "code",
   "execution_count": null,
   "metadata": {},
   "outputs": [],
   "source": [
    "comparisonMutate = pd.DataFrame()\n",
    "comparisonMutate['target polynomial'] = TARGET_POINTS\n",
    "comparisonMutate.name = 'Predicted vs. Target Polynomials'\n",
    "comparisonMutate.index = xValues\n",
    "comparisonMutate.index.name = 'x'\n",
    "comparisonMutate.head()"
   ]
  },
  {
   "cell_type": "code",
   "execution_count": null,
   "metadata": {},
   "outputs": [],
   "source": [
    "fitnessHistoryMutate = pd.DataFrame()\n",
    "fitnessHistoryMutate.name = 'Fitness history comparison: mutate sweep'"
   ]
  },
  {
   "cell_type": "code",
   "execution_count": null,
   "metadata": {},
   "outputs": [],
   "source": [
    "retain = 0.1\n",
    "random_select = 0.1\n",
    "\n",
    "for mutate in [0.01, 0.05, 0.1, 0.2]:\n",
    "    \n",
    "    gen=1\n",
    "    lastGrade=1\n",
    "    population = ga.population(count, individualLength, individualMin, individualMax)\n",
    "    fitness_history = [ga.grade(population, TARGET_POINTS)]\n",
    "    \n",
    "    while lastGrade != 0 and len(fitness_history) < maxGen:\n",
    "\n",
    "        population = ga.evolve(population, \n",
    "                               TARGET_POINTS, \n",
    "                               retain=retain,\n",
    "                               random_select=random_select, \n",
    "                               mutate=mutate)\n",
    "\n",
    "        lastGrade = ga.grade(population, TARGET_POINTS)\n",
    "        fitness_history.append(lastGrade)\n",
    "\n",
    "        if gen%200 == 0:\n",
    "            comparisonMutate['mutate_' + str(mutate) + 'gen_' + str(gen)] = population[0]\n",
    "\n",
    "        gen += 1\n",
    "        \n",
    "    fitnessHistoryMutate['mutate_' + str(mutate)] = fitness_history"
   ]
  },
  {
   "cell_type": "code",
   "execution_count": null,
   "metadata": {},
   "outputs": [],
   "source": [
    "fitnessHistoryMutate.head()"
   ]
  },
  {
   "cell_type": "code",
   "execution_count": null,
   "metadata": {},
   "outputs": [],
   "source": [
    "figMutateFitness = px.line(fitnessHistoryMutate, title=fitnessHistoryMutate.name)\n",
    "figMutateFitness.show()"
   ]
  },
  {
   "cell_type": "code",
   "execution_count": null,
   "metadata": {},
   "outputs": [],
   "source": [
    "comparisonMutate.head()"
   ]
  },
  {
   "cell_type": "code",
   "execution_count": null,
   "metadata": {},
   "outputs": [],
   "source": [
    "figMutatePolynomials = px.line(comparisonMutate, title='Predicted vs. Target Polynomial')\n",
    "figMutatePolynomials.show()"
   ]
  },
  {
   "cell_type": "markdown",
   "metadata": {},
   "source": [
    "# Sweep of random_select"
   ]
  },
  {
   "cell_type": "code",
   "execution_count": null,
   "metadata": {},
   "outputs": [],
   "source": [
    "comparisonRandomSelect = pd.DataFrame()\n",
    "comparisonRandomSelect['target polynomial'] = TARGET_POINTS\n",
    "comparisonRandomSelect.name = 'Predicted vs. Target Polynomials'\n",
    "comparisonRandomSelect.index = xValues\n",
    "comparisonRandomSelect.index.name = 'x'\n",
    "comparisonRandomSelect.head()"
   ]
  },
  {
   "cell_type": "code",
   "execution_count": null,
   "metadata": {},
   "outputs": [],
   "source": [
    "fitnessHistorySelect = pd.DataFrame()\n",
    "fitnessHistorySelect.name = 'Fitness history comparison: random select sweep'"
   ]
  },
  {
   "cell_type": "code",
   "execution_count": null,
   "metadata": {},
   "outputs": [],
   "source": [
    "retain = 0.1\n",
    "mutate = 0.2\n",
    "\n",
    "for random_select in [0.01, 0.05, 0.1, 0.2]:\n",
    "    \n",
    "    gen=1\n",
    "    lastGrade=1\n",
    "    population = ga.population(count, individualLength, individualMin, individualMax)\n",
    "    fitness_history = [ga.grade(population, TARGET_POINTS)]\n",
    "    \n",
    "    while lastGrade != 0 and len(fitness_history) < maxGen:\n",
    "\n",
    "        population = ga.evolve(population, \n",
    "                               TARGET_POINTS, \n",
    "                               retain=retain,\n",
    "                               random_select=random_select, \n",
    "                               mutate=mutate)\n",
    "\n",
    "        lastGrade = ga.grade(population, TARGET_POINTS)\n",
    "        fitness_history.append(lastGrade)\n",
    "\n",
    "        if gen%200 == 0:\n",
    "            comparisonRandomSelect['select_' + str(random_select) + 'gen_' + str(gen)] = population[0]\n",
    "\n",
    "        gen += 1\n",
    "        \n",
    "    fitnessHistorySelect['select_' + str(random_select)] = fitness_history"
   ]
  },
  {
   "cell_type": "code",
   "execution_count": null,
   "metadata": {},
   "outputs": [],
   "source": [
    "fitnessHistorySelect.head()"
   ]
  },
  {
   "cell_type": "code",
   "execution_count": null,
   "metadata": {},
   "outputs": [],
   "source": [
    "figSelectFitness = px.line(fitnessHistorySelect, title=fitnessHistorySelect.name)\n",
    "figSelectFitness.show()"
   ]
  },
  {
   "cell_type": "code",
   "execution_count": null,
   "metadata": {},
   "outputs": [],
   "source": [
    "comparisonRandomSelect.head()"
   ]
  },
  {
   "cell_type": "code",
   "execution_count": null,
   "metadata": {},
   "outputs": [],
   "source": [
    "figSelectPolynomials = px.line(comparisonRandomSelect, title='Predicted vs. Target Polynomial')\n",
    "figSelectPolynomials.show()"
   ]
  },
  {
   "cell_type": "markdown",
   "metadata": {},
   "source": [
    "---"
   ]
  },
  {
   "cell_type": "markdown",
   "metadata": {},
   "source": [
    "# EXPORT RESULS"
   ]
  },
  {
   "cell_type": "code",
   "execution_count": null,
   "metadata": {},
   "outputs": [],
   "source": [
    "# Retain sweep\n",
    "comparisonRetain.to_csv(\"retain_sweep_vanilla_polynomials.csv\")\n",
    "fitnessHistoryRetain.to_csv(\"retain_sweep_vanilla_fitness.csv\")\n",
    "\n",
    "# Mutate sweep\n",
    "comparisonMutate.to_csv(\"mutate_sweep_vanilla_polynomials.csv\")\n",
    "fitnessHistoryMutate.to_csv(\"mutate_sweep_vanilla_fitness.csv\")\n",
    "\n",
    "# Retain sweep\n",
    "comparisonRandomSelect.to_csv(\"randSelect_sweep_vanilla_polynomials.csv\")\n",
    "fitnessHistorySelect.to_csv(\"randSelect_sweep_vanilla_fitness.csv\")"
   ]
  },
  {
   "cell_type": "markdown",
   "metadata": {},
   "source": [
    "# With Tuned Parameter Selection"
   ]
  },
  {
   "cell_type": "code",
   "execution_count": null,
   "metadata": {},
   "outputs": [],
   "source": [
    "retain = 0.1\n",
    "mutate = 0.2\n",
    "random_select = 0.05\n",
    "\n",
    "lastGrade=1\n",
    "\n",
    "population = ga.population(count, individualLength, individualMin, individualMax)\n",
    "fitness_history = [ga.grade(population, TARGET_POINTS)]\n",
    "\n",
    "while lastGrade != 0 and len(fitness_history) < 5000:\n",
    "\n",
    "    population = ga.evolve(population, \n",
    "                           TARGET_POINTS, \n",
    "                           retain=retain,\n",
    "                           random_select=random_select, \n",
    "                           mutate=mutate)\n",
    "\n",
    "    lastGrade = ga.grade(population, TARGET_POINTS)\n",
    "    fitness_history.append(lastGrade)"
   ]
  },
  {
   "cell_type": "code",
   "execution_count": null,
   "metadata": {},
   "outputs": [],
   "source": [
    "df = pd.DataFrame({'target': TARGET_POINTS, 'ga_prediction': population[0]}, index=xValues)\n",
    "\n",
    "fig = px.line(df, title='Predicted vs. Target Polynomial with Tuned Parameters')\n",
    "fig.show()"
   ]
  },
  {
   "cell_type": "code",
   "execution_count": null,
   "metadata": {},
   "outputs": [],
   "source": [
    "df.to_csv(\"target_and_best_vanilla_points.csv\")"
   ]
  },
  {
   "cell_type": "code",
   "execution_count": null,
   "metadata": {},
   "outputs": [],
   "source": [
    "df = pd.DataFrame(fitness_history)\n",
    "df.tail()"
   ]
  },
  {
   "cell_type": "code",
   "execution_count": null,
   "metadata": {},
   "outputs": [],
   "source": [
    "figFitness = px.line(df, title='Fitness History with Tuned Parameters')\n",
    "figFitness.show()"
   ]
  },
  {
   "cell_type": "code",
   "execution_count": null,
   "metadata": {},
   "outputs": [],
   "source": [
    "df.to_csv(\"best_vanilla_fitness.csv\")"
   ]
  },
  {
   "cell_type": "code",
   "execution_count": null,
   "metadata": {},
   "outputs": [],
   "source": []
  }
 ],
 "metadata": {
  "kernelspec": {
   "display_name": "Python 3",
   "language": "python",
   "name": "python3"
  },
  "language_info": {
   "codemirror_mode": {
    "name": "ipython",
    "version": 3
   },
   "file_extension": ".py",
   "mimetype": "text/x-python",
   "name": "python",
   "nbconvert_exporter": "python",
   "pygments_lexer": "ipython3",
   "version": "3.8.1"
  }
 },
 "nbformat": 4,
 "nbformat_minor": 4
}
