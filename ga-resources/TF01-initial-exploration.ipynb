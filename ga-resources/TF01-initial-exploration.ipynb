{
 "cells": [
  {
   "cell_type": "markdown",
   "metadata": {},
   "source": [
    "Imports"
   ]
  },
  {
   "cell_type": "code",
   "execution_count": null,
   "metadata": {},
   "outputs": [],
   "source": [
    "from genetic_algorithms import *\n",
    "import plotly.express as px\n",
    "from math import ceil\n",
    "import numpy as np\n",
    "import plotly.graph_objects as go"
   ]
  },
  {
   "cell_type": "markdown",
   "metadata": {},
   "source": [
    "Set logger level to display in notebook - change to 'logging.INFO' for debugging purposes"
   ]
  },
  {
   "cell_type": "code",
   "execution_count": null,
   "metadata": {},
   "outputs": [],
   "source": [
    "logging.getLogger().setLevel(logging.WARN)"
   ]
  },
  {
   "cell_type": "markdown",
   "metadata": {},
   "source": [
    "Set parameters"
   ]
  },
  {
   "cell_type": "code",
   "execution_count": null,
   "metadata": {},
   "outputs": [],
   "source": [
    "target = 55789\n",
    "count = 100\n",
    "individualLength = 7\n",
    "individualMin = 0\n",
    "individualMax = 10000\n",
    "\n",
    "# Percentage of individuals to retain as parents of the next generation\n",
    "retain = 0.15\n",
    "\n",
    "# Configured probability used to decide if each individual from remaining population is added to \n",
    "# the parent gene pool to promote genetic diversity\n",
    "random_select = 0.05\n",
    "\n",
    "# Configured probability used to decide if each individual from parent gene pool is mutated\n",
    "mutate = 0.1\n",
    "\n",
    "\n",
    "femalePortion = 0.5\n",
    "\n",
    "assert individualMax*individualLength > target\n",
    "print(\"{} > {} is {}\".format(individualMax*individualLength, target, str(individualMax*individualLength > target)))"
   ]
  },
  {
   "cell_type": "markdown",
   "metadata": {},
   "source": [
    "Evolve the population n number of times"
   ]
  },
  {
   "cell_type": "code",
   "execution_count": null,
   "metadata": {},
   "outputs": [],
   "source": [
    "maxIterations = 5000\n",
    "results = {}\n",
    "\n",
    "for retain in np.linspace(0,0.4,5):\n",
    "    for mutate in np.linspace(0.1,0.4,4):\n",
    "        if retain == 0 or mutate == 0: \n",
    "            continue\n",
    "        for random_select in np.linspace(0,1,5):\n",
    "            \n",
    "            p = population(count, individualLength, individualMin, individualMax)\n",
    "            fitness_history = [grade(p, target)]\n",
    "            lastGrade = 1\n",
    "\n",
    "            while lastGrade != 0 and len(fitness_history) < maxIterations:\n",
    "\n",
    "                p = evolve(p, target, \n",
    "                           retain=retain, \n",
    "                           random_select=random_select, \n",
    "                           mutate=mutate, \n",
    "                           femalePortion=femalePortion)\n",
    "\n",
    "                lastGrade = grade(p, target)\n",
    "                fitness_history.append(lastGrade)\n",
    "\n",
    "            if lastGrade != 0 and len(fitness_history) == maxIterations:\n",
    "                print(\"Target not reached for combination [retain: {}, mutate: {}, random_select: {}]. Allow more generations. Last grade: {}\".format(\n",
    "                    retain, mutate, random_select, lastGrade))\n",
    "            else:\n",
    "                print(\"Number of generations to reach error of zero for combination [retain: {}, mutate: {}, random_select: {}]: {}\".format(retain, mutate, random_select, len(fitness_history)))\n",
    "                \n",
    "            results[', '.join([str(retain), str(mutate), str(random_select)])] = fitness_history"
   ]
  },
  {
   "cell_type": "markdown",
   "metadata": {},
   "source": [
    "---"
   ]
  },
  {
   "cell_type": "code",
   "execution_count": null,
   "metadata": {},
   "outputs": [],
   "source": [
    "import json\n",
    "with open('results_retain_mutate_randomselect.json') as json_file: \n",
    "    results = json.load(json_file)"
   ]
  },
  {
   "cell_type": "code",
   "execution_count": null,
   "metadata": {},
   "outputs": [],
   "source": [
    "for key in results.keys():\n",
    "    filledArray = [None]*5000\n",
    "    lastIndex = len(results[key])\n",
    "    filledArray[:lastIndex-1] = results[key]\n",
    "    results[key] = filledArray"
   ]
  },
  {
   "cell_type": "code",
   "execution_count": null,
   "metadata": {
    "scrolled": false
   },
   "outputs": [],
   "source": [
    "import plotly.express as px\n",
    "fig = px.line(results)\n",
    "    \n",
    "fig.show()"
   ]
  },
  {
   "cell_type": "code",
   "execution_count": null,
   "metadata": {},
   "outputs": [],
   "source": []
  }
 ],
 "metadata": {
  "kernelspec": {
   "display_name": "Python 3",
   "language": "python",
   "name": "python3"
  },
  "language_info": {
   "codemirror_mode": {
    "name": "ipython",
    "version": 3
   },
   "file_extension": ".py",
   "mimetype": "text/x-python",
   "name": "python",
   "nbconvert_exporter": "python",
   "pygments_lexer": "ipython3",
   "version": "3.8.1"
  }
 },
 "nbformat": 4,
 "nbformat_minor": 4
}
