{
 "cells": [
  {
   "cell_type": "markdown",
   "metadata": {},
   "source": [
    "Imports"
   ]
  },
  {
   "cell_type": "code",
   "execution_count": 2,
   "metadata": {},
   "outputs": [],
   "source": [
    "from ga_polynomial import createPopulation, grade, createIndividual, evolve, fitness\n",
    "import plotly.express as px\n",
    "from math import ceil\n",
    "import numpy as np\n",
    "import json\n",
    "import plotly.graph_objects as go\n",
    "import logging\n",
    "from tqdm import tqdm\n",
    "import matplotlib as plt"
   ]
  },
  {
   "cell_type": "code",
   "execution_count": 20,
   "metadata": {},
   "outputs": [],
   "source": [
    "def getMSE(individual):\n",
    "    \"\"\"\n",
    "    Take in individual, which are effectively coefficient predictions, then use a range of x values to generate a corresponding y value\n",
    "    with the same equation pattern as the polynomial we are trying to fit. Return the mean square error by comparing with y values\n",
    "    generated from target polynomial.\n",
    "    :param individual:\n",
    "    :return:\n",
    "    \"\"\"\n",
    "\n",
    "    # Extract polynomial coefficients from individual\n",
    "    a1 = individual[0]\n",
    "    a2 = individual[1]\n",
    "    a3 = individual[2]\n",
    "    a4 = individual[3]\n",
    "    a5 = individual[4]\n",
    "    c = individual[5]\n",
    "\n",
    "    yTarget = np.array([])\n",
    "    yPredict = np.array([])\n",
    "\n",
    "    # For a range of values of x, calculate the target and predicted value of y\n",
    "    for x in np.linspace(-1,1, 20):\n",
    "        np.append(yTarget, 25*x**5 + 18*x**4 + 0 - 14*x**2 + 7*x -19)\n",
    "        np.append(yPredict, a1*x**5 + a2*x**4 + a3*x**3 + a4*x**2 + a5*x + c)\n",
    "\n",
    "    # Calculate error as difference between each y value prediction and corresponding target\n",
    "    errors = np.subtract(yTarget, yPredict)\n",
    "\n",
    "    # Square each error term\n",
    "    squaredErrors = np.power(errors, 2)\n",
    "\n",
    "    # Calculate weighted average of the squared errors array\n",
    "    meanSquaredErrors = np.average(squaredErrors)\n",
    "\n",
    "    assert isinstance(meanSquaredErrors, float)\n",
    "\n",
    "    return meanSquaredErrors"
   ]
  },
  {
   "cell_type": "code",
   "execution_count": 35,
   "metadata": {},
   "outputs": [],
   "source": [
    "import pandas as pd"
   ]
  },
  {
   "cell_type": "code",
   "execution_count": 63,
   "metadata": {},
   "outputs": [
    {
     "data": {
      "text/plain": [
       "[array([ 13,  39, -24,  -8,  29,  33]),\n",
       " array([ 12,  43,  40, -31,  12, -33]),\n",
       " array([-41,  -9, -27,   7, -26, -34]),\n",
       " array([-37, -22,  27,  29,  46,  18]),\n",
       " array([  8, -26, -41,  10,   2,  28])]"
      ]
     },
     "execution_count": 63,
     "metadata": {},
     "output_type": "execute_result"
    }
   ],
   "source": [
    "population = createPopulation(100, -50, 50, 6)\n",
    "population[:5]"
   ]
  },
  {
   "cell_type": "code",
   "execution_count": 64,
   "metadata": {},
   "outputs": [
    {
     "data": {
      "text/plain": [
       "array([[2],\n",
       "       [0],\n",
       "       [8],\n",
       "       [3],\n",
       "       [7]])"
      ]
     },
     "execution_count": 64,
     "metadata": {},
     "output_type": "execute_result"
    }
   ],
   "source": [
    "fitnesses = np.random.randint(0, 10, (100,1))\n",
    "fitnesses[:5]"
   ]
  },
  {
   "cell_type": "code",
   "execution_count": 65,
   "metadata": {},
   "outputs": [
    {
     "name": "stdout",
     "output_type": "stream",
     "text": [
      "[ 13  39 -24  -8  29  33] [2]\n"
     ]
    }
   ],
   "source": [
    "for individual, fitness in zip(population, fitnesses):\n",
    "    print(individual, fitness)\n",
    "    break"
   ]
  },
  {
   "cell_type": "code",
   "execution_count": null,
   "metadata": {},
   "outputs": [],
   "source": [
    "population['mse'] = getMSE(np.array())"
   ]
  },
  {
   "cell_type": "code",
   "execution_count": null,
   "metadata": {},
   "outputs": [],
   "source": []
  },
  {
   "cell_type": "code",
   "execution_count": 19,
   "metadata": {},
   "outputs": [
    {
     "data": {
      "text/plain": [
       "array([[ 0,  0],\n",
       "       [ 1,  1],\n",
       "       [ 2,  4],\n",
       "       [ 3,  9],\n",
       "       [ 4, 16],\n",
       "       [ 5, 25],\n",
       "       [ 6, 36],\n",
       "       [ 7, 49],\n",
       "       [ 8, 64],\n",
       "       [ 9, 81]])"
      ]
     },
     "execution_count": 19,
     "metadata": {},
     "output_type": "execute_result"
    }
   ],
   "source": [
    "a = np.array([population, population**2]).T\n",
    "#a = a.reshape(len(a[0]), 2)\n",
    "a"
   ]
  },
  {
   "cell_type": "code",
   "execution_count": 24,
   "metadata": {
    "scrolled": true
   },
   "outputs": [
    {
     "data": {
      "text/plain": [
       "array([array([0, 1, 2, 3, 4, 5, 6, 7, 8, 9]),\n",
       "       <map object at 0x000001F6FF3FBF10>], dtype=object)"
      ]
     },
     "execution_count": 24,
     "metadata": {},
     "output_type": "execute_result"
    }
   ],
   "source": [
    "np.array([population, lambda x: getMSE(x)])"
   ]
  },
  {
   "cell_type": "markdown",
   "metadata": {},
   "source": [
    "---"
   ]
  },
  {
   "cell_type": "markdown",
   "metadata": {},
   "source": [
    "Setup"
   ]
  },
  {
   "cell_type": "code",
   "execution_count": null,
   "metadata": {},
   "outputs": [],
   "source": [
    "count = 500\n",
    "individualLength = 6\n",
    "individualMin = -50\n",
    "individualMax = 50\n",
    "\n",
    "retain = 0.1\n",
    "mutate = 0.01\n",
    "random_select = 0.1"
   ]
  },
  {
   "cell_type": "code",
   "execution_count": null,
   "metadata": {
    "scrolled": false
   },
   "outputs": [],
   "source": [
    "maxGen = 1000\n",
    "polynomials = {}\n",
    "checkpoints = np.linspace(100, maxGen, int(maxGen/100))\n",
    "\n",
    "p = population(count, individualMin, individualMax, individualLength)\n",
    "fitness_history = [grade(p)]\n",
    "lastGrade = 1\n",
    "it = 0\n",
    "x = np.linspace(-1,1, 20)\n",
    "\n",
    "while lastGrade != 0 and len(fitness_history) < maxGen:\n",
    "\n",
    "    p, individualGrades = evolve(p, \n",
    "               retain=retain, \n",
    "               random_select=random_select, \n",
    "               mutate=mutate)\n",
    "\n",
    "    lastGrade = grade(p)\n",
    "    fitness_history.append(lastGrade)\n",
    "    \n",
    "    if it in checkpoints:\n",
    "\n",
    "        # Rank population based on individual grades\n",
    "        bestIndividual = sorted(individualGrades)[0][1]\n",
    "        \n",
    "        # Extract polynomial coefficients from individual\n",
    "        a1 = bestIndividual[0]\n",
    "        a2 = bestIndividual[1]\n",
    "        a3 = bestIndividual[2]\n",
    "        a4 = bestIndividual[3]\n",
    "        a5 = bestIndividual[4]\n",
    "        c = bestIndividual[5]\n",
    "        \n",
    "        y = []\n",
    "        \n",
    "        # For a range of values of x, calculate the target and predicted value of y\n",
    "        for element in x:\n",
    "            yPredict = a1*element**5 + a2*element**4 + a3*element**3 + a4*element**2 + a5*element + c\n",
    "            \n",
    "            # Store target and prediction as pair in list of tuples\n",
    "            y.append(yPredict)\n",
    "        \n",
    "        polynomials[it] = (x, np.array(y))\n",
    "        \n",
    "        figPolynomial = px.line(polynomials)\n",
    "        figPolynomial.show()\n",
    "        \n",
    "    it += 1\n",
    "\n",
    "#results[', '.join([str(retain), str(mutate), str(random_select)])] = filledArray"
   ]
  },
  {
   "cell_type": "code",
   "execution_count": null,
   "metadata": {},
   "outputs": [],
   "source": [
    "np.array(y)"
   ]
  },
  {
   "cell_type": "markdown",
   "metadata": {},
   "source": [
    "---"
   ]
  },
  {
   "cell_type": "code",
   "execution_count": null,
   "metadata": {},
   "outputs": [],
   "source": [
    "fig = px.line(fitness_history)\n",
    "fig.show()"
   ]
  },
  {
   "cell_type": "code",
   "execution_count": null,
   "metadata": {},
   "outputs": [],
   "source": [
    "data = []\n",
    "\n",
    "for key in results.keys():\n",
    "    droppedNones = list(filter(None, results[key]))\n",
    "    lowestVal = min(droppedNones)\n",
    "    data.append((lowestVal, key))\n",
    "    \n",
    "bestPerformers = sorted(data)[:10]\n",
    "bestPerformers"
   ]
  },
  {
   "cell_type": "code",
   "execution_count": null,
   "metadata": {},
   "outputs": [],
   "source": [
    "maxIterations = 1000\n",
    "resultsBest = {}\n",
    "\n",
    "for _, params in bestPerformers:\n",
    "    \n",
    "    # Get params from list of best performers\n",
    "    paramList = params.split(', ')\n",
    "    retain = float(paramList[0])\n",
    "    mutate = float(paramList[1])\n",
    "    random_select = float(paramList[2])\n",
    "    \n",
    "    logging.warning(\"retain: {}; mutate: {}; random_select: {}\\n\".format(retain, mutate, random_select))\n",
    "    \n",
    "    # Create and grade first population\n",
    "    p = population(count, individualMin, individualMax, individualLength)\n",
    "    fitness_history = [grade(p)]\n",
    "    lastGrade = 1\n",
    "\n",
    "    # Until you do max iterations or reach error = 0\n",
    "    while lastGrade != 0 and len(fitness_history) < maxIterations:\n",
    "\n",
    "        # Create population\n",
    "        p = evolve(p, \n",
    "                   retain=retain, \n",
    "                   random_select=random_select, \n",
    "                   mutate=mutate)\n",
    "\n",
    "        # Grade population\n",
    "        lastGrade = grade(p)\n",
    "        fitness_history.append(lastGrade)\n",
    "\n",
    "        # Fill with Nones to make all same length\n",
    "        filledArray = [None]*maxIterations\n",
    "        lastIndex = len(fitness_history)\n",
    "        filledArray[:lastIndex-1] = fitness_history\n",
    "\n",
    "    # Store population results in new dictionary for best performers (length 10)\n",
    "    resultsBest[', '.join([str(retain), str(mutate), str(random_select)])] = filledArray"
   ]
  },
  {
   "cell_type": "code",
   "execution_count": null,
   "metadata": {},
   "outputs": [],
   "source": [
    "with open(\"results_polynomial_broadSweep.json\", \"w\") as outfile:  \n",
    "    json.dump(results, outfile) \n",
    "with open(\"results_polynomial_bestPerformers.json\", \"w\") as outfile:  \n",
    "    json.dump(resultsBest, outfile) "
   ]
  },
  {
   "cell_type": "markdown",
   "metadata": {},
   "source": [
    "---"
   ]
  },
  {
   "cell_type": "code",
   "execution_count": null,
   "metadata": {},
   "outputs": [],
   "source": [
    "import json\n",
    "with open('results_polynomial_bestPerformers.json') as json_file: \n",
    "    resultsBest = json.load(json_file)"
   ]
  },
  {
   "cell_type": "code",
   "execution_count": null,
   "metadata": {},
   "outputs": [],
   "source": [
    "import plotly.express as px\n",
    "fig = px.line(resultsBest)\n",
    "fig.show()"
   ]
  }
 ],
 "metadata": {
  "kernelspec": {
   "display_name": "Python 3",
   "language": "python",
   "name": "python3"
  },
  "language_info": {
   "codemirror_mode": {
    "name": "ipython",
    "version": 3
   },
   "file_extension": ".py",
   "mimetype": "text/x-python",
   "name": "python",
   "nbconvert_exporter": "python",
   "pygments_lexer": "ipython3",
   "version": "3.8.1"
  }
 },
 "nbformat": 4,
 "nbformat_minor": 4
}
