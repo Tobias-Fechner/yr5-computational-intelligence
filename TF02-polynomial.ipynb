{
 "cells": [
  {
   "cell_type": "markdown",
   "metadata": {},
   "source": [
    "Imports"
   ]
  },
  {
   "cell_type": "code",
   "execution_count": null,
   "metadata": {},
   "outputs": [],
   "source": [
    "import ga_polynomial as ga\n",
    "import plotly.express as px\n",
    "from math import ceil\n",
    "import numpy as np\n",
    "import json\n",
    "import plotly.graph_objects as go\n",
    "import logging\n",
    "from tqdm import tqdm\n",
    "import matplotlib as plt\n",
    "\n",
    "logging.getLogger().setLevel(logging.WARN)"
   ]
  },
  {
   "cell_type": "markdown",
   "metadata": {},
   "source": [
    "Setup"
   ]
  },
  {
   "cell_type": "code",
   "execution_count": null,
   "metadata": {},
   "outputs": [],
   "source": [
    "count = 100\n",
    "individualLength = 6\n",
    "individualMin = -50\n",
    "individualMax = 50\n",
    "\n",
    "retain = 0.1\n",
    "mutate = 0.01\n",
    "random_select = 0.1"
   ]
  },
  {
   "cell_type": "markdown",
   "metadata": {},
   "source": [
    "### Running with new roulette wheel"
   ]
  },
  {
   "cell_type": "code",
   "execution_count": null,
   "metadata": {},
   "outputs": [],
   "source": [
    "maxGen = 100\n",
    "fitted = 1\n",
    "\n",
    "population = ga.createPopulation(count, individualMin, individualMax, individualLength)\n",
    "fitness_history = [ga.getAvgPopulationFitness(population, errorMethod='mse')]\n",
    "\n",
    "while fitted == 0 and len(fitness_history) < maxGen:\n",
    "\n",
    "    population = ga.evolve(population, \n",
    "                        retain=retain, \n",
    "                        mutate=mutate, \n",
    "                        select='roulette',\n",
    "                        errorMethod='mse')\n",
    "\n",
    "    fitted = ga.getAvgPopulationFitness(population, errorMethod='mse')\n",
    "    fitness_history.append(lastGrade)\n",
    "\n",
    "#results[', '.join([str(retain), str(mutate), str(random_select)])] = filledArray"
   ]
  },
  {
   "cell_type": "code",
   "execution_count": null,
   "metadata": {},
   "outputs": [],
   "source": [
    "individual = ga.createIndividual(-50, 50, 6)\n",
    "population = ga.createPopulation(5, individualMin, individualMax, individualLength)"
   ]
  },
  {
   "cell_type": "code",
   "execution_count": null,
   "metadata": {},
   "outputs": [],
   "source": [
    "individual"
   ]
  },
  {
   "cell_type": "code",
   "execution_count": null,
   "metadata": {},
   "outputs": [],
   "source": [
    "population"
   ]
  },
  {
   "cell_type": "code",
   "execution_count": null,
   "metadata": {},
   "outputs": [],
   "source": [
    "np.append(population, [individual], axis=0)"
   ]
  },
  {
   "cell_type": "code",
   "execution_count": null,
   "metadata": {},
   "outputs": [],
   "source": [
    "errors = np.array([])\n",
    "\n",
    "# Get total fitness of population (cumulative sum of each individual's error)\n",
    "for individual in population:\n",
    "\n",
    "    # Get errors for each individual\n",
    "    errors = np.append(errors, ga.getMSE(individual))\n",
    "\n",
    "# Get fitness, append to list of fitnesses\n",
    "fitnesses, _ = ga.errorsToFitness(errors)\n",
    "\n",
    "# Calculate selection probability for each individual as a proportion of total fitness for population\n",
    "selectProbabilities = np.divide(fitnesses, np.sum(fitnesses))"
   ]
  },
  {
   "cell_type": "code",
   "execution_count": null,
   "metadata": {},
   "outputs": [],
   "source": [
    "selectProbabilities"
   ]
  },
  {
   "cell_type": "code",
   "execution_count": null,
   "metadata": {},
   "outputs": [],
   "source": [
    "from random import random, uniform\n",
    "poolSize = 20\n",
    "\n",
    "matingPool = np.array([])\n",
    "\n",
    "# Select individuals to add to mating pool using probability based on fitness of individual\n",
    "for individual, selectProbability in zip(population, selectProbabilities):\n",
    "    if selectProbability > random():\n",
    "        matingPool = np.append(matingPool, individual)\n",
    "    else:\n",
    "        pass\n",
    "\n",
    "    # Break when mating pool has reached size specified by retain parameter\n",
    "    if len(matingPool) >= poolSize:\n",
    "        logging.info(\"Breaking from crossover loop with mating pool size {}.\".format(len(matingPool)))\n",
    "        break\n",
    "    else:\n",
    "        continue"
   ]
  },
  {
   "cell_type": "code",
   "execution_count": null,
   "metadata": {},
   "outputs": [],
   "source": [
    "from random import random, uniform"
   ]
  },
  {
   "cell_type": "code",
   "execution_count": null,
   "metadata": {},
   "outputs": [],
   "source": [
    "uniform(0,1/0.8)"
   ]
  },
  {
   "cell_type": "code",
   "execution_count": null,
   "metadata": {},
   "outputs": [],
   "source": [
    "matingPool.astype(int)"
   ]
  },
  {
   "cell_type": "markdown",
   "metadata": {},
   "source": [
    "### Trying to Plot Polynomials"
   ]
  },
  {
   "cell_type": "code",
   "execution_count": null,
   "metadata": {
    "scrolled": false
   },
   "outputs": [],
   "source": [
    "maxGen = 500\n",
    "polynomials = {}\n",
    "checkpoints = np.linspace(100, maxGen, int(maxGen/100))\n",
    "\n",
    "p = population(count, individualMin, individualMax, individualLength)\n",
    "fitness_history = [grade(p)]\n",
    "lastGrade = 1\n",
    "it = 0\n",
    "x = np.linspace(-1,1, 20)\n",
    "\n",
    "while lastGrade != 0 and len(fitness_history) < maxGen:\n",
    "\n",
    "    p, individualGrades = evolve(p, \n",
    "               retain=retain, \n",
    "               random_select=random_select, \n",
    "               mutate=mutate)\n",
    "\n",
    "    lastGrade = grade(p)\n",
    "    fitness_history.append(lastGrade)\n",
    "    \n",
    "    if it in checkpoints:\n",
    "\n",
    "        # Rank population based on individual grades\n",
    "        bestIndividual = sorted(individualGrades)[0][1]\n",
    "        \n",
    "        # Extract polynomial coefficients from individual\n",
    "        a1 = bestIndividual[0]\n",
    "        a2 = bestIndividual[1]\n",
    "        a3 = bestIndividual[2]\n",
    "        a4 = bestIndividual[3]\n",
    "        a5 = bestIndividual[4]\n",
    "        c = bestIndividual[5]\n",
    "        \n",
    "        y = []\n",
    "        \n",
    "        # For a range of values of x, calculate the target and predicted value of y\n",
    "        for element in x:\n",
    "            yPredict = a1*element**5 + a2*element**4 + a3*element**3 + a4*element**2 + a5*element + c\n",
    "            \n",
    "            # Store target and prediction as pair in list of tuples\n",
    "            y.append(yPredict)\n",
    "        \n",
    "        polynomials[it] = (x, np.array(y))\n",
    "        \n",
    "        figPolynomial = px.line(polynomials)\n",
    "        figPolynomial.show()\n",
    "        \n",
    "    it += 1\n",
    "\n",
    "#results[', '.join([str(retain), str(mutate), str(random_select)])] = filledArray"
   ]
  },
  {
   "cell_type": "code",
   "execution_count": null,
   "metadata": {},
   "outputs": [],
   "source": [
    "np.array(y)"
   ]
  },
  {
   "cell_type": "markdown",
   "metadata": {},
   "source": [
    "---"
   ]
  },
  {
   "cell_type": "code",
   "execution_count": null,
   "metadata": {},
   "outputs": [],
   "source": [
    "fig = px.line(fitness_history)\n",
    "fig.show()"
   ]
  },
  {
   "cell_type": "code",
   "execution_count": null,
   "metadata": {},
   "outputs": [],
   "source": [
    "population"
   ]
  },
  {
   "cell_type": "code",
   "execution_count": null,
   "metadata": {},
   "outputs": [],
   "source": [
    "data = []\n",
    "\n",
    "for key in results.keys():\n",
    "    droppedNones = list(filter(None, results[key]))\n",
    "    lowestVal = min(droppedNones)\n",
    "    data.append((lowestVal, key))\n",
    "    \n",
    "bestPerformers = sorted(data)[:10]\n",
    "bestPerformers"
   ]
  },
  {
   "cell_type": "code",
   "execution_count": null,
   "metadata": {},
   "outputs": [],
   "source": [
    "maxIterations = 1000\n",
    "resultsBest = {}\n",
    "\n",
    "for _, params in bestPerformers:\n",
    "    \n",
    "    # Get params from list of best performers\n",
    "    paramList = params.split(', ')\n",
    "    retain = float(paramList[0])\n",
    "    mutate = float(paramList[1])\n",
    "    random_select = float(paramList[2])\n",
    "    \n",
    "    logging.warning(\"retain: {}; mutate: {}; random_select: {}\\n\".format(retain, mutate, random_select))\n",
    "    \n",
    "    # Create and grade first population\n",
    "    p = population(count, individualMin, individualMax, individualLength)\n",
    "    fitness_history = [grade(p)]\n",
    "    lastGrade = 1\n",
    "\n",
    "    # Until you do max iterations or reach error = 0\n",
    "    while lastGrade != 0 and len(fitness_history) < maxIterations:\n",
    "\n",
    "        # Create population\n",
    "        p = evolve(p, \n",
    "                   retain=retain, \n",
    "                   random_select=random_select, \n",
    "                   mutate=mutate)\n",
    "\n",
    "        # Grade population\n",
    "        lastGrade = grade(p)\n",
    "        fitness_history.append(lastGrade)\n",
    "\n",
    "        # Fill with Nones to make all same length\n",
    "        filledArray = [None]*maxIterations\n",
    "        lastIndex = len(fitness_history)\n",
    "        filledArray[:lastIndex-1] = fitness_history\n",
    "\n",
    "    # Store population results in new dictionary for best performers (length 10)\n",
    "    resultsBest[', '.join([str(retain), str(mutate), str(random_select)])] = filledArray"
   ]
  },
  {
   "cell_type": "code",
   "execution_count": null,
   "metadata": {},
   "outputs": [],
   "source": [
    "with open(\"results_polynomial_broadSweep.json\", \"w\") as outfile:  \n",
    "    json.dump(results, outfile) \n",
    "with open(\"results_polynomial_bestPerformers.json\", \"w\") as outfile:  \n",
    "    json.dump(resultsBest, outfile) "
   ]
  },
  {
   "cell_type": "markdown",
   "metadata": {},
   "source": [
    "---"
   ]
  },
  {
   "cell_type": "code",
   "execution_count": null,
   "metadata": {},
   "outputs": [],
   "source": [
    "import json\n",
    "with open('results_polynomial_bestPerformers.json') as json_file: \n",
    "    resultsBest = json.load(json_file)"
   ]
  },
  {
   "cell_type": "code",
   "execution_count": null,
   "metadata": {},
   "outputs": [],
   "source": [
    "import plotly.express as px\n",
    "fig = px.line(resultsBest)\n",
    "fig.show()"
   ]
  }
 ],
 "metadata": {
  "kernelspec": {
   "display_name": "Python 3",
   "language": "python",
   "name": "python3"
  },
  "language_info": {
   "codemirror_mode": {
    "name": "ipython",
    "version": 3
   },
   "file_extension": ".py",
   "mimetype": "text/x-python",
   "name": "python",
   "nbconvert_exporter": "python",
   "pygments_lexer": "ipython3",
   "version": "3.8.1"
  }
 },
 "nbformat": 4,
 "nbformat_minor": 4
}
