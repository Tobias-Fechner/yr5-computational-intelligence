{
 "cells": [
  {
   "cell_type": "markdown",
   "metadata": {},
   "source": [
    "# Imports"
   ]
  },
  {
   "cell_type": "code",
   "execution_count": 1,
   "metadata": {},
   "outputs": [],
   "source": [
    "import pandas as pd\n",
    "from nn_spikes import NeuralNetwork, batchTrain, test\n",
    "import spike_tools, utilities, KNN_spikes\n",
    "from nn_spikes import getInputsAndTargets\n",
    "import plotly.express as px"
   ]
  },
  {
   "cell_type": "code",
   "execution_count": 2,
   "metadata": {},
   "outputs": [],
   "source": [
    "data = pd.read_csv('./datasources/spikes/training_data.csv')\n",
    "spikeLocations = pd.read_csv('./datasources/spikes/training_spike_locations.csv', index_col=0)"
   ]
  },
  {
   "cell_type": "code",
   "execution_count": 3,
   "metadata": {
    "scrolled": true
   },
   "outputs": [
    {
     "name": "stdout",
     "output_type": "stream",
     "text": [
      "3528 peaks detected.\n"
     ]
    }
   ],
   "source": [
    "data_training, data_validation, spikeIndexes_training, spikeIndexes_validation = spike_tools.dataPreProcess(data, spikeLocations, waveformWindow=100)"
   ]
  },
  {
   "cell_type": "code",
   "execution_count": 4,
   "metadata": {},
   "outputs": [],
   "source": [
    "#spike_tools.getAverageWaveforms(data_training, spikeIndexes_training[:200], classToPlot=3)"
   ]
  },
  {
   "cell_type": "code",
   "execution_count": null,
   "metadata": {},
   "outputs": [],
   "source": [
    "#spike_tools.getAverageWaveforms(data_training, spikeIndexes_training[:200], classToPlot=2)"
   ]
  },
  {
   "cell_type": "code",
   "execution_count": null,
   "metadata": {},
   "outputs": [],
   "source": [
    "#spike_tools.getAverageWaveforms(data_training, spikeIndexes_training[:200], classToPlot=1)"
   ]
  },
  {
   "cell_type": "code",
   "execution_count": null,
   "metadata": {},
   "outputs": [],
   "source": [
    "#spike_tools.getAverageWaveforms(data_training, spikeIndexes_training[:200], classToPlot=0)"
   ]
  },
  {
   "cell_type": "code",
   "execution_count": null,
   "metadata": {},
   "outputs": [],
   "source": []
  },
  {
   "cell_type": "markdown",
   "metadata": {},
   "source": [
    "# Run Neural Network Classifier"
   ]
  },
  {
   "cell_type": "code",
   "execution_count": null,
   "metadata": {},
   "outputs": [],
   "source": [
    "results = utilities.createResultsRepo([500])"
   ]
  },
  {
   "cell_type": "code",
   "execution_count": null,
   "metadata": {},
   "outputs": [],
   "source": [
    "for hid in results.keys():\n",
    "    \n",
    "    nn = NeuralNetwork(input_nodes=61, \n",
    "                       hidden_nodes=int(hid), \n",
    "                       output_nodes=4, \n",
    "                       lr=0.1,\n",
    "                       error_function='difference-squared')\n",
    "\n",
    "    nn, trainingCurve, validationCurve = batchTrain(data_training=data_training,\n",
    "                                                              data_validation=data_validation,\n",
    "                                                              spikeIndexes_training=spikeIndexes_training, \n",
    "                                                              spikeIndexes_validation=spikeIndexes_validation, \n",
    "                                                              nn=nn,\n",
    "                                                              epochs=30,\n",
    "                                                              plotCurves=False)\n",
    "    results[hid]['nn'] = nn\n",
    "    results[hid]['trainingCurve'] = trainingCurve\n",
    "    results[hid]['validationCurve'] = validationCurve"
   ]
  },
  {
   "cell_type": "code",
   "execution_count": null,
   "metadata": {},
   "outputs": [],
   "source": [
    "waveforms = data_validation[data_validation['predictedSpike']==True]['waveform']\n",
    "predictionsMLP = spike_tools.classifySpikesMLP(waveforms, nn)"
   ]
  },
  {
   "cell_type": "markdown",
   "metadata": {},
   "source": [
    "# Run KNN Classifier"
   ]
  },
  {
   "cell_type": "code",
   "execution_count": 5,
   "metadata": {},
   "outputs": [],
   "source": [
    "for index in spikeIndexes_validation:\n",
    "    _, _, label = getInputsAndTargets(data_validation.loc[index, 'waveform'], 4, data_validation.loc[index - 10:index + 5, 'knownClass'])\n",
    "    data_validation.loc[index, 'knownClass'] = label + 1\n",
    "    \n",
    "for index in spikeIndexes_training:\n",
    "    _, _, label = getInputsAndTargets(data_training.loc[index, 'waveform'], 4, data_training.loc[index - 10:index + 5, 'knownClass'])\n",
    "    data_training.loc[index, 'knownClass'] = label + 1"
   ]
  },
  {
   "cell_type": "markdown",
   "metadata": {},
   "source": [
    "Run KNN for a range of neighbors and components"
   ]
  },
  {
   "cell_type": "code",
   "execution_count": 52,
   "metadata": {},
   "outputs": [
    {
     "name": "stdout",
     "output_type": "stream",
     "text": [
      "Total Variance Explained:  0.7202922304590138\n",
      "Total Variance Explained:  0.8074610921536692\n",
      "Total Variance Explained:  0.8859467544485391\n",
      "Total Variance Explained:  0.9255395477758733\n",
      "Total Variance Explained:  0.9513512530071864\n",
      "Total Variance Explained:  0.9700928919026987\n",
      "Total Variance Explained:  0.9800149427646909\n",
      "Total Variance Explained:  0.9858643597331648\n",
      "Total Variance Explained:  0.7202922304590139\n",
      "Total Variance Explained:  0.8074610921536698\n",
      "Total Variance Explained:  0.8859467544485412\n",
      "Total Variance Explained:  0.9255395477758742\n",
      "Total Variance Explained:  0.9513512530071874\n",
      "Total Variance Explained:  0.9700928919026983\n",
      "Total Variance Explained:  0.9800149427646911\n",
      "Total Variance Explained:  0.9858643597331657\n",
      "Total Variance Explained:  0.7202922304590139\n",
      "Total Variance Explained:  0.8074610921536707\n",
      "Total Variance Explained:  0.8859467544485404\n",
      "Total Variance Explained:  0.9255395477758731\n",
      "Total Variance Explained:  0.9513512530071866\n",
      "Total Variance Explained:  0.9700928919027001\n",
      "Total Variance Explained:  0.980014942764692\n",
      "Total Variance Explained:  0.9858643597331651\n",
      "Total Variance Explained:  0.7202922304590148\n",
      "Total Variance Explained:  0.8074610921536686\n",
      "Total Variance Explained:  0.8859467544485393\n",
      "Total Variance Explained:  0.925539547775874\n",
      "Total Variance Explained:  0.9513512530071885\n",
      "Total Variance Explained:  0.9700928919026995\n",
      "Total Variance Explained:  0.9800149427646914\n",
      "Total Variance Explained:  0.985864359733165\n",
      "Total Variance Explained:  0.7202922304590137\n",
      "Total Variance Explained:  0.8074610921536692\n",
      "Total Variance Explained:  0.8859467544485401\n",
      "Total Variance Explained:  0.925539547775874\n",
      "Total Variance Explained:  0.9513512530071878\n",
      "Total Variance Explained:  0.9700928919026994\n",
      "Total Variance Explained:  0.9800149427646919\n",
      "Total Variance Explained:  0.9858643597331649\n",
      "Total Variance Explained:  0.720292230459014\n",
      "Total Variance Explained:  0.8074610921536695\n",
      "Total Variance Explained:  0.8859467544485392\n",
      "Total Variance Explained:  0.9255395477758739\n",
      "Total Variance Explained:  0.9513512530071874\n",
      "Total Variance Explained:  0.9700928919026994\n",
      "Total Variance Explained:  0.9800149427646909\n",
      "Total Variance Explained:  0.9858643597331656\n"
     ]
    }
   ],
   "source": [
    "results = {}\n",
    "for n_neighbors in [3,4,5,6,7,8]:\n",
    "    for n_components in [3,4,5,6,7,8,9,10]:\n",
    "        predictionsKNN, componentsTraining, cs = KNN_spikes.KNN_classifier(data_training.loc[spikeIndexes_training, 'waveform'].to_list(), \n",
    "                                                         data_validation.loc[spikeIndexes_validation, 'waveform'].to_list(), \n",
    "                                                         data_training.loc[spikeIndexes_training, 'knownClass'].to_list(), n_components=int(n_components), n_neighbors=n_neighbors)\n",
    "\n",
    "        results['comps:' + str(n_components) + '_neigh:' + str(n_neighbors)] = predictionsKNN"
   ]
  },
  {
   "cell_type": "markdown",
   "metadata": {},
   "source": [
    "Calculate accuracies for all and store in new dict"
   ]
  },
  {
   "cell_type": "code",
   "execution_count": 53,
   "metadata": {},
   "outputs": [],
   "source": [
    "accuracies = {}\n",
    "for key in results.keys():\n",
    "    data_validation.loc[spikeIndexes_validation, 'predictedClass'] = results[key]\n",
    "    matches = sum(data_validation.loc[spikeIndexes_validation, 'knownClass'] == data_validation.loc[spikeIndexes_validation, 'predictedClass'])\n",
    "    acc = matches/len(data_validation.loc[spikeIndexes_validation])\n",
    "    accuracies[key] = acc"
   ]
  },
  {
   "cell_type": "markdown",
   "metadata": {},
   "source": [
    "Convert dict into something plotly can plot"
   ]
  },
  {
   "cell_type": "code",
   "execution_count": 54,
   "metadata": {},
   "outputs": [],
   "source": [
    "df = pd.DataFrame(data=accuracies, index=[0]).T\n",
    "df.columns = ['accuracy']"
   ]
  },
  {
   "cell_type": "code",
   "execution_count": 51,
   "metadata": {},
   "outputs": [
    {
     "data": {
      "application/vnd.plotly.v1+json": {
       "config": {
        "plotlyServerURL": "https://plot.ly"
       },
       "data": [
        {
         "hovertemplate": "index=%{x}<br>accuracy=%{y}<extra></extra>",
         "legendgroup": "",
         "marker": {
          "color": "#636efa",
          "symbol": "circle"
         },
         "mode": "markers",
         "name": "",
         "orientation": "v",
         "showlegend": false,
         "type": "scatter",
         "x": [
          "comps:3_neigh:3",
          "comps:4_neigh:3",
          "comps:5_neigh:3",
          "comps:6_neigh:3",
          "comps:7_neigh:3",
          "comps:8_neigh:3",
          "comps:9_neigh:3",
          "comps:10_neigh:3",
          "comps:3_neigh:4",
          "comps:4_neigh:4",
          "comps:5_neigh:4",
          "comps:6_neigh:4",
          "comps:7_neigh:4",
          "comps:8_neigh:4",
          "comps:9_neigh:4",
          "comps:10_neigh:4",
          "comps:3_neigh:5",
          "comps:4_neigh:5",
          "comps:5_neigh:5",
          "comps:6_neigh:5",
          "comps:7_neigh:5",
          "comps:8_neigh:5",
          "comps:9_neigh:5",
          "comps:10_neigh:5",
          "comps:3_neigh:6",
          "comps:4_neigh:6",
          "comps:5_neigh:6",
          "comps:6_neigh:6",
          "comps:7_neigh:6",
          "comps:8_neigh:6",
          "comps:9_neigh:6",
          "comps:10_neigh:6",
          "comps:3_neigh:7",
          "comps:4_neigh:7",
          "comps:5_neigh:7",
          "comps:6_neigh:7",
          "comps:7_neigh:7",
          "comps:8_neigh:7",
          "comps:9_neigh:7",
          "comps:10_neigh:7",
          "comps:3_neigh:8",
          "comps:4_neigh:8",
          "comps:5_neigh:8",
          "comps:6_neigh:8",
          "comps:7_neigh:8",
          "comps:8_neigh:8",
          "comps:9_neigh:8",
          "comps:10_neigh:8"
         ],
         "xaxis": "x",
         "y": [
          0.8236130867709816,
          0.8733997155049786,
          0.8961593172119487,
          0.8492176386913229,
          0.8805120910384068,
          0.9359886201991465,
          0.883357041251778,
          0.7596017069701281,
          0.8406827880512091,
          0.9018492176386913,
          0.9160739687055477,
          0.8648648648648649,
          0.9046941678520626,
          0.9359886201991465,
          0.9103840682788051,
          0.7624466571834992,
          0.829302987197724,
          0.883357041251778,
          0.903271692745377,
          0.8591749644381224,
          0.8975817923186344,
          0.9288762446657184,
          0.8790896159317212,
          0.7638691322901849,
          0.8520625889046942,
          0.89900426742532,
          0.9132290184921764,
          0.8790896159317212,
          0.9103840682788051,
          0.9388335704125178,
          0.8862019914651493,
          0.7795163584637269,
          0.8392603129445235,
          0.8805120910384068,
          0.9046941678520626,
          0.8705547652916074,
          0.9061166429587483,
          0.9274537695590327,
          0.8691322901849218,
          0.7567567567567568,
          0.8463726884779517,
          0.8947368421052632,
          0.9118065433854907,
          0.8847795163584637,
          0.89900426742532,
          0.9217638691322901,
          0.8662873399715505,
          0.7667140825035562
         ],
         "yaxis": "y"
        }
       ],
       "layout": {
        "legend": {
         "tracegroupgap": 0
        },
        "margin": {
         "t": 60
        },
        "template": {
         "data": {
          "bar": [
           {
            "error_x": {
             "color": "#2a3f5f"
            },
            "error_y": {
             "color": "#2a3f5f"
            },
            "marker": {
             "line": {
              "color": "#E5ECF6",
              "width": 0.5
             }
            },
            "type": "bar"
           }
          ],
          "barpolar": [
           {
            "marker": {
             "line": {
              "color": "#E5ECF6",
              "width": 0.5
             }
            },
            "type": "barpolar"
           }
          ],
          "carpet": [
           {
            "aaxis": {
             "endlinecolor": "#2a3f5f",
             "gridcolor": "white",
             "linecolor": "white",
             "minorgridcolor": "white",
             "startlinecolor": "#2a3f5f"
            },
            "baxis": {
             "endlinecolor": "#2a3f5f",
             "gridcolor": "white",
             "linecolor": "white",
             "minorgridcolor": "white",
             "startlinecolor": "#2a3f5f"
            },
            "type": "carpet"
           }
          ],
          "choropleth": [
           {
            "colorbar": {
             "outlinewidth": 0,
             "ticks": ""
            },
            "type": "choropleth"
           }
          ],
          "contour": [
           {
            "colorbar": {
             "outlinewidth": 0,
             "ticks": ""
            },
            "colorscale": [
             [
              0,
              "#0d0887"
             ],
             [
              0.1111111111111111,
              "#46039f"
             ],
             [
              0.2222222222222222,
              "#7201a8"
             ],
             [
              0.3333333333333333,
              "#9c179e"
             ],
             [
              0.4444444444444444,
              "#bd3786"
             ],
             [
              0.5555555555555556,
              "#d8576b"
             ],
             [
              0.6666666666666666,
              "#ed7953"
             ],
             [
              0.7777777777777778,
              "#fb9f3a"
             ],
             [
              0.8888888888888888,
              "#fdca26"
             ],
             [
              1,
              "#f0f921"
             ]
            ],
            "type": "contour"
           }
          ],
          "contourcarpet": [
           {
            "colorbar": {
             "outlinewidth": 0,
             "ticks": ""
            },
            "type": "contourcarpet"
           }
          ],
          "heatmap": [
           {
            "colorbar": {
             "outlinewidth": 0,
             "ticks": ""
            },
            "colorscale": [
             [
              0,
              "#0d0887"
             ],
             [
              0.1111111111111111,
              "#46039f"
             ],
             [
              0.2222222222222222,
              "#7201a8"
             ],
             [
              0.3333333333333333,
              "#9c179e"
             ],
             [
              0.4444444444444444,
              "#bd3786"
             ],
             [
              0.5555555555555556,
              "#d8576b"
             ],
             [
              0.6666666666666666,
              "#ed7953"
             ],
             [
              0.7777777777777778,
              "#fb9f3a"
             ],
             [
              0.8888888888888888,
              "#fdca26"
             ],
             [
              1,
              "#f0f921"
             ]
            ],
            "type": "heatmap"
           }
          ],
          "heatmapgl": [
           {
            "colorbar": {
             "outlinewidth": 0,
             "ticks": ""
            },
            "colorscale": [
             [
              0,
              "#0d0887"
             ],
             [
              0.1111111111111111,
              "#46039f"
             ],
             [
              0.2222222222222222,
              "#7201a8"
             ],
             [
              0.3333333333333333,
              "#9c179e"
             ],
             [
              0.4444444444444444,
              "#bd3786"
             ],
             [
              0.5555555555555556,
              "#d8576b"
             ],
             [
              0.6666666666666666,
              "#ed7953"
             ],
             [
              0.7777777777777778,
              "#fb9f3a"
             ],
             [
              0.8888888888888888,
              "#fdca26"
             ],
             [
              1,
              "#f0f921"
             ]
            ],
            "type": "heatmapgl"
           }
          ],
          "histogram": [
           {
            "marker": {
             "colorbar": {
              "outlinewidth": 0,
              "ticks": ""
             }
            },
            "type": "histogram"
           }
          ],
          "histogram2d": [
           {
            "colorbar": {
             "outlinewidth": 0,
             "ticks": ""
            },
            "colorscale": [
             [
              0,
              "#0d0887"
             ],
             [
              0.1111111111111111,
              "#46039f"
             ],
             [
              0.2222222222222222,
              "#7201a8"
             ],
             [
              0.3333333333333333,
              "#9c179e"
             ],
             [
              0.4444444444444444,
              "#bd3786"
             ],
             [
              0.5555555555555556,
              "#d8576b"
             ],
             [
              0.6666666666666666,
              "#ed7953"
             ],
             [
              0.7777777777777778,
              "#fb9f3a"
             ],
             [
              0.8888888888888888,
              "#fdca26"
             ],
             [
              1,
              "#f0f921"
             ]
            ],
            "type": "histogram2d"
           }
          ],
          "histogram2dcontour": [
           {
            "colorbar": {
             "outlinewidth": 0,
             "ticks": ""
            },
            "colorscale": [
             [
              0,
              "#0d0887"
             ],
             [
              0.1111111111111111,
              "#46039f"
             ],
             [
              0.2222222222222222,
              "#7201a8"
             ],
             [
              0.3333333333333333,
              "#9c179e"
             ],
             [
              0.4444444444444444,
              "#bd3786"
             ],
             [
              0.5555555555555556,
              "#d8576b"
             ],
             [
              0.6666666666666666,
              "#ed7953"
             ],
             [
              0.7777777777777778,
              "#fb9f3a"
             ],
             [
              0.8888888888888888,
              "#fdca26"
             ],
             [
              1,
              "#f0f921"
             ]
            ],
            "type": "histogram2dcontour"
           }
          ],
          "mesh3d": [
           {
            "colorbar": {
             "outlinewidth": 0,
             "ticks": ""
            },
            "type": "mesh3d"
           }
          ],
          "parcoords": [
           {
            "line": {
             "colorbar": {
              "outlinewidth": 0,
              "ticks": ""
             }
            },
            "type": "parcoords"
           }
          ],
          "pie": [
           {
            "automargin": true,
            "type": "pie"
           }
          ],
          "scatter": [
           {
            "marker": {
             "colorbar": {
              "outlinewidth": 0,
              "ticks": ""
             }
            },
            "type": "scatter"
           }
          ],
          "scatter3d": [
           {
            "line": {
             "colorbar": {
              "outlinewidth": 0,
              "ticks": ""
             }
            },
            "marker": {
             "colorbar": {
              "outlinewidth": 0,
              "ticks": ""
             }
            },
            "type": "scatter3d"
           }
          ],
          "scattercarpet": [
           {
            "marker": {
             "colorbar": {
              "outlinewidth": 0,
              "ticks": ""
             }
            },
            "type": "scattercarpet"
           }
          ],
          "scattergeo": [
           {
            "marker": {
             "colorbar": {
              "outlinewidth": 0,
              "ticks": ""
             }
            },
            "type": "scattergeo"
           }
          ],
          "scattergl": [
           {
            "marker": {
             "colorbar": {
              "outlinewidth": 0,
              "ticks": ""
             }
            },
            "type": "scattergl"
           }
          ],
          "scattermapbox": [
           {
            "marker": {
             "colorbar": {
              "outlinewidth": 0,
              "ticks": ""
             }
            },
            "type": "scattermapbox"
           }
          ],
          "scatterpolar": [
           {
            "marker": {
             "colorbar": {
              "outlinewidth": 0,
              "ticks": ""
             }
            },
            "type": "scatterpolar"
           }
          ],
          "scatterpolargl": [
           {
            "marker": {
             "colorbar": {
              "outlinewidth": 0,
              "ticks": ""
             }
            },
            "type": "scatterpolargl"
           }
          ],
          "scatterternary": [
           {
            "marker": {
             "colorbar": {
              "outlinewidth": 0,
              "ticks": ""
             }
            },
            "type": "scatterternary"
           }
          ],
          "surface": [
           {
            "colorbar": {
             "outlinewidth": 0,
             "ticks": ""
            },
            "colorscale": [
             [
              0,
              "#0d0887"
             ],
             [
              0.1111111111111111,
              "#46039f"
             ],
             [
              0.2222222222222222,
              "#7201a8"
             ],
             [
              0.3333333333333333,
              "#9c179e"
             ],
             [
              0.4444444444444444,
              "#bd3786"
             ],
             [
              0.5555555555555556,
              "#d8576b"
             ],
             [
              0.6666666666666666,
              "#ed7953"
             ],
             [
              0.7777777777777778,
              "#fb9f3a"
             ],
             [
              0.8888888888888888,
              "#fdca26"
             ],
             [
              1,
              "#f0f921"
             ]
            ],
            "type": "surface"
           }
          ],
          "table": [
           {
            "cells": {
             "fill": {
              "color": "#EBF0F8"
             },
             "line": {
              "color": "white"
             }
            },
            "header": {
             "fill": {
              "color": "#C8D4E3"
             },
             "line": {
              "color": "white"
             }
            },
            "type": "table"
           }
          ]
         },
         "layout": {
          "annotationdefaults": {
           "arrowcolor": "#2a3f5f",
           "arrowhead": 0,
           "arrowwidth": 1
          },
          "coloraxis": {
           "colorbar": {
            "outlinewidth": 0,
            "ticks": ""
           }
          },
          "colorscale": {
           "diverging": [
            [
             0,
             "#8e0152"
            ],
            [
             0.1,
             "#c51b7d"
            ],
            [
             0.2,
             "#de77ae"
            ],
            [
             0.3,
             "#f1b6da"
            ],
            [
             0.4,
             "#fde0ef"
            ],
            [
             0.5,
             "#f7f7f7"
            ],
            [
             0.6,
             "#e6f5d0"
            ],
            [
             0.7,
             "#b8e186"
            ],
            [
             0.8,
             "#7fbc41"
            ],
            [
             0.9,
             "#4d9221"
            ],
            [
             1,
             "#276419"
            ]
           ],
           "sequential": [
            [
             0,
             "#0d0887"
            ],
            [
             0.1111111111111111,
             "#46039f"
            ],
            [
             0.2222222222222222,
             "#7201a8"
            ],
            [
             0.3333333333333333,
             "#9c179e"
            ],
            [
             0.4444444444444444,
             "#bd3786"
            ],
            [
             0.5555555555555556,
             "#d8576b"
            ],
            [
             0.6666666666666666,
             "#ed7953"
            ],
            [
             0.7777777777777778,
             "#fb9f3a"
            ],
            [
             0.8888888888888888,
             "#fdca26"
            ],
            [
             1,
             "#f0f921"
            ]
           ],
           "sequentialminus": [
            [
             0,
             "#0d0887"
            ],
            [
             0.1111111111111111,
             "#46039f"
            ],
            [
             0.2222222222222222,
             "#7201a8"
            ],
            [
             0.3333333333333333,
             "#9c179e"
            ],
            [
             0.4444444444444444,
             "#bd3786"
            ],
            [
             0.5555555555555556,
             "#d8576b"
            ],
            [
             0.6666666666666666,
             "#ed7953"
            ],
            [
             0.7777777777777778,
             "#fb9f3a"
            ],
            [
             0.8888888888888888,
             "#fdca26"
            ],
            [
             1,
             "#f0f921"
            ]
           ]
          },
          "colorway": [
           "#636efa",
           "#EF553B",
           "#00cc96",
           "#ab63fa",
           "#FFA15A",
           "#19d3f3",
           "#FF6692",
           "#B6E880",
           "#FF97FF",
           "#FECB52"
          ],
          "font": {
           "color": "#2a3f5f"
          },
          "geo": {
           "bgcolor": "white",
           "lakecolor": "white",
           "landcolor": "#E5ECF6",
           "showlakes": true,
           "showland": true,
           "subunitcolor": "white"
          },
          "hoverlabel": {
           "align": "left"
          },
          "hovermode": "closest",
          "mapbox": {
           "style": "light"
          },
          "paper_bgcolor": "white",
          "plot_bgcolor": "#E5ECF6",
          "polar": {
           "angularaxis": {
            "gridcolor": "white",
            "linecolor": "white",
            "ticks": ""
           },
           "bgcolor": "#E5ECF6",
           "radialaxis": {
            "gridcolor": "white",
            "linecolor": "white",
            "ticks": ""
           }
          },
          "scene": {
           "xaxis": {
            "backgroundcolor": "#E5ECF6",
            "gridcolor": "white",
            "gridwidth": 2,
            "linecolor": "white",
            "showbackground": true,
            "ticks": "",
            "zerolinecolor": "white"
           },
           "yaxis": {
            "backgroundcolor": "#E5ECF6",
            "gridcolor": "white",
            "gridwidth": 2,
            "linecolor": "white",
            "showbackground": true,
            "ticks": "",
            "zerolinecolor": "white"
           },
           "zaxis": {
            "backgroundcolor": "#E5ECF6",
            "gridcolor": "white",
            "gridwidth": 2,
            "linecolor": "white",
            "showbackground": true,
            "ticks": "",
            "zerolinecolor": "white"
           }
          },
          "shapedefaults": {
           "line": {
            "color": "#2a3f5f"
           }
          },
          "ternary": {
           "aaxis": {
            "gridcolor": "white",
            "linecolor": "white",
            "ticks": ""
           },
           "baxis": {
            "gridcolor": "white",
            "linecolor": "white",
            "ticks": ""
           },
           "bgcolor": "#E5ECF6",
           "caxis": {
            "gridcolor": "white",
            "linecolor": "white",
            "ticks": ""
           }
          },
          "title": {
           "x": 0.05
          },
          "xaxis": {
           "automargin": true,
           "gridcolor": "white",
           "linecolor": "white",
           "ticks": "",
           "title": {
            "standoff": 15
           },
           "zerolinecolor": "white",
           "zerolinewidth": 2
          },
          "yaxis": {
           "automargin": true,
           "gridcolor": "white",
           "linecolor": "white",
           "ticks": "",
           "title": {
            "standoff": 15
           },
           "zerolinecolor": "white",
           "zerolinewidth": 2
          }
         }
        },
        "xaxis": {
         "anchor": "y",
         "domain": [
          0,
          1
         ],
         "title": {
          "text": "index"
         }
        },
        "yaxis": {
         "anchor": "x",
         "domain": [
          0,
          1
         ],
         "title": {
          "text": "accuracy"
         }
        }
       }
      },
      "text/html": [
       "<div>                            <div id=\"7cf87270-ec97-47bb-ad78-eb656f2431bc\" class=\"plotly-graph-div\" style=\"height:525px; width:100%;\"></div>            <script type=\"text/javascript\">                require([\"plotly\"], function(Plotly) {                    window.PLOTLYENV=window.PLOTLYENV || {};                                    if (document.getElementById(\"7cf87270-ec97-47bb-ad78-eb656f2431bc\")) {                    Plotly.newPlot(                        \"7cf87270-ec97-47bb-ad78-eb656f2431bc\",                        [{\"hovertemplate\": \"index=%{x}<br>accuracy=%{y}<extra></extra>\", \"legendgroup\": \"\", \"marker\": {\"color\": \"#636efa\", \"symbol\": \"circle\"}, \"mode\": \"markers\", \"name\": \"\", \"orientation\": \"v\", \"showlegend\": false, \"type\": \"scatter\", \"x\": [\"comps:3_neigh:3\", \"comps:4_neigh:3\", \"comps:5_neigh:3\", \"comps:6_neigh:3\", \"comps:7_neigh:3\", \"comps:8_neigh:3\", \"comps:9_neigh:3\", \"comps:10_neigh:3\", \"comps:3_neigh:4\", \"comps:4_neigh:4\", \"comps:5_neigh:4\", \"comps:6_neigh:4\", \"comps:7_neigh:4\", \"comps:8_neigh:4\", \"comps:9_neigh:4\", \"comps:10_neigh:4\", \"comps:3_neigh:5\", \"comps:4_neigh:5\", \"comps:5_neigh:5\", \"comps:6_neigh:5\", \"comps:7_neigh:5\", \"comps:8_neigh:5\", \"comps:9_neigh:5\", \"comps:10_neigh:5\", \"comps:3_neigh:6\", \"comps:4_neigh:6\", \"comps:5_neigh:6\", \"comps:6_neigh:6\", \"comps:7_neigh:6\", \"comps:8_neigh:6\", \"comps:9_neigh:6\", \"comps:10_neigh:6\", \"comps:3_neigh:7\", \"comps:4_neigh:7\", \"comps:5_neigh:7\", \"comps:6_neigh:7\", \"comps:7_neigh:7\", \"comps:8_neigh:7\", \"comps:9_neigh:7\", \"comps:10_neigh:7\", \"comps:3_neigh:8\", \"comps:4_neigh:8\", \"comps:5_neigh:8\", \"comps:6_neigh:8\", \"comps:7_neigh:8\", \"comps:8_neigh:8\", \"comps:9_neigh:8\", \"comps:10_neigh:8\"], \"xaxis\": \"x\", \"y\": [0.8236130867709816, 0.8733997155049786, 0.8961593172119487, 0.8492176386913229, 0.8805120910384068, 0.9359886201991465, 0.883357041251778, 0.7596017069701281, 0.8406827880512091, 0.9018492176386913, 0.9160739687055477, 0.8648648648648649, 0.9046941678520626, 0.9359886201991465, 0.9103840682788051, 0.7624466571834992, 0.829302987197724, 0.883357041251778, 0.903271692745377, 0.8591749644381224, 0.8975817923186344, 0.9288762446657184, 0.8790896159317212, 0.7638691322901849, 0.8520625889046942, 0.89900426742532, 0.9132290184921764, 0.8790896159317212, 0.9103840682788051, 0.9388335704125178, 0.8862019914651493, 0.7795163584637269, 0.8392603129445235, 0.8805120910384068, 0.9046941678520626, 0.8705547652916074, 0.9061166429587483, 0.9274537695590327, 0.8691322901849218, 0.7567567567567568, 0.8463726884779517, 0.8947368421052632, 0.9118065433854907, 0.8847795163584637, 0.89900426742532, 0.9217638691322901, 0.8662873399715505, 0.7667140825035562], \"yaxis\": \"y\"}],                        {\"legend\": {\"tracegroupgap\": 0}, \"margin\": {\"t\": 60}, \"template\": {\"data\": {\"bar\": [{\"error_x\": {\"color\": \"#2a3f5f\"}, \"error_y\": {\"color\": \"#2a3f5f\"}, \"marker\": {\"line\": {\"color\": \"#E5ECF6\", \"width\": 0.5}}, \"type\": \"bar\"}], \"barpolar\": [{\"marker\": {\"line\": {\"color\": \"#E5ECF6\", \"width\": 0.5}}, \"type\": \"barpolar\"}], \"carpet\": [{\"aaxis\": {\"endlinecolor\": \"#2a3f5f\", \"gridcolor\": \"white\", \"linecolor\": \"white\", \"minorgridcolor\": \"white\", \"startlinecolor\": \"#2a3f5f\"}, \"baxis\": {\"endlinecolor\": \"#2a3f5f\", \"gridcolor\": \"white\", \"linecolor\": \"white\", \"minorgridcolor\": \"white\", \"startlinecolor\": \"#2a3f5f\"}, \"type\": \"carpet\"}], \"choropleth\": [{\"colorbar\": {\"outlinewidth\": 0, \"ticks\": \"\"}, \"type\": \"choropleth\"}], \"contour\": [{\"colorbar\": {\"outlinewidth\": 0, \"ticks\": \"\"}, \"colorscale\": [[0.0, \"#0d0887\"], [0.1111111111111111, \"#46039f\"], [0.2222222222222222, \"#7201a8\"], [0.3333333333333333, \"#9c179e\"], [0.4444444444444444, \"#bd3786\"], [0.5555555555555556, \"#d8576b\"], [0.6666666666666666, \"#ed7953\"], [0.7777777777777778, \"#fb9f3a\"], [0.8888888888888888, \"#fdca26\"], [1.0, \"#f0f921\"]], \"type\": \"contour\"}], \"contourcarpet\": [{\"colorbar\": {\"outlinewidth\": 0, \"ticks\": \"\"}, \"type\": \"contourcarpet\"}], \"heatmap\": [{\"colorbar\": {\"outlinewidth\": 0, \"ticks\": \"\"}, \"colorscale\": [[0.0, \"#0d0887\"], [0.1111111111111111, \"#46039f\"], [0.2222222222222222, \"#7201a8\"], [0.3333333333333333, \"#9c179e\"], [0.4444444444444444, \"#bd3786\"], [0.5555555555555556, \"#d8576b\"], [0.6666666666666666, \"#ed7953\"], [0.7777777777777778, \"#fb9f3a\"], [0.8888888888888888, \"#fdca26\"], [1.0, \"#f0f921\"]], \"type\": \"heatmap\"}], \"heatmapgl\": [{\"colorbar\": {\"outlinewidth\": 0, \"ticks\": \"\"}, \"colorscale\": [[0.0, \"#0d0887\"], [0.1111111111111111, \"#46039f\"], [0.2222222222222222, \"#7201a8\"], [0.3333333333333333, \"#9c179e\"], [0.4444444444444444, \"#bd3786\"], [0.5555555555555556, \"#d8576b\"], [0.6666666666666666, \"#ed7953\"], [0.7777777777777778, \"#fb9f3a\"], [0.8888888888888888, \"#fdca26\"], [1.0, \"#f0f921\"]], \"type\": \"heatmapgl\"}], \"histogram\": [{\"marker\": {\"colorbar\": {\"outlinewidth\": 0, \"ticks\": \"\"}}, \"type\": \"histogram\"}], \"histogram2d\": [{\"colorbar\": {\"outlinewidth\": 0, \"ticks\": \"\"}, \"colorscale\": [[0.0, \"#0d0887\"], [0.1111111111111111, \"#46039f\"], [0.2222222222222222, \"#7201a8\"], [0.3333333333333333, \"#9c179e\"], [0.4444444444444444, \"#bd3786\"], [0.5555555555555556, \"#d8576b\"], [0.6666666666666666, \"#ed7953\"], [0.7777777777777778, \"#fb9f3a\"], [0.8888888888888888, \"#fdca26\"], [1.0, \"#f0f921\"]], \"type\": \"histogram2d\"}], \"histogram2dcontour\": [{\"colorbar\": {\"outlinewidth\": 0, \"ticks\": \"\"}, \"colorscale\": [[0.0, \"#0d0887\"], [0.1111111111111111, \"#46039f\"], [0.2222222222222222, \"#7201a8\"], [0.3333333333333333, \"#9c179e\"], [0.4444444444444444, \"#bd3786\"], [0.5555555555555556, \"#d8576b\"], [0.6666666666666666, \"#ed7953\"], [0.7777777777777778, \"#fb9f3a\"], [0.8888888888888888, \"#fdca26\"], [1.0, \"#f0f921\"]], \"type\": \"histogram2dcontour\"}], \"mesh3d\": [{\"colorbar\": {\"outlinewidth\": 0, \"ticks\": \"\"}, \"type\": \"mesh3d\"}], \"parcoords\": [{\"line\": {\"colorbar\": {\"outlinewidth\": 0, \"ticks\": \"\"}}, \"type\": \"parcoords\"}], \"pie\": [{\"automargin\": true, \"type\": \"pie\"}], \"scatter\": [{\"marker\": {\"colorbar\": {\"outlinewidth\": 0, \"ticks\": \"\"}}, \"type\": \"scatter\"}], \"scatter3d\": [{\"line\": {\"colorbar\": {\"outlinewidth\": 0, \"ticks\": \"\"}}, \"marker\": {\"colorbar\": {\"outlinewidth\": 0, \"ticks\": \"\"}}, \"type\": \"scatter3d\"}], \"scattercarpet\": [{\"marker\": {\"colorbar\": {\"outlinewidth\": 0, \"ticks\": \"\"}}, \"type\": \"scattercarpet\"}], \"scattergeo\": [{\"marker\": {\"colorbar\": {\"outlinewidth\": 0, \"ticks\": \"\"}}, \"type\": \"scattergeo\"}], \"scattergl\": [{\"marker\": {\"colorbar\": {\"outlinewidth\": 0, \"ticks\": \"\"}}, \"type\": \"scattergl\"}], \"scattermapbox\": [{\"marker\": {\"colorbar\": {\"outlinewidth\": 0, \"ticks\": \"\"}}, \"type\": \"scattermapbox\"}], \"scatterpolar\": [{\"marker\": {\"colorbar\": {\"outlinewidth\": 0, \"ticks\": \"\"}}, \"type\": \"scatterpolar\"}], \"scatterpolargl\": [{\"marker\": {\"colorbar\": {\"outlinewidth\": 0, \"ticks\": \"\"}}, \"type\": \"scatterpolargl\"}], \"scatterternary\": [{\"marker\": {\"colorbar\": {\"outlinewidth\": 0, \"ticks\": \"\"}}, \"type\": \"scatterternary\"}], \"surface\": [{\"colorbar\": {\"outlinewidth\": 0, \"ticks\": \"\"}, \"colorscale\": [[0.0, \"#0d0887\"], [0.1111111111111111, \"#46039f\"], [0.2222222222222222, \"#7201a8\"], [0.3333333333333333, \"#9c179e\"], [0.4444444444444444, \"#bd3786\"], [0.5555555555555556, \"#d8576b\"], [0.6666666666666666, \"#ed7953\"], [0.7777777777777778, \"#fb9f3a\"], [0.8888888888888888, \"#fdca26\"], [1.0, \"#f0f921\"]], \"type\": \"surface\"}], \"table\": [{\"cells\": {\"fill\": {\"color\": \"#EBF0F8\"}, \"line\": {\"color\": \"white\"}}, \"header\": {\"fill\": {\"color\": \"#C8D4E3\"}, \"line\": {\"color\": \"white\"}}, \"type\": \"table\"}]}, \"layout\": {\"annotationdefaults\": {\"arrowcolor\": \"#2a3f5f\", \"arrowhead\": 0, \"arrowwidth\": 1}, \"coloraxis\": {\"colorbar\": {\"outlinewidth\": 0, \"ticks\": \"\"}}, \"colorscale\": {\"diverging\": [[0, \"#8e0152\"], [0.1, \"#c51b7d\"], [0.2, \"#de77ae\"], [0.3, \"#f1b6da\"], [0.4, \"#fde0ef\"], [0.5, \"#f7f7f7\"], [0.6, \"#e6f5d0\"], [0.7, \"#b8e186\"], [0.8, \"#7fbc41\"], [0.9, \"#4d9221\"], [1, \"#276419\"]], \"sequential\": [[0.0, \"#0d0887\"], [0.1111111111111111, \"#46039f\"], [0.2222222222222222, \"#7201a8\"], [0.3333333333333333, \"#9c179e\"], [0.4444444444444444, \"#bd3786\"], [0.5555555555555556, \"#d8576b\"], [0.6666666666666666, \"#ed7953\"], [0.7777777777777778, \"#fb9f3a\"], [0.8888888888888888, \"#fdca26\"], [1.0, \"#f0f921\"]], \"sequentialminus\": [[0.0, \"#0d0887\"], [0.1111111111111111, \"#46039f\"], [0.2222222222222222, \"#7201a8\"], [0.3333333333333333, \"#9c179e\"], [0.4444444444444444, \"#bd3786\"], [0.5555555555555556, \"#d8576b\"], [0.6666666666666666, \"#ed7953\"], [0.7777777777777778, \"#fb9f3a\"], [0.8888888888888888, \"#fdca26\"], [1.0, \"#f0f921\"]]}, \"colorway\": [\"#636efa\", \"#EF553B\", \"#00cc96\", \"#ab63fa\", \"#FFA15A\", \"#19d3f3\", \"#FF6692\", \"#B6E880\", \"#FF97FF\", \"#FECB52\"], \"font\": {\"color\": \"#2a3f5f\"}, \"geo\": {\"bgcolor\": \"white\", \"lakecolor\": \"white\", \"landcolor\": \"#E5ECF6\", \"showlakes\": true, \"showland\": true, \"subunitcolor\": \"white\"}, \"hoverlabel\": {\"align\": \"left\"}, \"hovermode\": \"closest\", \"mapbox\": {\"style\": \"light\"}, \"paper_bgcolor\": \"white\", \"plot_bgcolor\": \"#E5ECF6\", \"polar\": {\"angularaxis\": {\"gridcolor\": \"white\", \"linecolor\": \"white\", \"ticks\": \"\"}, \"bgcolor\": \"#E5ECF6\", \"radialaxis\": {\"gridcolor\": \"white\", \"linecolor\": \"white\", \"ticks\": \"\"}}, \"scene\": {\"xaxis\": {\"backgroundcolor\": \"#E5ECF6\", \"gridcolor\": \"white\", \"gridwidth\": 2, \"linecolor\": \"white\", \"showbackground\": true, \"ticks\": \"\", \"zerolinecolor\": \"white\"}, \"yaxis\": {\"backgroundcolor\": \"#E5ECF6\", \"gridcolor\": \"white\", \"gridwidth\": 2, \"linecolor\": \"white\", \"showbackground\": true, \"ticks\": \"\", \"zerolinecolor\": \"white\"}, \"zaxis\": {\"backgroundcolor\": \"#E5ECF6\", \"gridcolor\": \"white\", \"gridwidth\": 2, \"linecolor\": \"white\", \"showbackground\": true, \"ticks\": \"\", \"zerolinecolor\": \"white\"}}, \"shapedefaults\": {\"line\": {\"color\": \"#2a3f5f\"}}, \"ternary\": {\"aaxis\": {\"gridcolor\": \"white\", \"linecolor\": \"white\", \"ticks\": \"\"}, \"baxis\": {\"gridcolor\": \"white\", \"linecolor\": \"white\", \"ticks\": \"\"}, \"bgcolor\": \"#E5ECF6\", \"caxis\": {\"gridcolor\": \"white\", \"linecolor\": \"white\", \"ticks\": \"\"}}, \"title\": {\"x\": 0.05}, \"xaxis\": {\"automargin\": true, \"gridcolor\": \"white\", \"linecolor\": \"white\", \"ticks\": \"\", \"title\": {\"standoff\": 15}, \"zerolinecolor\": \"white\", \"zerolinewidth\": 2}, \"yaxis\": {\"automargin\": true, \"gridcolor\": \"white\", \"linecolor\": \"white\", \"ticks\": \"\", \"title\": {\"standoff\": 15}, \"zerolinecolor\": \"white\", \"zerolinewidth\": 2}}}, \"xaxis\": {\"anchor\": \"y\", \"domain\": [0.0, 1.0], \"title\": {\"text\": \"index\"}}, \"yaxis\": {\"anchor\": \"x\", \"domain\": [0.0, 1.0], \"title\": {\"text\": \"accuracy\"}}},                        {\"responsive\": true}                    ).then(function(){\n",
       "                            \n",
       "var gd = document.getElementById('7cf87270-ec97-47bb-ad78-eb656f2431bc');\n",
       "var x = new MutationObserver(function (mutations, observer) {{\n",
       "        var display = window.getComputedStyle(gd).display;\n",
       "        if (!display || display === 'none') {{\n",
       "            console.log([gd, 'removed!']);\n",
       "            Plotly.purge(gd);\n",
       "            observer.disconnect();\n",
       "        }}\n",
       "}});\n",
       "\n",
       "// Listen for the removal of the full notebook cells\n",
       "var notebookContainer = gd.closest('#notebook-container');\n",
       "if (notebookContainer) {{\n",
       "    x.observe(notebookContainer, {childList: true});\n",
       "}}\n",
       "\n",
       "// Listen for the clearing of the current output cell\n",
       "var outputEl = gd.closest('.output');\n",
       "if (outputEl) {{\n",
       "    x.observe(outputEl, {childList: true});\n",
       "}}\n",
       "\n",
       "                        })                };                });            </script>        </div>"
      ]
     },
     "metadata": {},
     "output_type": "display_data"
    }
   ],
   "source": [
    "px.scatter(df, y=\"accuracy\")"
   ]
  },
  {
   "cell_type": "code",
   "execution_count": 60,
   "metadata": {},
   "outputs": [
    {
     "data": {
      "application/vnd.plotly.v1+json": {
       "config": {
        "plotlyServerURL": "https://plot.ly"
       },
       "data": [
        {
         "hovertemplate": "index=%{x}<br>cumulative sum of explained variance=%{y}<extra></extra>",
         "legendgroup": "",
         "line": {
          "color": "#636efa",
          "dash": "solid"
         },
         "mode": "lines",
         "name": "",
         "orientation": "v",
         "showlegend": false,
         "type": "scatter",
         "x": [
          0,
          1,
          2,
          3,
          4,
          5,
          6,
          7,
          8,
          9
         ],
         "xaxis": "x",
         "y": [
          0.31453638121019384,
          0.5652810733336981,
          0.7202922304590137,
          0.8074610921536695,
          0.8859467544485397,
          0.9255395477758734,
          0.9513512530071865,
          0.970092891902699,
          0.9800149427646909,
          0.9858643597331648
         ],
         "yaxis": "y"
        }
       ],
       "layout": {
        "legend": {
         "tracegroupgap": 0
        },
        "margin": {
         "t": 60
        },
        "template": {
         "data": {
          "bar": [
           {
            "error_x": {
             "color": "#2a3f5f"
            },
            "error_y": {
             "color": "#2a3f5f"
            },
            "marker": {
             "line": {
              "color": "#E5ECF6",
              "width": 0.5
             }
            },
            "type": "bar"
           }
          ],
          "barpolar": [
           {
            "marker": {
             "line": {
              "color": "#E5ECF6",
              "width": 0.5
             }
            },
            "type": "barpolar"
           }
          ],
          "carpet": [
           {
            "aaxis": {
             "endlinecolor": "#2a3f5f",
             "gridcolor": "white",
             "linecolor": "white",
             "minorgridcolor": "white",
             "startlinecolor": "#2a3f5f"
            },
            "baxis": {
             "endlinecolor": "#2a3f5f",
             "gridcolor": "white",
             "linecolor": "white",
             "minorgridcolor": "white",
             "startlinecolor": "#2a3f5f"
            },
            "type": "carpet"
           }
          ],
          "choropleth": [
           {
            "colorbar": {
             "outlinewidth": 0,
             "ticks": ""
            },
            "type": "choropleth"
           }
          ],
          "contour": [
           {
            "colorbar": {
             "outlinewidth": 0,
             "ticks": ""
            },
            "colorscale": [
             [
              0,
              "#0d0887"
             ],
             [
              0.1111111111111111,
              "#46039f"
             ],
             [
              0.2222222222222222,
              "#7201a8"
             ],
             [
              0.3333333333333333,
              "#9c179e"
             ],
             [
              0.4444444444444444,
              "#bd3786"
             ],
             [
              0.5555555555555556,
              "#d8576b"
             ],
             [
              0.6666666666666666,
              "#ed7953"
             ],
             [
              0.7777777777777778,
              "#fb9f3a"
             ],
             [
              0.8888888888888888,
              "#fdca26"
             ],
             [
              1,
              "#f0f921"
             ]
            ],
            "type": "contour"
           }
          ],
          "contourcarpet": [
           {
            "colorbar": {
             "outlinewidth": 0,
             "ticks": ""
            },
            "type": "contourcarpet"
           }
          ],
          "heatmap": [
           {
            "colorbar": {
             "outlinewidth": 0,
             "ticks": ""
            },
            "colorscale": [
             [
              0,
              "#0d0887"
             ],
             [
              0.1111111111111111,
              "#46039f"
             ],
             [
              0.2222222222222222,
              "#7201a8"
             ],
             [
              0.3333333333333333,
              "#9c179e"
             ],
             [
              0.4444444444444444,
              "#bd3786"
             ],
             [
              0.5555555555555556,
              "#d8576b"
             ],
             [
              0.6666666666666666,
              "#ed7953"
             ],
             [
              0.7777777777777778,
              "#fb9f3a"
             ],
             [
              0.8888888888888888,
              "#fdca26"
             ],
             [
              1,
              "#f0f921"
             ]
            ],
            "type": "heatmap"
           }
          ],
          "heatmapgl": [
           {
            "colorbar": {
             "outlinewidth": 0,
             "ticks": ""
            },
            "colorscale": [
             [
              0,
              "#0d0887"
             ],
             [
              0.1111111111111111,
              "#46039f"
             ],
             [
              0.2222222222222222,
              "#7201a8"
             ],
             [
              0.3333333333333333,
              "#9c179e"
             ],
             [
              0.4444444444444444,
              "#bd3786"
             ],
             [
              0.5555555555555556,
              "#d8576b"
             ],
             [
              0.6666666666666666,
              "#ed7953"
             ],
             [
              0.7777777777777778,
              "#fb9f3a"
             ],
             [
              0.8888888888888888,
              "#fdca26"
             ],
             [
              1,
              "#f0f921"
             ]
            ],
            "type": "heatmapgl"
           }
          ],
          "histogram": [
           {
            "marker": {
             "colorbar": {
              "outlinewidth": 0,
              "ticks": ""
             }
            },
            "type": "histogram"
           }
          ],
          "histogram2d": [
           {
            "colorbar": {
             "outlinewidth": 0,
             "ticks": ""
            },
            "colorscale": [
             [
              0,
              "#0d0887"
             ],
             [
              0.1111111111111111,
              "#46039f"
             ],
             [
              0.2222222222222222,
              "#7201a8"
             ],
             [
              0.3333333333333333,
              "#9c179e"
             ],
             [
              0.4444444444444444,
              "#bd3786"
             ],
             [
              0.5555555555555556,
              "#d8576b"
             ],
             [
              0.6666666666666666,
              "#ed7953"
             ],
             [
              0.7777777777777778,
              "#fb9f3a"
             ],
             [
              0.8888888888888888,
              "#fdca26"
             ],
             [
              1,
              "#f0f921"
             ]
            ],
            "type": "histogram2d"
           }
          ],
          "histogram2dcontour": [
           {
            "colorbar": {
             "outlinewidth": 0,
             "ticks": ""
            },
            "colorscale": [
             [
              0,
              "#0d0887"
             ],
             [
              0.1111111111111111,
              "#46039f"
             ],
             [
              0.2222222222222222,
              "#7201a8"
             ],
             [
              0.3333333333333333,
              "#9c179e"
             ],
             [
              0.4444444444444444,
              "#bd3786"
             ],
             [
              0.5555555555555556,
              "#d8576b"
             ],
             [
              0.6666666666666666,
              "#ed7953"
             ],
             [
              0.7777777777777778,
              "#fb9f3a"
             ],
             [
              0.8888888888888888,
              "#fdca26"
             ],
             [
              1,
              "#f0f921"
             ]
            ],
            "type": "histogram2dcontour"
           }
          ],
          "mesh3d": [
           {
            "colorbar": {
             "outlinewidth": 0,
             "ticks": ""
            },
            "type": "mesh3d"
           }
          ],
          "parcoords": [
           {
            "line": {
             "colorbar": {
              "outlinewidth": 0,
              "ticks": ""
             }
            },
            "type": "parcoords"
           }
          ],
          "pie": [
           {
            "automargin": true,
            "type": "pie"
           }
          ],
          "scatter": [
           {
            "marker": {
             "colorbar": {
              "outlinewidth": 0,
              "ticks": ""
             }
            },
            "type": "scatter"
           }
          ],
          "scatter3d": [
           {
            "line": {
             "colorbar": {
              "outlinewidth": 0,
              "ticks": ""
             }
            },
            "marker": {
             "colorbar": {
              "outlinewidth": 0,
              "ticks": ""
             }
            },
            "type": "scatter3d"
           }
          ],
          "scattercarpet": [
           {
            "marker": {
             "colorbar": {
              "outlinewidth": 0,
              "ticks": ""
             }
            },
            "type": "scattercarpet"
           }
          ],
          "scattergeo": [
           {
            "marker": {
             "colorbar": {
              "outlinewidth": 0,
              "ticks": ""
             }
            },
            "type": "scattergeo"
           }
          ],
          "scattergl": [
           {
            "marker": {
             "colorbar": {
              "outlinewidth": 0,
              "ticks": ""
             }
            },
            "type": "scattergl"
           }
          ],
          "scattermapbox": [
           {
            "marker": {
             "colorbar": {
              "outlinewidth": 0,
              "ticks": ""
             }
            },
            "type": "scattermapbox"
           }
          ],
          "scatterpolar": [
           {
            "marker": {
             "colorbar": {
              "outlinewidth": 0,
              "ticks": ""
             }
            },
            "type": "scatterpolar"
           }
          ],
          "scatterpolargl": [
           {
            "marker": {
             "colorbar": {
              "outlinewidth": 0,
              "ticks": ""
             }
            },
            "type": "scatterpolargl"
           }
          ],
          "scatterternary": [
           {
            "marker": {
             "colorbar": {
              "outlinewidth": 0,
              "ticks": ""
             }
            },
            "type": "scatterternary"
           }
          ],
          "surface": [
           {
            "colorbar": {
             "outlinewidth": 0,
             "ticks": ""
            },
            "colorscale": [
             [
              0,
              "#0d0887"
             ],
             [
              0.1111111111111111,
              "#46039f"
             ],
             [
              0.2222222222222222,
              "#7201a8"
             ],
             [
              0.3333333333333333,
              "#9c179e"
             ],
             [
              0.4444444444444444,
              "#bd3786"
             ],
             [
              0.5555555555555556,
              "#d8576b"
             ],
             [
              0.6666666666666666,
              "#ed7953"
             ],
             [
              0.7777777777777778,
              "#fb9f3a"
             ],
             [
              0.8888888888888888,
              "#fdca26"
             ],
             [
              1,
              "#f0f921"
             ]
            ],
            "type": "surface"
           }
          ],
          "table": [
           {
            "cells": {
             "fill": {
              "color": "#EBF0F8"
             },
             "line": {
              "color": "white"
             }
            },
            "header": {
             "fill": {
              "color": "#C8D4E3"
             },
             "line": {
              "color": "white"
             }
            },
            "type": "table"
           }
          ]
         },
         "layout": {
          "annotationdefaults": {
           "arrowcolor": "#2a3f5f",
           "arrowhead": 0,
           "arrowwidth": 1
          },
          "coloraxis": {
           "colorbar": {
            "outlinewidth": 0,
            "ticks": ""
           }
          },
          "colorscale": {
           "diverging": [
            [
             0,
             "#8e0152"
            ],
            [
             0.1,
             "#c51b7d"
            ],
            [
             0.2,
             "#de77ae"
            ],
            [
             0.3,
             "#f1b6da"
            ],
            [
             0.4,
             "#fde0ef"
            ],
            [
             0.5,
             "#f7f7f7"
            ],
            [
             0.6,
             "#e6f5d0"
            ],
            [
             0.7,
             "#b8e186"
            ],
            [
             0.8,
             "#7fbc41"
            ],
            [
             0.9,
             "#4d9221"
            ],
            [
             1,
             "#276419"
            ]
           ],
           "sequential": [
            [
             0,
             "#0d0887"
            ],
            [
             0.1111111111111111,
             "#46039f"
            ],
            [
             0.2222222222222222,
             "#7201a8"
            ],
            [
             0.3333333333333333,
             "#9c179e"
            ],
            [
             0.4444444444444444,
             "#bd3786"
            ],
            [
             0.5555555555555556,
             "#d8576b"
            ],
            [
             0.6666666666666666,
             "#ed7953"
            ],
            [
             0.7777777777777778,
             "#fb9f3a"
            ],
            [
             0.8888888888888888,
             "#fdca26"
            ],
            [
             1,
             "#f0f921"
            ]
           ],
           "sequentialminus": [
            [
             0,
             "#0d0887"
            ],
            [
             0.1111111111111111,
             "#46039f"
            ],
            [
             0.2222222222222222,
             "#7201a8"
            ],
            [
             0.3333333333333333,
             "#9c179e"
            ],
            [
             0.4444444444444444,
             "#bd3786"
            ],
            [
             0.5555555555555556,
             "#d8576b"
            ],
            [
             0.6666666666666666,
             "#ed7953"
            ],
            [
             0.7777777777777778,
             "#fb9f3a"
            ],
            [
             0.8888888888888888,
             "#fdca26"
            ],
            [
             1,
             "#f0f921"
            ]
           ]
          },
          "colorway": [
           "#636efa",
           "#EF553B",
           "#00cc96",
           "#ab63fa",
           "#FFA15A",
           "#19d3f3",
           "#FF6692",
           "#B6E880",
           "#FF97FF",
           "#FECB52"
          ],
          "font": {
           "color": "#2a3f5f"
          },
          "geo": {
           "bgcolor": "white",
           "lakecolor": "white",
           "landcolor": "#E5ECF6",
           "showlakes": true,
           "showland": true,
           "subunitcolor": "white"
          },
          "hoverlabel": {
           "align": "left"
          },
          "hovermode": "closest",
          "mapbox": {
           "style": "light"
          },
          "paper_bgcolor": "white",
          "plot_bgcolor": "#E5ECF6",
          "polar": {
           "angularaxis": {
            "gridcolor": "white",
            "linecolor": "white",
            "ticks": ""
           },
           "bgcolor": "#E5ECF6",
           "radialaxis": {
            "gridcolor": "white",
            "linecolor": "white",
            "ticks": ""
           }
          },
          "scene": {
           "xaxis": {
            "backgroundcolor": "#E5ECF6",
            "gridcolor": "white",
            "gridwidth": 2,
            "linecolor": "white",
            "showbackground": true,
            "ticks": "",
            "zerolinecolor": "white"
           },
           "yaxis": {
            "backgroundcolor": "#E5ECF6",
            "gridcolor": "white",
            "gridwidth": 2,
            "linecolor": "white",
            "showbackground": true,
            "ticks": "",
            "zerolinecolor": "white"
           },
           "zaxis": {
            "backgroundcolor": "#E5ECF6",
            "gridcolor": "white",
            "gridwidth": 2,
            "linecolor": "white",
            "showbackground": true,
            "ticks": "",
            "zerolinecolor": "white"
           }
          },
          "shapedefaults": {
           "line": {
            "color": "#2a3f5f"
           }
          },
          "ternary": {
           "aaxis": {
            "gridcolor": "white",
            "linecolor": "white",
            "ticks": ""
           },
           "baxis": {
            "gridcolor": "white",
            "linecolor": "white",
            "ticks": ""
           },
           "bgcolor": "#E5ECF6",
           "caxis": {
            "gridcolor": "white",
            "linecolor": "white",
            "ticks": ""
           }
          },
          "title": {
           "x": 0.05
          },
          "xaxis": {
           "automargin": true,
           "gridcolor": "white",
           "linecolor": "white",
           "ticks": "",
           "title": {
            "standoff": 15
           },
           "zerolinecolor": "white",
           "zerolinewidth": 2
          },
          "yaxis": {
           "automargin": true,
           "gridcolor": "white",
           "linecolor": "white",
           "ticks": "",
           "title": {
            "standoff": 15
           },
           "zerolinecolor": "white",
           "zerolinewidth": 2
          }
         }
        },
        "xaxis": {
         "anchor": "y",
         "domain": [
          0,
          1
         ],
         "title": {
          "text": "index"
         }
        },
        "yaxis": {
         "anchor": "x",
         "domain": [
          0,
          1
         ],
         "title": {
          "text": "cumulative sum of explained variance"
         }
        }
       }
      },
      "text/html": [
       "<div>                            <div id=\"8acdaa0c-7c24-45b2-b5a0-b0cae2a88fbe\" class=\"plotly-graph-div\" style=\"height:525px; width:100%;\"></div>            <script type=\"text/javascript\">                require([\"plotly\"], function(Plotly) {                    window.PLOTLYENV=window.PLOTLYENV || {};                                    if (document.getElementById(\"8acdaa0c-7c24-45b2-b5a0-b0cae2a88fbe\")) {                    Plotly.newPlot(                        \"8acdaa0c-7c24-45b2-b5a0-b0cae2a88fbe\",                        [{\"hovertemplate\": \"index=%{x}<br>cumulative sum of explained variance=%{y}<extra></extra>\", \"legendgroup\": \"\", \"line\": {\"color\": \"#636efa\", \"dash\": \"solid\"}, \"mode\": \"lines\", \"name\": \"\", \"orientation\": \"v\", \"showlegend\": false, \"type\": \"scatter\", \"x\": [0, 1, 2, 3, 4, 5, 6, 7, 8, 9], \"xaxis\": \"x\", \"y\": [0.31453638121019384, 0.5652810733336981, 0.7202922304590137, 0.8074610921536695, 0.8859467544485397, 0.9255395477758734, 0.9513512530071865, 0.970092891902699, 0.9800149427646909, 0.9858643597331648], \"yaxis\": \"y\"}],                        {\"legend\": {\"tracegroupgap\": 0}, \"margin\": {\"t\": 60}, \"template\": {\"data\": {\"bar\": [{\"error_x\": {\"color\": \"#2a3f5f\"}, \"error_y\": {\"color\": \"#2a3f5f\"}, \"marker\": {\"line\": {\"color\": \"#E5ECF6\", \"width\": 0.5}}, \"type\": \"bar\"}], \"barpolar\": [{\"marker\": {\"line\": {\"color\": \"#E5ECF6\", \"width\": 0.5}}, \"type\": \"barpolar\"}], \"carpet\": [{\"aaxis\": {\"endlinecolor\": \"#2a3f5f\", \"gridcolor\": \"white\", \"linecolor\": \"white\", \"minorgridcolor\": \"white\", \"startlinecolor\": \"#2a3f5f\"}, \"baxis\": {\"endlinecolor\": \"#2a3f5f\", \"gridcolor\": \"white\", \"linecolor\": \"white\", \"minorgridcolor\": \"white\", \"startlinecolor\": \"#2a3f5f\"}, \"type\": \"carpet\"}], \"choropleth\": [{\"colorbar\": {\"outlinewidth\": 0, \"ticks\": \"\"}, \"type\": \"choropleth\"}], \"contour\": [{\"colorbar\": {\"outlinewidth\": 0, \"ticks\": \"\"}, \"colorscale\": [[0.0, \"#0d0887\"], [0.1111111111111111, \"#46039f\"], [0.2222222222222222, \"#7201a8\"], [0.3333333333333333, \"#9c179e\"], [0.4444444444444444, \"#bd3786\"], [0.5555555555555556, \"#d8576b\"], [0.6666666666666666, \"#ed7953\"], [0.7777777777777778, \"#fb9f3a\"], [0.8888888888888888, \"#fdca26\"], [1.0, \"#f0f921\"]], \"type\": \"contour\"}], \"contourcarpet\": [{\"colorbar\": {\"outlinewidth\": 0, \"ticks\": \"\"}, \"type\": \"contourcarpet\"}], \"heatmap\": [{\"colorbar\": {\"outlinewidth\": 0, \"ticks\": \"\"}, \"colorscale\": [[0.0, \"#0d0887\"], [0.1111111111111111, \"#46039f\"], [0.2222222222222222, \"#7201a8\"], [0.3333333333333333, \"#9c179e\"], [0.4444444444444444, \"#bd3786\"], [0.5555555555555556, \"#d8576b\"], [0.6666666666666666, \"#ed7953\"], [0.7777777777777778, \"#fb9f3a\"], [0.8888888888888888, \"#fdca26\"], [1.0, \"#f0f921\"]], \"type\": \"heatmap\"}], \"heatmapgl\": [{\"colorbar\": {\"outlinewidth\": 0, \"ticks\": \"\"}, \"colorscale\": [[0.0, \"#0d0887\"], [0.1111111111111111, \"#46039f\"], [0.2222222222222222, \"#7201a8\"], [0.3333333333333333, \"#9c179e\"], [0.4444444444444444, \"#bd3786\"], [0.5555555555555556, \"#d8576b\"], [0.6666666666666666, \"#ed7953\"], [0.7777777777777778, \"#fb9f3a\"], [0.8888888888888888, \"#fdca26\"], [1.0, \"#f0f921\"]], \"type\": \"heatmapgl\"}], \"histogram\": [{\"marker\": {\"colorbar\": {\"outlinewidth\": 0, \"ticks\": \"\"}}, \"type\": \"histogram\"}], \"histogram2d\": [{\"colorbar\": {\"outlinewidth\": 0, \"ticks\": \"\"}, \"colorscale\": [[0.0, \"#0d0887\"], [0.1111111111111111, \"#46039f\"], [0.2222222222222222, \"#7201a8\"], [0.3333333333333333, \"#9c179e\"], [0.4444444444444444, \"#bd3786\"], [0.5555555555555556, \"#d8576b\"], [0.6666666666666666, \"#ed7953\"], [0.7777777777777778, \"#fb9f3a\"], [0.8888888888888888, \"#fdca26\"], [1.0, \"#f0f921\"]], \"type\": \"histogram2d\"}], \"histogram2dcontour\": [{\"colorbar\": {\"outlinewidth\": 0, \"ticks\": \"\"}, \"colorscale\": [[0.0, \"#0d0887\"], [0.1111111111111111, \"#46039f\"], [0.2222222222222222, \"#7201a8\"], [0.3333333333333333, \"#9c179e\"], [0.4444444444444444, \"#bd3786\"], [0.5555555555555556, \"#d8576b\"], [0.6666666666666666, \"#ed7953\"], [0.7777777777777778, \"#fb9f3a\"], [0.8888888888888888, \"#fdca26\"], [1.0, \"#f0f921\"]], \"type\": \"histogram2dcontour\"}], \"mesh3d\": [{\"colorbar\": {\"outlinewidth\": 0, \"ticks\": \"\"}, \"type\": \"mesh3d\"}], \"parcoords\": [{\"line\": {\"colorbar\": {\"outlinewidth\": 0, \"ticks\": \"\"}}, \"type\": \"parcoords\"}], \"pie\": [{\"automargin\": true, \"type\": \"pie\"}], \"scatter\": [{\"marker\": {\"colorbar\": {\"outlinewidth\": 0, \"ticks\": \"\"}}, \"type\": \"scatter\"}], \"scatter3d\": [{\"line\": {\"colorbar\": {\"outlinewidth\": 0, \"ticks\": \"\"}}, \"marker\": {\"colorbar\": {\"outlinewidth\": 0, \"ticks\": \"\"}}, \"type\": \"scatter3d\"}], \"scattercarpet\": [{\"marker\": {\"colorbar\": {\"outlinewidth\": 0, \"ticks\": \"\"}}, \"type\": \"scattercarpet\"}], \"scattergeo\": [{\"marker\": {\"colorbar\": {\"outlinewidth\": 0, \"ticks\": \"\"}}, \"type\": \"scattergeo\"}], \"scattergl\": [{\"marker\": {\"colorbar\": {\"outlinewidth\": 0, \"ticks\": \"\"}}, \"type\": \"scattergl\"}], \"scattermapbox\": [{\"marker\": {\"colorbar\": {\"outlinewidth\": 0, \"ticks\": \"\"}}, \"type\": \"scattermapbox\"}], \"scatterpolar\": [{\"marker\": {\"colorbar\": {\"outlinewidth\": 0, \"ticks\": \"\"}}, \"type\": \"scatterpolar\"}], \"scatterpolargl\": [{\"marker\": {\"colorbar\": {\"outlinewidth\": 0, \"ticks\": \"\"}}, \"type\": \"scatterpolargl\"}], \"scatterternary\": [{\"marker\": {\"colorbar\": {\"outlinewidth\": 0, \"ticks\": \"\"}}, \"type\": \"scatterternary\"}], \"surface\": [{\"colorbar\": {\"outlinewidth\": 0, \"ticks\": \"\"}, \"colorscale\": [[0.0, \"#0d0887\"], [0.1111111111111111, \"#46039f\"], [0.2222222222222222, \"#7201a8\"], [0.3333333333333333, \"#9c179e\"], [0.4444444444444444, \"#bd3786\"], [0.5555555555555556, \"#d8576b\"], [0.6666666666666666, \"#ed7953\"], [0.7777777777777778, \"#fb9f3a\"], [0.8888888888888888, \"#fdca26\"], [1.0, \"#f0f921\"]], \"type\": \"surface\"}], \"table\": [{\"cells\": {\"fill\": {\"color\": \"#EBF0F8\"}, \"line\": {\"color\": \"white\"}}, \"header\": {\"fill\": {\"color\": \"#C8D4E3\"}, \"line\": {\"color\": \"white\"}}, \"type\": \"table\"}]}, \"layout\": {\"annotationdefaults\": {\"arrowcolor\": \"#2a3f5f\", \"arrowhead\": 0, \"arrowwidth\": 1}, \"coloraxis\": {\"colorbar\": {\"outlinewidth\": 0, \"ticks\": \"\"}}, \"colorscale\": {\"diverging\": [[0, \"#8e0152\"], [0.1, \"#c51b7d\"], [0.2, \"#de77ae\"], [0.3, \"#f1b6da\"], [0.4, \"#fde0ef\"], [0.5, \"#f7f7f7\"], [0.6, \"#e6f5d0\"], [0.7, \"#b8e186\"], [0.8, \"#7fbc41\"], [0.9, \"#4d9221\"], [1, \"#276419\"]], \"sequential\": [[0.0, \"#0d0887\"], [0.1111111111111111, \"#46039f\"], [0.2222222222222222, \"#7201a8\"], [0.3333333333333333, \"#9c179e\"], [0.4444444444444444, \"#bd3786\"], [0.5555555555555556, \"#d8576b\"], [0.6666666666666666, \"#ed7953\"], [0.7777777777777778, \"#fb9f3a\"], [0.8888888888888888, \"#fdca26\"], [1.0, \"#f0f921\"]], \"sequentialminus\": [[0.0, \"#0d0887\"], [0.1111111111111111, \"#46039f\"], [0.2222222222222222, \"#7201a8\"], [0.3333333333333333, \"#9c179e\"], [0.4444444444444444, \"#bd3786\"], [0.5555555555555556, \"#d8576b\"], [0.6666666666666666, \"#ed7953\"], [0.7777777777777778, \"#fb9f3a\"], [0.8888888888888888, \"#fdca26\"], [1.0, \"#f0f921\"]]}, \"colorway\": [\"#636efa\", \"#EF553B\", \"#00cc96\", \"#ab63fa\", \"#FFA15A\", \"#19d3f3\", \"#FF6692\", \"#B6E880\", \"#FF97FF\", \"#FECB52\"], \"font\": {\"color\": \"#2a3f5f\"}, \"geo\": {\"bgcolor\": \"white\", \"lakecolor\": \"white\", \"landcolor\": \"#E5ECF6\", \"showlakes\": true, \"showland\": true, \"subunitcolor\": \"white\"}, \"hoverlabel\": {\"align\": \"left\"}, \"hovermode\": \"closest\", \"mapbox\": {\"style\": \"light\"}, \"paper_bgcolor\": \"white\", \"plot_bgcolor\": \"#E5ECF6\", \"polar\": {\"angularaxis\": {\"gridcolor\": \"white\", \"linecolor\": \"white\", \"ticks\": \"\"}, \"bgcolor\": \"#E5ECF6\", \"radialaxis\": {\"gridcolor\": \"white\", \"linecolor\": \"white\", \"ticks\": \"\"}}, \"scene\": {\"xaxis\": {\"backgroundcolor\": \"#E5ECF6\", \"gridcolor\": \"white\", \"gridwidth\": 2, \"linecolor\": \"white\", \"showbackground\": true, \"ticks\": \"\", \"zerolinecolor\": \"white\"}, \"yaxis\": {\"backgroundcolor\": \"#E5ECF6\", \"gridcolor\": \"white\", \"gridwidth\": 2, \"linecolor\": \"white\", \"showbackground\": true, \"ticks\": \"\", \"zerolinecolor\": \"white\"}, \"zaxis\": {\"backgroundcolor\": \"#E5ECF6\", \"gridcolor\": \"white\", \"gridwidth\": 2, \"linecolor\": \"white\", \"showbackground\": true, \"ticks\": \"\", \"zerolinecolor\": \"white\"}}, \"shapedefaults\": {\"line\": {\"color\": \"#2a3f5f\"}}, \"ternary\": {\"aaxis\": {\"gridcolor\": \"white\", \"linecolor\": \"white\", \"ticks\": \"\"}, \"baxis\": {\"gridcolor\": \"white\", \"linecolor\": \"white\", \"ticks\": \"\"}, \"bgcolor\": \"#E5ECF6\", \"caxis\": {\"gridcolor\": \"white\", \"linecolor\": \"white\", \"ticks\": \"\"}}, \"title\": {\"x\": 0.05}, \"xaxis\": {\"automargin\": true, \"gridcolor\": \"white\", \"linecolor\": \"white\", \"ticks\": \"\", \"title\": {\"standoff\": 15}, \"zerolinecolor\": \"white\", \"zerolinewidth\": 2}, \"yaxis\": {\"automargin\": true, \"gridcolor\": \"white\", \"linecolor\": \"white\", \"ticks\": \"\", \"title\": {\"standoff\": 15}, \"zerolinecolor\": \"white\", \"zerolinewidth\": 2}}}, \"xaxis\": {\"anchor\": \"y\", \"domain\": [0.0, 1.0], \"title\": {\"text\": \"index\"}}, \"yaxis\": {\"anchor\": \"x\", \"domain\": [0.0, 1.0], \"title\": {\"text\": \"cumulative sum of explained variance\"}}},                        {\"responsive\": true}                    ).then(function(){\n",
       "                            \n",
       "var gd = document.getElementById('8acdaa0c-7c24-45b2-b5a0-b0cae2a88fbe');\n",
       "var x = new MutationObserver(function (mutations, observer) {{\n",
       "        var display = window.getComputedStyle(gd).display;\n",
       "        if (!display || display === 'none') {{\n",
       "            console.log([gd, 'removed!']);\n",
       "            Plotly.purge(gd);\n",
       "            observer.disconnect();\n",
       "        }}\n",
       "}});\n",
       "\n",
       "// Listen for the removal of the full notebook cells\n",
       "var notebookContainer = gd.closest('#notebook-container');\n",
       "if (notebookContainer) {{\n",
       "    x.observe(notebookContainer, {childList: true});\n",
       "}}\n",
       "\n",
       "// Listen for the clearing of the current output cell\n",
       "var outputEl = gd.closest('.output');\n",
       "if (outputEl) {{\n",
       "    x.observe(outputEl, {childList: true});\n",
       "}}\n",
       "\n",
       "                        })                };                });            </script>        </div>"
      ]
     },
     "metadata": {},
     "output_type": "display_data"
    }
   ],
   "source": [
    "df = pd.DataFrame(data=cs, index=np.arange(0, len(cs)), columns=['cumulative sum of explained variance'])\n",
    "px.line(df, y=\"cumulative sum of explained variance\")"
   ]
  },
  {
   "cell_type": "code",
   "execution_count": 61,
   "metadata": {},
   "outputs": [],
   "source": [
    "data_validation.loc[spikeIndexes_validation, 'predictedClass'] = results['comps:8_neigh:6']"
   ]
  },
  {
   "cell_type": "code",
   "execution_count": 62,
   "metadata": {},
   "outputs": [],
   "source": [
    "df = pd.DataFrame(data=(componentsTraining.T[0], componentsTraining.T[1]), index=['1st component', '2nd component'])"
   ]
  },
  {
   "cell_type": "code",
   "execution_count": 63,
   "metadata": {},
   "outputs": [
    {
     "data": {
      "text/html": [
       "<div>\n",
       "<style scoped>\n",
       "    .dataframe tbody tr th:only-of-type {\n",
       "        vertical-align: middle;\n",
       "    }\n",
       "\n",
       "    .dataframe tbody tr th {\n",
       "        vertical-align: top;\n",
       "    }\n",
       "\n",
       "    .dataframe thead th {\n",
       "        text-align: right;\n",
       "    }\n",
       "</style>\n",
       "<table border=\"1\" class=\"dataframe\">\n",
       "  <thead>\n",
       "    <tr style=\"text-align: right;\">\n",
       "      <th></th>\n",
       "      <th>1st component</th>\n",
       "      <th>2nd component</th>\n",
       "    </tr>\n",
       "  </thead>\n",
       "  <tbody>\n",
       "    <tr>\n",
       "      <th>0</th>\n",
       "      <td>-2.012972</td>\n",
       "      <td>9.068497</td>\n",
       "    </tr>\n",
       "    <tr>\n",
       "      <th>1</th>\n",
       "      <td>-7.835550</td>\n",
       "      <td>7.907335</td>\n",
       "    </tr>\n",
       "    <tr>\n",
       "      <th>2</th>\n",
       "      <td>7.631584</td>\n",
       "      <td>3.126444</td>\n",
       "    </tr>\n",
       "    <tr>\n",
       "      <th>3</th>\n",
       "      <td>0.445331</td>\n",
       "      <td>-1.652373</td>\n",
       "    </tr>\n",
       "    <tr>\n",
       "      <th>4</th>\n",
       "      <td>6.664038</td>\n",
       "      <td>1.585088</td>\n",
       "    </tr>\n",
       "    <tr>\n",
       "      <th>...</th>\n",
       "      <td>...</td>\n",
       "      <td>...</td>\n",
       "    </tr>\n",
       "    <tr>\n",
       "      <th>2820</th>\n",
       "      <td>0.952042</td>\n",
       "      <td>-3.071266</td>\n",
       "    </tr>\n",
       "    <tr>\n",
       "      <th>2821</th>\n",
       "      <td>-8.814219</td>\n",
       "      <td>6.978024</td>\n",
       "    </tr>\n",
       "    <tr>\n",
       "      <th>2822</th>\n",
       "      <td>4.719762</td>\n",
       "      <td>12.564016</td>\n",
       "    </tr>\n",
       "    <tr>\n",
       "      <th>2823</th>\n",
       "      <td>0.558915</td>\n",
       "      <td>-2.554398</td>\n",
       "    </tr>\n",
       "    <tr>\n",
       "      <th>2824</th>\n",
       "      <td>6.759229</td>\n",
       "      <td>5.022335</td>\n",
       "    </tr>\n",
       "  </tbody>\n",
       "</table>\n",
       "<p>2825 rows × 2 columns</p>\n",
       "</div>"
      ],
      "text/plain": [
       "      1st component  2nd component\n",
       "0         -2.012972       9.068497\n",
       "1         -7.835550       7.907335\n",
       "2          7.631584       3.126444\n",
       "3          0.445331      -1.652373\n",
       "4          6.664038       1.585088\n",
       "...             ...            ...\n",
       "2820       0.952042      -3.071266\n",
       "2821      -8.814219       6.978024\n",
       "2822       4.719762      12.564016\n",
       "2823       0.558915      -2.554398\n",
       "2824       6.759229       5.022335\n",
       "\n",
       "[2825 rows x 2 columns]"
      ]
     },
     "execution_count": 63,
     "metadata": {},
     "output_type": "execute_result"
    }
   ],
   "source": [
    "df.T"
   ]
  },
  {
   "cell_type": "code",
   "execution_count": 64,
   "metadata": {},
   "outputs": [
    {
     "data": {
      "application/vnd.plotly.v1+json": {
       "config": {
        "plotlyServerURL": "https://plot.ly"
       },
       "data": [
        {
         "hovertemplate": "1st component=%{x}<br>2nd component=%{y}<extra></extra>",
         "legendgroup": "",
         "marker": {
          "color": "#636efa",
          "symbol": "circle"
         },
         "mode": "markers",
         "name": "",
         "showlegend": false,
         "type": "scattergl",
         "x": [
          -2.01297152815373,
          -7.83554969956441,
          7.631583826853631,
          0.4453309234133045,
          6.6640381614336,
          -5.0435097511559475,
          1.7917684604197428,
          -4.649047775704271,
          -1.653366032272843,
          -4.887574857721824,
          1.2402333368928506,
          -5.13503691956747,
          -4.9488624156939025,
          5.270737258447637,
          -4.618336108760556,
          0.8314435717016252,
          6.69393567431875,
          -1.373650606395294,
          6.531212085753411,
          0.1568938013142752,
          1.3962293711856009,
          -4.707154454193503,
          -7.426805394405097,
          -0.34745809339309364,
          0.6222489324119982,
          -5.559553046370682,
          -1.3320831044996135,
          1.1315191440433627,
          -1.3960269686260443,
          3.912167090289118,
          -4.6272795913840445,
          -4.321374876232826,
          6.206171884435657,
          -1.276388015414175,
          0.6841012543980106,
          -5.34604426315883,
          0.6357895781006787,
          -5.313174244186848,
          -1.8402471559491502,
          6.467777776591297,
          6.171023042334904,
          -1.3989052036387644,
          -4.957745296860266,
          19.497646787325547,
          -1.3589523173243327,
          0.7090941955553755,
          -1.1641671116756613,
          1.2834638770963762,
          -1.6906074898711365,
          0.07854409020446033,
          7.402771438316217,
          6.431637575722128,
          9.246390247437107,
          1.3681061962201846,
          -5.326163944734752,
          0.6090389749157764,
          6.561755794905852,
          -1.6682006904728244,
          -1.3931862092216105,
          -4.419078323599205,
          6.166036590460816,
          0.8346360791558329,
          -15.719910178269757,
          10.208826614429963,
          -1.8954410470875789,
          -1.3413616443381302,
          -5.2558875195817825,
          0.34074601507319763,
          0.038322944564399435,
          0.4640298113541514,
          2.1616108964757657,
          -5.299620516810575,
          -4.8371645634070655,
          -1.3836528693878278,
          -1.4374242665415657,
          -1.0233065251029931,
          -1.4758103990453182,
          6.440186963048298,
          -4.975063766712041,
          0.5662754960239119,
          -1.4988755995578207,
          -5.405174378559354,
          -1.7360423429678598,
          -1.4486553919507192,
          -1.1326421408707694,
          6.623673740395223,
          -0.9361060668621646,
          0.7414027483816603,
          -2.375164075250493,
          -1.7564097871345907,
          -1.4912545169748148,
          -5.820202453549291,
          -3.9477833213459372,
          0.931315762593792,
          1.3131463419081508,
          0.23873963243758298,
          6.557024670683264,
          0.7148833535240352,
          -1.5613676398039051,
          6.590770366905546,
          -4.7683176971648695,
          5.813427740008227,
          6.6682219257950806,
          -4.661994976324206,
          -6.286073040091917,
          1.9765033601157687,
          -1.189564827886409,
          0.3957867099720366,
          -1.4475368826170267,
          -1.1772860955462503,
          0.32033209125240714,
          1.181495723605089,
          -1.5126025947023458,
          0.974028533477797,
          -4.567833070839233,
          0.6662789581256913,
          6.5674383117637145,
          -5.328542057619646,
          0.5749110584770705,
          0.5854664272892625,
          -1.6201636800366739,
          0.5895191234996086,
          0.7905225519762984,
          0.5615015958974197,
          6.457658270519535,
          6.45470520039374,
          3.7843047223803508,
          6.580077211118432,
          1.3289070677466694,
          -1.3038062209813799,
          6.554108396402276,
          6.737833516320289,
          6.4439005731346555,
          6.329384941450517,
          1.3135991567912588,
          -1.391003579395003,
          1.4962455554319591,
          -1.3575931095096607,
          0.9218164557394662,
          -1.6139535239210725,
          0.4103079030372383,
          6.611285540720266,
          0.26396578759845263,
          0.5728740641300524,
          -5.475305531559635,
          0.5402549429021474,
          1.2695123167439504,
          8.7398154594604,
          11.281920317925703,
          7.825945263557824,
          6.662541459295547,
          6.277226102899716,
          0.7629945919989608,
          -1.22596972881284,
          -0.9918296456733928,
          -4.574835677242158,
          0.7038402774467268,
          -4.733952873788846,
          -2.1696547178671812,
          -4.225578779577072,
          0.6106577676862587,
          1.1545315728314975,
          -5.9776520589617,
          1.639531591020204,
          6.327464083417949,
          -5.191956513811263,
          6.812603618289268,
          -5.41468167545328,
          6.3300920362531405,
          -1.1382608674900199,
          -5.05045693427443,
          -4.868228595901022,
          -10.381513566395922,
          -3.5094863186303646,
          6.604163932949526,
          -5.389214666365822,
          4.741522593175124,
          -4.142416230595635,
          6.872809371803146,
          1.7306175165443134,
          6.5848388005565095,
          6.152323943250566,
          -3.2823343545018564,
          1.5040598308903408,
          -1.4635053352162957,
          6.229440575966819,
          6.823705941280547,
          0.16058555613238376,
          -5.075387133780291,
          -5.385587010532592,
          -1.404039791268167,
          -1.5437578443589326,
          -1.6427298868739277,
          -1.5671212984193785,
          0.7662809201886259,
          -1.5751906508947129,
          -4.764072266067525,
          7.1543952492047005,
          -1.5107555159779533,
          -1.550113579177536,
          6.356693706512324,
          -1.2440720927132638,
          -1.8755127012241857,
          -1.1725153472670151,
          -1.4211537892676047,
          -5.436690675517384,
          6.452185752129838,
          -3.4734792486863797,
          -4.913218792675098,
          1.042757681780974,
          -5.276594985322153,
          0.7154773625518466,
          -5.356854408637697,
          0.6412839408907426,
          -4.785095143350785,
          0.7262821693832381,
          6.504406412323961,
          -1.0353661755679393,
          -5.019066256504273,
          0.5332347032798697,
          -4.574481354992504,
          1.0163853811136254,
          -1.4948967554678905,
          0.6632793233277529,
          -5.172917343336874,
          6.476856407665963,
          6.705327149812961,
          6.424173141161615,
          1.3006743667387624,
          6.434154500111762,
          -5.452233511136286,
          -1.278895629116856,
          -5.783495489840695,
          -4.48015928042715,
          0.7104265964923461,
          -1.0841359790771945,
          -1.282461052259697,
          0.3570077574984608,
          0.81868895436448,
          -5.058350848030544,
          0.43474835962263897,
          6.509366969012895,
          -1.2481306681575857,
          0.5599696808932958,
          0.5738788785439477,
          -1.202125740429853,
          -5.098451604519639,
          -0.8484530621615733,
          6.5600092693146195,
          -5.601343419739936,
          -1.4179980435565875,
          2.09200346439392,
          -2.8083018968790343,
          0.8457160507314082,
          -1.188006414655498,
          1.4566274979794165,
          -5.536646542987872,
          6.773995895148845,
          1.3187190843224519,
          6.282989370811838,
          0.5186416700356343,
          1.0626335831453435,
          1.2390445412388424,
          -5.589978379972322,
          0.36525598700064527,
          -5.543054263412272,
          -1.6295511978875872,
          1.0629698563867618,
          1.2851352209609395,
          -1.4259398112511583,
          -5.301243814061307,
          6.566925122114792,
          -1.6316456342173384,
          -1.520939316235587,
          0.6889369046417049,
          -5.619251009148458,
          2.725578559574123,
          6.464211623234274,
          -1.2720643530459634,
          9.453266403622917,
          -3.0931419746289266,
          0.2211826396719618,
          -4.686474092121739,
          6.29253179895788,
          -6.815052479038761,
          -3.0005392432886846,
          -4.764792932985953,
          -5.32985108354861,
          6.568528483144563,
          1.0068308234306032,
          6.410582417676681,
          6.510264804281598,
          -13.150373466158689,
          0.24496540918026005,
          -1.732612129687254,
          -1.6674694638495884,
          0.7182090850223971,
          5.994497962730221,
          -1.2962758558228928,
          1.1653853593260086,
          6.6552669887193305,
          7.061585992041544,
          -5.204007631989002,
          -4.681404571639854,
          -5.303725999961557,
          3.575374145943779,
          -4.671765426752039,
          -1.5691853118215853,
          -1.5698075566958025,
          -5.624162597817318,
          -4.809945831774638,
          6.76109884364562,
          1.4443236143168723,
          -3.3804472886542665,
          0.4022369146620164,
          -3.460691654444856,
          -15.041554927927631,
          11.252029479182019,
          13.94102345868715,
          -5.20507290223167,
          6.360878348544842,
          6.378904454385975,
          -4.5476607618042255,
          6.360536538104857,
          -1.6160961164095016,
          -14.667287339664504,
          6.148470871908735,
          7.4333745103004905,
          -4.704717958396841,
          -5.458455260899037,
          -4.698839461760938,
          6.5475838811740665,
          -1.4962781206409785,
          -5.436467212768384,
          0.43898710238384725,
          11.847346022257796,
          -5.384194381874629,
          -1.3753922312535551,
          -5.162086723864448,
          0.8248698402597231,
          5.349722397488897,
          -1.5305314689748144,
          -1.7076211761821836,
          -1.1612152905733892,
          -1.2330627018055353,
          -5.285698231501778,
          -1.3847317887459154,
          1.0770478968924762,
          -1.3691430010098948,
          0.5916964229328835,
          0.8030452284002227,
          -4.822065630868975,
          0.8126793900438318,
          -1.3374922158131322,
          0.6501406000902837,
          14.262934556336244,
          0.45621557940349683,
          -5.223187999285638,
          1.273732092600488,
          -3.5031521732802493,
          -4.644127837294434,
          -1.393017601526694,
          6.249169886017536,
          -4.875517443489094,
          -6.6318734176779115,
          0.7983746662605092,
          -2.364953579904598,
          0.8458050624166673,
          -4.792926360679554,
          -3.602248874322714,
          -5.0043819029741545,
          0.3983462383638314,
          0.6641742260488639,
          -6.977662929659968,
          6.663863243324258,
          -1.4513491288867995,
          0.6694911752202642,
          6.414722240629802,
          -1.503182508602394,
          6.8480964024943205,
          6.299771762921126,
          -0.7515339953280226,
          0.5423257137455567,
          -1.6592106310180725,
          -7.008282559690023,
          1.1518712180760828,
          6.547827158884918,
          1.1297020116400331,
          -17.034604440191988,
          -3.049953545945386,
          9.02324432903243,
          7.410225919718042,
          0.8942857848376968,
          2.2726136788555498,
          0.42402448213861477,
          -5.0570018345349315,
          0.360288595487948,
          0.612057742718012,
          0.5560359197011293,
          14.058142607951307,
          -1.4889954244667272,
          0.6447014880776708,
          -5.242378935776585,
          -5.213780282699363,
          -6.161645655536412,
          7.487848408694659,
          0.8438861869691242,
          7.383120924184666,
          6.767164429594522,
          -11.82550807044446,
          5.505211718594577,
          -1.9297608842578895,
          6.668997199206907,
          -2.7397207665585297,
          0.5091585251072502,
          1.0125433657592313,
          -1.444871583705521,
          21.045727372064274,
          -4.948851423049281,
          -1.5123875818541237,
          0.6998919043692411,
          -1.912458864945624,
          0.49160122305488707,
          1.1751442078968855,
          0.3995942834646925,
          -5.3205289332266,
          3.1402793244644105,
          -2.373712255352575,
          -1.37669055642229,
          -1.4332842395287249,
          -1.6139328691958263,
          -0.9197729648393856,
          0.9232777673739153,
          0.42177719619733994,
          -1.4394571277630777,
          -4.584081790160278,
          -1.650746810559662,
          1.0082693747428861,
          -1.3745449390109354,
          6.375666884871421,
          6.418753756983488,
          0.7354840068106899,
          -4.726038917580542,
          6.581619596990049,
          6.4071087156778965,
          2.071791151267027,
          -4.074111621683016,
          0.2639855863764943,
          -1.1773935906001307,
          -5.420544298578011,
          6.402549800382821,
          -1.3618488443401244,
          6.674185065226118,
          -4.472967653929375,
          0.010092807164007093,
          -4.491512201624422,
          -1.5604224013910777,
          -5.482423028793196,
          -4.851927811837649,
          -1.4944543072977483,
          0.6306391549875329,
          -4.587197138876588,
          -5.142355354853465,
          7.600353287200147,
          -5.564750352405941,
          -5.154320302181774,
          1.0732583000145688,
          -1.297468132433456,
          6.580503870538903,
          6.652632682988214,
          0.6909771471500117,
          -13.147911722138344,
          8.066733185432868,
          -5.370773642416208,
          -1.1403978541185236,
          6.620544992008266,
          1.2111961293151847,
          6.290427192708421,
          -1.6528776175338336,
          -4.873803613370545,
          -4.636810735814204,
          -5.482464752688007,
          6.3608368329274985,
          -4.57506082521685,
          0.8194658828211708,
          -1.4228992126626232,
          -1.4839973939701572,
          0.7721830984696242,
          -1.4063945136642462,
          1.5922678057310649,
          1.3382863896781536,
          0.5733472567768911,
          -4.3521144415515325,
          6.2340452519179514,
          8.42690219837487,
          -5.2635423923627105,
          -4.720228782180233,
          7.087931726343558,
          -6.193814727303788,
          -1.785068516761161,
          -5.248592616999601,
          6.609616083566019,
          -5.445679938442663,
          6.126487049397956,
          11.367248930008364,
          6.728817167561664,
          -1.7018314105010655,
          6.493595699761256,
          -1.5974249680475776,
          -4.364998787452664,
          6.036602154238362,
          -1.000977136428246,
          6.675221414076563,
          -1.6562430059972337,
          6.7647240191549125,
          6.54934843561553,
          -5.41198487561711,
          6.382715978179093,
          -5.239752044864964,
          -1.5753555990141588,
          -1.393985296120655,
          0.8417346036963812,
          -4.485801971271911,
          -1.6331585952893624,
          0.5155073189099694,
          0.5485339289856247,
          -1.3586844571536334,
          -1.624011058360178,
          -9.193835480862578,
          -3.4732993676476083,
          -5.232540890894063,
          6.529614338817824,
          -3.8239245349211513,
          -4.7180235245354405,
          -17.08178481721494,
          11.719588261171328,
          0.8899039364625139,
          2.2707903843320683,
          0.758535012763435,
          -5.153513973252928,
          -1.5042808115724269,
          -1.1637447975048267,
          6.485282761398136,
          -6.011471639379704,
          0.6394122162599319,
          0.7464346955383915,
          -4.008903714410649,
          -3.9536254484790794,
          -1.2532329739852026,
          -5.603307487871427,
          6.39477067389544,
          -1.358745520610965,
          6.718606598386524,
          0.9952127660614128,
          -5.489407948937263,
          -5.323163760534625,
          1.319986545973743,
          1.0599352286233286,
          -1.367725759368403,
          6.353944782895755,
          1.3127494459571187,
          6.491827706051679,
          6.686554866213893,
          -3.3111821462464186,
          0.020434255921513777,
          0.7094796376949957,
          -4.157916978264106,
          0.6560635419434698,
          -5.331436406433078,
          -4.504792306118072,
          -5.294558676636383,
          -5.446712270562429,
          6.493912442854888,
          -4.989373333437244,
          1.4551100566332662,
          -1.6514976914102486,
          -1.3002102697728983,
          -1.389744663246092,
          6.580195873766896,
          -4.543416639816739,
          -1.3538921974682305,
          7.084319199040714,
          -5.163790723245091,
          -5.56498357190188,
          6.4806206292336395,
          -4.353384058007064,
          1.2587646209465557,
          -4.621471692539383,
          2.718482947903448,
          -4.4976810900015325,
          6.505978908715555,
          0.7458736775079886,
          -4.481823076606164,
          -5.561755330853969,
          6.140006044321202,
          6.506594370135952,
          0.6731935396789195,
          -4.659485709565723,
          -4.757946641338221,
          0.829709662872056,
          0.8575922738801702,
          0.48970808331337584,
          0.6634613253130414,
          -1.1967816316717252,
          6.8374118627726315,
          0.5471162026659765,
          6.501054149346749,
          1.6866923155206515,
          6.362535540463132,
          -1.95576540361616,
          2.101242043969616,
          -4.8637191582594586,
          1.844265391688463,
          1.09729758398662,
          -1.2625089419745739,
          -1.2750194002527062,
          6.513321581579407,
          6.869678828878982,
          6.643146193512319,
          0.5266136698832482,
          2.9066027711533824,
          -5.03457214709955,
          6.108627047348271,
          -1.5775053976697697,
          -5.535890059565477,
          6.328986315113414,
          6.435871926549141,
          -4.635101995293826,
          7.148288417100385,
          -4.414362509350621,
          -1.972474959011809,
          0.6659595439294421,
          -1.413325154803699,
          -4.906663933803859,
          -5.406716415809495,
          -8.205088016227174,
          1.6331054956685531,
          1.1494475243753242,
          6.4223827062849725,
          6.726528193312525,
          -2.3384328586956022,
          -0.940401010091792,
          -1.5395737115693569,
          6.618279836598466,
          -5.095084420303696,
          -1.376599629718278,
          -1.6405078335470091,
          -1.5551617324956197,
          -1.5859803647815625,
          6.461664171708678,
          1.3046010509877835,
          0.6784099589519148,
          6.425250647530695,
          1.734849005188338,
          6.756429889774755,
          -4.284794632663332,
          0.5126508343506013,
          -5.114963073163125,
          6.77342080917597,
          6.596164175461668,
          0.6539046787339756,
          -1.0708270067088796,
          0.7601576726052827,
          -5.125982850401382,
          0.32064404997788476,
          -1.2632633459717781,
          0.7623457127187632,
          6.71820808275572,
          -1.3281693000989794,
          -4.704834169154231,
          6.736769850553982,
          -4.651054693475594,
          6.555346023338906,
          1.6406922295272919,
          -1.2078385814875594,
          1.234231405657979,
          4.1646653672054015,
          0.7332060324315862,
          -0.3557296386360853,
          -4.760648298338281,
          -5.638964435078975,
          0.7623580654940713,
          6.483226131355261,
          -1.186088068653173,
          2.4540693997884437,
          -3.1321068529956726,
          -0.4950147247388539,
          -0.764021293490017,
          -1.294161935163758,
          0.7264222719577221,
          -4.813377263152155,
          -8.560338658975704,
          -2.7582116950465623,
          5.9962455071333,
          6.43816316615434,
          0.892833324079358,
          -1.3215449237094172,
          2.1552519798103793,
          -1.1884601301446722,
          6.781814978121198,
          -4.491608760406634,
          1.045187830122848,
          0.21426419695961527,
          -1.690728549758777,
          6.4661569873028615,
          -1.2662977255915804,
          1.8064832177345913,
          6.68498589298857,
          -1.6760956421589996,
          -1.4002266437624535,
          -5.48861420507064,
          0.8314240331377856,
          1.3297078764940211,
          0.629190875230691,
          -5.452515834066237,
          -5.210894175259555,
          6.42774074086152,
          -1.652025064218994,
          -1.1740027085544542,
          -1.5386881352095894,
          -4.52115088808692,
          -0.9970657077660976,
          -4.952627868254279,
          -1.6365488073071413,
          -4.58745215934431,
          0.6601005812037841,
          -1.2013836941395395,
          7.164094219848401,
          -1.3860577438535224,
          -5.536887309782403,
          -5.920703413918006,
          6.859682760933022,
          0.8529514684106966,
          -1.8650004393569188,
          0.9949978714742197,
          -1.1891108353921747,
          -1.2223938254592128,
          6.5708483328646725,
          -4.94784087996528,
          1.3428219406286903,
          6.579321983262856,
          0.620439987593386,
          -1.0572417434934531,
          -1.300154108594605,
          0.7157835704369779,
          11.078181608496122,
          -1.4283928957088343,
          -4.110710487949127,
          -1.548673971360966,
          -1.6126504848668701,
          1.604014132129663,
          0.7730898888342014,
          -1.5626213198579217,
          -7.3559056745022,
          -0.8911146624243622,
          -4.65066881680663,
          0.7103142054302858,
          0.8869155207619941,
          6.878640813095049,
          6.630418644245087,
          -5.38534207321855,
          -10.233464081666542,
          5.972569846997745,
          6.423228602735663,
          -1.1995543866731546,
          -1.1480139882660785,
          -1.3059063228676544,
          -4.577737680248985,
          1.9884853207685487,
          6.30644614340203,
          0.5210471467386547,
          0.627634705623319,
          0.9365388299983572,
          6.564043753645027,
          1.2539494727107117,
          6.838156169026751,
          1.0557257305817669,
          6.728096677644491,
          -6.377125399773475,
          0.043502942090385716,
          -1.9911123356521556,
          -1.6085556188559258,
          6.451048438811478,
          0.8670674686170167,
          0.5877315192816565,
          -0.22320437841809943,
          -1.761661698841441,
          0.4378541372724337,
          6.755941103712973,
          6.74874778482824,
          -1.3756038478328725,
          -1.260402134603926,
          -5.270579562598902,
          6.001847100655121,
          -1.141585550836634,
          6.837439253801039,
          -1.2466123525174706,
          0.7486709555837532,
          1.0852276025415977,
          1.3289498284117034,
          0.8195484839244183,
          13.165786523773468,
          1.1648757698608752,
          6.539424453025966,
          0.7137367938710644,
          6.583412473582488,
          -5.97733176385413,
          -1.6890409721891124,
          0.4881753843334145,
          -1.4483212447809133,
          0.5192474812522212,
          6.7404142556780995,
          0.9530409239687434,
          6.586260601597751,
          6.199036669983317,
          -1.5437049329027597,
          -4.385998535636024,
          -3.996478077506122,
          -1.6606989327183181,
          -4.654714350017294,
          0.6440887381183991,
          -1.1946611798925144,
          6.703983291733307,
          -5.278721580643996,
          -4.502502816770051,
          -1.11412294595147,
          -4.511361911633341,
          -2.554662536613615,
          -1.1852394188400606,
          -1.466425397600866,
          6.32375655280678,
          10.682777458494343,
          0.8061073000502553,
          -4.581810448600917,
          -5.4415842582436085,
          0.8440717908671893,
          -5.920906976823682,
          6.409676313570088,
          -5.071874724391813,
          0.9005897092447079,
          -4.639165868610134,
          0.544514842805794,
          6.534165463039166,
          6.6859931888960435,
          6.559774883452147,
          -5.4208461547165525,
          -1.2494194498600653,
          0.9697879649003694,
          -0.865792065733056,
          0.6420054609180186,
          -1.1808588194934573,
          6.683702667520044,
          6.640398461177068,
          6.695785195906511,
          -1.2744382963918284,
          -5.595888610286229,
          6.423236686520565,
          -9.093165807142176,
          -2.186579823417285,
          -4.465938633368238,
          -1.03946553049216,
          6.6924968262032,
          -1.7965417333858251,
          -3.3893836600202087,
          1.4845874380171398,
          -1.812553237819352,
          0.4737034610687459,
          -5.209149495496129,
          -9.21005383107009,
          -1.9806217482743391,
          -5.51459593835522,
          -4.741493562502298,
          -1.4294869894687177,
          6.382582282433817,
          -4.54959168372272,
          0.688505192983598,
          -5.446845201959108,
          1.5658671016906451,
          -4.096432580338685,
          -1.5537549224560032,
          -1.3922840967586871,
          -1.0352218981877044,
          -1.215786528120573,
          6.2644223584307035,
          -1.3445824689033594,
          -4.6670434398778715,
          -3.299916010883052,
          1.4931266239095284,
          -5.061452075876174,
          -1.5894118400039876,
          -0.574097684345509,
          -2.3088882969876194,
          -4.504278644098083,
          -5.185901161660897,
          6.424009531895535,
          -3.7852496813021514,
          -1.0998434111465631,
          -1.5013976537490012,
          -4.633090928622126,
          -1.4889924869541489,
          6.651153080730644,
          -7.476374564562447,
          -9.577829967284524,
          2.345247721613017,
          0.938150313103188,
          -10.447805230920782,
          -1.8323131747059511,
          6.409547104449911,
          0.4369095969889432,
          6.622552913387696,
          1.051078521488603,
          0.18345726078143784,
          -5.242867274382975,
          0.7974227175431102,
          0.847370303303966,
          -1.2397238118728795,
          -4.212624639579253,
          -5.1393494110462274,
          -1.8520214695205226,
          -1.7058448168169749,
          6.553131560058439,
          -5.194608066417558,
          -5.37074712685049,
          -5.238832485266149,
          -4.214039929928165,
          1.0114823425595822,
          -1.2931228051193109,
          -5.007695111224087,
          -1.669666309643933,
          6.463647960283033,
          -1.1671828105292192,
          -4.643634809897124,
          -4.962104981629612,
          -1.4933488827678865,
          7.11697066509604,
          -5.408562990140057,
          6.627766936196718,
          -5.2712557137206595,
          -1.1077529978657186,
          1.1075960583715239,
          6.942696306754836,
          0.9517613778005142,
          -1.392033340486819,
          -7.1041847492594,
          1.1056184137312872,
          -7.5290084085199585,
          4.030184487791532,
          -1.5120288097337018,
          0.5005742730178349,
          6.541649886169893,
          6.925686770273843,
          -3.2704246293421773,
          -1.719480748785799,
          -5.316823336113202,
          1.420293262076012,
          -4.572182622493175,
          -5.191695058897058,
          0.9904391970726721,
          -4.743293925382524,
          6.672383514529386,
          8.23094512077977,
          6.556934154459422,
          6.580759669001793,
          -1.251371894460381,
          6.418582563796345,
          1.1512603077006647,
          -1.0349193159644121,
          -4.718236496885978,
          -3.232294154500891,
          -1.4963754497417032,
          -4.650349288939485,
          0.22372277852551684,
          -5.207201423453351,
          -0.31570841227248087,
          1.754232656328781,
          1.9408331972373667,
          -3.2845594403514156,
          0.5268105483326447,
          0.6022512663761959,
          -0.9868018190088871,
          -5.020830314734359,
          -1.1315550597489925,
          6.733398368083308,
          6.997616783921356,
          6.572279310794655,
          0.8326408793362623,
          1.782432087517944,
          -1.206103513484134,
          -2.052007761484658,
          -5.540728044867996,
          -5.1910337173863494,
          -8.892346235912788,
          8.193619803989737,
          6.79413316734439,
          6.620414504530221,
          -4.567640806912513,
          -1.2408896524961863,
          -1.291146236492739,
          -1.6046892719101082,
          6.492699083945646,
          -1.0383949429595956,
          0.34663882758238873,
          6.473841538143681,
          -0.7385058876464704,
          0.7923640501626725,
          -9.701682075023298,
          -10.332432017745445,
          8.27036565762068,
          0.6160820170667811,
          -1.3144777477069751,
          -1.1740428037750752,
          6.843892126215968,
          -5.308581466709555,
          -1.0401094719296664,
          -4.762451349486685,
          0.5263123429666412,
          -7.635438916801335,
          5.866241053519103,
          -5.178697621386705,
          -4.582568917526584,
          6.613244606466156,
          6.535777814081936,
          -5.367411049620161,
          -4.340297169004587,
          0.532880486347811,
          -5.774654525632566,
          3.0217710159247435,
          0.36819030230630817,
          0.7814581754179403,
          6.510970013004101,
          6.5326224990618265,
          0.7792531907805739,
          -1.6003154934898187,
          14.883475223689961,
          0.7954613951708027,
          -4.630558082114183,
          -1.3047751219616115,
          6.426286979208691,
          6.428239128818228,
          2.5726542431637447,
          6.670441246205221,
          0.5329355929437878,
          6.412225520713611,
          0.5977522843408848,
          6.370783364251789,
          0.2356643838556694,
          -4.577504540725693,
          6.331790852915462,
          -2.3636124939468353,
          5.9570458430560915,
          6.321654294885431,
          -4.368545583288934,
          -5.072605130463221,
          1.0841634289639792,
          6.662134802958483,
          0.6997672276643454,
          -1.4580135820727258,
          0.8681808875887864,
          -1.1332178284907914,
          -1.720343329469226,
          1.5017518491398663,
          -5.394589664575733,
          -1.1869347382349105,
          -5.2080456086841735,
          -5.371896065479943,
          -6.780722248175214,
          -2.8490461776163167,
          6.513631427229208,
          6.368423125006568,
          -1.4163947070232057,
          -5.201219637367404,
          -4.5807857026291146,
          -1.5608716294712497,
          -5.9073383704090165,
          0.8652008084407491,
          -5.460638632772957,
          0.805468123515405,
          -3.708547481291461,
          -7.788301596238471,
          -2.8933462482712176,
          0.778884004173439,
          -4.809695087756305,
          -5.521198726507709,
          0.5796364005822137,
          -1.167423833311846,
          6.603889471647037,
          -1.257315133035674,
          -1.328024256898262,
          5.0369867882969235,
          0.5983702474968016,
          -1.2091954732427903,
          0.6002744599189093,
          -5.278268583279358,
          6.946992392725937,
          1.3388102069494436,
          0.8872160730136202,
          -5.147168122081991,
          8.892728135170433,
          0.9113228539184919,
          1.2834752317841582,
          -1.388647712185252,
          -6.361999665193673,
          -0.5950504839975933,
          6.838143187735968,
          0.5376454581081348,
          0.8426529342267469,
          1.382376564141466,
          10.437119029180296,
          6.714233657758736,
          -5.28990820487957,
          -4.531338028969896,
          -1.3567695673608444,
          1.0474432337448516,
          8.310511816925757,
          6.457879124838205,
          -5.230256552982745,
          0.38336011929118374,
          -1.34575122774439,
          -4.6813334750454665,
          1.043068737614244,
          0.5053113669653966,
          6.246825299518981,
          -1.2338018464499378,
          -1.3486569496326986,
          0.7805880234033749,
          6.7888776546419605,
          6.614363303296786,
          6.560898274829326,
          -5.159539304984404,
          -1.2628631432831945,
          -2.8518486262692697,
          6.559736803559588,
          1.3958156612309371,
          0.8911694278792873,
          0.5311977503173407,
          1.6184014613257864,
          -1.4096911980131897,
          -5.313171767440934,
          1.1354519781307295,
          -5.648132039905506,
          -4.340540200638507,
          6.736182522560012,
          1.0610708773667712,
          -1.4094370246784385,
          0.9825732121693155,
          -1.4998723124068845,
          -1.3567248067066922,
          6.869827370549262,
          6.573613688475789,
          0.5723600812341311,
          0.4218446795579528,
          1.009408414417081,
          6.725156237523231,
          -1.2725606588996934,
          -1.3575882013217029,
          6.573035466343196,
          1.1425013264752055,
          6.6317764310521605,
          -4.012386160743891,
          -1.598293088030091,
          -1.252725627127512,
          0.7502813726695332,
          0.7320796367113176,
          6.597139649191756,
          -5.678517605744458,
          -7.275046117956238,
          2.3001020475482292,
          0.7572021439033586,
          0.7958857624553334,
          -5.470913608719093,
          1.2279773725345342,
          -14.64624090873558,
          4.075438552125309,
          -4.956633915213818,
          -1.7183691258562759,
          -1.1813263274139316,
          6.279290844040402,
          0.6934125422291292,
          -1.3810275470149145,
          6.733723579348364,
          -5.549306049447364,
          -5.178737776003656,
          1.4316897711865473,
          -1.3547817065950918,
          -1.4763118846757108,
          0.8357570559043185,
          -5.197141575694814,
          6.105589713192996,
          0.34673573194033963,
          -1.6198439053380014,
          -1.3286750145953772,
          0.8124851246647152,
          6.2063255531151285,
          6.405209258561048,
          6.653255333396267,
          14.538033370617184,
          -1.6154074256693278,
          -1.2872788743905499,
          -1.5939485307083205,
          -5.355361156103803,
          -5.617116337187297,
          6.981007689262345,
          -1.3627894431956882,
          -5.47740587175852,
          -4.684146091441832,
          6.813865185533902,
          1.2506872474004498,
          -1.3380942377208362,
          -5.187924362796969,
          1.1902377510572988,
          6.62679733189349,
          -4.4523111864410225,
          -1.0222456758452811,
          0.4887417242889289,
          5.175573774597537,
          -1.6472657302486673,
          -6.432815975594629,
          6.406790460950692,
          -1.2726706712847704,
          6.53603186070265,
          0.7807667704499681,
          -1.3003563271581036,
          -1.4902533532479925,
          6.326592848507506,
          -1.3766664236829698,
          -5.177840958412029,
          -4.6783006994448435,
          -1.7087506376139194,
          -4.374351511100068,
          -5.325496965093756,
          -5.059123141941425,
          6.798719730882374,
          6.433984846907135,
          0.8803863966146401,
          -1.654873650704923,
          1.1519761329155482,
          1.0442466586198054,
          0.4961138912001271,
          -0.9510674263434514,
          -3.5216250737868298,
          -5.068865615860889,
          6.438740999709023,
          0.4259561673751528,
          0.3493369625844429,
          -5.295455805239739,
          -1.5182697326207757,
          -4.392667358320167,
          -5.827468206858798,
          -3.6191448358430027,
          -1.48033245829175,
          -5.048191596151804,
          -5.059042639807895,
          -1.758984154512886,
          6.534012195261676,
          -4.663018769720472,
          -5.425783406440085,
          6.555831162359493,
          -4.474182635941088,
          -1.4915541083460815,
          -1.4548527920339935,
          0.9316707096147125,
          -4.756086666349087,
          6.675476109586822,
          6.661361086147175,
          -1.2303674695354336,
          -5.27015622140862,
          6.62810707897885,
          -6.536860313569962,
          3.8019887968618686,
          0.6265166327664653,
          1.006601794642016,
          -5.709466046409773,
          -4.8119567648053465,
          1.2785806835611233,
          6.709760717467537,
          -5.7045989905242855,
          -5.353982686275151,
          1.2501420477349294,
          6.714757080123038,
          6.718112293447636,
          -4.587251232097447,
          0.7294452831111835,
          6.47446843861203,
          7.11495853107388,
          -6.1112272467812385,
          -4.521960764660516,
          0.9035747725862399,
          -5.015190825170758,
          -1.3448298438419217,
          -5.064984157407346,
          -1.5466381859348974,
          0.393204257156538,
          -5.232519349688934,
          -1.526386424332774,
          0.6347508407183798,
          6.811666652417219,
          6.298883581971241,
          -1.3235296414040603,
          7.313806765933581,
          -1.0686957395343055,
          0.811474779608751,
          0.691771565946303,
          0.5761598121127256,
          6.707252839544844,
          -5.152965285353976,
          6.739565281535418,
          0.42996761300084085,
          1.4832625621294766,
          -1.402420223261234,
          1.8191141127543151,
          6.609036115310454,
          -0.9064550210053343,
          1.1520882417492158,
          6.607193003224424,
          -4.864043385089532,
          1.2023983921714867,
          -10.339329920173453,
          3.8908203230543035,
          0.7364552552944732,
          0.9530684150144494,
          -4.7678517254263575,
          6.76817961390059,
          -4.602766407289279,
          0.9559448134564331,
          6.743336683601321,
          6.568537932038853,
          -1.6114999261987404,
          6.520837504708035,
          1.295916254967072,
          0.5294274654374775,
          -1.1795910345312215,
          1.2683188212101628,
          -4.343658480001079,
          -5.309939137859951,
          6.617926436924204,
          -4.9408784979665015,
          -1.3994908948894993,
          -5.174214401853169,
          6.4287732034927805,
          -0.9907009017230282,
          -1.7834951265265244,
          -4.6095596348228,
          -7.56413391462851,
          3.933494550866085,
          0.447549613555499,
          0.5121543915849665,
          -1.5126992064443807,
          7.503472167539361,
          -4.510125742486263,
          -4.300335862412941,
          -5.083298716105144,
          6.550994248003646,
          0.5743681495714744,
          -1.1943694033239332,
          -5.477237339288052,
          0.5448754702696154,
          -2.6717976919315376,
          1.4917562806445328,
          -1.2822490654112964,
          -1.3760387940874146,
          -1.5159682698822103,
          -1.9096515506332128,
          5.843273242123066,
          -1.106895145404019,
          -4.49153074421968,
          -2.0599700887763066,
          -1.3577925917966625,
          -1.0963922651374804,
          0.9156901707007202,
          0.9467533930230175,
          -0.9638764312153448,
          0.6833331496397906,
          1.728966670598439,
          -4.550463562222263,
          -1.4955772453701377,
          -0.9389002057315204,
          -5.19286191007568,
          2.573654193678364,
          -8.52910416934017,
          1.2821755221631113,
          -1.1741062595093832,
          6.847305702954281,
          6.553472446444101,
          -4.725819483781444,
          -4.655953968666991,
          -1.5253129449081808,
          -1.4775272467669076,
          6.6439956716694715,
          -1.1509398789517278,
          0.7254765097219914,
          6.590728418324407,
          1.969343924425796,
          0.608537175316211,
          0.8234453129198575,
          -1.6576372804592598,
          1.1944774368694275,
          6.684438247957723,
          6.580077189720073,
          -6.15883427938628,
          -1.247025241824367,
          -5.304654641917195,
          7.304395053474512,
          6.551264490889759,
          0.9651348278002925,
          -5.349661089393597,
          -5.3790774520803035,
          -4.922403723233091,
          6.527862772834778,
          1.0985433397723947,
          3.4104898089451323,
          -4.9065845490503115,
          -1.2609330389204965,
          0.8489196734205414,
          -4.734035969115559,
          -5.068395567876742,
          6.554913253034985,
          -1.7361665346515236,
          -1.1384120321185547,
          -1.2142329918463581,
          6.280636595788247,
          -5.320710193863652,
          -1.186800927656031,
          -0.921879862253549,
          -5.052748095008132,
          6.966060689643919,
          -5.133580358869624,
          -1.5754919386862405,
          -4.391913606229462,
          0.8503193259975558,
          -0.871435524811781,
          -0.94591288740142,
          0.6272464142186079,
          0.7792903132784464,
          -9.355451019786177,
          3.3785754980598997,
          0.40769776917931044,
          -1.369684713464648,
          6.798420046263257,
          0.45688739924755356,
          -9.43602797034391,
          2.5819869124433783,
          -1.285957659954356,
          1.23085172462492,
          6.6770544034201,
          -5.060894973788742,
          6.941700211835895,
          1.168604906703448,
          0.5171393501246155,
          -4.9702605759821115,
          6.645424594598037,
          1.353318930421817,
          7.437773855654716,
          -1.5074092657085694,
          -6.303786131607916,
          -4.546694654374273,
          -1.373738945590504,
          14.928883795061482,
          6.390928480743219,
          -16.926481815995416,
          11.338079079625263,
          -1.7118374787649928,
          -5.153076124557459,
          6.188453250402914,
          6.342791967957459,
          0.9548553666772751,
          -4.766251986986498,
          -5.238565749373869,
          -1.3745047987681527,
          -4.49198234734835,
          6.676371577723287,
          6.284155952440907,
          6.787888882662494,
          6.579456232293065,
          6.431564493174004,
          -4.89003789839224,
          6.597705618401423,
          -1.451019266056948,
          -4.936974971489762,
          -9.75715837878683,
          2.064343815358479,
          -1.161219693741599,
          1.6853258491654428,
          -4.877254291266733,
          -1.2432726995629642,
          -5.61340985408777,
          -1.4598147031923685,
          -5.514104195664388,
          0.7251249590409642,
          -1.6308934283911547,
          -4.5866377217480245,
          -1.0774081279590006,
          -1.550478801030372,
          -4.475783499686823,
          -5.611016747786596,
          -5.350054236282101,
          -1.3344219984322172,
          6.390797425249966,
          -1.7387856749229766,
          -4.422970452720262,
          0.8948232235477604,
          -5.444411010973733,
          6.582084809443457,
          -1.7382152337576768,
          0.8773001942872518,
          -1.3334220175112392,
          6.643233211256851,
          -5.541345736317936,
          1.456915321461316,
          1.0851252673744347,
          6.577242395017819,
          -9.91173554134173,
          2.9657245194408834,
          0.3009693587186964,
          6.671828305659787,
          6.481407807274861,
          -1.445287515953163,
          6.606843190162615,
          -5.0517751777154345,
          0.7232588108289588,
          -1.2779427469329168,
          -1.4014649553409242,
          -5.5358172895062685,
          -5.388156941531983,
          6.6420109982559055,
          -5.3795875168656195,
          -0.17126605645270956,
          0.6575527718072567,
          6.62075597160493,
          6.546581846289344,
          6.294366351210922,
          -5.905726814331016,
          0.9141264336268131,
          -1.598341261409968,
          6.494279177889986,
          -5.588056896385686,
          0.7217093082074917,
          0.5581142302625671,
          -1.4948598672918294,
          6.4304787761695685,
          -5.5463564528183875,
          0.4848656103342498,
          -1.7293338331519559,
          -6.029322823521587,
          5.385417159892215,
          -4.222266208267248,
          -4.740833894762857,
          -1.2151895874856602,
          -5.584304685796175,
          -5.270885558450884,
          0.8942858777433836,
          -1.0274664369837094,
          -10.07362703943149,
          -4.198384766029414,
          6.270607667254921,
          6.7144145224915395,
          -1.270829123495173,
          0.5310971968487204,
          -14.647965890973671,
          -12.714412587012175,
          11.872586183512515,
          1.2767212050662662,
          7.38604631020082,
          2.1978937998155543,
          -1.3866989262088196,
          6.674893670302335,
          -1.2110273428629008,
          0.4876282847234892,
          6.297920302808906,
          6.421890586708589,
          -5.211528901385891,
          -4.286521091430846,
          -4.204535462277259,
          1.4950731573392821,
          0.8727947224477537,
          -4.583609191819304,
          -1.36168915898791,
          -1.373567318061275,
          -1.5247338261973038,
          6.745175295146774,
          -6.087468343915414,
          0.7903980838407072,
          -4.641411661594488,
          -5.025200308112476,
          6.737752781896813,
          0.585458452339957,
          1.0299366816851512,
          -5.256257638382842,
          1.0715265606831923,
          6.573661283740339,
          1.3646004594042946,
          -5.079146259353485,
          6.443139232881982,
          0.5341347062430171,
          0.870410637637795,
          -5.423185281320189,
          -1.269478984122901,
          -1.3653009898353246,
          -3.8059984234973787,
          -5.031499117161676,
          0.42501176805154667,
          0.9595764812707401,
          -4.273577101029585,
          0.7736376688390114,
          6.3469671418352265,
          6.433363116945649,
          -4.804793600160122,
          1.2115092196890604,
          6.4152980251817935,
          0.8460615081547436,
          -5.3443919430729885,
          -1.2130529830554992,
          -8.293324143609842,
          10.460013380504233,
          6.671254216778025,
          -1.0308671739474506,
          -4.87539618928678,
          0.4364889740751122,
          -1.5524890923884889,
          2.6014013194431174,
          6.51228810108545,
          0.5297527389525346,
          1.1492354304121435,
          -1.6022791730980492,
          0.23622086873741632,
          0.5639433397977064,
          7.31374989643186,
          6.920643360490234,
          6.356118757644907,
          6.378430466680286,
          -4.3079587511612285,
          6.655501930369868,
          0.5924693272325213,
          -1.3605434677793335,
          -1.281460147935754,
          1.1802076063925433,
          -0.9696774618468108,
          -5.203067081440259,
          -5.32466714098238,
          -5.498011532593737,
          0.5846982277316903,
          -1.2427770135318807,
          6.908557285975698,
          6.473623511507707,
          6.713949268259331,
          -1.4528195428485768,
          -1.4882424455530034,
          -1.5436471765698778,
          -5.556013577953709,
          -4.769541785941264,
          -5.163877606977891,
          -1.4346367744721902,
          -5.29914786549451,
          -4.457915864127715,
          -4.6475923950637705,
          -5.416528454840526,
          6.726797623071333,
          -4.8079545738299085,
          0.9967355556569988,
          0.6408179951818755,
          -1.3216767117557926,
          6.480201044744584,
          0.9378485426522827,
          0.9844555258443171,
          0.8124370221209888,
          -5.148344093163039,
          6.726015618032179,
          0.749533102473852,
          -1.323967198803116,
          0.8731004147699338,
          0.7252819975688167,
          -1.2159401630964848,
          -1.260622422201703,
          9.330417310903993,
          -4.223612459616091,
          0.7032834861478641,
          -5.452116530919561,
          -1.778552949722342,
          3.834833453253491,
          0.7219611857321326,
          2.534807054684742,
          -1.8705308729287753,
          -1.33788460275327,
          -1.1843439575853187,
          -1.6671488419831508,
          0.7510947519429584,
          0.5636306368967267,
          -1.4000481688614028,
          0.6916296844493895,
          -9.01845371643003,
          6.645043937476503,
          -1.6646188135746693,
          0.4537488198771553,
          6.624347513919173,
          13.974447536910723,
          1.2404370819764075,
          -1.0725858008412479,
          0.5988394957963932,
          1.159450515975654,
          -1.8250697414027839,
          0.3612775269994341,
          -1.277224256647422,
          0.8114088937463427,
          1.264277089484299,
          1.174512026900262,
          -5.2766285721033475,
          5.0843496318879104,
          -6.469212492754647,
          -4.007012242974697,
          0.9887890810063731,
          -0.15685137374845984,
          6.456586025114348,
          -1.2491603037413797,
          6.322196881446776,
          0.46581406723738444,
          -1.9193297448531685,
          6.779238911837985,
          0.851682774493014,
          -1.3324444550956511,
          0.5878117220906833,
          6.32266451982553,
          6.650205336109378,
          -5.079762136899413,
          -5.663499627736771,
          6.080931318903162,
          -1.197699119856912,
          -5.464146542099247,
          -1.353289443430577,
          -1.1846012135707387,
          0.8298591166056721,
          6.637855236364886,
          -4.9888118966121615,
          6.877458766480785,
          6.526113518247504,
          1.010629995867494,
          -4.504737063207287,
          -4.087654501299671,
          -1.1635381850530229,
          1.4395231004292923,
          -5.7205682315676825,
          -1.3742315734699606,
          1.1068906747704668,
          -3.0698732067867,
          6.3438200815452825,
          0.3463658149284238,
          7.2217565520221605,
          -13.37255886257703,
          5.707059532538909,
          -2.5405243527373127,
          6.219498912071501,
          -6.542268020778998,
          -4.752965806126745,
          -1.2734364505766043,
          -8.406735057404415,
          -4.565289665198673,
          1.2550291330579715,
          6.256032599168073,
          -1.5180824106065784,
          -4.463315129993744,
          0.5434200391934249,
          -1.4067255102807128,
          6.604590877571664,
          5.333072902531894,
          -1.6191442037338994,
          -5.433523890557663,
          1.2434206016975784,
          -1.593699887316855,
          0.8437118420848102,
          -4.776493131280401,
          -2.0053483534096053,
          -10.8228902145156,
          6.525036255602631,
          0.5391892587111446,
          -0.9506902922009748,
          -1.549327857373748,
          6.200513978231123,
          -1.4273542232757173,
          -4.903939972767868,
          0.3354280472985966,
          -7.375997979959064,
          -0.8453178804457334,
          0.431685008294701,
          -7.935653236712317,
          7.675176783538324,
          -1.5057718851705768,
          -1.274570942141144,
          -1.3385783368302673,
          -4.388916022494338,
          -2.489200912864582,
          -1.4033684151063157,
          6.7281006081065176,
          -1.1863579544313119,
          -5.3193768244412265,
          -8.985691924939028,
          6.646890476288695,
          6.438928549462961,
          -5.229730171502383,
          6.4477546878296375,
          -1.5199926108815847,
          0.3695493918067178,
          6.309406794306275,
          6.454752427467813,
          6.243187376880831,
          -6.139585129186969,
          -0.15588783402701764,
          6.79925507369915,
          1.1155124434340034,
          -4.823755979882957,
          -1.7541792463960186,
          -12.03896256634005,
          9.251823504239319,
          -1.406249463982382,
          -5.081820330887097,
          -0.16825441339448072,
          1.0364887806951009,
          -1.3795469459688627,
          6.473563182722002,
          6.7218113960024075,
          0.6826275723365736,
          -4.966028534029731,
          0.8367585218298969,
          -5.331399483920118,
          6.650560169982297,
          0.42538735446855347,
          0.582309840598378,
          6.388070377148144,
          -1.4803882287910477,
          -5.5397408721368855,
          6.317332872308612,
          0.9738258791335346,
          -4.771858633378787,
          -7.209232564942101,
          -0.557813172083198,
          -1.3373887066502221,
          6.247351489962965,
          -1.3792649873204443,
          -1.6256465398395499,
          -1.3904947094017874,
          -5.323686322947408,
          6.845125153937502,
          -1.5843068300645264,
          0.37772057726048747,
          6.377894189507713,
          -5.402116822142315,
          6.354916905993042,
          6.5945721642045125,
          6.487476941477989,
          -1.1083838411077576,
          0.5138407531429813,
          0.5338849656643998,
          0.6004929664193939,
          6.067050245267182,
          1.2110372770620264,
          0.7290820583239539,
          6.19714661904669,
          -5.432508690372639,
          0.7612249717322734,
          -1.4999162430725528,
          1.0491191956187178,
          6.5883704120634405,
          0.7282508113874075,
          -1.0790957962249548,
          -4.63242872338145,
          7.664084893952458,
          0.5696501090813669,
          0.9637534584480799,
          0.7570856543922261,
          6.401087724904472,
          7.470204941782638,
          -1.2319548920473267,
          -1.950951749894626,
          -5.283923947284495,
          -5.238008795960563,
          0.8206204298424732,
          -1.263395331389513,
          -5.045471159548233,
          1.0012899552944077,
          -1.8782362479895596,
          -5.534996017816555,
          6.927390800865682,
          -1.261359748669428,
          -4.513058478787307,
          0.8617013286007451,
          -5.428633788419862,
          6.884123998308645,
          -1.342177679960878,
          6.444831217088367,
          -1.2800611412631204,
          -5.234968417777141,
          6.287166595199379,
          6.437111297974758,
          -1.4017357916420006,
          1.0103550320123709,
          -1.6923826463107206,
          -4.628274172100021,
          6.393053805471255,
          -1.3161241285520526,
          -0.8953307350005486,
          -1.2882528962743678,
          -1.4900343632949071,
          0.7877863165937341,
          -4.7073686364293845,
          -6.2460826202963355,
          -1.3478339875693044,
          -5.171782124968635,
          -0.8291229156545535,
          7.95471115460322,
          -4.740468410333219,
          -1.2928210533002185,
          -5.348381439606215,
          6.562575780092689,
          -5.239197878952977,
          6.450964225469738,
          1.2879603433400124,
          -1.2869280630538702,
          6.487025166999799,
          0.48338362671983787,
          -5.548008565945615,
          -5.402163670073808,
          6.828870478527715,
          -1.3803718378916436,
          0.6084993117855578,
          1.3251294892141254,
          -1.3840103518058353,
          -1.8120355088645415,
          0.49455531646519185,
          -1.2611225826015293,
          6.4896966418885995,
          -5.140725749038424,
          6.595279730683079,
          6.67068215825421,
          -5.476102059903603,
          -1.6900172605923263,
          -1.4287039934783952,
          0.5775922152624999,
          1.136107342973172,
          1.0632755516960868,
          -5.299793360405525,
          -1.23204335186219,
          -4.610189518485325,
          0.4597532767357029,
          0.7841148215047549,
          -4.565052424562937,
          -1.3574382074782017,
          6.52700881664963,
          0.49601523146226395,
          6.5885753380064855,
          -6.142959003284301,
          -0.09826090279283717,
          6.756500547461941,
          -1.3800865312524995,
          -5.048990974299261,
          6.350177015977355,
          -10.295121707405825,
          -3.9720091354143636,
          1.1818961281563776,
          -1.44036155134166,
          0.3041393867183673,
          -5.375701148417863,
          -5.576042944262262,
          0.5702668091691797,
          6.66265801256915,
          6.481700005864621,
          -1.2873862774205844,
          -5.952197838282928,
          -5.421989531555943,
          -1.6792378145932503,
          -13.289061947832229,
          6.266361270339781,
          6.28134180733631,
          0.41832969106716983,
          0.340825719585232,
          -1.3495200460328152,
          0.35941658763175977,
          -4.432248954803071,
          -1.6880210573658105,
          0.08439073935741527,
          -4.835028766144878,
          0.972073639466849,
          6.048878874294987,
          -1.066111581045239,
          6.66949654270836,
          -1.0997638993112815,
          -3.43159022976254,
          -1.985264059470731,
          1.1709701322393262,
          -5.253527070819836,
          6.767429705897256,
          -4.961620181210072,
          6.488365297452663,
          1.3683486971860257,
          -4.026049360961961,
          -14.794719142985382,
          7.073006944444094,
          -4.062336376545628,
          6.392886305928562,
          1.1365035294651824,
          1.1748195567261526,
          -10.66115044906728,
          3.4902915221447928,
          -5.726063880264092,
          -5.277775880700813,
          -11.054763991655173,
          3.3026011623019325,
          -1.5303950250504403,
          -0.5816566975967075,
          -1.4924370830212212,
          0.5914190256338245,
          -1.394190654205109,
          1.2501841144231385,
          6.416736991761813,
          -5.724985023619003,
          6.354741797389859,
          -1.5457315316098694,
          -6.109637416375693,
          -0.7988574973444886,
          -4.969547930875036,
          0.09421254599412433,
          0.6253841031239722,
          4.006746870820845,
          -1.9467148435621706,
          -5.097938549864161,
          -1.856779830070031,
          -1.520584542922351,
          1.3877970283054675,
          -4.704598321778127,
          3.826384872314589,
          -4.209567560759339,
          0.7427187707890767,
          -1.2398161983233915,
          -0.5846508954092038,
          -4.740309282788354,
          -4.560733293556624,
          1.2583148054938416,
          6.742609009080651,
          0.7783571831250872,
          -4.3339005607574075,
          -4.172871531642033,
          -5.294374474383133,
          -4.843080746319895,
          -5.431569423637187,
          0.5863153136910083,
          7.409532008786973,
          -1.1110068245359577,
          -1.4857919094548804,
          -4.657540889835268,
          6.541598650905377,
          -0.9994751958317984,
          -1.394202963971583,
          0.6254580951023082,
          0.5049507685134583,
          1.1323251075684377,
          0.5991205989050951,
          6.3945448874313255,
          6.350458847423452,
          -1.3612734450170378,
          0.4511782079525065,
          0.4842248647636635,
          1.8989788091304165,
          1.029565495783424,
          -5.286665017889901,
          0.35221646264450607,
          6.901402796777525,
          1.4232910261606149,
          6.837401404775995,
          -1.2650037254759219,
          -15.485235099615048,
          11.394760311627017,
          -1.709833225317957,
          -4.737059356574016,
          -5.4100661397252106,
          -1.4660729843866644,
          1.5223041476942174,
          6.734434748013362,
          -8.51302766984037,
          -2.7561295761350157,
          -10.677538419977848,
          8.970510480429299,
          6.339086427270349,
          6.610586292276389,
          -5.463542396934077,
          -1.3084263196583306,
          -0.6152886166742635,
          0.3289761441788593,
          -1.1775311461773679,
          6.530271753945489,
          -5.301051772317735,
          -2.5971980932677523,
          6.391309744372873,
          6.75326871243316,
          0.5060318292022942,
          -4.3985070559130905,
          -6.758015564327421,
          2.411278417494179,
          6.462738379219826,
          6.1855502657721075,
          -7.857832437937693,
          2.6900452367688388,
          -1.2009048118465255,
          4.521026755769368,
          -1.9459551784514437,
          6.618910341010574,
          -1.140783457620784,
          6.54579874093365,
          5.758509819329502,
          0.8188938665616776,
          6.502759038134203,
          -5.451641613495402,
          6.8892723704309295,
          6.50124419862703,
          6.705005348391895,
          -1.389646416690085,
          -1.4789702323411702,
          0.0956123363877199,
          -5.536350705906261,
          -1.3305642737368242,
          6.434906309287836,
          0.6976355409507117,
          -0.59942726062898,
          1.2295543260697441,
          -1.4358280203161382,
          6.57674440878618,
          1.4422739137251022,
          5.663184930977916,
          6.331967827981889,
          6.86333970617525,
          -5.4504063051003175,
          -5.304476778422006,
          -5.618720836513556,
          0.33381415110504353,
          6.515661394870489,
          -5.637638768716953,
          -4.550058909129706,
          5.9675924917997,
          -4.703438841105368,
          0.41713576138939107,
          -4.709792064449269,
          0.1854651027992917,
          -4.635082366785205,
          -2.1736737390029,
          6.66116479566771,
          -1.4125002030289133,
          6.620104043737012,
          -5.383445453117798,
          -4.355882123881989,
          -1.3659078223563001,
          6.607564074779297,
          -5.102035201660092,
          -4.946377617968875,
          -1.3087441669178859,
          -1.5116906721416288,
          0.3038076126540829,
          6.330472540253447,
          -4.784967748662751,
          -6.050647878513764,
          -1.197970355737793,
          0.6426449428568481,
          -6.776887108684868,
          0.1358205006597254,
          6.638766212906032,
          6.659552609061433,
          6.8295757786973725,
          -5.370454026195679,
          0.6297547750925403,
          -4.942513100811706,
          6.481621088727253,
          6.440922723320296,
          -15.107219374357935,
          12.820492534909189,
          -4.714024684014182,
          6.214390853433731,
          -5.275444006999502,
          13.563576903887787,
          0.6857721316788075,
          -5.493545461244767,
          -0.5251105593587039,
          -4.62144493187017,
          4.80372626002873,
          0.78325895630571,
          -1.283849379702545,
          -2.006827219441828,
          -1.397347918783542,
          0.5854513892153349,
          6.451756243100408,
          0.5354878523065784,
          6.846080180317316,
          -4.434374327940036,
          6.1278172753477165,
          6.712471555545674,
          -0.18816827163446534,
          6.559838985036413,
          0.4245922190105766,
          7.091742845554862,
          -1.7222558357523614,
          0.11716012835263917,
          -4.995979252535132,
          -0.07424507195513362,
          -5.461755782391371,
          -1.1717309231862807,
          -5.268595872487973,
          6.275726470930585,
          -5.227740065268206,
          -4.940303086569628,
          6.849744375214536,
          -4.770794318426551,
          -4.979401895846633,
          -1.4171254088899687,
          -4.615118586596221,
          -1.5563394251426417,
          -1.240564717118673,
          -4.249321160416195,
          -1.3798807592725182,
          6.700063854332017,
          6.654727408620309,
          -1.3959087441771099,
          -1.4343416167751482,
          -3.9627551988977867,
          11.630345286342026,
          0.14746089670594573,
          6.335651606718217,
          -1.5663856549631012,
          -5.659148019890647,
          0.4139121496358946,
          -6.275851360000918,
          6.5300043400752115,
          -5.135527245773333,
          -1.3701602403359987,
          0.6345692388970884,
          -5.540679447562258,
          6.341879478624198,
          -5.143216912314497,
          5.947677373502731,
          -1.199840634828161,
          6.583148989995857,
          0.6608350858620718,
          6.724794364376978,
          6.368112608802843,
          -1.6221007410495056,
          -5.679186514213845,
          8.168056756845445,
          -5.105084943345581,
          8.346115458330447,
          -1.1246142710717324,
          -3.0792918295585654,
          -4.92668075031358,
          -1.3186231480578483,
          6.797550688646182,
          -4.279226476042952,
          1.0034172479195627,
          0.6788723495202458,
          2.257216072363624,
          5.9137465218314285,
          0.5903977685076615,
          6.6258471750762205,
          -5.181508362693173,
          1.0630704643733053,
          -1.4032766609955154,
          -1.414477546499663,
          6.252647111924902,
          0.12471224349557057,
          -4.881482582941301,
          0.3582697165155299,
          -1.7571695221620447,
          0.5575413801075236,
          -1.5814939102907317,
          0.691226440789909,
          -4.665555928049977,
          0.7452939681596711,
          -5.451158677950831,
          -1.566675893898861,
          -5.003166921910092,
          6.314040427222688,
          -5.355159131459576,
          -5.124728496319088,
          -6.055376293845469,
          6.4521208610592184,
          -5.42106407806051,
          -1.8092048886840495,
          6.344187849210095,
          -1.454869223915852,
          -4.806951860469102,
          -1.613022968415779,
          -5.388782752528238,
          -5.53474254460609,
          -8.012284625837946,
          7.9558566443978185,
          0.7874647386014152,
          1.0887383725167261,
          -1.2423528922215186,
          -5.199347432718802,
          -5.5295216833955765,
          -0.9108148836178869,
          -2.2884309056302405,
          -9.040254319809454,
          -4.22001438397171,
          -1.2751443347115998,
          6.1944676430811745,
          -1.6114491609754387,
          6.479742734644871,
          -5.6122252116637155,
          -5.050304677006131,
          5.5241695267191115,
          -4.07595614197821,
          -0.29470074894745135,
          6.307376297725842,
          -5.237511870755128,
          -1.4767435580872796,
          1.03841396503007,
          6.488157398766346,
          1.0589376421006906,
          -1.2822352515295325,
          -5.127304693538453,
          -1.2290366436782996,
          6.637352144989346,
          0.6305205451322303,
          1.095730225074558,
          6.5697263595706525,
          6.462880081410455,
          6.60552907925317,
          6.810182223137601,
          -4.722888376831517,
          5.952985663480715,
          1.511714136698439,
          6.5044647308644015,
          -1.4255633057007515,
          1.0975043942596803,
          6.601902691664151,
          6.486449509940361,
          -5.328921881020529,
          6.700070961191628,
          2.590883088480691,
          -7.253299235170008,
          -0.45993876455719596,
          0.8441143860095167,
          2.186923279390946,
          -5.282754585617698,
          7.822721406203522,
          6.729651997435878,
          0.4449100998500567,
          1.1332549748102363,
          -7.905293359727434,
          5.828108401767688,
          -5.187202256149969,
          1.2440735311623619,
          6.60911989473665,
          6.573403395302873,
          -12.156722789510352,
          -0.25285768698023003,
          6.554425866157455,
          -3.8231766103364264,
          9.176559095664366,
          -4.921114810936209,
          6.705669004651973,
          1.3847923366340904,
          6.514790312636479,
          -4.496425277894167,
          -5.171194696043399,
          0.8640286360529276,
          -5.629381438657845,
          0.3974849794757381,
          -1.2363688928024146,
          -1.405835940428679,
          6.365580820065675,
          -1.2907737530907195,
          -4.695490834354885,
          -1.5368784011454149,
          6.451419217142137,
          -1.846822730275522,
          6.296543870396132,
          6.512478162285206,
          -5.57140937526828,
          -1.3173063421468951,
          -1.2250254471148874,
          -4.564295731083453,
          -0.4644991563243471,
          6.731519228973921,
          -4.737800150939273,
          -1.4358094888866022,
          1.1564549299447222,
          -5.649354095535799,
          -1.3554172454349223,
          1.3974024506176759,
          -1.235419018940702,
          0.965428049691467,
          6.480513621684637,
          -0.6315973722547311,
          -1.5083381446030368,
          -1.3620503249832516,
          -5.215862762378359,
          0.6080086333547766,
          -1.2545589357645897,
          0.7034717742825763,
          6.615363211860412,
          -5.495242196443906,
          -4.694591326745213,
          -5.211201665114407,
          -4.541005260026206,
          -5.1737811163035055,
          6.5364960858494205,
          -1.5171901861651174,
          -4.701757276582014,
          -1.3072976302032628,
          0.8680434883641549,
          6.600326609885324,
          -4.3172728458850145,
          6.654125888439524,
          -5.192088548083057,
          6.76222314412512,
          -5.593040147546349,
          -5.195186824581196,
          0.7549674271404413,
          -5.256025963354955,
          -1.2815725272102816,
          -6.122664150441433,
          -4.547174983610863,
          1.0305966711090717,
          6.6836394495448195,
          6.858747317316778,
          -1.4184083399254717,
          0.6398948246728808,
          0.3504855583223197,
          6.236785429685647,
          -6.7859300454872855,
          1.3616272738966573,
          0.8479709352382647,
          -1.616858725178651,
          -1.4569304717811045,
          -5.273544143671688,
          0.5147869240267534,
          -5.355363050981275,
          1.3469758458813625,
          0.6202518127507669,
          -1.5265983115869113,
          6.405787327980088,
          -1.6129362197366381,
          -1.3631742840663428,
          -4.217827627451341,
          6.406674786169538,
          -1.2296304456440543,
          -4.44102577463702,
          0.6012121977099156,
          -5.372047277453484,
          -1.3214724631288606,
          7.015741567340592,
          1.3349383991841197,
          1.5457477200688001,
          -5.719898760488318,
          6.4425510768061365,
          -10.963226858519691,
          3.735070049236762,
          5.807025534517392,
          -1.5668628902853945,
          -5.338013098104337,
          -1.4963369913018534,
          -1.1357344864040428,
          6.3403393766019,
          0.7667045763623436,
          -1.8890125973081808,
          5.689421686165356,
          -1.5243506998081602,
          -5.790874084758875,
          0.7058696861262318,
          6.390927818991766,
          -1.6528716231392935,
          0.7505510383222582,
          6.49721845826933,
          6.863124966470296,
          0.6548923783027669,
          0.7486265066146056,
          -11.285025107830256,
          -11.963291898067368,
          7.732815105833675,
          0.846118264098375,
          -5.063715230840201,
          6.899842582690308,
          -5.198857427768087,
          -1.674491370394335,
          -4.8402256801293415,
          -4.817703846580714,
          0.5959015139969789,
          6.198214683303682,
          -5.403290648379263,
          -13.511367344352939,
          5.425083366357838,
          -5.048558039571883,
          -1.5961628905742415,
          -3.159554772337244,
          -4.360997926019635,
          1.0336518782365716,
          0.6625213418201028,
          -1.4844378835228016,
          0.5675027020003247,
          -5.513695336040777,
          6.218607077287809,
          -1.2715846325487485,
          -1.054789026901753,
          0.04706223654112047,
          -3.9529852901389972,
          0.2429939168526982,
          -1.4033182647802553,
          6.404986418900785,
          -5.338998749613337,
          5.909874917580306,
          -4.65500275835011,
          0.9178218015713558,
          0.3181620917704615,
          0.7080801033376527,
          6.812039386342935,
          0.2659339675159402,
          6.294815801709425,
          0.43647723543743294,
          0.49013019067903413,
          0.5168374447156213,
          0.6101950869555172,
          -1.4769312724416983,
          -1.5844271372987608,
          -5.186603239019894,
          1.1957581880899864,
          6.823043706497201,
          0.7588060362986941,
          -5.9803137445471295,
          0.5310336264465569,
          -1.9004191747553822,
          -5.564614208820103,
          -5.6522163102604415,
          -1.073043596462119,
          4.9090589863815515,
          6.599787265535447,
          -4.8873242342628505,
          1.453473829905518,
          -4.209148017643123,
          -10.076732838638303,
          -4.387005640605785,
          -4.992764055985478,
          0.6241663172559813,
          -4.029227356083683,
          1.3861002758372636,
          0.8867111954962259,
          6.665724285673055,
          -5.030012638840484,
          -16.921725484111306,
          10.595290399090349,
          -1.1914313629358753,
          0.40438810886429155,
          5.798837648480085,
          0.5019772305293803,
          6.326315270309516,
          6.672484175730333,
          -17.655719147703437,
          11.27004603564512,
          0.6695993301850464,
          6.374559686774034,
          -1.3827598725884886,
          6.322523517635947,
          6.341240191126997,
          6.721339482152416,
          6.888164607069762,
          -4.884466194017118,
          -4.717967686241406,
          -5.253575117840695,
          0.7977110929496465,
          6.517358549771764,
          -5.250759439446366,
          6.526713346838838,
          -1.3143331271292489,
          -4.823477595884118,
          -1.550796680297242,
          1.1320391009288537,
          6.465789911838462,
          6.590413394483519,
          6.383638324387554,
          -1.4993598093823775,
          -1.0938614342408013,
          -0.38605174145258847,
          1.2831448334527722,
          2.207501749789973,
          6.440786705719138,
          -4.0130895402651054,
          -1.484652104592089,
          6.789041684639488,
          -5.110275154636177,
          6.592643931952305,
          6.7846177273570145,
          -7.369271961047832,
          1.0495335306639333,
          6.473432964655071,
          -5.5959118461639985,
          -1.2300404215963994,
          6.396642982837706,
          6.679628379612334,
          -5.180910281919869,
          -1.3540577359500328,
          -5.077852137123359,
          -4.439742124544898,
          -4.522354642631067,
          -1.4219930913810102,
          6.856354733213122,
          1.0285306712086142,
          -1.4847154201351853,
          -1.3833872241227636,
          6.753750620039966,
          0.3072903827638402,
          6.7693882258973455,
          6.702667401603126,
          6.704359372164637,
          -0.9666128072095735,
          -1.2226287438941281,
          -4.850499749658478,
          -1.4892239049888016,
          -5.481830441775866,
          3.4816961382366833,
          -1.2125361833993773,
          -5.279726903774154,
          6.649808253939808,
          -8.443054161998772,
          5.980614970862606,
          6.3752532872076975,
          -5.1119478414310935,
          1.1900677532028343,
          -1.5517380053125918,
          0.7620761505806318,
          6.618611240864785,
          7.341139160340897,
          -4.249700755588601,
          -5.227925632696009,
          6.401351615400277,
          -4.7927352527622205,
          -3.9839404313926403,
          -1.9559644408447332,
          6.502184887031325,
          -7.025746546618415,
          6.447439366000885,
          7.646544631884262,
          0.6076506926175145,
          -1.2655135703218796,
          0.6883864411108761,
          0.7246820574809699,
          -4.926674926176744,
          0.9593151040034289,
          -5.493698086817547,
          0.9680913404620619,
          6.837782447320904,
          6.564323233127401,
          6.563202405196661,
          0.7925479334676714,
          1.424858873791875,
          2.709857795821406,
          -1.5089645910271474,
          6.512110161974056,
          -5.51830542819447,
          -1.3029829043844459,
          -5.151181480354775,
          6.6063516113003695,
          -9.306692892962916,
          -4.9340575515463785,
          -1.4818285710899382,
          1.0627237271526928,
          0.8672138797565273,
          0.600450943180545,
          0.44666032461248895,
          -1.4311750787522497,
          1.2428541384837013,
          0.22425403448304482,
          -1.458571146497996,
          6.700901194045515,
          -4.144911020494426,
          -5.863899050962892,
          -4.038796858626357,
          -1.7370764365969977,
          6.999938127040771,
          -1.365121262072189,
          -1.5477410089897221,
          -1.648751853933686,
          -5.441940975240571,
          -5.173644075768381,
          1.0633925817640515,
          6.664854547144378,
          -4.952661325893094,
          2.306154006892453,
          6.680824124282969,
          -1.6715715021654582,
          -1.435121013589211,
          6.381439001221198,
          -4.38818744466724,
          6.00093179533178,
          -1.8584198484662144,
          0.9909085710041604,
          -1.3313951504124908,
          -5.1806155537303376,
          -1.746445040210303,
          6.262652121880188,
          -5.200012646271066,
          -1.453763365752169,
          -0.46797451069019663,
          -1.2607587283327037,
          0.8689673317037884,
          -4.569780720329443,
          6.341328902903018,
          -4.966361378244934,
          -5.497391551488344,
          0.5613923461013282,
          -1.2900852436125294,
          -5.429481135156653,
          -4.451432542442157,
          0.6957266739261452,
          -1.0610125235155172,
          0.49631291407766004,
          0.528491920864044,
          6.788106627263027,
          1.0679755786211562,
          1.1695323262205422,
          6.596168072328391,
          -4.694745893090684,
          6.54007826686697,
          -12.725192967296014,
          6.816496309501536,
          -12.566985058935735,
          7.950822393906021,
          -5.163209433888163,
          -1.40011363748669,
          -5.217541481217607,
          0.5113361333997919,
          -1.5947013169978115,
          6.773269095690838,
          0.5119922219785227,
          6.482723332891179,
          -4.114772467300767,
          -4.56425858537345,
          -5.365959673625933,
          -4.639570685943685,
          -7.180929148675187,
          2.8881516217555894,
          1.2901105908531025,
          -6.268142387182556,
          -1.0348380728203996,
          -1.3099756495323485,
          0.026521584310720502,
          6.337568847719446,
          0.63006948408647,
          -4.659646944496502,
          -4.826333491331932,
          -4.9665642832045584,
          -4.4101870035197255,
          -5.213366676094755,
          6.459918691073847,
          0.8355413219401844,
          0.40049224628592756,
          -1.4287186676060835,
          -1.781558479476283,
          6.848296657914398,
          -5.057779243121897,
          -5.2196965828068365,
          1.499768033412538,
          -1.425976855764883,
          0.4821184419702563,
          -5.300055628615425,
          6.271099376305908,
          0.5933108917628982,
          -1.2606906706427976,
          6.3290300168858495,
          6.596872649393367,
          -4.467771402011911,
          -4.549337351793675,
          6.656670294195465,
          -1.3921234496500308,
          -12.610996292849123,
          5.108803362672246,
          -10.887365790793373,
          4.169331245781549,
          6.428436969753969,
          0.3511830759531637,
          11.42029036679224,
          -6.807961015860668,
          -0.6586625133852847,
          -5.202671101393332,
          5.769649561607637,
          -5.30626240704219,
          -1.480332493420548,
          1.1674888181249576,
          -5.196174254032478,
          -1.4932675628325265,
          6.492972125537826,
          1.5081044772323329,
          -1.5134794204453197,
          -1.2032444012714956,
          0.7442756366541226,
          -5.204454212357158,
          0.9500309575688923,
          -1.5414498684513738,
          0.23872765070737642,
          6.348210977096462,
          0.5922704964996452,
          -1.7250887927921204,
          -4.655371473065131,
          1.416606968775047,
          0.5935679593133953,
          0.4261329766833322,
          1.0035901282984685,
          6.758923795185681,
          -16.880285205626556,
          11.85600246279352,
          6.613477989720035,
          -4.5441006069164915,
          -1.483107157884168,
          1.4552328551610025,
          1.2122811380507088,
          0.9329104824209834,
          -6.082987696792212,
          6.7728564478739335,
          6.337424505434891,
          6.613876415351279,
          6.253193616834002,
          0.9721599696030925,
          6.25340863501225,
          -6.162756232734264,
          0.9727833024011431,
          6.710493315905364,
          -5.443715871477706,
          -4.739823955441089,
          5.66455634750572,
          -1.4665817962246719,
          0.9520417975338598,
          -8.814219106172773,
          4.7197616110747145,
          0.5589152365106285,
          6.759228863437549
         ],
         "xaxis": "x",
         "y": [
          9.068497175274988,
          7.9073345707621066,
          3.126444006733314,
          -1.6523726482608165,
          1.5850878455390953,
          2.105148116329756,
          -1.7461495294517593,
          2.2950858202182425,
          -4.087884184709281,
          2.04356804495447,
          -1.5486307793925107,
          2.155086833440046,
          2.2214712502520473,
          6.368187941271524,
          3.302618166084486,
          -1.1579205368000698,
          2.240874052662798,
          -4.28278946420588,
          2.0797662431507824,
          -1.2193643748300853,
          -1.1111103067759975,
          2.5972463469070544,
          2.073112299241537,
          -1.1817014647177833,
          -0.37108507098538207,
          3.471477006853563,
          -2.7245306943578402,
          0.041727982147514255,
          -2.612389906769354,
          8.547224502495235,
          4.057563636148612,
          3.714825471151094,
          3.255529773535389,
          -2.266538394510923,
          0.7787485213080907,
          4.354164871066668,
          0.6858690654169827,
          4.257647960179658,
          -2.1439457456084425,
          4.100625214670962,
          3.588912339700015,
          -1.7944877590014479,
          3.9369931775015767,
          15.167119958208223,
          -2.195846012951767,
          0.5059339514452855,
          -1.266714548219682,
          0.29318094936432243,
          -2.33159131472513,
          5.735040955446019,
          6.355845567851775,
          3.5558660226081833,
          9.580870314630682,
          0.6391978189333074,
          4.291707597853916,
          0.816887430754959,
          4.112068104727752,
          -2.126334937498536,
          -2.1560835096092528,
          4.106789486825186,
          3.951143149074236,
          0.5237533617786024,
          13.17899679392458,
          9.007465611955173,
          -2.801449953604102,
          -2.602063487239116,
          3.521758395207993,
          0.6415285147582338,
          3.5848463529239925,
          -0.02762897241041728,
          2.319778410069604,
          3.4265173131807214,
          3.2139030783106413,
          -2.7853806459688677,
          -3.0966797604518503,
          11.328678095115414,
          -2.7617827620896342,
          2.6270725810603315,
          3.3006534205840117,
          -0.14574562128501073,
          -2.5988906036528756,
          3.554715717347537,
          -2.967662415206539,
          -3.2787537748552564,
          -2.621092477277841,
          2.848196207747611,
          -3.029118350451314,
          -0.04407697601637442,
          3.4982762239167218,
          -2.3759216106177177,
          -2.6307874447952604,
          3.7962968487219206,
          4.381534345382576,
          -0.09432626326517907,
          -0.3232827303950837,
          -0.616420226324735,
          2.7714162391103483,
          0.05322845212308028,
          -2.753780380195214,
          2.9737541169962505,
          3.120045030093727,
          4.963315474777184,
          2.91481851111564,
          3.4685592134463388,
          6.657734616108133,
          -0.12878512670219447,
          -3.394769366304722,
          -0.5905723373808616,
          -3.4043505304631294,
          -4.071066711884874,
          -1.3469514181903186,
          -1.6848329770698105,
          -4.245276931674351,
          -1.672271955576773,
          2.035833680869615,
          -2.2092413246248954,
          1.5716841281865932,
          1.9283828645073342,
          -1.8095851639878138,
          -1.7634922562625164,
          -4.818311008315501,
          -1.8173057313029541,
          -1.6410929595293458,
          -1.188924083877959,
          1.6579245587463702,
          2.221528230491693,
          11.367131891894118,
          2.2433040464673475,
          -1.4889818462974214,
          -3.885695438209722,
          2.0476880639558,
          2.394128253258652,
          2.3729260687754388,
          2.4518063026318577,
          1.1185676487813097,
          -3.6668856466033937,
          -0.5194692128700401,
          -3.649823955639018,
          -1.0957854537453622,
          -3.4544515308545805,
          -0.0010739258826438305,
          2.8783531103705937,
          -0.5100437375007478,
          -0.7313420642395213,
          3.2596694898939944,
          -0.2556697923905506,
          -0.4623158108979392,
          8.863898727478277,
          14.014501122689472,
          4.380559201214905,
          2.5081967650539423,
          2.6214077342318483,
          -0.6792140669235819,
          -3.7736179934439624,
          -3.2302163995930213,
          2.8108543593851363,
          -0.8792442173732921,
          2.652965597713899,
          4.840274568699247,
          2.4073736872479348,
          -1.6914899512816122,
          -1.5535646226507118,
          1.4986843637891938,
          -0.3669665498681421,
          2.3699748303448094,
          3.106816018799415,
          2.2874947819864935,
          2.440618163748448,
          2.3488928135224163,
          -4.306256890557989,
          2.689668214299715,
          2.621851269002598,
          6.62032212685711,
          5.2200767018175505,
          1.7720819098125002,
          2.563464014586382,
          6.95319987324771,
          2.72660606904497,
          1.6749336365703318,
          -0.0514034767514083,
          1.9608318150525677,
          1.812638409166586,
          0.3628994574654451,
          -1.4380889535774548,
          -4.525276728528507,
          1.2079097441015278,
          1.3666134904944274,
          -1.93434216642776,
          2.2342274429666684,
          2.1364119178353604,
          -4.378128343940987,
          -4.316997684749179,
          7.817344425668025,
          -4.552048705531371,
          -1.4976102358579866,
          -4.570920738141997,
          1.7921670586119227,
          1.858064796539966,
          -4.598554701729107,
          -4.426291312319322,
          1.102472503719089,
          -4.848851448558396,
          -2.233648278420669,
          -4.372926492889828,
          -4.629923124551126,
          1.4636810871783066,
          1.5634691964202847,
          -0.13530000876678994,
          1.6656360195331659,
          -2.2756675751178768,
          1.3215398963562057,
          -2.1266075011868675,
          1.4523888276851595,
          -1.7738822445814855,
          1.5667114123374457,
          -2.316764224159659,
          1.520371597747022,
          -4.813046932517932,
          1.408195058886932,
          -2.5665355349232217,
          1.1661121122081566,
          -2.5989703448604566,
          -4.968949697501194,
          -2.225197251369573,
          1.539371010053672,
          0.861723064347848,
          1.4040327775253014,
          1.2657063012197483,
          -1.6479287918989631,
          1.2425202896379435,
          1.333267596994404,
          -4.130434756965755,
          2.1190387574626626,
          3.1060494686818325,
          -1.6328127009845013,
          -3.5622014383894935,
          13.043831236342442,
          -1.4466237459890372,
          -1.458384353970585,
          2.192731631556478,
          -1.655918396878935,
          1.3663085727868713,
          -4.467977183385157,
          -1.3551295696545727,
          -1.4363424031901773,
          -4.426054181393499,
          2.1551268454153485,
          -4.306364531634656,
          1.8659779776194054,
          2.481779253743106,
          -3.6813577452008794,
          8.86075788872319,
          4.5972502498562475,
          -2.125713746369821,
          -3.944734303379369,
          -1.2417815876971554,
          11.877839704829931,
          4.597068240342585,
          -1.7015245709872509,
          3.1931670825562333,
          -0.5434643926059571,
          -0.6806943040222685,
          -0.7767712877908994,
          3.508476161773515,
          0.5581655160037904,
          3.8324729928050756,
          -2.379852417595057,
          0.2466024681004746,
          0.6039484213931313,
          -2.388569094265347,
          3.8741748499263204,
          3.5307395235926893,
          -0.005025422183159999,
          -2.066019180013341,
          0.7018325166802308,
          4.479525424802784,
          10.132993027565961,
          4.01214769308402,
          -1.9398013060069241,
          9.8459121120641,
          5.818789690411647,
          1.1633609808179557,
          4.294104013510868,
          3.295431151360584,
          9.376376540997324,
          6.008868221081165,
          4.117412308488718,
          4.270937056096273,
          4.123803774286327,
          0.5027983871659248,
          3.7072289752155294,
          3.8488166705393327,
          15.3115930174312,
          0.2472516472681078,
          -1.865733990385261,
          -1.6290260879235237,
          0.8616379208555399,
          3.6422474550361112,
          -2.0556518802435666,
          0.6600679386363753,
          4.164820731502769,
          3.9475460766239348,
          3.9280265815457347,
          4.496342065112612,
          4.929352491652371,
          14.171046793126866,
          3.891963726316353,
          -2.1739924672980053,
          -2.3972324200770707,
          4.083699660355241,
          3.2891691715894495,
          3.37373544198757,
          0.021007600996444158,
          19.474440432095893,
          4.475838285475423,
          9.555070099282354,
          16.174809394414225,
          11.976921034816845,
          10.6718248670065,
          3.4943893064897726,
          3.035828995998451,
          2.5696757604762417,
          3.099773755206306,
          2.3163141913478387,
          -3.993347860419329,
          9.337877745707566,
          5.468409297226029,
          3.3494168339513486,
          2.7706934516114314,
          2.7091937580681975,
          2.4504175189247968,
          2.0231867691923777,
          -3.4355954835105718,
          2.729783393600881,
          -0.6372000103934158,
          9.098355187229279,
          3.0527741843847562,
          -3.3467046281312913,
          2.9503118165772486,
          -0.37863968388053343,
          10.774578558345251,
          -3.2842252909478566,
          -3.329387311484933,
          -3.5074241834659916,
          -3.4010665391793173,
          2.48692828213075,
          -4.228017647077737,
          -1.293399616495714,
          -3.5916853745986708,
          -0.969485045633866,
          -1.2467222503599622,
          2.428283749702721,
          -0.6723179382083341,
          -3.4039655225474634,
          -1.1395424940889145,
          11.282629058615624,
          -0.8553526220081901,
          2.7267975744666075,
          -1.2247974791808534,
          1.624780992099245,
          2.717586145375874,
          -3.8704004173841495,
          2.212208915811285,
          2.5158352615300106,
          5.3310305947929955,
          -1.3597952118149457,
          0.03150214288846607,
          -0.4145020309825381,
          2.9436236818403794,
          5.047824418059653,
          2.3013023792380096,
          -0.8348626306274661,
          -0.915099274735158,
          4.072972485852764,
          3.139186298392934,
          -3.1782629558826256,
          -0.8728420659516266,
          2.2902153435730233,
          -3.5839659817782556,
          2.2057241020640093,
          2.0905169970927564,
          -2.329988987498518,
          -0.6024516717366938,
          -4.046791486387342,
          1.3077799063473137,
          -0.43749951860661546,
          1.7040402150030456,
          -1.9670632399127117,
          11.712408654833252,
          15.14468461992915,
          6.71416122382422,
          3.9075269328836035,
          -1.6702055024910765,
          6.773871869574225,
          -0.8357797260644763,
          1.9087478090882473,
          -2.119984339447324,
          -2.690176800338164,
          -2.4918985348986467,
          9.100648698412806,
          -5.250403263541008,
          -2.382042532616006,
          4.846718964532631,
          1.5008718400550454,
          6.665322865213068,
          1.5447019876630537,
          -2.690705336849602,
          2.3174701896048298,
          1.0215361667024179,
          7.931233270985249,
          3.840029661645817,
          -4.798289600367387,
          1.665821634906549,
          4.7600993400490035,
          -1.7797998084248425,
          -2.4889790207766973,
          -4.442517205907401,
          14.90469383710966,
          0.8630747122290134,
          -5.329105026742586,
          -2.38613262976344,
          -4.697399865503651,
          -1.7028104718209596,
          -1.7801775574157752,
          -2.113054352510788,
          1.5004020634903523,
          4.785948913554474,
          -3.627058310559732,
          -5.120729389455332,
          -4.953547256120809,
          -4.834927860260342,
          -5.105733887776395,
          -1.8647007343754969,
          -2.2744088257696418,
          -5.28333003215095,
          0.9411340931689663,
          -5.220844851656781,
          -2.983302548670115,
          -6.011417002957576,
          0.2677253343100334,
          0.4935726098978199,
          -3.221410547486271,
          0.3972858825359358,
          -0.20880005826702136,
          0.20564704243820306,
          6.616798509065059,
          1.3877427303983738,
          -3.1713742590989265,
          -5.822969181826697,
          0.9210217324767849,
          0.3161112241135584,
          -5.905563573025867,
          0.16553279522887868,
          0.2550958378167758,
          1.2884881504848413,
          0.6055495199033648,
          -5.856585026908147,
          0.5841362852040131,
          0.45782417708555173,
          -5.767482471821138,
          -3.0771909585763892,
          0.9620664378703443,
          0.38655191554743107,
          2.378972719444707,
          0.598634617750411,
          0.8736337202498294,
          14.316278411425609,
          -5.435514339249082,
          0.8349295350386716,
          0.4363957678403123,
          -2.2805311917010096,
          3.7958991351454667,
          3.067203184339582,
          0.7613874427625354,
          -5.20519482742339,
          0.7973668038916002,
          4.981359050890323,
          2.7707460127264194,
          -5.824780110032336,
          1.1258270844578018,
          1.0098181644877013,
          9.026442984814636,
          0.9270730710735398,
          1.5089421327795765,
          -1.7994683145291634,
          -4.643343997813606,
          -4.726310464360037,
          -1.3025949502438499,
          -4.283967537786917,
          -1.989960970956947,
          -1.961560859625543,
          -1.8244118421005426,
          1.7970725400119196,
          0.38520417403561674,
          6.433409393939739,
          1.2517995416729406,
          1.2498063479430428,
          0.8223147816893431,
          1.4529701830902833,
          -0.7926063964856853,
          1.5335420859421316,
          0.9129051416727094,
          1.1991113044738608,
          0.6941629413680499,
          9.58430112933057,
          0.5977697950339769,
          -5.858297733187006,
          0.3419157630539812,
          -5.942195209563187,
          1.6407518706393167,
          -0.39811982791395734,
          -6.322346883325421,
          0.0744153099802739,
          -6.142966307616857,
          -0.18725142757443178,
          -0.17130689262920443,
          0.2613609621820055,
          0.16963434196626512,
          0.8135362953883317,
          -6.11001471453645,
          -5.877825434127423,
          -3.0398518902657905,
          0.5823325100507345,
          -5.713253322164092,
          -3.1939812092128226,
          -2.977912261052716,
          -5.549925492648426,
          -6.144388862156819,
          2.6201447104639524,
          2.2816418543494703,
          0.4298480433333328,
          -0.6584966881597714,
          2.25922746903513,
          -0.4609355887826953,
          10.30013161453857,
          6.580293557536362,
          -3.7061345155423506,
          -2.3173171279019495,
          -3.94772214483638,
          0.09089121034235333,
          -6.162521703271382,
          -6.002092992847519,
          -0.5353329695083338,
          -0.08960105103025416,
          -3.7940917994354844,
          -3.9334053618265354,
          -0.2294406423373551,
          -0.565171890875215,
          -6.251079967304169,
          0.19443718417710798,
          -0.32439415602746074,
          -6.865096827237545,
          -0.5108915542954692,
          -4.136217213556455,
          -0.7876319104969268,
          -0.47312087503129174,
          -4.006052787848819,
          -3.713969838554692,
          -6.103698515027944,
          -0.38492272600905697,
          -3.6395599688066014,
          0.13426988752599256,
          -0.040787802220201966,
          8.680458003126033,
          -4.157586127445753,
          -3.1815946001124327,
          0.517930545144532,
          -3.013633644172862,
          0.55780772568268,
          0.4871331275071211,
          0.35209636185364507,
          0.2069350685995677,
          0.17980343498122658,
          0.9242039501865422,
          -2.2916022609692694,
          -6.866549092109253,
          -6.34035376273965,
          -5.814553453451249,
          0.03183901832947295,
          0.01584350425932415,
          -6.0292692213133,
          -0.3028761864170708,
          0.05720827727561598,
          0.10709883026982499,
          -0.09396130163190863,
          0.46913056250845525,
          -3.1989871996623025,
          0.6802180670683241,
          6.357406094319825,
          1.3116347300897786,
          -0.2714392406906012,
          -2.9438886001360176,
          -0.11262105386464429,
          0.5130903135704568,
          0.4412667178727378,
          0.06303472406781568,
          -3.09488570385586,
          0.5370659598146814,
          0.07687758224117155,
          -2.994381615187094,
          -2.5408174793808467,
          -2.812206363544286,
          -2.8809566935228696,
          -5.617990185365239,
          -0.3523409240161967,
          -3.476142616829779,
          -0.05618882185049209,
          -4.078239332734529,
          -0.3722101827914622,
          -0.7562587423833255,
          6.843970939965787,
          2.6674750432425904,
          5.154886292791783,
          -2.618353019935723,
          -6.282944722193642,
          -6.361472998432471,
          -0.2946272091671874,
          3.8778429683857607,
          -0.8314054911097896,
          -3.498211088627672,
          11.80747719070351,
          0.27652153115887973,
          -0.27830355195425044,
          -6.20536592515535,
          0.028412694531974748,
          -0.6309839802240711,
          -0.5195446724523679,
          0.4332633176512459,
          3.7139586687541604,
          0.09520648467192794,
          2.9144656896783188,
          -2.8865193781419944,
          -5.568085237916833,
          0.2387720082187746,
          0.05790790943027658,
          0.0026519458436496286,
          -2.2194963185359096,
          -4.168672724084351,
          -0.3868874046211271,
          -0.7008183098090865,
          -3.764854746201984,
          -5.759018091164993,
          -5.645564799867568,
          -0.890310351808719,
          0.0530511668101838,
          -6.3311482722395604,
          -6.013309527566767,
          -6.58833360517829,
          -5.9077617822657285,
          -0.4391542918419203,
          -3.186699069428506,
          -2.9295703529807047,
          -0.3034671283980716,
          -4.2418081955354525,
          -0.6517009852297764,
          -0.28767451660006693,
          -4.567444386042709,
          -1.107250571271402,
          -0.8309906641669452,
          -1.213035668183551,
          -4.6837817130710855,
          -7.922862564892436,
          -4.285087358139884,
          -0.9444239930411459,
          -4.325042809666136,
          -7.643183898885463,
          -4.5477526499850764,
          -1.4934748709722792,
          -7.114644687253649,
          -0.9112138964349512,
          -1.450073195391238,
          -1.1186686215884014,
          -1.3450499387602894,
          -2.5739578141055857,
          -7.278270195670672,
          -3.800435474989645,
          3.0670970158571285,
          -4.357007673192341,
          -6.030587608846215,
          -0.5191774851570518,
          1.3602765475804648,
          1.1318609956198296,
          -1.1440391254910574,
          -6.9921426905983015,
          5.665891880850531,
          -0.32496731680183955,
          -5.5520136766331865,
          -6.241691940121644,
          -6.576351785705073,
          -4.263996667842852,
          2.589892849510798,
          2.253588642677444,
          1.2354393676543967,
          -1.3560391278988384,
          -1.1260995976775705,
          -4.422371605806472,
          -6.735110607501382,
          -3.3547856638891456,
          -6.725846070893519,
          -1.347319788152064,
          -0.9129451469797807,
          -4.214524239813278,
          -2.0256722797206113,
          -7.335246096625872,
          -1.3230239705921376,
          -7.3523097705091205,
          -4.769742644251923,
          -1.5528467326271538,
          -7.370592703518414,
          -7.391058609734305,
          -1.0803328839916584,
          -5.267111818948607,
          -4.406951494560134,
          -4.68504817006159,
          -0.9089675712025486,
          -0.8675745963858265,
          -1.6373752111274027,
          -7.090979010170882,
          -7.534987947115983,
          -7.310487113925878,
          -1.0851342232142356,
          -7.354116911305153,
          -0.7641302604368894,
          -7.392601324127756,
          -0.9839531136418954,
          -4.28618121204525,
          -7.3271139248453165,
          -1.0479329067657965,
          -6.681801226953028,
          -0.8762522056084793,
          9.311214087660472,
          1.8702855436642034,
          -4.244878692547152,
          13.729643017134746,
          -4.174627527176513,
          -7.063371710832833,
          -6.858528752282327,
          -0.632002796774666,
          -0.6926241697561425,
          -4.275480648159591,
          -0.7912822284734488,
          -3.8199729617574456,
          -6.6162471474969236,
          -6.862832713932781,
          -4.548925369673201,
          5.102444052185064,
          -6.98198778232757,
          -0.45304002738754545,
          -7.274519696751825,
          -6.7319207813099355,
          4.729957152953873,
          -2.884016199146536,
          -6.760199622309561,
          4.072911951821322,
          -7.4181233588095,
          -0.7026915635210114,
          -3.9589035248524667,
          -4.121792438142353,
          -1.025794331307029,
          -0.8847362462495926,
          -0.5722110775659812,
          7.619067685097394,
          7.615091667493264,
          -0.7111244864769493,
          -6.863873456563131,
          -7.0725281016784525,
          -6.762634276758392,
          -0.29735467011477323,
          8.221471146710975,
          -1.0490579102925057,
          -4.012118470323892,
          -4.208091617086025,
          -4.378249837215135,
          -1.3342657263165425,
          -4.441446922751143,
          -0.643082356880406,
          -4.163045940129354,
          -1.0043745840306475,
          0.08770245753364353,
          -1.7842341419327805,
          -6.667081975256677,
          -6.413535368255914,
          -0.6848868311456737,
          -3.6320251455447226,
          -4.484575103691454,
          -1.3026317855107887,
          -6.815471323076787,
          -3.932486639292676,
          -0.6461527658003804,
          -0.9799227331030622,
          -7.177127408191188,
          -7.0562873419341425,
          -0.3024562835580258,
          -0.8155037599863844,
          -7.2377358520010535,
          -1.073296021455989,
          -7.423405917690314,
          -4.8595864382652465,
          -4.6484146328411455,
          -4.560477522340243,
          -0.27515950057049027,
          9.647432511374499,
          -4.193533633265951,
          -0.954928634572916,
          -4.16436746555558,
          -0.5236065901116854,
          -0.2512181216611847,
          -6.579214282657442,
          -3.5573624088262616,
          -7.24161022922958,
          -3.86204371594103,
          -0.7408486787794137,
          -3.829763180845291,
          -0.44133247942069076,
          -0.29797424389210103,
          -6.805108151395837,
          -0.608139866700218,
          -0.34161839196804916,
          -6.9952416591524145,
          -0.5800765822067674,
          -4.023460096850777,
          -7.311362192241752,
          -1.2216717156573378,
          -0.5575243639728903,
          0.1699328076368911,
          -5.426876866094924,
          -0.3781168379372406,
          12.422666976855387,
          -6.8321567258259295,
          10.395548796562066,
          3.9003485637886297,
          11.74022996666522,
          -3.844191963556447,
          -0.13350095969555928,
          -0.31031581865587976,
          -3.663626493176982,
          -0.040416834816288785,
          -0.9250467489180376,
          -0.6397883336939427,
          -4.412105104008071,
          -0.5927615139326088,
          -4.172196718964951,
          -0.9547502031171942,
          -0.3951513695801823,
          -0.23999247274234434,
          -0.08211919007883806,
          -6.508862047566172,
          -4.138693214497322,
          -5.014752615927316,
          -3.845711797807214,
          -7.010454892956962,
          -0.8108430268518013,
          -0.7646118211888391,
          -0.9587357884533588,
          -6.8661328666176,
          -0.5643228573997047,
          -0.4346608387065246,
          5.519424350079042,
          5.315316961251586,
          0.15311540462348364,
          -6.639850510644335,
          -1.0392228661254255,
          -6.731474779901914,
          -2.407141703799271,
          -4.214489351000999,
          -6.8335816283291955,
          -4.104030807630069,
          -0.8796731387439259,
          4.913876454550062,
          2.300341137369777,
          -0.7603849905795496,
          -1.426401544675207,
          -7.026629541539339,
          -1.0202079145681546,
          0.5294535389943134,
          -5.223884629431321,
          -0.4963212256620733,
          5.962650776913516,
          0.376220606537347,
          10.294444311418228,
          -6.796213424195067,
          -7.214600318976409,
          -3.2389868958385133,
          -1.7170584087362037,
          -7.103123593989582,
          -1.2038801770953294,
          -2.963329999298796,
          -4.40151789189842,
          -1.028361032994419,
          -7.1759773511926515,
          -1.5664253392084124,
          -6.943128914494146,
          -1.0798341043371722,
          -0.5336290328926222,
          -1.0127810985206938,
          -3.6480459706496107,
          -6.1564563594325294,
          -6.259575985713312,
          -0.22994584592470177,
          -6.483307836799809,
          -0.42649258945428903,
          1.5049202889021935,
          2.4722885857171777,
          -2.203173993438978,
          -3.8583535143443073,
          6.5837426311749105,
          4.078934222339401,
          -1.282151393614518,
          -4.310518682258456,
          -1.603327606849243,
          -4.181004114115601,
          -4.666583245977301,
          -0.9440594666175657,
          -5.203860090087824,
          -4.7669183211108885,
          -7.2885535161337325,
          -0.8567544557803621,
          -1.3053949996305343,
          -7.952261329162238,
          -7.568555205614249,
          -1.9397596029970379,
          -1.0531145575738237,
          -1.4933591344956136,
          -1.464397233763261,
          -1.5914104712157484,
          -5.772431336836682,
          -8.349816118571244,
          -1.5605017265561554,
          -8.245630611694745,
          -2.135261491236395,
          -8.14608410852834,
          -1.6482508693611604,
          -1.459233911240444,
          -8.102589320698705,
          -2.2140785539794066,
          -1.797907145442952,
          -2.4177463812406965,
          -1.6123064877816673,
          -7.431395575392577,
          -5.075739637840917,
          -2.172223401002781,
          -5.5971077045434425,
          -8.132166298569643,
          1.2063629374291878,
          -3.922228724190642,
          2.073174213893338,
          -2.34152764059704,
          -8.166681763240554,
          -5.559452748850589,
          -2.4952424158616693,
          -2.2126071591973058,
          -1.6762742986831565,
          -7.237042947091859,
          -2.129218745501698,
          -6.189760618135449,
          -2.600802840945028,
          -2.31830173146025,
          -6.311452027310474,
          -2.1746749759596633,
          -1.3713114429004827,
          0.674936738980418,
          -1.776055563571625,
          -1.5562733942996068,
          -7.369771330909316,
          -0.45017922144098665,
          -4.395985671403574,
          -6.988044769114793,
          -0.891475927767433,
          -0.36828161636967716,
          -6.302068878180422,
          -1.3402995021146766,
          -1.0226829943322895,
          -0.8926469222939484,
          -5.15655434426646,
          -4.404043937498789,
          5.7555317997914015,
          -0.28741284837747744,
          -4.39596833950719,
          -4.664421585107111,
          -7.443130130493513,
          -1.484872264200274,
          -8.251022242782543,
          -2.34672901133352,
          -2.3953680992855664,
          -2.1929344220735785,
          -5.071783116853028,
          -3.285414714864746,
          -7.8462127180790455,
          -7.498565933215006,
          -1.2437256434155752,
          -1.1234298357319674,
          5.640362158136742,
          0.4275214047407078,
          -1.4179408424700535,
          -1.6106206038772235,
          -1.1999747567941283,
          -8.001693356260825,
          -7.814313953494032,
          -7.565890032864878,
          -0.9652390289080678,
          -6.6350645300272,
          -3.996107584243688,
          -1.0352492771127892,
          -6.682464421917307,
          -3.071508476004101,
          4.999692096417147,
          8.011957813837121,
          3.2115289740494,
          -3.290378778528141,
          -6.021572708915285,
          -5.908154861295435,
          -0.5576854398759548,
          0.2051427001601319,
          -5.670236444888203,
          0.11285018908307985,
          -3.285160871001022,
          4.221480566532321,
          0.81973860575222,
          0.07605739666477931,
          0.18071769955426167,
          0.18390791721508115,
          0.2803184985997183,
          0.07987070609222899,
          0.2144053820169393,
          -3.402154052978104,
          0.011820072676603465,
          -0.1927796257286963,
          -3.5686783332422976,
          -3.1101646636616302,
          -0.01681574647719,
          0.025408209853629835,
          -3.3080803885759003,
          -6.09653650488463,
          11.135574236113742,
          -3.642751392681553,
          0.1884934872104036,
          -6.374235091894133,
          -0.29234139535636416,
          -0.005698265462673876,
          -1.2381075996527042,
          -0.058793742090385744,
          -3.4674573962100808,
          -0.2428383598782649,
          -3.7464608189620723,
          -0.2234618370253645,
          0.9081012740382257,
          -0.39944793306499676,
          -0.5962422889224772,
          2.3867552924465207,
          -0.6737121101277236,
          -0.7749779774846435,
          -0.4659569621517712,
          2.3845101560943998,
          -3.7837225373249073,
          -0.6546178836003139,
          -4.114023508642826,
          -6.4374058311286975,
          -3.8378886823132294,
          -6.356764431154315,
          -6.434369588345176,
          -4.33245295690014,
          -0.521847873379824,
          -6.703301188115455,
          0.07249125012821561,
          -0.22139511062473186,
          5.177482744762559,
          1.99164772926142,
          0.16292805745527278,
          0.4056412717802501,
          -5.126216242166493,
          0.32427734625274385,
          0.7045258717190405,
          -5.407127633500959,
          3.481254253073741,
          -1.3538974792479583,
          1.1426039670527846,
          -2.657576400798645,
          3.291890189958577,
          7.0115154105814455,
          3.941999155657967,
          0.6718708618115152,
          0.7919768365650232,
          0.6788200998062469,
          -2.602878544224998,
          -5.177617743579196,
          -0.16725259574849133,
          -5.689403958143069,
          -5.7014065002965975,
          1.405519343138965,
          -2.930593926403702,
          -6.289170062908219,
          -3.2663281305122425,
          0.29860502619438534,
          -0.02998080259347026,
          -3.74676290454144,
          -3.741822580597737,
          13.388647968489256,
          3.0266623361118468,
          -3.7416591476447323,
          -3.82859950407285,
          -6.36355535234722,
          2.1690807338880544,
          -5.342461149771834,
          -0.4941900808104374,
          -3.7089912201818986,
          -3.7160380820948333,
          -4.159805336958231,
          10.424581321898502,
          -0.6294179059329574,
          -0.5340642701686841,
          -0.5994993801301168,
          -6.943884981707799,
          -4.034599892829992,
          3.398929401724798,
          -0.9911216061098502,
          -0.2828336972475747,
          -3.8550880488032013,
          -6.533398905819499,
          -0.34461574980784543,
          -3.908054788308209,
          0.35757020625373587,
          -0.8576115672827748,
          -6.7185653128710765,
          -6.717132488517685,
          -3.9527806196560373,
          -0.35026861591534275,
          -0.389594127452242,
          -0.5761006816852237,
          -0.5617278655508019,
          -7.289005638217746,
          2.5781018180816697,
          -1.732396072738268,
          -4.171024914996648,
          -4.164765736203249,
          -4.482115130104951,
          -5.090320378637158,
          -7.713665614433932,
          -1.0635597429189263,
          -5.105806462437329,
          -1.2588805309153297,
          -0.9108916931401446,
          -1.3700713022518507,
          -4.462899537519493,
          -7.102844925017246,
          -4.5916281694427274,
          -6.625713461266618,
          -7.179902916879219,
          -0.7655762437809867,
          -1.0195031455214627,
          -4.2020825042159915,
          -4.244986380082403,
          10.288398884459118,
          -1.182994944367255,
          -7.232218626299128,
          -7.089532528164885,
          -0.8350530244393543,
          -4.251417953729479,
          -1.1066683044955588,
          0.4218997873749715,
          -7.80871866397975,
          -7.069211813524407,
          -3.5315521392670006,
          -3.5089377341690557,
          -0.22054698363785155,
          0.3668211091969697,
          4.33192976537702,
          -0.7881945972724334,
          -3.544898802217454,
          -3.0869356197934357,
          0.5889358231968531,
          -2.82914625376394,
          7.665991354780957,
          10.2203312925308,
          0.09756498924917871,
          -6.719126755973869,
          -6.317974974760221,
          -0.38503556192273836,
          -3.4696789997738984,
          -6.2457394224167,
          0.18542804291032522,
          0.15554644665710018,
          0.19923116945290836,
          -3.9275193505923243,
          -6.098842579471597,
          -5.9488225249242435,
          -2.7840489735195444,
          0.5850531173763479,
          0.03064430214799357,
          -2.7099024639680094,
          -5.545035998081195,
          -5.421763914696986,
          -2.995137302262135,
          0.8165504151026034,
          1.1284211210735149,
          0.5516588861514677,
          9.303027866865788,
          -5.470116117277471,
          -5.928402442277037,
          -5.886700527915289,
          0.14085151650820335,
          0.4167528952250003,
          5.175255721299126,
          -5.888535590744815,
          0.7461060168096747,
          0.7976795054459547,
          0.3437912741376039,
          -1.5811984708097955,
          -5.675258747904764,
          0.9882364722129388,
          -3.15807667536303,
          0.2449199225788334,
          0.2945488345711627,
          -2.96661170289684,
          -3.1583207460757934,
          3.009329870604917,
          -5.728084457715857,
          1.0736886253553344,
          0.851016322546925,
          -6.402378928585561,
          -0.37881023732869246,
          -3.4912141660213494,
          -6.025263636805419,
          -6.125630974925764,
          -0.6533148576411816,
          -6.212354113709276,
          -0.3246110529812459,
          -0.12366781556689453,
          -6.624041455686399,
          -0.546068837733846,
          -0.5590886744903492,
          -0.18144089232132846,
          -0.5353098725950954,
          -0.6383378613206762,
          -1.8193893722056826,
          -6.50480014283074,
          -3.736848597782364,
          -3.5944361016399218,
          -3.762799833956245,
          -6.047952837419066,
          1.4512056512412197,
          -0.36788405972782134,
          0.18572110269090258,
          0.7633348552048175,
          -2.8677045893552267,
          1.0169562701759896,
          -5.644535960295102,
          0.39870520529628406,
          2.9287019038340567,
          -1.715234554046943,
          -5.41036094640168,
          0.8924687802052664,
          0.21547047229020966,
          -5.824863311323554,
          0.2706343567098715,
          0.7787862943122975,
          0.4810406688096311,
          0.19289821174106014,
          0.3092350108079069,
          -5.9043299682924415,
          -5.731869988381682,
          -3.0582373417143667,
          0.7684142332677047,
          -0.010818716749292674,
          -0.06703992564421209,
          -5.767113618711819,
          0.36048083258309815,
          -0.27050691642167196,
          4.811713045869686,
          -0.05763659947985295,
          -3.4877283520616453,
          -3.358352578439546,
          0.04003762529644953,
          -0.10723234209310069,
          -3.458701854927044,
          -0.9478375335088551,
          0.05343040995671877,
          0.38477494039407034,
          -3.639844234504758,
          -0.8315891536003042,
          -0.5226714820562697,
          -0.6203773516520547,
          -4.066297058952965,
          -1.09004088642645,
          -0.7836963115535615,
          -0.327878717337057,
          -0.27891976939226965,
          -3.6569500112414497,
          -0.7043774939918064,
          -6.896343358190011,
          -0.6974692365685635,
          -6.937011417919341,
          -4.2049741593883105,
          -1.063210700161468,
          -6.977628387544324,
          -4.27980716415565,
          -1.1075354820394951,
          -1.141464768939832,
          -7.1228393970148804,
          12.37911330258618,
          -6.964210318614652,
          -4.062948385168493,
          -3.815347144082894,
          -3.839566671830258,
          -1.10868684728387,
          -0.6115613530237651,
          -0.9848159251431035,
          -3.9871053556351854,
          -4.219342769770772,
          -6.864374321391777,
          -3.7081270715192907,
          -0.9246211816154647,
          -0.5096544644807003,
          -4.26938861327265,
          -0.6403307757448822,
          -0.01864034664732929,
          -4.175717649305849,
          5.4641142977355015,
          -0.11594301178160414,
          -0.5693212511173809,
          -4.3984736826105655,
          -0.20802009723666076,
          -0.9860905425987443,
          -0.5868890077510681,
          -4.841248672400448,
          -1.439016726877434,
          -1.386790930397474,
          -7.434207924129591,
          -1.713498576161486,
          -5.196556384523463,
          -4.949525784853712,
          -7.830704663749145,
          -4.8403751385489295,
          -1.2120459678400812,
          -1.1054037871784912,
          -1.6876575065994968,
          -1.331249844296097,
          -7.34096034017187,
          -1.348339464772376,
          -1.2776791241797538,
          -1.8088830648446246,
          -6.901541667859413,
          -1.405068341661073,
          3.0178783152003414,
          -0.8376692573550054,
          -4.838181980333934,
          -4.97208377296312,
          -7.535063883877578,
          -0.8348102459382822,
          -1.282623777338694,
          0.9520718130850242,
          -1.5369526927061796,
          -2.3543276726738145,
          -5.453420183779492,
          -8.366012233931036,
          -1.3300116979777474,
          -5.673574897443702,
          10.700789110831828,
          3.100248108157576,
          8.183807364178902,
          -8.557663435215145,
          -8.225804322403892,
          0.16311855111483264,
          -2.723634955887119,
          -8.999173435953576,
          -2.7262802862733477,
          -9.127784625791188,
          -9.151356595208805,
          -2.440606265268035,
          -5.942623254133704,
          -5.765601304050136,
          4.645502219304874,
          -3.249004685435442,
          -5.7356934321114315,
          -1.9822044985557146,
          -8.612869606690506,
          -5.319425574917053,
          -2.051625952855483,
          -3.5855818589611217,
          6.245392736326581,
          -6.05466226925757,
          -9.147583973467489,
          -2.46408003413726,
          -2.103623854405217,
          -1.9871972197607741,
          -2.3290706221673263,
          -7.921644697089022,
          -8.162971427191636,
          -2.4875819692543617,
          -8.646517524227612,
          -5.783956848681656,
          -2.821694070898833,
          -3.917282483991954,
          -6.032468236839387,
          -5.811002945423308,
          -5.51851032135039,
          -5.920432933563919,
          -2.7254993651682184,
          -2.220445730070915,
          -1.7983529095720578,
          -8.049230264202748,
          -1.7133357196252739,
          3.3714076340769474,
          -2.1190484988946823,
          -5.139696763539282,
          -1.7629199510024225,
          -1.4526790367978684,
          -1.7704541972670034,
          -1.9805203886427905,
          -4.916188201289196,
          7.445205446596597,
          -1.5243341735094535,
          -7.38686797111732,
          -4.842687342861381,
          -0.9447398268365846,
          -1.5956359216400053,
          -1.712201931694128,
          -7.112785095374445,
          -7.40653857031994,
          -7.112068490611994,
          -1.479928077171459,
          -0.9635802460233189,
          -6.940108286163326,
          -6.668945121622574,
          -0.5545560281412011,
          -0.5811520043320294,
          -0.5755855781488496,
          -6.418978128367852,
          -0.44292830080719986,
          -3.922519811104493,
          -6.2866156528802755,
          -6.37696724805281,
          -3.810987786209659,
          -3.6836294541786914,
          5.891182943643756,
          0.1653547813353285,
          -2.8955352134995405,
          -6.144357728352175,
          0.13698669933575225,
          -3.8171662834722024,
          2.4953837553048825,
          -0.28170033202887523,
          -6.182098473682434,
          -3.7546893706435958,
          -0.0018605781083872014,
          1.1765164954626153,
          0.28634899023786714,
          -3.242764161010537,
          -2.914589446671682,
          1.1239790322540255,
          0.9122750430796495,
          -2.349649896720701,
          17.853246465587276,
          -5.040948167188605,
          9.82557570746399,
          0.9624920045491655,
          -5.556411789777524,
          12.24309721161439,
          0.4427623146760348,
          11.072199036263333,
          6.611776058299518,
          -4.862441536278192,
          1.0305144548923773,
          0.2961453384814813,
          0.3515849677699923,
          -3.0864031262562657,
          1.0536984807291314,
          0.46078371593420625,
          -5.408625273207269,
          0.7382512282177388,
          0.3973344115982692,
          0.3788744703627036,
          0.6514088450121815,
          0.6359890674097144,
          0.43505228895105313,
          1.791879773305997,
          0.8286467113762168,
          -4.545142218303198,
          1.2840621078471666,
          5.831439435283153,
          -0.03370929676117165,
          -4.698614681517916,
          -2.617358975974462,
          1.3449702443034688,
          -4.985051635400424,
          1.6528192761209017,
          -5.181456080351753,
          1.5375665362884843,
          -1.8359811732552958,
          -4.58166753082768,
          1.8348346109033533,
          -4.869046303205827,
          -4.131437297238918,
          1.9875289509512437,
          2.069942489239171,
          2.138977357315464,
          -4.6821937972180185,
          1.3074508713146575,
          -4.404397667927258,
          1.4780084736395211,
          -2.097152756366067,
          1.8117779601775625,
          1.0924600419981576,
          -4.922640187092216,
          -2.0178461156032608,
          -4.505157590949904,
          1.6493571368637179,
          1.904943585531044,
          -2.2140059085107637,
          -2.6698568152153155,
          1.1760646958654448,
          6.065905220589979,
          15.75157783956674,
          -2.8452076523050263,
          0.7797666041186974,
          0.5252493685638315,
          -5.085991604338797,
          0.5271399225367177,
          1.4502969030953183,
          -2.1255107043864747,
          -5.206799226886323,
          -4.9005684312162385,
          1.6236140636725007,
          1.6206213605577677,
          1.5146168088006926,
          2.1528574502257496,
          -3.0903133557426217,
          -1.7963839496965641,
          1.1054196541099448,
          0.6246152723311557,
          0.976394735121656,
          1.027228929230577,
          -1.0378452925051367,
          -4.662477591086405,
          1.0708900793716016,
          1.7214698841776284,
          -1.9675066655328157,
          -1.9891375270828642,
          -4.302588388404576,
          1.2598893865728045,
          1.2118453845790864,
          -2.270095384206329,
          -4.727744860161624,
          1.4491636383487365,
          5.498208983169005,
          1.2418681188633292,
          1.1344568852801857,
          -5.457500763210606,
          1.0447099270352147,
          0.8928653133273334,
          -3.029712033328438,
          -5.79045368464877,
          2.9987760996696817,
          2.4079366259902093,
          0.35734540282854776,
          1.9159520364510016,
          -6.362653562667205,
          -3.4992981131403216,
          14.548006454674539,
          17.152545561064752,
          7.4770707325384365,
          -3.5894115598489083,
          2.637498364933283,
          -2.7886524920133033,
          -6.227839409598998,
          -0.1837655070028069,
          -6.195852124618326,
          -3.78588166886948,
          -0.22224626327119562,
          -0.2801390634484756,
          0.465201181426729,
          -0.8822295299072674,
          2.823665854016062,
          -3.9501220586158055,
          -4.055231336170937,
          -0.6328995463829346,
          -7.170539183398601,
          -6.165838178505973,
          -6.416645314178364,
          2.3767272718205303,
          0.14994146340590087,
          -3.046827382519077,
          0.36852733156638784,
          0.20662474461476446,
          -0.049193665712921324,
          -3.204125863216815,
          -2.797830498156367,
          0.2868281925738456,
          -3.502550811258811,
          -0.2861614862786457,
          -3.3348549589672785,
          0.3132519763073981,
          -0.5434340017154873,
          -3.3252396210570048,
          -3.2457057393317656,
          0.20151488157970493,
          -6.360389872723543,
          -6.243435807444488,
          1.1626782583540356,
          -0.9840659454523923,
          -3.778526742393451,
          -4.300457721599139,
          1.424331270424442,
          -4.36688947701275,
          -1.4712058859139039,
          -1.2768859710219325,
          -0.6665859624935079,
          -4.32249738236606,
          -0.4159703495573062,
          -3.3804407518773987,
          -0.13410500635178274,
          -6.203722782500967,
          6.119840979683503,
          4.992132500338851,
          -1.0764993907133589,
          -7.099600842730188,
          -0.4847648726799246,
          -3.80486564216132,
          -7.229043331036497,
          5.37050140802154,
          -0.8198454617787556,
          -4.286488629830264,
          -4.145622729379098,
          -7.057009748534011,
          -3.96905809213633,
          -4.161066681347917,
          2.9265970796002576,
          -0.921659159985885,
          -1.1538985795785122,
          -1.20205110639694,
          -0.7488225122639984,
          -1.2468640948143557,
          -4.342286966008522,
          -6.7687449845129795,
          -7.151957498599469,
          -4.368017667326522,
          -6.827538567456436,
          -0.3927689340882599,
          -0.2959351735578035,
          -0.6460500051318724,
          -4.369662501626512,
          -6.838524245275039,
          -0.9001144965441332,
          -0.7377226382988507,
          -1.2652574096276954,
          -7.303938722979176,
          -7.485509441080657,
          -7.416435724689842,
          -0.8480501919901874,
          -0.558922543671854,
          -0.6251051730390894,
          -7.216896849822561,
          -0.5342225725030187,
          -0.4676335545597336,
          0.19648869326794424,
          0.23608311417377778,
          -0.6179656439852879,
          -0.188641122925592,
          -4.233236616239531,
          -4.05675616521826,
          -6.554937364153098,
          -1.097062917932601,
          -3.8884285293522516,
          -3.612028491935986,
          -3.613765120830581,
          0.10361034974273012,
          -0.5819770311746114,
          -3.44630011671982,
          -5.981364843645911,
          -3.1979617746931805,
          -2.645825879915526,
          -5.7175736572194165,
          -6.271689717019222,
          6.6280498465778335,
          0.741378951919434,
          -2.414619915059854,
          1.099168013619202,
          -4.779839686992285,
          1.4499410387717855,
          -1.8565099940605625,
          5.217035932085911,
          -3.052043991895365,
          -4.554918428208551,
          -4.859183935318961,
          -4.6171509741103876,
          -1.611999693983739,
          -1.8086644566371737,
          -4.235076992055745,
          -1.4502540445398242,
          8.700175407909644,
          2.100347495212147,
          -3.5824925781465478,
          -1.1017173359938,
          1.5331796533369428,
          9.530332685451693,
          -1.8280123131020527,
          -4.872222742050429,
          -2.01734266032567,
          -1.9136769001212446,
          -4.6559377459838425,
          -1.8745658784979224,
          -4.78059376235442,
          -1.7902974319156524,
          -1.4648481645031135,
          -2.0320829471907436,
          2.0032302358653657,
          9.838416761290556,
          6.890329144247834,
          4.376673398629794,
          -1.8492955631359838,
          -2.861741465748716,
          1.324730087555801,
          -4.603445831082012,
          1.5172146007914147,
          -1.2514262680326336,
          -4.191111573928316,
          1.9306643460573338,
          -1.2053322331887877,
          -4.046310720160032,
          -1.1338481663799447,
          2.5091718183972587,
          1.7064090609746054,
          2.2413259129697027,
          6.117197770049029,
          2.601963146465697,
          12.482926677807939,
          2.333797215092243,
          -4.2794154834734055,
          -3.9880255855660387,
          -1.2729192435325425,
          1.691612159263597,
          2.0699041284526776,
          1.4422590602430265,
          2.04811144698663,
          2.3919420841267267,
          2.1805309924146425,
          6.176210991433325,
          -4.789574296351501,
          -1.501021700783472,
          1.747889231981788,
          -4.464199972965001,
          8.736905012221483,
          2.5163609602950974,
          1.091406093246774,
          -1.3047640491912689,
          7.000765120396125,
          9.374574693981756,
          4.982195319520618,
          12.045811381560746,
          1.4104652250185454,
          2.9823280938153345,
          3.674102565790406,
          -4.587129881733834,
          8.205030676159728,
          2.3173182792840525,
          -1.3771299330366593,
          2.3983430879961487,
          -3.93826274886102,
          2.1754563872453296,
          -1.5372353256204057,
          -4.436950149730826,
          1.7550695139121133,
          4.78499371464183,
          -4.163688201611153,
          2.677768618657247,
          -1.0218297412157251,
          -3.2495393677090836,
          3.0364710340453995,
          3.414507786935753,
          -4.257476755629055,
          8.882231005428396,
          4.474165292886082,
          -0.32349797126529833,
          -1.9591974062447222,
          -3.3049315633266936,
          2.27973758876804,
          -3.3386380796115955,
          3.182282381212745,
          -1.5855443391748498,
          1.769653828711096,
          -1.3178560640857184,
          -0.6978958789660712,
          9.230019115412297,
          4.316860424903986,
          -3.237248973469515,
          -2.929049549917206,
          -3.151385569232466,
          3.3220766921139857,
          -0.12924870940634609,
          -2.634241315854035,
          3.3347725822112206,
          0.6777147755930832,
          3.43105953865877,
          9.359859174797693,
          3.182426592342309,
          2.989117112771297,
          3.6430523205896677,
          3.4281778823505373,
          -2.585785076687231,
          0.12522300958753502,
          3.1934020815096753,
          3.066543330487725,
          2.866775984445381,
          5.954607058705559,
          -1.8616302728670222,
          3.3695817166917745,
          -0.42321740604976643,
          3.574895345844313,
          -2.8219831293582236,
          10.687156436469275,
          6.001498493541203,
          -2.528948299322697,
          3.5248831966005745,
          11.848414439897743,
          -0.22807242866276967,
          -2.7456006843041414,
          3.4532809497881134,
          3.2486895929774913,
          0.7835442065891717,
          4.173046569097868,
          0.3986641713665066,
          4.1912355250542115,
          3.815820579154083,
          0.6452900069762868,
          0.6272954599994904,
          3.35202224075154,
          -2.155241246560765,
          4.196672243313464,
          3.4566068178538245,
          0.23330433254914673,
          4.163293247934289,
          2.7537364315283894,
          -0.5520603170561468,
          -2.7739463069750743,
          3.459942586488275,
          -2.6992532583027806,
          -2.6392420739942914,
          -2.8918741515064728,
          3.7384967765276476,
          3.549188197605414,
          -2.3786905685259265,
          0.08057432008515071,
          3.418459786604829,
          3.86076270304271,
          3.2104004113291524,
          3.332413164666057,
          2.860481722679572,
          -2.6411641300490385,
          -0.04545395937274108,
          0.08023790339564889,
          -0.12554455494855016,
          5.888097121556575,
          -0.07835148255434547,
          0.0958599101119939,
          3.573860382165296,
          3.9628932174108544,
          0.05712743591732217,
          -2.8018175933437393,
          0.6049985921578166,
          3.399031792101281,
          0.3867866977102252,
          -2.61498273717914,
          4.199164717522327,
          5.74992247784874,
          0.640601534465683,
          -0.017353623601368287,
          0.3234874314092304,
          3.9145069124125222,
          5.019941660910005,
          -2.276657124383248,
          -2.2579052367180648,
          5.146984613122782,
          4.164096983721257,
          0.5278879457232012,
          -2.8488697357447235,
          7.07868881580767,
          -0.12518737295205476,
          -2.4544381824202612,
          3.812339262992261,
          3.5253964416249537,
          -2.4204282804944595,
          3.855174196836671,
          0.17121575474541173,
          4.336466266632384,
          3.4326839765360084,
          -2.4373884214231154,
          3.6462317482186473,
          -2.6764564301378777,
          3.95123772911505,
          3.071451702543889,
          3.06644585942713,
          -2.419068265680297,
          0.445976525509677,
          -2.8983074481033904,
          3.5931049495754857,
          2.67127672130553,
          -3.1773303192607774,
          -1.8285782861784523,
          -2.887869837967867,
          -3.0300381470297784,
          -0.30049273563314033,
          3.2344529547208154,
          1.251939583696285,
          -1.4728083078189766,
          5.533191159412728,
          -2.612028134229795,
          4.383153986661879,
          3.3684868753065667,
          -2.3682388588146543,
          4.104286798709127,
          3.254566742813219,
          3.8860117702939228,
          2.8108180745473867,
          1.5581252808818475,
          -3.243446393692373,
          2.478017174313666,
          -0.2501604699829505,
          2.8575660879733364,
          3.192313989498835,
          4.395972441697733,
          -3.1227381262944345,
          0.14282355007491931,
          -0.3725887140818749,
          -2.9534240638545204,
          -2.05191155661624,
          0.4082919663044535,
          -2.675707290262823,
          4.003734400947753,
          4.3137026808142815,
          3.9192336900083298,
          4.08191571460785,
          4.581959063032397,
          -1.6873405234477026,
          -1.8799900808517205,
          9.35821873972267,
          0.7482584661028764,
          1.2913424362402242,
          5.407212175747709,
          -1.1405727519390194,
          8.169976805947455,
          1.803549924884089,
          1.5848921276792904,
          4.711528829595612,
          -1.5849729268976172,
          4.093763611500164,
          0.9767981349542515,
          4.527393849167858,
          7.91408797911322,
          -0.047142065582634354,
          4.738536140468602,
          -1.4261773153330135,
          4.9113919786112366,
          4.508235446800117,
          7.7848514578562105,
          7.121936855856189,
          0.8610258760980571,
          -1.4290211519979181,
          0.9473694166374793,
          4.955477926168623,
          4.372067483320111,
          0.788347653703444,
          4.24321174901595,
          4.2084721141025,
          -1.6568984848250303,
          4.565271755634116,
          4.493264149420804,
          -1.6489805419921972,
          12.754823626840075,
          8.869940192810574,
          4.725475772196262,
          1.1788929172778195,
          1.1779371424473404,
          -1.6033502779531539,
          0.8470926850002705,
          4.451308976472482,
          -1.7423312799500743,
          1.2537754359170452,
          4.328457761447535,
          11.268127441436043,
          4.930112158638155,
          -1.6578850024157212,
          3.7791947604788683,
          -1.8423987695695343,
          4.942949362135354,
          -0.8749457369779469,
          0.2497178610037237,
          4.559702003299127,
          3.8161658108228895,
          3.9100064181753784,
          3.657597732131804,
          0.0418443295567912,
          4.099117717072965,
          14.515745581942289,
          14.765924306393629,
          3.4083532670588825,
          3.3970852385532595,
          0.3071878345106513,
          0.2526989077524732,
          9.565101085562612,
          5.004040271577666,
          4.630191769421337,
          4.649066918849883,
          9.556715716449238,
          4.979392203390957,
          -1.7516630387828251,
          -1.1907157849813386,
          -2.2432587192318394,
          7.081141338552632,
          16.049658631830116,
          1.0526755311548828,
          4.576515391711769,
          5.046098213083455,
          4.817536860962398,
          -1.0313464586036265,
          14.01590731945001,
          1.583796247320849,
          5.0645359513268176,
          0.844004160424816,
          1.012323897696119,
          7.455456185577527,
          -1.0284717521342386,
          5.0947194482846045,
          -1.9446075812470416,
          -1.197342138194759,
          2.9842396798728967,
          4.826090120121671,
          9.845345740445671,
          7.250054650230698,
          1.9329010154262425,
          -1.477572529063385,
          14.498834552034344,
          3.973257684250672,
          3.7211646433763232,
          0.3996660176427375,
          3.3847569197237903,
          0.7041885333065981,
          7.334457729970357,
          4.3900898863801725,
          4.313937476179124,
          4.364281381048614,
          4.2502319647760425,
          0.9634694011421535,
          4.935889481772485,
          -2.5344471714846506,
          -1.8587562745466426,
          4.162459750123085,
          3.241387481776797,
          -2.92432188791532,
          -2.4881636502990045,
          0.576576922822829,
          0.07941906668378178,
          0.4004448581359735,
          -0.09256798037429712,
          2.882246054977887,
          3.164858384889481,
          -2.9466497645631513,
          0.39192725689633645,
          -0.07595651617484124,
          1.9737050955046653,
          0.11465110131564303,
          3.784530906069946,
          0.20642837495489194,
          6.46402220483262,
          0.09648996946861729,
          3.4884067302502966,
          -2.5947664030648903,
          15.256224826542557,
          12.203608028187263,
          -2.672139939736331,
          3.4009540265302705,
          3.5418777247839746,
          -2.5053133607252196,
          -0.3607580231347838,
          2.6056343687952475,
          9.092337562413197,
          6.332664039063911,
          9.90283585416194,
          5.287841898840598,
          3.0572561431461347,
          2.961324338541622,
          3.572039067537262,
          -2.7226724050152877,
          -2.069569726527109,
          -0.4373727940254932,
          -3.114679189090872,
          2.767586796036995,
          3.5967019259715416,
          12.735984318049619,
          3.2261282838603016,
          3.0007888378638508,
          -0.6326518489011745,
          3.055420452709172,
          7.307577911269347,
          0.796744894958413,
          2.8572637969590535,
          2.578318531062438,
          6.859715259008601,
          1.937450352563989,
          -3.4837772726695233,
          5.631704743519364,
          -3.1007284193429925,
          1.8459129047139038,
          -3.364037209755202,
          2.5528837622444422,
          6.554026864891219,
          -0.7717732333650169,
          2.5973374710386916,
          2.618500581153024,
          2.3902991692647935,
          2.5441678787179627,
          2.1510533704778485,
          -3.908177578523639,
          -3.2821067736715,
          -0.8375294301822666,
          2.7989917129680255,
          -3.868569746309731,
          2.0669636943569443,
          -1.3935088907866944,
          10.683661384762638,
          -1.215195846248931,
          -3.618870048371535,
          2.3881902443546976,
          9.12559876396008,
          3.3104582138462395,
          2.611460095650293,
          2.855178861048968,
          3.096425753061572,
          3.355796744306769,
          3.4571672774018287,
          -0.06676924882872352,
          2.7935504156687516,
          3.0732520598865904,
          2.965136229033509,
          2.196489642025136,
          2.903177066619944,
          -0.5360460393088431,
          2.853746741081286,
          -1.0513519022724362,
          2.7101939278364786,
          14.892250378448804,
          2.5850674019787196,
          -3.5315410824145346,
          2.7066876943514444,
          3.5133958280601,
          2.8715489546701165,
          -3.4969899335792936,
          2.464276595841766,
          2.766342236227008,
          0.4969209101656251,
          -2.3247271556564346,
          -3.0467533822924135,
          -0.33512836130614343,
          2.8025630644971034,
          3.459113527584947,
          8.491453853907327,
          -2.754137999354119,
          -0.14487393217426928,
          6.555625188952051,
          -0.9630401309464293,
          3.3818415821422763,
          2.909066866519915,
          3.4349541756707684,
          4.160324187197084,
          -0.0728394704648016,
          3.508910354363948,
          3.609988225986976,
          3.258447246465598,
          15.515628129360353,
          13.288600656962403,
          3.140453114895016,
          3.1851855608964796,
          3.624131820253961,
          10.588945227621721,
          -0.3029722649037957,
          4.002587855437225,
          4.465848185730534,
          3.8161047108966946,
          7.033673181943347,
          -0.24516867372786197,
          -3.0177863323293423,
          -0.47957181231243506,
          -2.905941017522844,
          -0.44289079969663475,
          2.3090539611876584,
          -0.31074510685746876,
          2.5026797898177198,
          4.243527476112506,
          1.5944890027062073,
          2.161705245787637,
          -1.6024967459712185,
          2.1426956482230803,
          -1.1040918325081943,
          2.1704656432528444,
          -4.049711803400865,
          -1.398244715549932,
          2.3186512640879076,
          3.2066343928693377,
          2.500080676815625,
          -3.7029113151612076,
          3.1305681032778967,
          2.0987089802649503,
          2.870941290433073,
          7.199092354165563,
          2.551146642354576,
          2.6785677929737552,
          2.7703304499703116,
          -3.7925787328641154,
          2.876084692778605,
          -3.4024924396769927,
          11.29265071541511,
          3.21490263310702,
          -2.847652072912693,
          3.3273454854470685,
          3.2194535581067893,
          -2.8070755609897753,
          -2.646915420759647,
          15.65157047871731,
          15.032875822125847,
          0.12776764813376562,
          4.02413784683926,
          -2.1584557736709384,
          3.7661170540802384,
          0.030041070699679453,
          3.887237265965989,
          4.170106082360018,
          4.511193788635039,
          -2.251354080047665,
          0.8850151850936924,
          4.488373910033221,
          3.9744834543792753,
          4.262620244763083,
          6.610605970482947,
          -1.8837708306646934,
          4.188896725067588,
          1.0622960226178244,
          4.098125132908355,
          4.186208440120229,
          -2.4494964894695848,
          4.720860020678632,
          6.589383671322385,
          15.423698303918911,
          7.65126742156684,
          -1.7387626274106616,
          6.707983212263053,
          4.87673932697498,
          -2.109893516261808,
          3.9390944233517056,
          4.599149160584774,
          0.7850146142012937,
          1.0510983418832336,
          2.7495245021826737,
          4.504130715383128,
          1.2901812497029914,
          4.243553119661142,
          4.934742504171567,
          0.6018517222236808,
          -1.8031061531406751,
          -1.2841944497420006,
          4.323035000817697,
          0.979987617729936,
          4.636463508086205,
          1.101137256600867,
          -1.7831008415004912,
          0.6372751467225046,
          -1.9234761421688054,
          0.7687734537979025,
          4.344923670104627,
          0.9651619449284051,
          4.377535231716686,
          -1.9676560389451923,
          5.110179569495733,
          4.49704703647025,
          4.860779007735041,
          4.769653424390921,
          4.862958527148342,
          4.648916495167646,
          4.80010936830775,
          -1.3405415696174754,
          4.1759035107727,
          -1.7358281018777004,
          4.025008242538721,
          -2.494946928749508,
          4.257141956356322,
          3.9169175337366298,
          10.235951784437825,
          5.372905982859818,
          0.30970383232474497,
          0.11319106366098343,
          -2.4688923268855096,
          4.139773085638648,
          4.178123377012548,
          3.698633833939545,
          -2.0846115632936875,
          6.16513059441373,
          5.901049277483891,
          -2.084944518090811,
          3.383147621836491,
          -2.654801543530953,
          3.0424922303844206,
          3.398415459859982,
          6.971782480261582,
          3.636833850406189,
          3.133356014716307,
          -0.2121432720088744,
          3.0381272389701457,
          3.1278917112838336,
          -3.5930843795971494,
          -0.7006439662054519,
          2.768662503441216,
          -0.9197969117970332,
          -2.975732740939194,
          3.35597981843461,
          -3.091816872290188,
          2.484013953196587,
          -0.36656370834624763,
          -0.556111615378923,
          2.8074108034972,
          2.7412254462640333,
          2.447261725289921,
          2.725737326864789,
          3.5680075572838286,
          3.1266599182971513,
          0.8784823092531499,
          2.5610706646777945,
          -2.7289902818708254,
          8.75483397706573,
          2.8701872523591496,
          3.5842375112057043,
          4.021977161634449,
          3.137029471162132,
          5.8742065718805545,
          2.2495898560410375,
          -0.9477325325481221,
          -0.23995868239820436,
          9.439607264554601,
          14.599390120108174,
          6.788490624203486,
          2.9282518510645263,
          -0.05992266722205464,
          -0.14949079867266102,
          8.242460479997524,
          4.148043985753829,
          3.72302426500899,
          -0.46190771728208513,
          2.3534519265801785,
          2.5450841365384056,
          12.438587046432836,
          0.5733805239913297,
          2.9039466601401958,
          14.753126445442078,
          7.868275931519624,
          3.385217351228209,
          3.4653955294201726,
          -0.37340484424426235,
          2.7546163258251934,
          6.115954687233259,
          3.1390136311708092,
          -0.3449591999660055,
          3.7140141439887047,
          0.5388734519399535,
          -2.743786507396137,
          -2.059639793922329,
          3.3665558788575227,
          -2.895124282450804,
          3.807436118490644,
          -2.8553590636983404,
          3.52569004507854,
          -3.1680788246475253,
          2.9630045108035343,
          2.8744649738178496,
          3.3584999093349674,
          -3.0201923306791727,
          11.404057165405437,
          1.794109143516044,
          5.7034586534722616,
          6.287475979189948,
          3.1333016301515726,
          -2.750492094350051,
          -0.23493339093787324,
          3.6296349490889726,
          -2.867426053027259,
          1.5296821544763513,
          -2.809650282754567,
          -0.43370329403951663,
          2.977625411530706,
          -1.7876856116940814,
          -2.498513658438668,
          -2.492681069868125,
          3.900267519349819,
          0.15182723911429952,
          -2.394397233543342,
          0.3917700030405474,
          3.3380394476850355,
          3.7785205032105718,
          3.5951838539039374,
          3.809029540169254,
          5.101016629215056,
          3.9867011607749756,
          3.450126147977121,
          -2.2271235056230974,
          3.712253642923854,
          -2.2762186220237175,
          -0.05999943675696687,
          3.119055380919597,
          3.3038971541197517,
          15.832747121236917,
          2.985709670922439,
          3.1538789800855884,
          3.2744744952800295,
          3.5140571832409826,
          -0.34942975631363044,
          3.477868484949933,
          -3.0314139245159546,
          3.663020750722381,
          3.954632635091867,
          0.4081216691363163,
          3.1012010385697435,
          5.523522660035211,
          -2.8970085500772984,
          0.14838298928495428,
          0.15969563237929127,
          3.1796500413282263,
          2.9000101132811715,
          0.7135282345087843,
          2.0432262996328596,
          -2.7235138636309975,
          -2.7111901680871955,
          3.368820665658366,
          -0.2863756232213455,
          3.544341683970119,
          -0.08251966571446714,
          -0.30159675636951105,
          -2.7286315714169,
          3.141137653373195,
          -2.512248529962443,
          -2.7757550648623264,
          8.664613286216957,
          3.5322548543104233,
          -2.694996161026948,
          3.405087885472978,
          0.42231763563238306,
          4.186856055420664,
          -2.48385250996267,
          5.963580356763442,
          -0.4216620415994657,
          2.2089748651438588,
          3.7003121921827375,
          3.7546461237060513,
          9.760019218429324,
          6.9173401752054255,
          5.734865613471561,
          -2.7162628660038965,
          3.9481453152805916,
          -2.734963701225604,
          -1.510075528918782,
          3.4630588115659777,
          -0.1944276363018257,
          6.009052967494096,
          3.6894952884360226,
          -2.2019674264532156,
          3.9536415011790362,
          0.4339929747774374,
          3.6752923098716304,
          -2.168640195010524,
          0.5298507365120119,
          3.242495027015679,
          3.321500106713509,
          -0.21214774270543832,
          -0.28504067366498964,
          8.927802410039494,
          10.490374183283667,
          5.6210038097808885,
          -0.08241818603625414,
          3.561561842598639,
          3.4795453367838185,
          3.272541987927295,
          -3.3750151637363897,
          3.907516365317771,
          2.3011291902613857,
          -0.440281611295972,
          2.844021559355104,
          3.636780425429792,
          10.817569809574877,
          6.428363760141534,
          4.280090033480635,
          -2.7930551799425154,
          6.76777354809282,
          4.157313716543662,
          0.14121984854061462,
          0.18377880468761676,
          -2.2528987592199026,
          0.3322296407086628,
          3.8509630738221405,
          3.0493130708633975,
          -2.6540615173380915,
          -2.3640317255964196,
          0.18449383564280222,
          4.863837203134851,
          -0.2581847502841777,
          -2.361135403235121,
          3.490606636123838,
          3.9177195672389202,
          3.3417246647919696,
          4.239538527143836,
          0.5113163621704827,
          0.04423878799430706,
          0.27337977683522174,
          3.44295450656794,
          0.3773965363522284,
          3.2561227582382104,
          -0.06223793834688692,
          0.12021691781250429,
          0.46327657533197303,
          0.32640368677322606,
          -2.5874443653576304,
          -2.401502774601059,
          3.8353917536848785,
          0.34414987986233025,
          3.502902635624082,
          -0.6526128798502729,
          3.0206782927618856,
          -0.48684139142109006,
          -2.905267554498219,
          3.3006520221304,
          3.2751440032791086,
          -3.003844136336868,
          15.551043315994809,
          2.8434901620363346,
          3.1968227356724714,
          -0.45339361593637584,
          2.723060550673068,
          5.768206236397296,
          4.780392730662525,
          2.706114475181262,
          -0.8069774894717674,
          5.080354666453769,
          -1.1457206823241344,
          -1.1055183936223223,
          1.666486182168458,
          1.9942414880609554,
          11.673133340143874,
          7.8986192245169935,
          -4.125207303846895,
          3.546647438968829,
          1.5312975591380145,
          -0.9518942781919119,
          2.2784182223913234,
          1.545618755482543,
          12.494341006389654,
          8.935453169445443,
          -1.184725316202229,
          1.5993596905118668,
          -4.2631250214014695,
          1.6153428037829332,
          1.5342520208646064,
          1.4073459553456493,
          1.3024479569694332,
          2.2949989691288795,
          1.9195285111476867,
          2.3406177293376507,
          -1.1953627466516676,
          1.9494137038899844,
          2.335159240716567,
          1.4725990957309525,
          -4.593372525540601,
          1.496144876234109,
          -4.374815656412383,
          -1.834019132158388,
          1.010158577461186,
          1.2519692744836508,
          1.1460181432642222,
          -4.773856827258823,
          -4.650459135163399,
          -2.825330840123187,
          -2.2628927963536674,
          0.11889262611388092,
          1.1380190765748914,
          1.868557544745559,
          -4.626318915827605,
          1.482565482379865,
          1.3487729889518054,
          1.2079887543936787,
          1.2959062253163005,
          1.1118804804416662,
          -1.2545661973134048,
          0.9382512024291012,
          1.43399324712195,
          -5.423076862000904,
          0.9715170780428378,
          1.0524759900588758,
          1.3554200775554426,
          -5.407167502585438,
          1.6806680169901407,
          1.1816921002979226,
          0.9339480456035029,
          -5.448614232044529,
          0.8544477919208374,
          -2.659101631472094,
          -4.824215470123862,
          -5.090356921379494,
          0.4921201890674867,
          -2.9122823222110084,
          0.4422242756725903,
          0.6763364950078988,
          0.6719235066548267,
          -5.014558373309157,
          -5.429333236856099,
          1.035889060534893,
          -5.353516187479115,
          1.0411507176400556,
          6.813414093969819,
          -4.328939282049987,
          2.3185289738738346,
          1.196794083680591,
          7.106428718553161,
          2.8580932498897056,
          1.6045894759393131,
          2.0109982922507164,
          -1.6221947945717465,
          -4.219933668347625,
          -1.7599026822259958,
          1.8762564700645779,
          3.3299518308680387,
          2.2270624093753106,
          1.981804618288898,
          1.7396271009619142,
          2.12585431231567,
          1.6950759946849645,
          -4.824961941518963,
          1.1552887822622264,
          7.237759378758073,
          1.2341083450222323,
          2.9389425089469454,
          -1.7997437618943959,
          -4.620093487307126,
          -2.017025478284191,
          -2.279916114072185,
          1.2450239362212372,
          -2.0790454838089394,
          2.096805505923157,
          -1.697138024640309,
          1.6591469835137336,
          1.8875362472544173,
          1.9652152002046535,
          -1.4533845323758434,
          -1.442931938179259,
          7.302778827041865,
          -4.579705479214114,
          0.8230958309281392,
          2.239329143956357,
          -4.471977108231818,
          2.2585706068932367,
          1.385418883036139,
          6.5862065443489906,
          1.396717236718896,
          -4.8984430327486,
          -2.386839742109961,
          -3.1105722019877646,
          -2.1082535866030674,
          -2.447846287932893,
          -5.056172434545548,
          -2.303155461398039,
          -2.4542304002982958,
          -4.827856539088077,
          1.1294064984492331,
          1.7584406859396988,
          1.9682766213539613,
          2.5961048250858036,
          -4.3719958694216565,
          1.2296300936778892,
          -4.407794291259989,
          -4.421563369089875,
          -5.230326354106179,
          1.348748210039251,
          1.1318974459464717,
          -2.3338810203252054,
          0.7346868314852858,
          1.1715270474876056,
          0.6660162330673782,
          0.582223819049377,
          -4.69692383917221,
          -4.600956230652674,
          1.2437883629571078,
          2.826301436764809,
          0.4797294758493897,
          -4.474336821370553,
          -1.8822130290142185,
          -4.616612184544798,
          1.6999701459412984,
          -4.240565291269132,
          1.1740042005739337,
          1.4941475913706694,
          -5.512301046860106,
          -3.995527055451567,
          -5.098863578593608,
          -2.1358627597054505,
          1.3321854439876168,
          0.9004913414146754,
          1.4200651225298442,
          1.4011068844419643,
          -1.6828633526817258,
          -4.428471451373846,
          1.727266235655831,
          1.702002420110519,
          -1.6428875286449007,
          -5.097949983794281,
          0.9449507391414663,
          -2.5573464344345305,
          1.0600150818422998,
          -2.3718791177909244,
          -2.3605358265908323,
          0.6512054605569317,
          1.380117252787488,
          1.2034271195301234,
          5.247366771585157,
          3.2058632583949924,
          7.1117798936613354,
          3.9278903569490424,
          1.8479275140561355,
          -4.421981927050815,
          1.5205011707621618,
          -2.283089305491238,
          -4.496459888804808,
          1.2287189767981284,
          -2.106565480083153,
          1.1563594743639916,
          4.409895020605023,
          1.8383056266786966,
          1.8673946027011377,
          1.5122143969380022,
          5.758131477567685,
          -0.844701418136429,
          -2.4494888256178524,
          -0.3950475087577168,
          -3.138955277975973,
          -4.81216428509033,
          -2.730365739456116,
          0.6493640824248289,
          -2.512024057656288,
          0.6083169731512107,
          0.45159268670871916,
          1.0012359844653405,
          0.17546126582916732,
          0.8077248162533738,
          0.7856650034094899,
          -2.5585890441130665,
          -2.294050178031634,
          -5.485874953137846,
          -5.66908242490085,
          0.6520821128110154,
          0.7626284571762921,
          1.1466681993514698,
          -3.112927109362214,
          -5.657592545238748,
          -3.757431918217176,
          0.4524460844317872,
          -0.1737988930020757,
          -3.3611563589384787,
          -6.15466860815861,
          -0.5250412129517269,
          -0.7013344377977695,
          0.02992918401353497,
          0.22746490870331648,
          -0.14367442551188653,
          -6.258112766290337,
          7.503327602731454,
          2.6787672278836387,
          5.808007755644885,
          1.780113145050988,
          -0.38010919316357744,
          -2.9314965997854094,
          11.738010084047563,
          -1.4050147485829543,
          -4.231066194577933,
          0.4730714661129054,
          2.352245368539187,
          0.49189095987114245,
          -5.648910479699463,
          -3.406837681086986,
          0.48999511538572044,
          -5.570558986071445,
          -0.15769804549497077,
          -3.1605005358215115,
          -5.700713308001917,
          -5.652180057262098,
          -2.865738271454411,
          1.139478840350179,
          -3.1240986351814444,
          -5.5739482594641885,
          -3.7522587666546583,
          0.25702663427791067,
          -2.4314755274750524,
          -5.939795623415211,
          0.6264024957098668,
          -2.245861821889249,
          -3.1830005678505096,
          -2.9359879668770477,
          -3.1140901551512035,
          -0.10536700146458493,
          11.543416056548065,
          8.196278609315218,
          -0.13138748668946632,
          0.35884670836923127,
          -5.7090079566273335,
          -3.193984684273825,
          -3.0314233766450096,
          -2.889881841859101,
          -0.14430528126612716,
          0.326809287407499,
          -0.03205971719597292,
          0.1646317402407931,
          0.20093735039869975,
          -2.4811137685658635,
          0.20488515733685372,
          0.5065079758621217,
          -3.455964421691175,
          -0.008452158829256031,
          0.8595790931124409,
          4.37310417133297,
          1.0354065015088383,
          -5.7757855528297215,
          -3.071266386776655,
          6.978024322659098,
          12.564016292915154,
          -2.5543978766458157,
          5.022335126632641
         ],
         "yaxis": "y"
        }
       ],
       "layout": {
        "legend": {
         "tracegroupgap": 0
        },
        "margin": {
         "t": 60
        },
        "template": {
         "data": {
          "bar": [
           {
            "error_x": {
             "color": "#2a3f5f"
            },
            "error_y": {
             "color": "#2a3f5f"
            },
            "marker": {
             "line": {
              "color": "#E5ECF6",
              "width": 0.5
             }
            },
            "type": "bar"
           }
          ],
          "barpolar": [
           {
            "marker": {
             "line": {
              "color": "#E5ECF6",
              "width": 0.5
             }
            },
            "type": "barpolar"
           }
          ],
          "carpet": [
           {
            "aaxis": {
             "endlinecolor": "#2a3f5f",
             "gridcolor": "white",
             "linecolor": "white",
             "minorgridcolor": "white",
             "startlinecolor": "#2a3f5f"
            },
            "baxis": {
             "endlinecolor": "#2a3f5f",
             "gridcolor": "white",
             "linecolor": "white",
             "minorgridcolor": "white",
             "startlinecolor": "#2a3f5f"
            },
            "type": "carpet"
           }
          ],
          "choropleth": [
           {
            "colorbar": {
             "outlinewidth": 0,
             "ticks": ""
            },
            "type": "choropleth"
           }
          ],
          "contour": [
           {
            "colorbar": {
             "outlinewidth": 0,
             "ticks": ""
            },
            "colorscale": [
             [
              0,
              "#0d0887"
             ],
             [
              0.1111111111111111,
              "#46039f"
             ],
             [
              0.2222222222222222,
              "#7201a8"
             ],
             [
              0.3333333333333333,
              "#9c179e"
             ],
             [
              0.4444444444444444,
              "#bd3786"
             ],
             [
              0.5555555555555556,
              "#d8576b"
             ],
             [
              0.6666666666666666,
              "#ed7953"
             ],
             [
              0.7777777777777778,
              "#fb9f3a"
             ],
             [
              0.8888888888888888,
              "#fdca26"
             ],
             [
              1,
              "#f0f921"
             ]
            ],
            "type": "contour"
           }
          ],
          "contourcarpet": [
           {
            "colorbar": {
             "outlinewidth": 0,
             "ticks": ""
            },
            "type": "contourcarpet"
           }
          ],
          "heatmap": [
           {
            "colorbar": {
             "outlinewidth": 0,
             "ticks": ""
            },
            "colorscale": [
             [
              0,
              "#0d0887"
             ],
             [
              0.1111111111111111,
              "#46039f"
             ],
             [
              0.2222222222222222,
              "#7201a8"
             ],
             [
              0.3333333333333333,
              "#9c179e"
             ],
             [
              0.4444444444444444,
              "#bd3786"
             ],
             [
              0.5555555555555556,
              "#d8576b"
             ],
             [
              0.6666666666666666,
              "#ed7953"
             ],
             [
              0.7777777777777778,
              "#fb9f3a"
             ],
             [
              0.8888888888888888,
              "#fdca26"
             ],
             [
              1,
              "#f0f921"
             ]
            ],
            "type": "heatmap"
           }
          ],
          "heatmapgl": [
           {
            "colorbar": {
             "outlinewidth": 0,
             "ticks": ""
            },
            "colorscale": [
             [
              0,
              "#0d0887"
             ],
             [
              0.1111111111111111,
              "#46039f"
             ],
             [
              0.2222222222222222,
              "#7201a8"
             ],
             [
              0.3333333333333333,
              "#9c179e"
             ],
             [
              0.4444444444444444,
              "#bd3786"
             ],
             [
              0.5555555555555556,
              "#d8576b"
             ],
             [
              0.6666666666666666,
              "#ed7953"
             ],
             [
              0.7777777777777778,
              "#fb9f3a"
             ],
             [
              0.8888888888888888,
              "#fdca26"
             ],
             [
              1,
              "#f0f921"
             ]
            ],
            "type": "heatmapgl"
           }
          ],
          "histogram": [
           {
            "marker": {
             "colorbar": {
              "outlinewidth": 0,
              "ticks": ""
             }
            },
            "type": "histogram"
           }
          ],
          "histogram2d": [
           {
            "colorbar": {
             "outlinewidth": 0,
             "ticks": ""
            },
            "colorscale": [
             [
              0,
              "#0d0887"
             ],
             [
              0.1111111111111111,
              "#46039f"
             ],
             [
              0.2222222222222222,
              "#7201a8"
             ],
             [
              0.3333333333333333,
              "#9c179e"
             ],
             [
              0.4444444444444444,
              "#bd3786"
             ],
             [
              0.5555555555555556,
              "#d8576b"
             ],
             [
              0.6666666666666666,
              "#ed7953"
             ],
             [
              0.7777777777777778,
              "#fb9f3a"
             ],
             [
              0.8888888888888888,
              "#fdca26"
             ],
             [
              1,
              "#f0f921"
             ]
            ],
            "type": "histogram2d"
           }
          ],
          "histogram2dcontour": [
           {
            "colorbar": {
             "outlinewidth": 0,
             "ticks": ""
            },
            "colorscale": [
             [
              0,
              "#0d0887"
             ],
             [
              0.1111111111111111,
              "#46039f"
             ],
             [
              0.2222222222222222,
              "#7201a8"
             ],
             [
              0.3333333333333333,
              "#9c179e"
             ],
             [
              0.4444444444444444,
              "#bd3786"
             ],
             [
              0.5555555555555556,
              "#d8576b"
             ],
             [
              0.6666666666666666,
              "#ed7953"
             ],
             [
              0.7777777777777778,
              "#fb9f3a"
             ],
             [
              0.8888888888888888,
              "#fdca26"
             ],
             [
              1,
              "#f0f921"
             ]
            ],
            "type": "histogram2dcontour"
           }
          ],
          "mesh3d": [
           {
            "colorbar": {
             "outlinewidth": 0,
             "ticks": ""
            },
            "type": "mesh3d"
           }
          ],
          "parcoords": [
           {
            "line": {
             "colorbar": {
              "outlinewidth": 0,
              "ticks": ""
             }
            },
            "type": "parcoords"
           }
          ],
          "pie": [
           {
            "automargin": true,
            "type": "pie"
           }
          ],
          "scatter": [
           {
            "marker": {
             "colorbar": {
              "outlinewidth": 0,
              "ticks": ""
             }
            },
            "type": "scatter"
           }
          ],
          "scatter3d": [
           {
            "line": {
             "colorbar": {
              "outlinewidth": 0,
              "ticks": ""
             }
            },
            "marker": {
             "colorbar": {
              "outlinewidth": 0,
              "ticks": ""
             }
            },
            "type": "scatter3d"
           }
          ],
          "scattercarpet": [
           {
            "marker": {
             "colorbar": {
              "outlinewidth": 0,
              "ticks": ""
             }
            },
            "type": "scattercarpet"
           }
          ],
          "scattergeo": [
           {
            "marker": {
             "colorbar": {
              "outlinewidth": 0,
              "ticks": ""
             }
            },
            "type": "scattergeo"
           }
          ],
          "scattergl": [
           {
            "marker": {
             "colorbar": {
              "outlinewidth": 0,
              "ticks": ""
             }
            },
            "type": "scattergl"
           }
          ],
          "scattermapbox": [
           {
            "marker": {
             "colorbar": {
              "outlinewidth": 0,
              "ticks": ""
             }
            },
            "type": "scattermapbox"
           }
          ],
          "scatterpolar": [
           {
            "marker": {
             "colorbar": {
              "outlinewidth": 0,
              "ticks": ""
             }
            },
            "type": "scatterpolar"
           }
          ],
          "scatterpolargl": [
           {
            "marker": {
             "colorbar": {
              "outlinewidth": 0,
              "ticks": ""
             }
            },
            "type": "scatterpolargl"
           }
          ],
          "scatterternary": [
           {
            "marker": {
             "colorbar": {
              "outlinewidth": 0,
              "ticks": ""
             }
            },
            "type": "scatterternary"
           }
          ],
          "surface": [
           {
            "colorbar": {
             "outlinewidth": 0,
             "ticks": ""
            },
            "colorscale": [
             [
              0,
              "#0d0887"
             ],
             [
              0.1111111111111111,
              "#46039f"
             ],
             [
              0.2222222222222222,
              "#7201a8"
             ],
             [
              0.3333333333333333,
              "#9c179e"
             ],
             [
              0.4444444444444444,
              "#bd3786"
             ],
             [
              0.5555555555555556,
              "#d8576b"
             ],
             [
              0.6666666666666666,
              "#ed7953"
             ],
             [
              0.7777777777777778,
              "#fb9f3a"
             ],
             [
              0.8888888888888888,
              "#fdca26"
             ],
             [
              1,
              "#f0f921"
             ]
            ],
            "type": "surface"
           }
          ],
          "table": [
           {
            "cells": {
             "fill": {
              "color": "#EBF0F8"
             },
             "line": {
              "color": "white"
             }
            },
            "header": {
             "fill": {
              "color": "#C8D4E3"
             },
             "line": {
              "color": "white"
             }
            },
            "type": "table"
           }
          ]
         },
         "layout": {
          "annotationdefaults": {
           "arrowcolor": "#2a3f5f",
           "arrowhead": 0,
           "arrowwidth": 1
          },
          "coloraxis": {
           "colorbar": {
            "outlinewidth": 0,
            "ticks": ""
           }
          },
          "colorscale": {
           "diverging": [
            [
             0,
             "#8e0152"
            ],
            [
             0.1,
             "#c51b7d"
            ],
            [
             0.2,
             "#de77ae"
            ],
            [
             0.3,
             "#f1b6da"
            ],
            [
             0.4,
             "#fde0ef"
            ],
            [
             0.5,
             "#f7f7f7"
            ],
            [
             0.6,
             "#e6f5d0"
            ],
            [
             0.7,
             "#b8e186"
            ],
            [
             0.8,
             "#7fbc41"
            ],
            [
             0.9,
             "#4d9221"
            ],
            [
             1,
             "#276419"
            ]
           ],
           "sequential": [
            [
             0,
             "#0d0887"
            ],
            [
             0.1111111111111111,
             "#46039f"
            ],
            [
             0.2222222222222222,
             "#7201a8"
            ],
            [
             0.3333333333333333,
             "#9c179e"
            ],
            [
             0.4444444444444444,
             "#bd3786"
            ],
            [
             0.5555555555555556,
             "#d8576b"
            ],
            [
             0.6666666666666666,
             "#ed7953"
            ],
            [
             0.7777777777777778,
             "#fb9f3a"
            ],
            [
             0.8888888888888888,
             "#fdca26"
            ],
            [
             1,
             "#f0f921"
            ]
           ],
           "sequentialminus": [
            [
             0,
             "#0d0887"
            ],
            [
             0.1111111111111111,
             "#46039f"
            ],
            [
             0.2222222222222222,
             "#7201a8"
            ],
            [
             0.3333333333333333,
             "#9c179e"
            ],
            [
             0.4444444444444444,
             "#bd3786"
            ],
            [
             0.5555555555555556,
             "#d8576b"
            ],
            [
             0.6666666666666666,
             "#ed7953"
            ],
            [
             0.7777777777777778,
             "#fb9f3a"
            ],
            [
             0.8888888888888888,
             "#fdca26"
            ],
            [
             1,
             "#f0f921"
            ]
           ]
          },
          "colorway": [
           "#636efa",
           "#EF553B",
           "#00cc96",
           "#ab63fa",
           "#FFA15A",
           "#19d3f3",
           "#FF6692",
           "#B6E880",
           "#FF97FF",
           "#FECB52"
          ],
          "font": {
           "color": "#2a3f5f"
          },
          "geo": {
           "bgcolor": "white",
           "lakecolor": "white",
           "landcolor": "#E5ECF6",
           "showlakes": true,
           "showland": true,
           "subunitcolor": "white"
          },
          "hoverlabel": {
           "align": "left"
          },
          "hovermode": "closest",
          "mapbox": {
           "style": "light"
          },
          "paper_bgcolor": "white",
          "plot_bgcolor": "#E5ECF6",
          "polar": {
           "angularaxis": {
            "gridcolor": "white",
            "linecolor": "white",
            "ticks": ""
           },
           "bgcolor": "#E5ECF6",
           "radialaxis": {
            "gridcolor": "white",
            "linecolor": "white",
            "ticks": ""
           }
          },
          "scene": {
           "xaxis": {
            "backgroundcolor": "#E5ECF6",
            "gridcolor": "white",
            "gridwidth": 2,
            "linecolor": "white",
            "showbackground": true,
            "ticks": "",
            "zerolinecolor": "white"
           },
           "yaxis": {
            "backgroundcolor": "#E5ECF6",
            "gridcolor": "white",
            "gridwidth": 2,
            "linecolor": "white",
            "showbackground": true,
            "ticks": "",
            "zerolinecolor": "white"
           },
           "zaxis": {
            "backgroundcolor": "#E5ECF6",
            "gridcolor": "white",
            "gridwidth": 2,
            "linecolor": "white",
            "showbackground": true,
            "ticks": "",
            "zerolinecolor": "white"
           }
          },
          "shapedefaults": {
           "line": {
            "color": "#2a3f5f"
           }
          },
          "ternary": {
           "aaxis": {
            "gridcolor": "white",
            "linecolor": "white",
            "ticks": ""
           },
           "baxis": {
            "gridcolor": "white",
            "linecolor": "white",
            "ticks": ""
           },
           "bgcolor": "#E5ECF6",
           "caxis": {
            "gridcolor": "white",
            "linecolor": "white",
            "ticks": ""
           }
          },
          "title": {
           "x": 0.05
          },
          "xaxis": {
           "automargin": true,
           "gridcolor": "white",
           "linecolor": "white",
           "ticks": "",
           "title": {
            "standoff": 15
           },
           "zerolinecolor": "white",
           "zerolinewidth": 2
          },
          "yaxis": {
           "automargin": true,
           "gridcolor": "white",
           "linecolor": "white",
           "ticks": "",
           "title": {
            "standoff": 15
           },
           "zerolinecolor": "white",
           "zerolinewidth": 2
          }
         }
        },
        "xaxis": {
         "anchor": "y",
         "domain": [
          0,
          1
         ],
         "title": {
          "text": "1st component"
         }
        },
        "yaxis": {
         "anchor": "x",
         "domain": [
          0,
          1
         ],
         "title": {
          "text": "2nd component"
         }
        }
       }
      },
      "text/html": [
       "<div>                            <div id=\"e0ac3f58-576e-4e2c-ab96-9962e698f099\" class=\"plotly-graph-div\" style=\"height:525px; width:100%;\"></div>            <script type=\"text/javascript\">                require([\"plotly\"], function(Plotly) {                    window.PLOTLYENV=window.PLOTLYENV || {};                                    if (document.getElementById(\"e0ac3f58-576e-4e2c-ab96-9962e698f099\")) {                    Plotly.newPlot(                        \"e0ac3f58-576e-4e2c-ab96-9962e698f099\",                        [{\"hovertemplate\": \"1st component=%{x}<br>2nd component=%{y}<extra></extra>\", \"legendgroup\": \"\", \"marker\": {\"color\": \"#636efa\", \"symbol\": \"circle\"}, \"mode\": \"markers\", \"name\": \"\", \"showlegend\": false, \"type\": \"scattergl\", \"x\": [-2.01297152815373, -7.83554969956441, 7.631583826853631, 0.4453309234133045, 6.6640381614336, -5.0435097511559475, 1.7917684604197428, -4.649047775704271, -1.653366032272843, -4.887574857721824, 1.2402333368928506, -5.13503691956747, -4.9488624156939025, 5.270737258447637, -4.618336108760556, 0.8314435717016252, 6.69393567431875, -1.373650606395294, 6.531212085753411, 0.1568938013142752, 1.3962293711856009, -4.707154454193503, -7.426805394405097, -0.34745809339309364, 0.6222489324119982, -5.559553046370682, -1.3320831044996135, 1.1315191440433627, -1.3960269686260443, 3.912167090289118, -4.6272795913840445, -4.321374876232826, 6.206171884435657, -1.276388015414175, 0.6841012543980106, -5.34604426315883, 0.6357895781006787, -5.313174244186848, -1.8402471559491502, 6.467777776591297, 6.171023042334904, -1.3989052036387644, -4.957745296860266, 19.497646787325547, -1.3589523173243327, 0.7090941955553755, -1.1641671116756613, 1.2834638770963762, -1.6906074898711365, 0.07854409020446033, 7.402771438316217, 6.431637575722128, 9.246390247437107, 1.3681061962201846, -5.326163944734752, 0.6090389749157764, 6.561755794905852, -1.6682006904728244, -1.3931862092216105, -4.419078323599205, 6.166036590460816, 0.8346360791558329, -15.719910178269757, 10.208826614429963, -1.8954410470875789, -1.3413616443381302, -5.2558875195817825, 0.34074601507319763, 0.038322944564399435, 0.4640298113541514, 2.1616108964757657, -5.299620516810575, -4.8371645634070655, -1.3836528693878278, -1.4374242665415657, -1.0233065251029931, -1.4758103990453182, 6.440186963048298, -4.975063766712041, 0.5662754960239119, -1.4988755995578207, -5.405174378559354, -1.7360423429678598, -1.4486553919507192, -1.1326421408707694, 6.623673740395223, -0.9361060668621646, 0.7414027483816603, -2.375164075250493, -1.7564097871345907, -1.4912545169748148, -5.820202453549291, -3.9477833213459372, 0.931315762593792, 1.3131463419081508, 0.23873963243758298, 6.557024670683264, 0.7148833535240352, -1.5613676398039051, 6.590770366905546, -4.7683176971648695, 5.813427740008227, 6.6682219257950806, -4.661994976324206, -6.286073040091917, 1.9765033601157687, -1.189564827886409, 0.3957867099720366, -1.4475368826170267, -1.1772860955462503, 0.32033209125240714, 1.181495723605089, -1.5126025947023458, 0.974028533477797, -4.567833070839233, 0.6662789581256913, 6.5674383117637145, -5.328542057619646, 0.5749110584770705, 0.5854664272892625, -1.6201636800366739, 0.5895191234996086, 0.7905225519762984, 0.5615015958974197, 6.457658270519535, 6.45470520039374, 3.7843047223803508, 6.580077211118432, 1.3289070677466694, -1.3038062209813799, 6.554108396402276, 6.737833516320289, 6.4439005731346555, 6.329384941450517, 1.3135991567912588, -1.391003579395003, 1.4962455554319591, -1.3575931095096607, 0.9218164557394662, -1.6139535239210725, 0.4103079030372383, 6.611285540720266, 0.26396578759845263, 0.5728740641300524, -5.475305531559635, 0.5402549429021474, 1.2695123167439504, 8.7398154594604, 11.281920317925703, 7.825945263557824, 6.662541459295547, 6.277226102899716, 0.7629945919989608, -1.22596972881284, -0.9918296456733928, -4.574835677242158, 0.7038402774467268, -4.733952873788846, -2.1696547178671812, -4.225578779577072, 0.6106577676862587, 1.1545315728314975, -5.9776520589617, 1.639531591020204, 6.327464083417949, -5.191956513811263, 6.812603618289268, -5.41468167545328, 6.3300920362531405, -1.1382608674900199, -5.05045693427443, -4.868228595901022, -10.381513566395922, -3.5094863186303646, 6.604163932949526, -5.389214666365822, 4.741522593175124, -4.142416230595635, 6.872809371803146, 1.7306175165443134, 6.5848388005565095, 6.152323943250566, -3.2823343545018564, 1.5040598308903408, -1.4635053352162957, 6.229440575966819, 6.823705941280547, 0.16058555613238376, -5.075387133780291, -5.385587010532592, -1.404039791268167, -1.5437578443589326, -1.6427298868739277, -1.5671212984193785, 0.7662809201886259, -1.5751906508947129, -4.764072266067525, 7.1543952492047005, -1.5107555159779533, -1.550113579177536, 6.356693706512324, -1.2440720927132638, -1.8755127012241857, -1.1725153472670151, -1.4211537892676047, -5.436690675517384, 6.452185752129838, -3.4734792486863797, -4.913218792675098, 1.042757681780974, -5.276594985322153, 0.7154773625518466, -5.356854408637697, 0.6412839408907426, -4.785095143350785, 0.7262821693832381, 6.504406412323961, -1.0353661755679393, -5.019066256504273, 0.5332347032798697, -4.574481354992504, 1.0163853811136254, -1.4948967554678905, 0.6632793233277529, -5.172917343336874, 6.476856407665963, 6.705327149812961, 6.424173141161615, 1.3006743667387624, 6.434154500111762, -5.452233511136286, -1.278895629116856, -5.783495489840695, -4.48015928042715, 0.7104265964923461, -1.0841359790771945, -1.282461052259697, 0.3570077574984608, 0.81868895436448, -5.058350848030544, 0.43474835962263897, 6.509366969012895, -1.2481306681575857, 0.5599696808932958, 0.5738788785439477, -1.202125740429853, -5.098451604519639, -0.8484530621615733, 6.5600092693146195, -5.601343419739936, -1.4179980435565875, 2.09200346439392, -2.8083018968790343, 0.8457160507314082, -1.188006414655498, 1.4566274979794165, -5.536646542987872, 6.773995895148845, 1.3187190843224519, 6.282989370811838, 0.5186416700356343, 1.0626335831453435, 1.2390445412388424, -5.589978379972322, 0.36525598700064527, -5.543054263412272, -1.6295511978875872, 1.0629698563867618, 1.2851352209609395, -1.4259398112511583, -5.301243814061307, 6.566925122114792, -1.6316456342173384, -1.520939316235587, 0.6889369046417049, -5.619251009148458, 2.725578559574123, 6.464211623234274, -1.2720643530459634, 9.453266403622917, -3.0931419746289266, 0.2211826396719618, -4.686474092121739, 6.29253179895788, -6.815052479038761, -3.0005392432886846, -4.764792932985953, -5.32985108354861, 6.568528483144563, 1.0068308234306032, 6.410582417676681, 6.510264804281598, -13.150373466158689, 0.24496540918026005, -1.732612129687254, -1.6674694638495884, 0.7182090850223971, 5.994497962730221, -1.2962758558228928, 1.1653853593260086, 6.6552669887193305, 7.061585992041544, -5.204007631989002, -4.681404571639854, -5.303725999961557, 3.575374145943779, -4.671765426752039, -1.5691853118215853, -1.5698075566958025, -5.624162597817318, -4.809945831774638, 6.76109884364562, 1.4443236143168723, -3.3804472886542665, 0.4022369146620164, -3.460691654444856, -15.041554927927631, 11.252029479182019, 13.94102345868715, -5.20507290223167, 6.360878348544842, 6.378904454385975, -4.5476607618042255, 6.360536538104857, -1.6160961164095016, -14.667287339664504, 6.148470871908735, 7.4333745103004905, -4.704717958396841, -5.458455260899037, -4.698839461760938, 6.5475838811740665, -1.4962781206409785, -5.436467212768384, 0.43898710238384725, 11.847346022257796, -5.384194381874629, -1.3753922312535551, -5.162086723864448, 0.8248698402597231, 5.349722397488897, -1.5305314689748144, -1.7076211761821836, -1.1612152905733892, -1.2330627018055353, -5.285698231501778, -1.3847317887459154, 1.0770478968924762, -1.3691430010098948, 0.5916964229328835, 0.8030452284002227, -4.822065630868975, 0.8126793900438318, -1.3374922158131322, 0.6501406000902837, 14.262934556336244, 0.45621557940349683, -5.223187999285638, 1.273732092600488, -3.5031521732802493, -4.644127837294434, -1.393017601526694, 6.249169886017536, -4.875517443489094, -6.6318734176779115, 0.7983746662605092, -2.364953579904598, 0.8458050624166673, -4.792926360679554, -3.602248874322714, -5.0043819029741545, 0.3983462383638314, 0.6641742260488639, -6.977662929659968, 6.663863243324258, -1.4513491288867995, 0.6694911752202642, 6.414722240629802, -1.503182508602394, 6.8480964024943205, 6.299771762921126, -0.7515339953280226, 0.5423257137455567, -1.6592106310180725, -7.008282559690023, 1.1518712180760828, 6.547827158884918, 1.1297020116400331, -17.034604440191988, -3.049953545945386, 9.02324432903243, 7.410225919718042, 0.8942857848376968, 2.2726136788555498, 0.42402448213861477, -5.0570018345349315, 0.360288595487948, 0.612057742718012, 0.5560359197011293, 14.058142607951307, -1.4889954244667272, 0.6447014880776708, -5.242378935776585, -5.213780282699363, -6.161645655536412, 7.487848408694659, 0.8438861869691242, 7.383120924184666, 6.767164429594522, -11.82550807044446, 5.505211718594577, -1.9297608842578895, 6.668997199206907, -2.7397207665585297, 0.5091585251072502, 1.0125433657592313, -1.444871583705521, 21.045727372064274, -4.948851423049281, -1.5123875818541237, 0.6998919043692411, -1.912458864945624, 0.49160122305488707, 1.1751442078968855, 0.3995942834646925, -5.3205289332266, 3.1402793244644105, -2.373712255352575, -1.37669055642229, -1.4332842395287249, -1.6139328691958263, -0.9197729648393856, 0.9232777673739153, 0.42177719619733994, -1.4394571277630777, -4.584081790160278, -1.650746810559662, 1.0082693747428861, -1.3745449390109354, 6.375666884871421, 6.418753756983488, 0.7354840068106899, -4.726038917580542, 6.581619596990049, 6.4071087156778965, 2.071791151267027, -4.074111621683016, 0.2639855863764943, -1.1773935906001307, -5.420544298578011, 6.402549800382821, -1.3618488443401244, 6.674185065226118, -4.472967653929375, 0.010092807164007093, -4.491512201624422, -1.5604224013910777, -5.482423028793196, -4.851927811837649, -1.4944543072977483, 0.6306391549875329, -4.587197138876588, -5.142355354853465, 7.600353287200147, -5.564750352405941, -5.154320302181774, 1.0732583000145688, -1.297468132433456, 6.580503870538903, 6.652632682988214, 0.6909771471500117, -13.147911722138344, 8.066733185432868, -5.370773642416208, -1.1403978541185236, 6.620544992008266, 1.2111961293151847, 6.290427192708421, -1.6528776175338336, -4.873803613370545, -4.636810735814204, -5.482464752688007, 6.3608368329274985, -4.57506082521685, 0.8194658828211708, -1.4228992126626232, -1.4839973939701572, 0.7721830984696242, -1.4063945136642462, 1.5922678057310649, 1.3382863896781536, 0.5733472567768911, -4.3521144415515325, 6.2340452519179514, 8.42690219837487, -5.2635423923627105, -4.720228782180233, 7.087931726343558, -6.193814727303788, -1.785068516761161, -5.248592616999601, 6.609616083566019, -5.445679938442663, 6.126487049397956, 11.367248930008364, 6.728817167561664, -1.7018314105010655, 6.493595699761256, -1.5974249680475776, -4.364998787452664, 6.036602154238362, -1.000977136428246, 6.675221414076563, -1.6562430059972337, 6.7647240191549125, 6.54934843561553, -5.41198487561711, 6.382715978179093, -5.239752044864964, -1.5753555990141588, -1.393985296120655, 0.8417346036963812, -4.485801971271911, -1.6331585952893624, 0.5155073189099694, 0.5485339289856247, -1.3586844571536334, -1.624011058360178, -9.193835480862578, -3.4732993676476083, -5.232540890894063, 6.529614338817824, -3.8239245349211513, -4.7180235245354405, -17.08178481721494, 11.719588261171328, 0.8899039364625139, 2.2707903843320683, 0.758535012763435, -5.153513973252928, -1.5042808115724269, -1.1637447975048267, 6.485282761398136, -6.011471639379704, 0.6394122162599319, 0.7464346955383915, -4.008903714410649, -3.9536254484790794, -1.2532329739852026, -5.603307487871427, 6.39477067389544, -1.358745520610965, 6.718606598386524, 0.9952127660614128, -5.489407948937263, -5.323163760534625, 1.319986545973743, 1.0599352286233286, -1.367725759368403, 6.353944782895755, 1.3127494459571187, 6.491827706051679, 6.686554866213893, -3.3111821462464186, 0.020434255921513777, 0.7094796376949957, -4.157916978264106, 0.6560635419434698, -5.331436406433078, -4.504792306118072, -5.294558676636383, -5.446712270562429, 6.493912442854888, -4.989373333437244, 1.4551100566332662, -1.6514976914102486, -1.3002102697728983, -1.389744663246092, 6.580195873766896, -4.543416639816739, -1.3538921974682305, 7.084319199040714, -5.163790723245091, -5.56498357190188, 6.4806206292336395, -4.353384058007064, 1.2587646209465557, -4.621471692539383, 2.718482947903448, -4.4976810900015325, 6.505978908715555, 0.7458736775079886, -4.481823076606164, -5.561755330853969, 6.140006044321202, 6.506594370135952, 0.6731935396789195, -4.659485709565723, -4.757946641338221, 0.829709662872056, 0.8575922738801702, 0.48970808331337584, 0.6634613253130414, -1.1967816316717252, 6.8374118627726315, 0.5471162026659765, 6.501054149346749, 1.6866923155206515, 6.362535540463132, -1.95576540361616, 2.101242043969616, -4.8637191582594586, 1.844265391688463, 1.09729758398662, -1.2625089419745739, -1.2750194002527062, 6.513321581579407, 6.869678828878982, 6.643146193512319, 0.5266136698832482, 2.9066027711533824, -5.03457214709955, 6.108627047348271, -1.5775053976697697, -5.535890059565477, 6.328986315113414, 6.435871926549141, -4.635101995293826, 7.148288417100385, -4.414362509350621, -1.972474959011809, 0.6659595439294421, -1.413325154803699, -4.906663933803859, -5.406716415809495, -8.205088016227174, 1.6331054956685531, 1.1494475243753242, 6.4223827062849725, 6.726528193312525, -2.3384328586956022, -0.940401010091792, -1.5395737115693569, 6.618279836598466, -5.095084420303696, -1.376599629718278, -1.6405078335470091, -1.5551617324956197, -1.5859803647815625, 6.461664171708678, 1.3046010509877835, 0.6784099589519148, 6.425250647530695, 1.734849005188338, 6.756429889774755, -4.284794632663332, 0.5126508343506013, -5.114963073163125, 6.77342080917597, 6.596164175461668, 0.6539046787339756, -1.0708270067088796, 0.7601576726052827, -5.125982850401382, 0.32064404997788476, -1.2632633459717781, 0.7623457127187632, 6.71820808275572, -1.3281693000989794, -4.704834169154231, 6.736769850553982, -4.651054693475594, 6.555346023338906, 1.6406922295272919, -1.2078385814875594, 1.234231405657979, 4.1646653672054015, 0.7332060324315862, -0.3557296386360853, -4.760648298338281, -5.638964435078975, 0.7623580654940713, 6.483226131355261, -1.186088068653173, 2.4540693997884437, -3.1321068529956726, -0.4950147247388539, -0.764021293490017, -1.294161935163758, 0.7264222719577221, -4.813377263152155, -8.560338658975704, -2.7582116950465623, 5.9962455071333, 6.43816316615434, 0.892833324079358, -1.3215449237094172, 2.1552519798103793, -1.1884601301446722, 6.781814978121198, -4.491608760406634, 1.045187830122848, 0.21426419695961527, -1.690728549758777, 6.4661569873028615, -1.2662977255915804, 1.8064832177345913, 6.68498589298857, -1.6760956421589996, -1.4002266437624535, -5.48861420507064, 0.8314240331377856, 1.3297078764940211, 0.629190875230691, -5.452515834066237, -5.210894175259555, 6.42774074086152, -1.652025064218994, -1.1740027085544542, -1.5386881352095894, -4.52115088808692, -0.9970657077660976, -4.952627868254279, -1.6365488073071413, -4.58745215934431, 0.6601005812037841, -1.2013836941395395, 7.164094219848401, -1.3860577438535224, -5.536887309782403, -5.920703413918006, 6.859682760933022, 0.8529514684106966, -1.8650004393569188, 0.9949978714742197, -1.1891108353921747, -1.2223938254592128, 6.5708483328646725, -4.94784087996528, 1.3428219406286903, 6.579321983262856, 0.620439987593386, -1.0572417434934531, -1.300154108594605, 0.7157835704369779, 11.078181608496122, -1.4283928957088343, -4.110710487949127, -1.548673971360966, -1.6126504848668701, 1.604014132129663, 0.7730898888342014, -1.5626213198579217, -7.3559056745022, -0.8911146624243622, -4.65066881680663, 0.7103142054302858, 0.8869155207619941, 6.878640813095049, 6.630418644245087, -5.38534207321855, -10.233464081666542, 5.972569846997745, 6.423228602735663, -1.1995543866731546, -1.1480139882660785, -1.3059063228676544, -4.577737680248985, 1.9884853207685487, 6.30644614340203, 0.5210471467386547, 0.627634705623319, 0.9365388299983572, 6.564043753645027, 1.2539494727107117, 6.838156169026751, 1.0557257305817669, 6.728096677644491, -6.377125399773475, 0.043502942090385716, -1.9911123356521556, -1.6085556188559258, 6.451048438811478, 0.8670674686170167, 0.5877315192816565, -0.22320437841809943, -1.761661698841441, 0.4378541372724337, 6.755941103712973, 6.74874778482824, -1.3756038478328725, -1.260402134603926, -5.270579562598902, 6.001847100655121, -1.141585550836634, 6.837439253801039, -1.2466123525174706, 0.7486709555837532, 1.0852276025415977, 1.3289498284117034, 0.8195484839244183, 13.165786523773468, 1.1648757698608752, 6.539424453025966, 0.7137367938710644, 6.583412473582488, -5.97733176385413, -1.6890409721891124, 0.4881753843334145, -1.4483212447809133, 0.5192474812522212, 6.7404142556780995, 0.9530409239687434, 6.586260601597751, 6.199036669983317, -1.5437049329027597, -4.385998535636024, -3.996478077506122, -1.6606989327183181, -4.654714350017294, 0.6440887381183991, -1.1946611798925144, 6.703983291733307, -5.278721580643996, -4.502502816770051, -1.11412294595147, -4.511361911633341, -2.554662536613615, -1.1852394188400606, -1.466425397600866, 6.32375655280678, 10.682777458494343, 0.8061073000502553, -4.581810448600917, -5.4415842582436085, 0.8440717908671893, -5.920906976823682, 6.409676313570088, -5.071874724391813, 0.9005897092447079, -4.639165868610134, 0.544514842805794, 6.534165463039166, 6.6859931888960435, 6.559774883452147, -5.4208461547165525, -1.2494194498600653, 0.9697879649003694, -0.865792065733056, 0.6420054609180186, -1.1808588194934573, 6.683702667520044, 6.640398461177068, 6.695785195906511, -1.2744382963918284, -5.595888610286229, 6.423236686520565, -9.093165807142176, -2.186579823417285, -4.465938633368238, -1.03946553049216, 6.6924968262032, -1.7965417333858251, -3.3893836600202087, 1.4845874380171398, -1.812553237819352, 0.4737034610687459, -5.209149495496129, -9.21005383107009, -1.9806217482743391, -5.51459593835522, -4.741493562502298, -1.4294869894687177, 6.382582282433817, -4.54959168372272, 0.688505192983598, -5.446845201959108, 1.5658671016906451, -4.096432580338685, -1.5537549224560032, -1.3922840967586871, -1.0352218981877044, -1.215786528120573, 6.2644223584307035, -1.3445824689033594, -4.6670434398778715, -3.299916010883052, 1.4931266239095284, -5.061452075876174, -1.5894118400039876, -0.574097684345509, -2.3088882969876194, -4.504278644098083, -5.185901161660897, 6.424009531895535, -3.7852496813021514, -1.0998434111465631, -1.5013976537490012, -4.633090928622126, -1.4889924869541489, 6.651153080730644, -7.476374564562447, -9.577829967284524, 2.345247721613017, 0.938150313103188, -10.447805230920782, -1.8323131747059511, 6.409547104449911, 0.4369095969889432, 6.622552913387696, 1.051078521488603, 0.18345726078143784, -5.242867274382975, 0.7974227175431102, 0.847370303303966, -1.2397238118728795, -4.212624639579253, -5.1393494110462274, -1.8520214695205226, -1.7058448168169749, 6.553131560058439, -5.194608066417558, -5.37074712685049, -5.238832485266149, -4.214039929928165, 1.0114823425595822, -1.2931228051193109, -5.007695111224087, -1.669666309643933, 6.463647960283033, -1.1671828105292192, -4.643634809897124, -4.962104981629612, -1.4933488827678865, 7.11697066509604, -5.408562990140057, 6.627766936196718, -5.2712557137206595, -1.1077529978657186, 1.1075960583715239, 6.942696306754836, 0.9517613778005142, -1.392033340486819, -7.1041847492594, 1.1056184137312872, -7.5290084085199585, 4.030184487791532, -1.5120288097337018, 0.5005742730178349, 6.541649886169893, 6.925686770273843, -3.2704246293421773, -1.719480748785799, -5.316823336113202, 1.420293262076012, -4.572182622493175, -5.191695058897058, 0.9904391970726721, -4.743293925382524, 6.672383514529386, 8.23094512077977, 6.556934154459422, 6.580759669001793, -1.251371894460381, 6.418582563796345, 1.1512603077006647, -1.0349193159644121, -4.718236496885978, -3.232294154500891, -1.4963754497417032, -4.650349288939485, 0.22372277852551684, -5.207201423453351, -0.31570841227248087, 1.754232656328781, 1.9408331972373667, -3.2845594403514156, 0.5268105483326447, 0.6022512663761959, -0.9868018190088871, -5.020830314734359, -1.1315550597489925, 6.733398368083308, 6.997616783921356, 6.572279310794655, 0.8326408793362623, 1.782432087517944, -1.206103513484134, -2.052007761484658, -5.540728044867996, -5.1910337173863494, -8.892346235912788, 8.193619803989737, 6.79413316734439, 6.620414504530221, -4.567640806912513, -1.2408896524961863, -1.291146236492739, -1.6046892719101082, 6.492699083945646, -1.0383949429595956, 0.34663882758238873, 6.473841538143681, -0.7385058876464704, 0.7923640501626725, -9.701682075023298, -10.332432017745445, 8.27036565762068, 0.6160820170667811, -1.3144777477069751, -1.1740428037750752, 6.843892126215968, -5.308581466709555, -1.0401094719296664, -4.762451349486685, 0.5263123429666412, -7.635438916801335, 5.866241053519103, -5.178697621386705, -4.582568917526584, 6.613244606466156, 6.535777814081936, -5.367411049620161, -4.340297169004587, 0.532880486347811, -5.774654525632566, 3.0217710159247435, 0.36819030230630817, 0.7814581754179403, 6.510970013004101, 6.5326224990618265, 0.7792531907805739, -1.6003154934898187, 14.883475223689961, 0.7954613951708027, -4.630558082114183, -1.3047751219616115, 6.426286979208691, 6.428239128818228, 2.5726542431637447, 6.670441246205221, 0.5329355929437878, 6.412225520713611, 0.5977522843408848, 6.370783364251789, 0.2356643838556694, -4.577504540725693, 6.331790852915462, -2.3636124939468353, 5.9570458430560915, 6.321654294885431, -4.368545583288934, -5.072605130463221, 1.0841634289639792, 6.662134802958483, 0.6997672276643454, -1.4580135820727258, 0.8681808875887864, -1.1332178284907914, -1.720343329469226, 1.5017518491398663, -5.394589664575733, -1.1869347382349105, -5.2080456086841735, -5.371896065479943, -6.780722248175214, -2.8490461776163167, 6.513631427229208, 6.368423125006568, -1.4163947070232057, -5.201219637367404, -4.5807857026291146, -1.5608716294712497, -5.9073383704090165, 0.8652008084407491, -5.460638632772957, 0.805468123515405, -3.708547481291461, -7.788301596238471, -2.8933462482712176, 0.778884004173439, -4.809695087756305, -5.521198726507709, 0.5796364005822137, -1.167423833311846, 6.603889471647037, -1.257315133035674, -1.328024256898262, 5.0369867882969235, 0.5983702474968016, -1.2091954732427903, 0.6002744599189093, -5.278268583279358, 6.946992392725937, 1.3388102069494436, 0.8872160730136202, -5.147168122081991, 8.892728135170433, 0.9113228539184919, 1.2834752317841582, -1.388647712185252, -6.361999665193673, -0.5950504839975933, 6.838143187735968, 0.5376454581081348, 0.8426529342267469, 1.382376564141466, 10.437119029180296, 6.714233657758736, -5.28990820487957, -4.531338028969896, -1.3567695673608444, 1.0474432337448516, 8.310511816925757, 6.457879124838205, -5.230256552982745, 0.38336011929118374, -1.34575122774439, -4.6813334750454665, 1.043068737614244, 0.5053113669653966, 6.246825299518981, -1.2338018464499378, -1.3486569496326986, 0.7805880234033749, 6.7888776546419605, 6.614363303296786, 6.560898274829326, -5.159539304984404, -1.2628631432831945, -2.8518486262692697, 6.559736803559588, 1.3958156612309371, 0.8911694278792873, 0.5311977503173407, 1.6184014613257864, -1.4096911980131897, -5.313171767440934, 1.1354519781307295, -5.648132039905506, -4.340540200638507, 6.736182522560012, 1.0610708773667712, -1.4094370246784385, 0.9825732121693155, -1.4998723124068845, -1.3567248067066922, 6.869827370549262, 6.573613688475789, 0.5723600812341311, 0.4218446795579528, 1.009408414417081, 6.725156237523231, -1.2725606588996934, -1.3575882013217029, 6.573035466343196, 1.1425013264752055, 6.6317764310521605, -4.012386160743891, -1.598293088030091, -1.252725627127512, 0.7502813726695332, 0.7320796367113176, 6.597139649191756, -5.678517605744458, -7.275046117956238, 2.3001020475482292, 0.7572021439033586, 0.7958857624553334, -5.470913608719093, 1.2279773725345342, -14.64624090873558, 4.075438552125309, -4.956633915213818, -1.7183691258562759, -1.1813263274139316, 6.279290844040402, 0.6934125422291292, -1.3810275470149145, 6.733723579348364, -5.549306049447364, -5.178737776003656, 1.4316897711865473, -1.3547817065950918, -1.4763118846757108, 0.8357570559043185, -5.197141575694814, 6.105589713192996, 0.34673573194033963, -1.6198439053380014, -1.3286750145953772, 0.8124851246647152, 6.2063255531151285, 6.405209258561048, 6.653255333396267, 14.538033370617184, -1.6154074256693278, -1.2872788743905499, -1.5939485307083205, -5.355361156103803, -5.617116337187297, 6.981007689262345, -1.3627894431956882, -5.47740587175852, -4.684146091441832, 6.813865185533902, 1.2506872474004498, -1.3380942377208362, -5.187924362796969, 1.1902377510572988, 6.62679733189349, -4.4523111864410225, -1.0222456758452811, 0.4887417242889289, 5.175573774597537, -1.6472657302486673, -6.432815975594629, 6.406790460950692, -1.2726706712847704, 6.53603186070265, 0.7807667704499681, -1.3003563271581036, -1.4902533532479925, 6.326592848507506, -1.3766664236829698, -5.177840958412029, -4.6783006994448435, -1.7087506376139194, -4.374351511100068, -5.325496965093756, -5.059123141941425, 6.798719730882374, 6.433984846907135, 0.8803863966146401, -1.654873650704923, 1.1519761329155482, 1.0442466586198054, 0.4961138912001271, -0.9510674263434514, -3.5216250737868298, -5.068865615860889, 6.438740999709023, 0.4259561673751528, 0.3493369625844429, -5.295455805239739, -1.5182697326207757, -4.392667358320167, -5.827468206858798, -3.6191448358430027, -1.48033245829175, -5.048191596151804, -5.059042639807895, -1.758984154512886, 6.534012195261676, -4.663018769720472, -5.425783406440085, 6.555831162359493, -4.474182635941088, -1.4915541083460815, -1.4548527920339935, 0.9316707096147125, -4.756086666349087, 6.675476109586822, 6.661361086147175, -1.2303674695354336, -5.27015622140862, 6.62810707897885, -6.536860313569962, 3.8019887968618686, 0.6265166327664653, 1.006601794642016, -5.709466046409773, -4.8119567648053465, 1.2785806835611233, 6.709760717467537, -5.7045989905242855, -5.353982686275151, 1.2501420477349294, 6.714757080123038, 6.718112293447636, -4.587251232097447, 0.7294452831111835, 6.47446843861203, 7.11495853107388, -6.1112272467812385, -4.521960764660516, 0.9035747725862399, -5.015190825170758, -1.3448298438419217, -5.064984157407346, -1.5466381859348974, 0.393204257156538, -5.232519349688934, -1.526386424332774, 0.6347508407183798, 6.811666652417219, 6.298883581971241, -1.3235296414040603, 7.313806765933581, -1.0686957395343055, 0.811474779608751, 0.691771565946303, 0.5761598121127256, 6.707252839544844, -5.152965285353976, 6.739565281535418, 0.42996761300084085, 1.4832625621294766, -1.402420223261234, 1.8191141127543151, 6.609036115310454, -0.9064550210053343, 1.1520882417492158, 6.607193003224424, -4.864043385089532, 1.2023983921714867, -10.339329920173453, 3.8908203230543035, 0.7364552552944732, 0.9530684150144494, -4.7678517254263575, 6.76817961390059, -4.602766407289279, 0.9559448134564331, 6.743336683601321, 6.568537932038853, -1.6114999261987404, 6.520837504708035, 1.295916254967072, 0.5294274654374775, -1.1795910345312215, 1.2683188212101628, -4.343658480001079, -5.309939137859951, 6.617926436924204, -4.9408784979665015, -1.3994908948894993, -5.174214401853169, 6.4287732034927805, -0.9907009017230282, -1.7834951265265244, -4.6095596348228, -7.56413391462851, 3.933494550866085, 0.447549613555499, 0.5121543915849665, -1.5126992064443807, 7.503472167539361, -4.510125742486263, -4.300335862412941, -5.083298716105144, 6.550994248003646, 0.5743681495714744, -1.1943694033239332, -5.477237339288052, 0.5448754702696154, -2.6717976919315376, 1.4917562806445328, -1.2822490654112964, -1.3760387940874146, -1.5159682698822103, -1.9096515506332128, 5.843273242123066, -1.106895145404019, -4.49153074421968, -2.0599700887763066, -1.3577925917966625, -1.0963922651374804, 0.9156901707007202, 0.9467533930230175, -0.9638764312153448, 0.6833331496397906, 1.728966670598439, -4.550463562222263, -1.4955772453701377, -0.9389002057315204, -5.19286191007568, 2.573654193678364, -8.52910416934017, 1.2821755221631113, -1.1741062595093832, 6.847305702954281, 6.553472446444101, -4.725819483781444, -4.655953968666991, -1.5253129449081808, -1.4775272467669076, 6.6439956716694715, -1.1509398789517278, 0.7254765097219914, 6.590728418324407, 1.969343924425796, 0.608537175316211, 0.8234453129198575, -1.6576372804592598, 1.1944774368694275, 6.684438247957723, 6.580077189720073, -6.15883427938628, -1.247025241824367, -5.304654641917195, 7.304395053474512, 6.551264490889759, 0.9651348278002925, -5.349661089393597, -5.3790774520803035, -4.922403723233091, 6.527862772834778, 1.0985433397723947, 3.4104898089451323, -4.9065845490503115, -1.2609330389204965, 0.8489196734205414, -4.734035969115559, -5.068395567876742, 6.554913253034985, -1.7361665346515236, -1.1384120321185547, -1.2142329918463581, 6.280636595788247, -5.320710193863652, -1.186800927656031, -0.921879862253549, -5.052748095008132, 6.966060689643919, -5.133580358869624, -1.5754919386862405, -4.391913606229462, 0.8503193259975558, -0.871435524811781, -0.94591288740142, 0.6272464142186079, 0.7792903132784464, -9.355451019786177, 3.3785754980598997, 0.40769776917931044, -1.369684713464648, 6.798420046263257, 0.45688739924755356, -9.43602797034391, 2.5819869124433783, -1.285957659954356, 1.23085172462492, 6.6770544034201, -5.060894973788742, 6.941700211835895, 1.168604906703448, 0.5171393501246155, -4.9702605759821115, 6.645424594598037, 1.353318930421817, 7.437773855654716, -1.5074092657085694, -6.303786131607916, -4.546694654374273, -1.373738945590504, 14.928883795061482, 6.390928480743219, -16.926481815995416, 11.338079079625263, -1.7118374787649928, -5.153076124557459, 6.188453250402914, 6.342791967957459, 0.9548553666772751, -4.766251986986498, -5.238565749373869, -1.3745047987681527, -4.49198234734835, 6.676371577723287, 6.284155952440907, 6.787888882662494, 6.579456232293065, 6.431564493174004, -4.89003789839224, 6.597705618401423, -1.451019266056948, -4.936974971489762, -9.75715837878683, 2.064343815358479, -1.161219693741599, 1.6853258491654428, -4.877254291266733, -1.2432726995629642, -5.61340985408777, -1.4598147031923685, -5.514104195664388, 0.7251249590409642, -1.6308934283911547, -4.5866377217480245, -1.0774081279590006, -1.550478801030372, -4.475783499686823, -5.611016747786596, -5.350054236282101, -1.3344219984322172, 6.390797425249966, -1.7387856749229766, -4.422970452720262, 0.8948232235477604, -5.444411010973733, 6.582084809443457, -1.7382152337576768, 0.8773001942872518, -1.3334220175112392, 6.643233211256851, -5.541345736317936, 1.456915321461316, 1.0851252673744347, 6.577242395017819, -9.91173554134173, 2.9657245194408834, 0.3009693587186964, 6.671828305659787, 6.481407807274861, -1.445287515953163, 6.606843190162615, -5.0517751777154345, 0.7232588108289588, -1.2779427469329168, -1.4014649553409242, -5.5358172895062685, -5.388156941531983, 6.6420109982559055, -5.3795875168656195, -0.17126605645270956, 0.6575527718072567, 6.62075597160493, 6.546581846289344, 6.294366351210922, -5.905726814331016, 0.9141264336268131, -1.598341261409968, 6.494279177889986, -5.588056896385686, 0.7217093082074917, 0.5581142302625671, -1.4948598672918294, 6.4304787761695685, -5.5463564528183875, 0.4848656103342498, -1.7293338331519559, -6.029322823521587, 5.385417159892215, -4.222266208267248, -4.740833894762857, -1.2151895874856602, -5.584304685796175, -5.270885558450884, 0.8942858777433836, -1.0274664369837094, -10.07362703943149, -4.198384766029414, 6.270607667254921, 6.7144145224915395, -1.270829123495173, 0.5310971968487204, -14.647965890973671, -12.714412587012175, 11.872586183512515, 1.2767212050662662, 7.38604631020082, 2.1978937998155543, -1.3866989262088196, 6.674893670302335, -1.2110273428629008, 0.4876282847234892, 6.297920302808906, 6.421890586708589, -5.211528901385891, -4.286521091430846, -4.204535462277259, 1.4950731573392821, 0.8727947224477537, -4.583609191819304, -1.36168915898791, -1.373567318061275, -1.5247338261973038, 6.745175295146774, -6.087468343915414, 0.7903980838407072, -4.641411661594488, -5.025200308112476, 6.737752781896813, 0.585458452339957, 1.0299366816851512, -5.256257638382842, 1.0715265606831923, 6.573661283740339, 1.3646004594042946, -5.079146259353485, 6.443139232881982, 0.5341347062430171, 0.870410637637795, -5.423185281320189, -1.269478984122901, -1.3653009898353246, -3.8059984234973787, -5.031499117161676, 0.42501176805154667, 0.9595764812707401, -4.273577101029585, 0.7736376688390114, 6.3469671418352265, 6.433363116945649, -4.804793600160122, 1.2115092196890604, 6.4152980251817935, 0.8460615081547436, -5.3443919430729885, -1.2130529830554992, -8.293324143609842, 10.460013380504233, 6.671254216778025, -1.0308671739474506, -4.87539618928678, 0.4364889740751122, -1.5524890923884889, 2.6014013194431174, 6.51228810108545, 0.5297527389525346, 1.1492354304121435, -1.6022791730980492, 0.23622086873741632, 0.5639433397977064, 7.31374989643186, 6.920643360490234, 6.356118757644907, 6.378430466680286, -4.3079587511612285, 6.655501930369868, 0.5924693272325213, -1.3605434677793335, -1.281460147935754, 1.1802076063925433, -0.9696774618468108, -5.203067081440259, -5.32466714098238, -5.498011532593737, 0.5846982277316903, -1.2427770135318807, 6.908557285975698, 6.473623511507707, 6.713949268259331, -1.4528195428485768, -1.4882424455530034, -1.5436471765698778, -5.556013577953709, -4.769541785941264, -5.163877606977891, -1.4346367744721902, -5.29914786549451, -4.457915864127715, -4.6475923950637705, -5.416528454840526, 6.726797623071333, -4.8079545738299085, 0.9967355556569988, 0.6408179951818755, -1.3216767117557926, 6.480201044744584, 0.9378485426522827, 0.9844555258443171, 0.8124370221209888, -5.148344093163039, 6.726015618032179, 0.749533102473852, -1.323967198803116, 0.8731004147699338, 0.7252819975688167, -1.2159401630964848, -1.260622422201703, 9.330417310903993, -4.223612459616091, 0.7032834861478641, -5.452116530919561, -1.778552949722342, 3.834833453253491, 0.7219611857321326, 2.534807054684742, -1.8705308729287753, -1.33788460275327, -1.1843439575853187, -1.6671488419831508, 0.7510947519429584, 0.5636306368967267, -1.4000481688614028, 0.6916296844493895, -9.01845371643003, 6.645043937476503, -1.6646188135746693, 0.4537488198771553, 6.624347513919173, 13.974447536910723, 1.2404370819764075, -1.0725858008412479, 0.5988394957963932, 1.159450515975654, -1.8250697414027839, 0.3612775269994341, -1.277224256647422, 0.8114088937463427, 1.264277089484299, 1.174512026900262, -5.2766285721033475, 5.0843496318879104, -6.469212492754647, -4.007012242974697, 0.9887890810063731, -0.15685137374845984, 6.456586025114348, -1.2491603037413797, 6.322196881446776, 0.46581406723738444, -1.9193297448531685, 6.779238911837985, 0.851682774493014, -1.3324444550956511, 0.5878117220906833, 6.32266451982553, 6.650205336109378, -5.079762136899413, -5.663499627736771, 6.080931318903162, -1.197699119856912, -5.464146542099247, -1.353289443430577, -1.1846012135707387, 0.8298591166056721, 6.637855236364886, -4.9888118966121615, 6.877458766480785, 6.526113518247504, 1.010629995867494, -4.504737063207287, -4.087654501299671, -1.1635381850530229, 1.4395231004292923, -5.7205682315676825, -1.3742315734699606, 1.1068906747704668, -3.0698732067867, 6.3438200815452825, 0.3463658149284238, 7.2217565520221605, -13.37255886257703, 5.707059532538909, -2.5405243527373127, 6.219498912071501, -6.542268020778998, -4.752965806126745, -1.2734364505766043, -8.406735057404415, -4.565289665198673, 1.2550291330579715, 6.256032599168073, -1.5180824106065784, -4.463315129993744, 0.5434200391934249, -1.4067255102807128, 6.604590877571664, 5.333072902531894, -1.6191442037338994, -5.433523890557663, 1.2434206016975784, -1.593699887316855, 0.8437118420848102, -4.776493131280401, -2.0053483534096053, -10.8228902145156, 6.525036255602631, 0.5391892587111446, -0.9506902922009748, -1.549327857373748, 6.200513978231123, -1.4273542232757173, -4.903939972767868, 0.3354280472985966, -7.375997979959064, -0.8453178804457334, 0.431685008294701, -7.935653236712317, 7.675176783538324, -1.5057718851705768, -1.274570942141144, -1.3385783368302673, -4.388916022494338, -2.489200912864582, -1.4033684151063157, 6.7281006081065176, -1.1863579544313119, -5.3193768244412265, -8.985691924939028, 6.646890476288695, 6.438928549462961, -5.229730171502383, 6.4477546878296375, -1.5199926108815847, 0.3695493918067178, 6.309406794306275, 6.454752427467813, 6.243187376880831, -6.139585129186969, -0.15588783402701764, 6.79925507369915, 1.1155124434340034, -4.823755979882957, -1.7541792463960186, -12.03896256634005, 9.251823504239319, -1.406249463982382, -5.081820330887097, -0.16825441339448072, 1.0364887806951009, -1.3795469459688627, 6.473563182722002, 6.7218113960024075, 0.6826275723365736, -4.966028534029731, 0.8367585218298969, -5.331399483920118, 6.650560169982297, 0.42538735446855347, 0.582309840598378, 6.388070377148144, -1.4803882287910477, -5.5397408721368855, 6.317332872308612, 0.9738258791335346, -4.771858633378787, -7.209232564942101, -0.557813172083198, -1.3373887066502221, 6.247351489962965, -1.3792649873204443, -1.6256465398395499, -1.3904947094017874, -5.323686322947408, 6.845125153937502, -1.5843068300645264, 0.37772057726048747, 6.377894189507713, -5.402116822142315, 6.354916905993042, 6.5945721642045125, 6.487476941477989, -1.1083838411077576, 0.5138407531429813, 0.5338849656643998, 0.6004929664193939, 6.067050245267182, 1.2110372770620264, 0.7290820583239539, 6.19714661904669, -5.432508690372639, 0.7612249717322734, -1.4999162430725528, 1.0491191956187178, 6.5883704120634405, 0.7282508113874075, -1.0790957962249548, -4.63242872338145, 7.664084893952458, 0.5696501090813669, 0.9637534584480799, 0.7570856543922261, 6.401087724904472, 7.470204941782638, -1.2319548920473267, -1.950951749894626, -5.283923947284495, -5.238008795960563, 0.8206204298424732, -1.263395331389513, -5.045471159548233, 1.0012899552944077, -1.8782362479895596, -5.534996017816555, 6.927390800865682, -1.261359748669428, -4.513058478787307, 0.8617013286007451, -5.428633788419862, 6.884123998308645, -1.342177679960878, 6.444831217088367, -1.2800611412631204, -5.234968417777141, 6.287166595199379, 6.437111297974758, -1.4017357916420006, 1.0103550320123709, -1.6923826463107206, -4.628274172100021, 6.393053805471255, -1.3161241285520526, -0.8953307350005486, -1.2882528962743678, -1.4900343632949071, 0.7877863165937341, -4.7073686364293845, -6.2460826202963355, -1.3478339875693044, -5.171782124968635, -0.8291229156545535, 7.95471115460322, -4.740468410333219, -1.2928210533002185, -5.348381439606215, 6.562575780092689, -5.239197878952977, 6.450964225469738, 1.2879603433400124, -1.2869280630538702, 6.487025166999799, 0.48338362671983787, -5.548008565945615, -5.402163670073808, 6.828870478527715, -1.3803718378916436, 0.6084993117855578, 1.3251294892141254, -1.3840103518058353, -1.8120355088645415, 0.49455531646519185, -1.2611225826015293, 6.4896966418885995, -5.140725749038424, 6.595279730683079, 6.67068215825421, -5.476102059903603, -1.6900172605923263, -1.4287039934783952, 0.5775922152624999, 1.136107342973172, 1.0632755516960868, -5.299793360405525, -1.23204335186219, -4.610189518485325, 0.4597532767357029, 0.7841148215047549, -4.565052424562937, -1.3574382074782017, 6.52700881664963, 0.49601523146226395, 6.5885753380064855, -6.142959003284301, -0.09826090279283717, 6.756500547461941, -1.3800865312524995, -5.048990974299261, 6.350177015977355, -10.295121707405825, -3.9720091354143636, 1.1818961281563776, -1.44036155134166, 0.3041393867183673, -5.375701148417863, -5.576042944262262, 0.5702668091691797, 6.66265801256915, 6.481700005864621, -1.2873862774205844, -5.952197838282928, -5.421989531555943, -1.6792378145932503, -13.289061947832229, 6.266361270339781, 6.28134180733631, 0.41832969106716983, 0.340825719585232, -1.3495200460328152, 0.35941658763175977, -4.432248954803071, -1.6880210573658105, 0.08439073935741527, -4.835028766144878, 0.972073639466849, 6.048878874294987, -1.066111581045239, 6.66949654270836, -1.0997638993112815, -3.43159022976254, -1.985264059470731, 1.1709701322393262, -5.253527070819836, 6.767429705897256, -4.961620181210072, 6.488365297452663, 1.3683486971860257, -4.026049360961961, -14.794719142985382, 7.073006944444094, -4.062336376545628, 6.392886305928562, 1.1365035294651824, 1.1748195567261526, -10.66115044906728, 3.4902915221447928, -5.726063880264092, -5.277775880700813, -11.054763991655173, 3.3026011623019325, -1.5303950250504403, -0.5816566975967075, -1.4924370830212212, 0.5914190256338245, -1.394190654205109, 1.2501841144231385, 6.416736991761813, -5.724985023619003, 6.354741797389859, -1.5457315316098694, -6.109637416375693, -0.7988574973444886, -4.969547930875036, 0.09421254599412433, 0.6253841031239722, 4.006746870820845, -1.9467148435621706, -5.097938549864161, -1.856779830070031, -1.520584542922351, 1.3877970283054675, -4.704598321778127, 3.826384872314589, -4.209567560759339, 0.7427187707890767, -1.2398161983233915, -0.5846508954092038, -4.740309282788354, -4.560733293556624, 1.2583148054938416, 6.742609009080651, 0.7783571831250872, -4.3339005607574075, -4.172871531642033, -5.294374474383133, -4.843080746319895, -5.431569423637187, 0.5863153136910083, 7.409532008786973, -1.1110068245359577, -1.4857919094548804, -4.657540889835268, 6.541598650905377, -0.9994751958317984, -1.394202963971583, 0.6254580951023082, 0.5049507685134583, 1.1323251075684377, 0.5991205989050951, 6.3945448874313255, 6.350458847423452, -1.3612734450170378, 0.4511782079525065, 0.4842248647636635, 1.8989788091304165, 1.029565495783424, -5.286665017889901, 0.35221646264450607, 6.901402796777525, 1.4232910261606149, 6.837401404775995, -1.2650037254759219, -15.485235099615048, 11.394760311627017, -1.709833225317957, -4.737059356574016, -5.4100661397252106, -1.4660729843866644, 1.5223041476942174, 6.734434748013362, -8.51302766984037, -2.7561295761350157, -10.677538419977848, 8.970510480429299, 6.339086427270349, 6.610586292276389, -5.463542396934077, -1.3084263196583306, -0.6152886166742635, 0.3289761441788593, -1.1775311461773679, 6.530271753945489, -5.301051772317735, -2.5971980932677523, 6.391309744372873, 6.75326871243316, 0.5060318292022942, -4.3985070559130905, -6.758015564327421, 2.411278417494179, 6.462738379219826, 6.1855502657721075, -7.857832437937693, 2.6900452367688388, -1.2009048118465255, 4.521026755769368, -1.9459551784514437, 6.618910341010574, -1.140783457620784, 6.54579874093365, 5.758509819329502, 0.8188938665616776, 6.502759038134203, -5.451641613495402, 6.8892723704309295, 6.50124419862703, 6.705005348391895, -1.389646416690085, -1.4789702323411702, 0.0956123363877199, -5.536350705906261, -1.3305642737368242, 6.434906309287836, 0.6976355409507117, -0.59942726062898, 1.2295543260697441, -1.4358280203161382, 6.57674440878618, 1.4422739137251022, 5.663184930977916, 6.331967827981889, 6.86333970617525, -5.4504063051003175, -5.304476778422006, -5.618720836513556, 0.33381415110504353, 6.515661394870489, -5.637638768716953, -4.550058909129706, 5.9675924917997, -4.703438841105368, 0.41713576138939107, -4.709792064449269, 0.1854651027992917, -4.635082366785205, -2.1736737390029, 6.66116479566771, -1.4125002030289133, 6.620104043737012, -5.383445453117798, -4.355882123881989, -1.3659078223563001, 6.607564074779297, -5.102035201660092, -4.946377617968875, -1.3087441669178859, -1.5116906721416288, 0.3038076126540829, 6.330472540253447, -4.784967748662751, -6.050647878513764, -1.197970355737793, 0.6426449428568481, -6.776887108684868, 0.1358205006597254, 6.638766212906032, 6.659552609061433, 6.8295757786973725, -5.370454026195679, 0.6297547750925403, -4.942513100811706, 6.481621088727253, 6.440922723320296, -15.107219374357935, 12.820492534909189, -4.714024684014182, 6.214390853433731, -5.275444006999502, 13.563576903887787, 0.6857721316788075, -5.493545461244767, -0.5251105593587039, -4.62144493187017, 4.80372626002873, 0.78325895630571, -1.283849379702545, -2.006827219441828, -1.397347918783542, 0.5854513892153349, 6.451756243100408, 0.5354878523065784, 6.846080180317316, -4.434374327940036, 6.1278172753477165, 6.712471555545674, -0.18816827163446534, 6.559838985036413, 0.4245922190105766, 7.091742845554862, -1.7222558357523614, 0.11716012835263917, -4.995979252535132, -0.07424507195513362, -5.461755782391371, -1.1717309231862807, -5.268595872487973, 6.275726470930585, -5.227740065268206, -4.940303086569628, 6.849744375214536, -4.770794318426551, -4.979401895846633, -1.4171254088899687, -4.615118586596221, -1.5563394251426417, -1.240564717118673, -4.249321160416195, -1.3798807592725182, 6.700063854332017, 6.654727408620309, -1.3959087441771099, -1.4343416167751482, -3.9627551988977867, 11.630345286342026, 0.14746089670594573, 6.335651606718217, -1.5663856549631012, -5.659148019890647, 0.4139121496358946, -6.275851360000918, 6.5300043400752115, -5.135527245773333, -1.3701602403359987, 0.6345692388970884, -5.540679447562258, 6.341879478624198, -5.143216912314497, 5.947677373502731, -1.199840634828161, 6.583148989995857, 0.6608350858620718, 6.724794364376978, 6.368112608802843, -1.6221007410495056, -5.679186514213845, 8.168056756845445, -5.105084943345581, 8.346115458330447, -1.1246142710717324, -3.0792918295585654, -4.92668075031358, -1.3186231480578483, 6.797550688646182, -4.279226476042952, 1.0034172479195627, 0.6788723495202458, 2.257216072363624, 5.9137465218314285, 0.5903977685076615, 6.6258471750762205, -5.181508362693173, 1.0630704643733053, -1.4032766609955154, -1.414477546499663, 6.252647111924902, 0.12471224349557057, -4.881482582941301, 0.3582697165155299, -1.7571695221620447, 0.5575413801075236, -1.5814939102907317, 0.691226440789909, -4.665555928049977, 0.7452939681596711, -5.451158677950831, -1.566675893898861, -5.003166921910092, 6.314040427222688, -5.355159131459576, -5.124728496319088, -6.055376293845469, 6.4521208610592184, -5.42106407806051, -1.8092048886840495, 6.344187849210095, -1.454869223915852, -4.806951860469102, -1.613022968415779, -5.388782752528238, -5.53474254460609, -8.012284625837946, 7.9558566443978185, 0.7874647386014152, 1.0887383725167261, -1.2423528922215186, -5.199347432718802, -5.5295216833955765, -0.9108148836178869, -2.2884309056302405, -9.040254319809454, -4.22001438397171, -1.2751443347115998, 6.1944676430811745, -1.6114491609754387, 6.479742734644871, -5.6122252116637155, -5.050304677006131, 5.5241695267191115, -4.07595614197821, -0.29470074894745135, 6.307376297725842, -5.237511870755128, -1.4767435580872796, 1.03841396503007, 6.488157398766346, 1.0589376421006906, -1.2822352515295325, -5.127304693538453, -1.2290366436782996, 6.637352144989346, 0.6305205451322303, 1.095730225074558, 6.5697263595706525, 6.462880081410455, 6.60552907925317, 6.810182223137601, -4.722888376831517, 5.952985663480715, 1.511714136698439, 6.5044647308644015, -1.4255633057007515, 1.0975043942596803, 6.601902691664151, 6.486449509940361, -5.328921881020529, 6.700070961191628, 2.590883088480691, -7.253299235170008, -0.45993876455719596, 0.8441143860095167, 2.186923279390946, -5.282754585617698, 7.822721406203522, 6.729651997435878, 0.4449100998500567, 1.1332549748102363, -7.905293359727434, 5.828108401767688, -5.187202256149969, 1.2440735311623619, 6.60911989473665, 6.573403395302873, -12.156722789510352, -0.25285768698023003, 6.554425866157455, -3.8231766103364264, 9.176559095664366, -4.921114810936209, 6.705669004651973, 1.3847923366340904, 6.514790312636479, -4.496425277894167, -5.171194696043399, 0.8640286360529276, -5.629381438657845, 0.3974849794757381, -1.2363688928024146, -1.405835940428679, 6.365580820065675, -1.2907737530907195, -4.695490834354885, -1.5368784011454149, 6.451419217142137, -1.846822730275522, 6.296543870396132, 6.512478162285206, -5.57140937526828, -1.3173063421468951, -1.2250254471148874, -4.564295731083453, -0.4644991563243471, 6.731519228973921, -4.737800150939273, -1.4358094888866022, 1.1564549299447222, -5.649354095535799, -1.3554172454349223, 1.3974024506176759, -1.235419018940702, 0.965428049691467, 6.480513621684637, -0.6315973722547311, -1.5083381446030368, -1.3620503249832516, -5.215862762378359, 0.6080086333547766, -1.2545589357645897, 0.7034717742825763, 6.615363211860412, -5.495242196443906, -4.694591326745213, -5.211201665114407, -4.541005260026206, -5.1737811163035055, 6.5364960858494205, -1.5171901861651174, -4.701757276582014, -1.3072976302032628, 0.8680434883641549, 6.600326609885324, -4.3172728458850145, 6.654125888439524, -5.192088548083057, 6.76222314412512, -5.593040147546349, -5.195186824581196, 0.7549674271404413, -5.256025963354955, -1.2815725272102816, -6.122664150441433, -4.547174983610863, 1.0305966711090717, 6.6836394495448195, 6.858747317316778, -1.4184083399254717, 0.6398948246728808, 0.3504855583223197, 6.236785429685647, -6.7859300454872855, 1.3616272738966573, 0.8479709352382647, -1.616858725178651, -1.4569304717811045, -5.273544143671688, 0.5147869240267534, -5.355363050981275, 1.3469758458813625, 0.6202518127507669, -1.5265983115869113, 6.405787327980088, -1.6129362197366381, -1.3631742840663428, -4.217827627451341, 6.406674786169538, -1.2296304456440543, -4.44102577463702, 0.6012121977099156, -5.372047277453484, -1.3214724631288606, 7.015741567340592, 1.3349383991841197, 1.5457477200688001, -5.719898760488318, 6.4425510768061365, -10.963226858519691, 3.735070049236762, 5.807025534517392, -1.5668628902853945, -5.338013098104337, -1.4963369913018534, -1.1357344864040428, 6.3403393766019, 0.7667045763623436, -1.8890125973081808, 5.689421686165356, -1.5243506998081602, -5.790874084758875, 0.7058696861262318, 6.390927818991766, -1.6528716231392935, 0.7505510383222582, 6.49721845826933, 6.863124966470296, 0.6548923783027669, 0.7486265066146056, -11.285025107830256, -11.963291898067368, 7.732815105833675, 0.846118264098375, -5.063715230840201, 6.899842582690308, -5.198857427768087, -1.674491370394335, -4.8402256801293415, -4.817703846580714, 0.5959015139969789, 6.198214683303682, -5.403290648379263, -13.511367344352939, 5.425083366357838, -5.048558039571883, -1.5961628905742415, -3.159554772337244, -4.360997926019635, 1.0336518782365716, 0.6625213418201028, -1.4844378835228016, 0.5675027020003247, -5.513695336040777, 6.218607077287809, -1.2715846325487485, -1.054789026901753, 0.04706223654112047, -3.9529852901389972, 0.2429939168526982, -1.4033182647802553, 6.404986418900785, -5.338998749613337, 5.909874917580306, -4.65500275835011, 0.9178218015713558, 0.3181620917704615, 0.7080801033376527, 6.812039386342935, 0.2659339675159402, 6.294815801709425, 0.43647723543743294, 0.49013019067903413, 0.5168374447156213, 0.6101950869555172, -1.4769312724416983, -1.5844271372987608, -5.186603239019894, 1.1957581880899864, 6.823043706497201, 0.7588060362986941, -5.9803137445471295, 0.5310336264465569, -1.9004191747553822, -5.564614208820103, -5.6522163102604415, -1.073043596462119, 4.9090589863815515, 6.599787265535447, -4.8873242342628505, 1.453473829905518, -4.209148017643123, -10.076732838638303, -4.387005640605785, -4.992764055985478, 0.6241663172559813, -4.029227356083683, 1.3861002758372636, 0.8867111954962259, 6.665724285673055, -5.030012638840484, -16.921725484111306, 10.595290399090349, -1.1914313629358753, 0.40438810886429155, 5.798837648480085, 0.5019772305293803, 6.326315270309516, 6.672484175730333, -17.655719147703437, 11.27004603564512, 0.6695993301850464, 6.374559686774034, -1.3827598725884886, 6.322523517635947, 6.341240191126997, 6.721339482152416, 6.888164607069762, -4.884466194017118, -4.717967686241406, -5.253575117840695, 0.7977110929496465, 6.517358549771764, -5.250759439446366, 6.526713346838838, -1.3143331271292489, -4.823477595884118, -1.550796680297242, 1.1320391009288537, 6.465789911838462, 6.590413394483519, 6.383638324387554, -1.4993598093823775, -1.0938614342408013, -0.38605174145258847, 1.2831448334527722, 2.207501749789973, 6.440786705719138, -4.0130895402651054, -1.484652104592089, 6.789041684639488, -5.110275154636177, 6.592643931952305, 6.7846177273570145, -7.369271961047832, 1.0495335306639333, 6.473432964655071, -5.5959118461639985, -1.2300404215963994, 6.396642982837706, 6.679628379612334, -5.180910281919869, -1.3540577359500328, -5.077852137123359, -4.439742124544898, -4.522354642631067, -1.4219930913810102, 6.856354733213122, 1.0285306712086142, -1.4847154201351853, -1.3833872241227636, 6.753750620039966, 0.3072903827638402, 6.7693882258973455, 6.702667401603126, 6.704359372164637, -0.9666128072095735, -1.2226287438941281, -4.850499749658478, -1.4892239049888016, -5.481830441775866, 3.4816961382366833, -1.2125361833993773, -5.279726903774154, 6.649808253939808, -8.443054161998772, 5.980614970862606, 6.3752532872076975, -5.1119478414310935, 1.1900677532028343, -1.5517380053125918, 0.7620761505806318, 6.618611240864785, 7.341139160340897, -4.249700755588601, -5.227925632696009, 6.401351615400277, -4.7927352527622205, -3.9839404313926403, -1.9559644408447332, 6.502184887031325, -7.025746546618415, 6.447439366000885, 7.646544631884262, 0.6076506926175145, -1.2655135703218796, 0.6883864411108761, 0.7246820574809699, -4.926674926176744, 0.9593151040034289, -5.493698086817547, 0.9680913404620619, 6.837782447320904, 6.564323233127401, 6.563202405196661, 0.7925479334676714, 1.424858873791875, 2.709857795821406, -1.5089645910271474, 6.512110161974056, -5.51830542819447, -1.3029829043844459, -5.151181480354775, 6.6063516113003695, -9.306692892962916, -4.9340575515463785, -1.4818285710899382, 1.0627237271526928, 0.8672138797565273, 0.600450943180545, 0.44666032461248895, -1.4311750787522497, 1.2428541384837013, 0.22425403448304482, -1.458571146497996, 6.700901194045515, -4.144911020494426, -5.863899050962892, -4.038796858626357, -1.7370764365969977, 6.999938127040771, -1.365121262072189, -1.5477410089897221, -1.648751853933686, -5.441940975240571, -5.173644075768381, 1.0633925817640515, 6.664854547144378, -4.952661325893094, 2.306154006892453, 6.680824124282969, -1.6715715021654582, -1.435121013589211, 6.381439001221198, -4.38818744466724, 6.00093179533178, -1.8584198484662144, 0.9909085710041604, -1.3313951504124908, -5.1806155537303376, -1.746445040210303, 6.262652121880188, -5.200012646271066, -1.453763365752169, -0.46797451069019663, -1.2607587283327037, 0.8689673317037884, -4.569780720329443, 6.341328902903018, -4.966361378244934, -5.497391551488344, 0.5613923461013282, -1.2900852436125294, -5.429481135156653, -4.451432542442157, 0.6957266739261452, -1.0610125235155172, 0.49631291407766004, 0.528491920864044, 6.788106627263027, 1.0679755786211562, 1.1695323262205422, 6.596168072328391, -4.694745893090684, 6.54007826686697, -12.725192967296014, 6.816496309501536, -12.566985058935735, 7.950822393906021, -5.163209433888163, -1.40011363748669, -5.217541481217607, 0.5113361333997919, -1.5947013169978115, 6.773269095690838, 0.5119922219785227, 6.482723332891179, -4.114772467300767, -4.56425858537345, -5.365959673625933, -4.639570685943685, -7.180929148675187, 2.8881516217555894, 1.2901105908531025, -6.268142387182556, -1.0348380728203996, -1.3099756495323485, 0.026521584310720502, 6.337568847719446, 0.63006948408647, -4.659646944496502, -4.826333491331932, -4.9665642832045584, -4.4101870035197255, -5.213366676094755, 6.459918691073847, 0.8355413219401844, 0.40049224628592756, -1.4287186676060835, -1.781558479476283, 6.848296657914398, -5.057779243121897, -5.2196965828068365, 1.499768033412538, -1.425976855764883, 0.4821184419702563, -5.300055628615425, 6.271099376305908, 0.5933108917628982, -1.2606906706427976, 6.3290300168858495, 6.596872649393367, -4.467771402011911, -4.549337351793675, 6.656670294195465, -1.3921234496500308, -12.610996292849123, 5.108803362672246, -10.887365790793373, 4.169331245781549, 6.428436969753969, 0.3511830759531637, 11.42029036679224, -6.807961015860668, -0.6586625133852847, -5.202671101393332, 5.769649561607637, -5.30626240704219, -1.480332493420548, 1.1674888181249576, -5.196174254032478, -1.4932675628325265, 6.492972125537826, 1.5081044772323329, -1.5134794204453197, -1.2032444012714956, 0.7442756366541226, -5.204454212357158, 0.9500309575688923, -1.5414498684513738, 0.23872765070737642, 6.348210977096462, 0.5922704964996452, -1.7250887927921204, -4.655371473065131, 1.416606968775047, 0.5935679593133953, 0.4261329766833322, 1.0035901282984685, 6.758923795185681, -16.880285205626556, 11.85600246279352, 6.613477989720035, -4.5441006069164915, -1.483107157884168, 1.4552328551610025, 1.2122811380507088, 0.9329104824209834, -6.082987696792212, 6.7728564478739335, 6.337424505434891, 6.613876415351279, 6.253193616834002, 0.9721599696030925, 6.25340863501225, -6.162756232734264, 0.9727833024011431, 6.710493315905364, -5.443715871477706, -4.739823955441089, 5.66455634750572, -1.4665817962246719, 0.9520417975338598, -8.814219106172773, 4.7197616110747145, 0.5589152365106285, 6.759228863437549], \"xaxis\": \"x\", \"y\": [9.068497175274988, 7.9073345707621066, 3.126444006733314, -1.6523726482608165, 1.5850878455390953, 2.105148116329756, -1.7461495294517593, 2.2950858202182425, -4.087884184709281, 2.04356804495447, -1.5486307793925107, 2.155086833440046, 2.2214712502520473, 6.368187941271524, 3.302618166084486, -1.1579205368000698, 2.240874052662798, -4.28278946420588, 2.0797662431507824, -1.2193643748300853, -1.1111103067759975, 2.5972463469070544, 2.073112299241537, -1.1817014647177833, -0.37108507098538207, 3.471477006853563, -2.7245306943578402, 0.041727982147514255, -2.612389906769354, 8.547224502495235, 4.057563636148612, 3.714825471151094, 3.255529773535389, -2.266538394510923, 0.7787485213080907, 4.354164871066668, 0.6858690654169827, 4.257647960179658, -2.1439457456084425, 4.100625214670962, 3.588912339700015, -1.7944877590014479, 3.9369931775015767, 15.167119958208223, -2.195846012951767, 0.5059339514452855, -1.266714548219682, 0.29318094936432243, -2.33159131472513, 5.735040955446019, 6.355845567851775, 3.5558660226081833, 9.580870314630682, 0.6391978189333074, 4.291707597853916, 0.816887430754959, 4.112068104727752, -2.126334937498536, -2.1560835096092528, 4.106789486825186, 3.951143149074236, 0.5237533617786024, 13.17899679392458, 9.007465611955173, -2.801449953604102, -2.602063487239116, 3.521758395207993, 0.6415285147582338, 3.5848463529239925, -0.02762897241041728, 2.319778410069604, 3.4265173131807214, 3.2139030783106413, -2.7853806459688677, -3.0966797604518503, 11.328678095115414, -2.7617827620896342, 2.6270725810603315, 3.3006534205840117, -0.14574562128501073, -2.5988906036528756, 3.554715717347537, -2.967662415206539, -3.2787537748552564, -2.621092477277841, 2.848196207747611, -3.029118350451314, -0.04407697601637442, 3.4982762239167218, -2.3759216106177177, -2.6307874447952604, 3.7962968487219206, 4.381534345382576, -0.09432626326517907, -0.3232827303950837, -0.616420226324735, 2.7714162391103483, 0.05322845212308028, -2.753780380195214, 2.9737541169962505, 3.120045030093727, 4.963315474777184, 2.91481851111564, 3.4685592134463388, 6.657734616108133, -0.12878512670219447, -3.394769366304722, -0.5905723373808616, -3.4043505304631294, -4.071066711884874, -1.3469514181903186, -1.6848329770698105, -4.245276931674351, -1.672271955576773, 2.035833680869615, -2.2092413246248954, 1.5716841281865932, 1.9283828645073342, -1.8095851639878138, -1.7634922562625164, -4.818311008315501, -1.8173057313029541, -1.6410929595293458, -1.188924083877959, 1.6579245587463702, 2.221528230491693, 11.367131891894118, 2.2433040464673475, -1.4889818462974214, -3.885695438209722, 2.0476880639558, 2.394128253258652, 2.3729260687754388, 2.4518063026318577, 1.1185676487813097, -3.6668856466033937, -0.5194692128700401, -3.649823955639018, -1.0957854537453622, -3.4544515308545805, -0.0010739258826438305, 2.8783531103705937, -0.5100437375007478, -0.7313420642395213, 3.2596694898939944, -0.2556697923905506, -0.4623158108979392, 8.863898727478277, 14.014501122689472, 4.380559201214905, 2.5081967650539423, 2.6214077342318483, -0.6792140669235819, -3.7736179934439624, -3.2302163995930213, 2.8108543593851363, -0.8792442173732921, 2.652965597713899, 4.840274568699247, 2.4073736872479348, -1.6914899512816122, -1.5535646226507118, 1.4986843637891938, -0.3669665498681421, 2.3699748303448094, 3.106816018799415, 2.2874947819864935, 2.440618163748448, 2.3488928135224163, -4.306256890557989, 2.689668214299715, 2.621851269002598, 6.62032212685711, 5.2200767018175505, 1.7720819098125002, 2.563464014586382, 6.95319987324771, 2.72660606904497, 1.6749336365703318, -0.0514034767514083, 1.9608318150525677, 1.812638409166586, 0.3628994574654451, -1.4380889535774548, -4.525276728528507, 1.2079097441015278, 1.3666134904944274, -1.93434216642776, 2.2342274429666684, 2.1364119178353604, -4.378128343940987, -4.316997684749179, 7.817344425668025, -4.552048705531371, -1.4976102358579866, -4.570920738141997, 1.7921670586119227, 1.858064796539966, -4.598554701729107, -4.426291312319322, 1.102472503719089, -4.848851448558396, -2.233648278420669, -4.372926492889828, -4.629923124551126, 1.4636810871783066, 1.5634691964202847, -0.13530000876678994, 1.6656360195331659, -2.2756675751178768, 1.3215398963562057, -2.1266075011868675, 1.4523888276851595, -1.7738822445814855, 1.5667114123374457, -2.316764224159659, 1.520371597747022, -4.813046932517932, 1.408195058886932, -2.5665355349232217, 1.1661121122081566, -2.5989703448604566, -4.968949697501194, -2.225197251369573, 1.539371010053672, 0.861723064347848, 1.4040327775253014, 1.2657063012197483, -1.6479287918989631, 1.2425202896379435, 1.333267596994404, -4.130434756965755, 2.1190387574626626, 3.1060494686818325, -1.6328127009845013, -3.5622014383894935, 13.043831236342442, -1.4466237459890372, -1.458384353970585, 2.192731631556478, -1.655918396878935, 1.3663085727868713, -4.467977183385157, -1.3551295696545727, -1.4363424031901773, -4.426054181393499, 2.1551268454153485, -4.306364531634656, 1.8659779776194054, 2.481779253743106, -3.6813577452008794, 8.86075788872319, 4.5972502498562475, -2.125713746369821, -3.944734303379369, -1.2417815876971554, 11.877839704829931, 4.597068240342585, -1.7015245709872509, 3.1931670825562333, -0.5434643926059571, -0.6806943040222685, -0.7767712877908994, 3.508476161773515, 0.5581655160037904, 3.8324729928050756, -2.379852417595057, 0.2466024681004746, 0.6039484213931313, -2.388569094265347, 3.8741748499263204, 3.5307395235926893, -0.005025422183159999, -2.066019180013341, 0.7018325166802308, 4.479525424802784, 10.132993027565961, 4.01214769308402, -1.9398013060069241, 9.8459121120641, 5.818789690411647, 1.1633609808179557, 4.294104013510868, 3.295431151360584, 9.376376540997324, 6.008868221081165, 4.117412308488718, 4.270937056096273, 4.123803774286327, 0.5027983871659248, 3.7072289752155294, 3.8488166705393327, 15.3115930174312, 0.2472516472681078, -1.865733990385261, -1.6290260879235237, 0.8616379208555399, 3.6422474550361112, -2.0556518802435666, 0.6600679386363753, 4.164820731502769, 3.9475460766239348, 3.9280265815457347, 4.496342065112612, 4.929352491652371, 14.171046793126866, 3.891963726316353, -2.1739924672980053, -2.3972324200770707, 4.083699660355241, 3.2891691715894495, 3.37373544198757, 0.021007600996444158, 19.474440432095893, 4.475838285475423, 9.555070099282354, 16.174809394414225, 11.976921034816845, 10.6718248670065, 3.4943893064897726, 3.035828995998451, 2.5696757604762417, 3.099773755206306, 2.3163141913478387, -3.993347860419329, 9.337877745707566, 5.468409297226029, 3.3494168339513486, 2.7706934516114314, 2.7091937580681975, 2.4504175189247968, 2.0231867691923777, -3.4355954835105718, 2.729783393600881, -0.6372000103934158, 9.098355187229279, 3.0527741843847562, -3.3467046281312913, 2.9503118165772486, -0.37863968388053343, 10.774578558345251, -3.2842252909478566, -3.329387311484933, -3.5074241834659916, -3.4010665391793173, 2.48692828213075, -4.228017647077737, -1.293399616495714, -3.5916853745986708, -0.969485045633866, -1.2467222503599622, 2.428283749702721, -0.6723179382083341, -3.4039655225474634, -1.1395424940889145, 11.282629058615624, -0.8553526220081901, 2.7267975744666075, -1.2247974791808534, 1.624780992099245, 2.717586145375874, -3.8704004173841495, 2.212208915811285, 2.5158352615300106, 5.3310305947929955, -1.3597952118149457, 0.03150214288846607, -0.4145020309825381, 2.9436236818403794, 5.047824418059653, 2.3013023792380096, -0.8348626306274661, -0.915099274735158, 4.072972485852764, 3.139186298392934, -3.1782629558826256, -0.8728420659516266, 2.2902153435730233, -3.5839659817782556, 2.2057241020640093, 2.0905169970927564, -2.329988987498518, -0.6024516717366938, -4.046791486387342, 1.3077799063473137, -0.43749951860661546, 1.7040402150030456, -1.9670632399127117, 11.712408654833252, 15.14468461992915, 6.71416122382422, 3.9075269328836035, -1.6702055024910765, 6.773871869574225, -0.8357797260644763, 1.9087478090882473, -2.119984339447324, -2.690176800338164, -2.4918985348986467, 9.100648698412806, -5.250403263541008, -2.382042532616006, 4.846718964532631, 1.5008718400550454, 6.665322865213068, 1.5447019876630537, -2.690705336849602, 2.3174701896048298, 1.0215361667024179, 7.931233270985249, 3.840029661645817, -4.798289600367387, 1.665821634906549, 4.7600993400490035, -1.7797998084248425, -2.4889790207766973, -4.442517205907401, 14.90469383710966, 0.8630747122290134, -5.329105026742586, -2.38613262976344, -4.697399865503651, -1.7028104718209596, -1.7801775574157752, -2.113054352510788, 1.5004020634903523, 4.785948913554474, -3.627058310559732, -5.120729389455332, -4.953547256120809, -4.834927860260342, -5.105733887776395, -1.8647007343754969, -2.2744088257696418, -5.28333003215095, 0.9411340931689663, -5.220844851656781, -2.983302548670115, -6.011417002957576, 0.2677253343100334, 0.4935726098978199, -3.221410547486271, 0.3972858825359358, -0.20880005826702136, 0.20564704243820306, 6.616798509065059, 1.3877427303983738, -3.1713742590989265, -5.822969181826697, 0.9210217324767849, 0.3161112241135584, -5.905563573025867, 0.16553279522887868, 0.2550958378167758, 1.2884881504848413, 0.6055495199033648, -5.856585026908147, 0.5841362852040131, 0.45782417708555173, -5.767482471821138, -3.0771909585763892, 0.9620664378703443, 0.38655191554743107, 2.378972719444707, 0.598634617750411, 0.8736337202498294, 14.316278411425609, -5.435514339249082, 0.8349295350386716, 0.4363957678403123, -2.2805311917010096, 3.7958991351454667, 3.067203184339582, 0.7613874427625354, -5.20519482742339, 0.7973668038916002, 4.981359050890323, 2.7707460127264194, -5.824780110032336, 1.1258270844578018, 1.0098181644877013, 9.026442984814636, 0.9270730710735398, 1.5089421327795765, -1.7994683145291634, -4.643343997813606, -4.726310464360037, -1.3025949502438499, -4.283967537786917, -1.989960970956947, -1.961560859625543, -1.8244118421005426, 1.7970725400119196, 0.38520417403561674, 6.433409393939739, 1.2517995416729406, 1.2498063479430428, 0.8223147816893431, 1.4529701830902833, -0.7926063964856853, 1.5335420859421316, 0.9129051416727094, 1.1991113044738608, 0.6941629413680499, 9.58430112933057, 0.5977697950339769, -5.858297733187006, 0.3419157630539812, -5.942195209563187, 1.6407518706393167, -0.39811982791395734, -6.322346883325421, 0.0744153099802739, -6.142966307616857, -0.18725142757443178, -0.17130689262920443, 0.2613609621820055, 0.16963434196626512, 0.8135362953883317, -6.11001471453645, -5.877825434127423, -3.0398518902657905, 0.5823325100507345, -5.713253322164092, -3.1939812092128226, -2.977912261052716, -5.549925492648426, -6.144388862156819, 2.6201447104639524, 2.2816418543494703, 0.4298480433333328, -0.6584966881597714, 2.25922746903513, -0.4609355887826953, 10.30013161453857, 6.580293557536362, -3.7061345155423506, -2.3173171279019495, -3.94772214483638, 0.09089121034235333, -6.162521703271382, -6.002092992847519, -0.5353329695083338, -0.08960105103025416, -3.7940917994354844, -3.9334053618265354, -0.2294406423373551, -0.565171890875215, -6.251079967304169, 0.19443718417710798, -0.32439415602746074, -6.865096827237545, -0.5108915542954692, -4.136217213556455, -0.7876319104969268, -0.47312087503129174, -4.006052787848819, -3.713969838554692, -6.103698515027944, -0.38492272600905697, -3.6395599688066014, 0.13426988752599256, -0.040787802220201966, 8.680458003126033, -4.157586127445753, -3.1815946001124327, 0.517930545144532, -3.013633644172862, 0.55780772568268, 0.4871331275071211, 0.35209636185364507, 0.2069350685995677, 0.17980343498122658, 0.9242039501865422, -2.2916022609692694, -6.866549092109253, -6.34035376273965, -5.814553453451249, 0.03183901832947295, 0.01584350425932415, -6.0292692213133, -0.3028761864170708, 0.05720827727561598, 0.10709883026982499, -0.09396130163190863, 0.46913056250845525, -3.1989871996623025, 0.6802180670683241, 6.357406094319825, 1.3116347300897786, -0.2714392406906012, -2.9438886001360176, -0.11262105386464429, 0.5130903135704568, 0.4412667178727378, 0.06303472406781568, -3.09488570385586, 0.5370659598146814, 0.07687758224117155, -2.994381615187094, -2.5408174793808467, -2.812206363544286, -2.8809566935228696, -5.617990185365239, -0.3523409240161967, -3.476142616829779, -0.05618882185049209, -4.078239332734529, -0.3722101827914622, -0.7562587423833255, 6.843970939965787, 2.6674750432425904, 5.154886292791783, -2.618353019935723, -6.282944722193642, -6.361472998432471, -0.2946272091671874, 3.8778429683857607, -0.8314054911097896, -3.498211088627672, 11.80747719070351, 0.27652153115887973, -0.27830355195425044, -6.20536592515535, 0.028412694531974748, -0.6309839802240711, -0.5195446724523679, 0.4332633176512459, 3.7139586687541604, 0.09520648467192794, 2.9144656896783188, -2.8865193781419944, -5.568085237916833, 0.2387720082187746, 0.05790790943027658, 0.0026519458436496286, -2.2194963185359096, -4.168672724084351, -0.3868874046211271, -0.7008183098090865, -3.764854746201984, -5.759018091164993, -5.645564799867568, -0.890310351808719, 0.0530511668101838, -6.3311482722395604, -6.013309527566767, -6.58833360517829, -5.9077617822657285, -0.4391542918419203, -3.186699069428506, -2.9295703529807047, -0.3034671283980716, -4.2418081955354525, -0.6517009852297764, -0.28767451660006693, -4.567444386042709, -1.107250571271402, -0.8309906641669452, -1.213035668183551, -4.6837817130710855, -7.922862564892436, -4.285087358139884, -0.9444239930411459, -4.325042809666136, -7.643183898885463, -4.5477526499850764, -1.4934748709722792, -7.114644687253649, -0.9112138964349512, -1.450073195391238, -1.1186686215884014, -1.3450499387602894, -2.5739578141055857, -7.278270195670672, -3.800435474989645, 3.0670970158571285, -4.357007673192341, -6.030587608846215, -0.5191774851570518, 1.3602765475804648, 1.1318609956198296, -1.1440391254910574, -6.9921426905983015, 5.665891880850531, -0.32496731680183955, -5.5520136766331865, -6.241691940121644, -6.576351785705073, -4.263996667842852, 2.589892849510798, 2.253588642677444, 1.2354393676543967, -1.3560391278988384, -1.1260995976775705, -4.422371605806472, -6.735110607501382, -3.3547856638891456, -6.725846070893519, -1.347319788152064, -0.9129451469797807, -4.214524239813278, -2.0256722797206113, -7.335246096625872, -1.3230239705921376, -7.3523097705091205, -4.769742644251923, -1.5528467326271538, -7.370592703518414, -7.391058609734305, -1.0803328839916584, -5.267111818948607, -4.406951494560134, -4.68504817006159, -0.9089675712025486, -0.8675745963858265, -1.6373752111274027, -7.090979010170882, -7.534987947115983, -7.310487113925878, -1.0851342232142356, -7.354116911305153, -0.7641302604368894, -7.392601324127756, -0.9839531136418954, -4.28618121204525, -7.3271139248453165, -1.0479329067657965, -6.681801226953028, -0.8762522056084793, 9.311214087660472, 1.8702855436642034, -4.244878692547152, 13.729643017134746, -4.174627527176513, -7.063371710832833, -6.858528752282327, -0.632002796774666, -0.6926241697561425, -4.275480648159591, -0.7912822284734488, -3.8199729617574456, -6.6162471474969236, -6.862832713932781, -4.548925369673201, 5.102444052185064, -6.98198778232757, -0.45304002738754545, -7.274519696751825, -6.7319207813099355, 4.729957152953873, -2.884016199146536, -6.760199622309561, 4.072911951821322, -7.4181233588095, -0.7026915635210114, -3.9589035248524667, -4.121792438142353, -1.025794331307029, -0.8847362462495926, -0.5722110775659812, 7.619067685097394, 7.615091667493264, -0.7111244864769493, -6.863873456563131, -7.0725281016784525, -6.762634276758392, -0.29735467011477323, 8.221471146710975, -1.0490579102925057, -4.012118470323892, -4.208091617086025, -4.378249837215135, -1.3342657263165425, -4.441446922751143, -0.643082356880406, -4.163045940129354, -1.0043745840306475, 0.08770245753364353, -1.7842341419327805, -6.667081975256677, -6.413535368255914, -0.6848868311456737, -3.6320251455447226, -4.484575103691454, -1.3026317855107887, -6.815471323076787, -3.932486639292676, -0.6461527658003804, -0.9799227331030622, -7.177127408191188, -7.0562873419341425, -0.3024562835580258, -0.8155037599863844, -7.2377358520010535, -1.073296021455989, -7.423405917690314, -4.8595864382652465, -4.6484146328411455, -4.560477522340243, -0.27515950057049027, 9.647432511374499, -4.193533633265951, -0.954928634572916, -4.16436746555558, -0.5236065901116854, -0.2512181216611847, -6.579214282657442, -3.5573624088262616, -7.24161022922958, -3.86204371594103, -0.7408486787794137, -3.829763180845291, -0.44133247942069076, -0.29797424389210103, -6.805108151395837, -0.608139866700218, -0.34161839196804916, -6.9952416591524145, -0.5800765822067674, -4.023460096850777, -7.311362192241752, -1.2216717156573378, -0.5575243639728903, 0.1699328076368911, -5.426876866094924, -0.3781168379372406, 12.422666976855387, -6.8321567258259295, 10.395548796562066, 3.9003485637886297, 11.74022996666522, -3.844191963556447, -0.13350095969555928, -0.31031581865587976, -3.663626493176982, -0.040416834816288785, -0.9250467489180376, -0.6397883336939427, -4.412105104008071, -0.5927615139326088, -4.172196718964951, -0.9547502031171942, -0.3951513695801823, -0.23999247274234434, -0.08211919007883806, -6.508862047566172, -4.138693214497322, -5.014752615927316, -3.845711797807214, -7.010454892956962, -0.8108430268518013, -0.7646118211888391, -0.9587357884533588, -6.8661328666176, -0.5643228573997047, -0.4346608387065246, 5.519424350079042, 5.315316961251586, 0.15311540462348364, -6.639850510644335, -1.0392228661254255, -6.731474779901914, -2.407141703799271, -4.214489351000999, -6.8335816283291955, -4.104030807630069, -0.8796731387439259, 4.913876454550062, 2.300341137369777, -0.7603849905795496, -1.426401544675207, -7.026629541539339, -1.0202079145681546, 0.5294535389943134, -5.223884629431321, -0.4963212256620733, 5.962650776913516, 0.376220606537347, 10.294444311418228, -6.796213424195067, -7.214600318976409, -3.2389868958385133, -1.7170584087362037, -7.103123593989582, -1.2038801770953294, -2.963329999298796, -4.40151789189842, -1.028361032994419, -7.1759773511926515, -1.5664253392084124, -6.943128914494146, -1.0798341043371722, -0.5336290328926222, -1.0127810985206938, -3.6480459706496107, -6.1564563594325294, -6.259575985713312, -0.22994584592470177, -6.483307836799809, -0.42649258945428903, 1.5049202889021935, 2.4722885857171777, -2.203173993438978, -3.8583535143443073, 6.5837426311749105, 4.078934222339401, -1.282151393614518, -4.310518682258456, -1.603327606849243, -4.181004114115601, -4.666583245977301, -0.9440594666175657, -5.203860090087824, -4.7669183211108885, -7.2885535161337325, -0.8567544557803621, -1.3053949996305343, -7.952261329162238, -7.568555205614249, -1.9397596029970379, -1.0531145575738237, -1.4933591344956136, -1.464397233763261, -1.5914104712157484, -5.772431336836682, -8.349816118571244, -1.5605017265561554, -8.245630611694745, -2.135261491236395, -8.14608410852834, -1.6482508693611604, -1.459233911240444, -8.102589320698705, -2.2140785539794066, -1.797907145442952, -2.4177463812406965, -1.6123064877816673, -7.431395575392577, -5.075739637840917, -2.172223401002781, -5.5971077045434425, -8.132166298569643, 1.2063629374291878, -3.922228724190642, 2.073174213893338, -2.34152764059704, -8.166681763240554, -5.559452748850589, -2.4952424158616693, -2.2126071591973058, -1.6762742986831565, -7.237042947091859, -2.129218745501698, -6.189760618135449, -2.600802840945028, -2.31830173146025, -6.311452027310474, -2.1746749759596633, -1.3713114429004827, 0.674936738980418, -1.776055563571625, -1.5562733942996068, -7.369771330909316, -0.45017922144098665, -4.395985671403574, -6.988044769114793, -0.891475927767433, -0.36828161636967716, -6.302068878180422, -1.3402995021146766, -1.0226829943322895, -0.8926469222939484, -5.15655434426646, -4.404043937498789, 5.7555317997914015, -0.28741284837747744, -4.39596833950719, -4.664421585107111, -7.443130130493513, -1.484872264200274, -8.251022242782543, -2.34672901133352, -2.3953680992855664, -2.1929344220735785, -5.071783116853028, -3.285414714864746, -7.8462127180790455, -7.498565933215006, -1.2437256434155752, -1.1234298357319674, 5.640362158136742, 0.4275214047407078, -1.4179408424700535, -1.6106206038772235, -1.1999747567941283, -8.001693356260825, -7.814313953494032, -7.565890032864878, -0.9652390289080678, -6.6350645300272, -3.996107584243688, -1.0352492771127892, -6.682464421917307, -3.071508476004101, 4.999692096417147, 8.011957813837121, 3.2115289740494, -3.290378778528141, -6.021572708915285, -5.908154861295435, -0.5576854398759548, 0.2051427001601319, -5.670236444888203, 0.11285018908307985, -3.285160871001022, 4.221480566532321, 0.81973860575222, 0.07605739666477931, 0.18071769955426167, 0.18390791721508115, 0.2803184985997183, 0.07987070609222899, 0.2144053820169393, -3.402154052978104, 0.011820072676603465, -0.1927796257286963, -3.5686783332422976, -3.1101646636616302, -0.01681574647719, 0.025408209853629835, -3.3080803885759003, -6.09653650488463, 11.135574236113742, -3.642751392681553, 0.1884934872104036, -6.374235091894133, -0.29234139535636416, -0.005698265462673876, -1.2381075996527042, -0.058793742090385744, -3.4674573962100808, -0.2428383598782649, -3.7464608189620723, -0.2234618370253645, 0.9081012740382257, -0.39944793306499676, -0.5962422889224772, 2.3867552924465207, -0.6737121101277236, -0.7749779774846435, -0.4659569621517712, 2.3845101560943998, -3.7837225373249073, -0.6546178836003139, -4.114023508642826, -6.4374058311286975, -3.8378886823132294, -6.356764431154315, -6.434369588345176, -4.33245295690014, -0.521847873379824, -6.703301188115455, 0.07249125012821561, -0.22139511062473186, 5.177482744762559, 1.99164772926142, 0.16292805745527278, 0.4056412717802501, -5.126216242166493, 0.32427734625274385, 0.7045258717190405, -5.407127633500959, 3.481254253073741, -1.3538974792479583, 1.1426039670527846, -2.657576400798645, 3.291890189958577, 7.0115154105814455, 3.941999155657967, 0.6718708618115152, 0.7919768365650232, 0.6788200998062469, -2.602878544224998, -5.177617743579196, -0.16725259574849133, -5.689403958143069, -5.7014065002965975, 1.405519343138965, -2.930593926403702, -6.289170062908219, -3.2663281305122425, 0.29860502619438534, -0.02998080259347026, -3.74676290454144, -3.741822580597737, 13.388647968489256, 3.0266623361118468, -3.7416591476447323, -3.82859950407285, -6.36355535234722, 2.1690807338880544, -5.342461149771834, -0.4941900808104374, -3.7089912201818986, -3.7160380820948333, -4.159805336958231, 10.424581321898502, -0.6294179059329574, -0.5340642701686841, -0.5994993801301168, -6.943884981707799, -4.034599892829992, 3.398929401724798, -0.9911216061098502, -0.2828336972475747, -3.8550880488032013, -6.533398905819499, -0.34461574980784543, -3.908054788308209, 0.35757020625373587, -0.8576115672827748, -6.7185653128710765, -6.717132488517685, -3.9527806196560373, -0.35026861591534275, -0.389594127452242, -0.5761006816852237, -0.5617278655508019, -7.289005638217746, 2.5781018180816697, -1.732396072738268, -4.171024914996648, -4.164765736203249, -4.482115130104951, -5.090320378637158, -7.713665614433932, -1.0635597429189263, -5.105806462437329, -1.2588805309153297, -0.9108916931401446, -1.3700713022518507, -4.462899537519493, -7.102844925017246, -4.5916281694427274, -6.625713461266618, -7.179902916879219, -0.7655762437809867, -1.0195031455214627, -4.2020825042159915, -4.244986380082403, 10.288398884459118, -1.182994944367255, -7.232218626299128, -7.089532528164885, -0.8350530244393543, -4.251417953729479, -1.1066683044955588, 0.4218997873749715, -7.80871866397975, -7.069211813524407, -3.5315521392670006, -3.5089377341690557, -0.22054698363785155, 0.3668211091969697, 4.33192976537702, -0.7881945972724334, -3.544898802217454, -3.0869356197934357, 0.5889358231968531, -2.82914625376394, 7.665991354780957, 10.2203312925308, 0.09756498924917871, -6.719126755973869, -6.317974974760221, -0.38503556192273836, -3.4696789997738984, -6.2457394224167, 0.18542804291032522, 0.15554644665710018, 0.19923116945290836, -3.9275193505923243, -6.098842579471597, -5.9488225249242435, -2.7840489735195444, 0.5850531173763479, 0.03064430214799357, -2.7099024639680094, -5.545035998081195, -5.421763914696986, -2.995137302262135, 0.8165504151026034, 1.1284211210735149, 0.5516588861514677, 9.303027866865788, -5.470116117277471, -5.928402442277037, -5.886700527915289, 0.14085151650820335, 0.4167528952250003, 5.175255721299126, -5.888535590744815, 0.7461060168096747, 0.7976795054459547, 0.3437912741376039, -1.5811984708097955, -5.675258747904764, 0.9882364722129388, -3.15807667536303, 0.2449199225788334, 0.2945488345711627, -2.96661170289684, -3.1583207460757934, 3.009329870604917, -5.728084457715857, 1.0736886253553344, 0.851016322546925, -6.402378928585561, -0.37881023732869246, -3.4912141660213494, -6.025263636805419, -6.125630974925764, -0.6533148576411816, -6.212354113709276, -0.3246110529812459, -0.12366781556689453, -6.624041455686399, -0.546068837733846, -0.5590886744903492, -0.18144089232132846, -0.5353098725950954, -0.6383378613206762, -1.8193893722056826, -6.50480014283074, -3.736848597782364, -3.5944361016399218, -3.762799833956245, -6.047952837419066, 1.4512056512412197, -0.36788405972782134, 0.18572110269090258, 0.7633348552048175, -2.8677045893552267, 1.0169562701759896, -5.644535960295102, 0.39870520529628406, 2.9287019038340567, -1.715234554046943, -5.41036094640168, 0.8924687802052664, 0.21547047229020966, -5.824863311323554, 0.2706343567098715, 0.7787862943122975, 0.4810406688096311, 0.19289821174106014, 0.3092350108079069, -5.9043299682924415, -5.731869988381682, -3.0582373417143667, 0.7684142332677047, -0.010818716749292674, -0.06703992564421209, -5.767113618711819, 0.36048083258309815, -0.27050691642167196, 4.811713045869686, -0.05763659947985295, -3.4877283520616453, -3.358352578439546, 0.04003762529644953, -0.10723234209310069, -3.458701854927044, -0.9478375335088551, 0.05343040995671877, 0.38477494039407034, -3.639844234504758, -0.8315891536003042, -0.5226714820562697, -0.6203773516520547, -4.066297058952965, -1.09004088642645, -0.7836963115535615, -0.327878717337057, -0.27891976939226965, -3.6569500112414497, -0.7043774939918064, -6.896343358190011, -0.6974692365685635, -6.937011417919341, -4.2049741593883105, -1.063210700161468, -6.977628387544324, -4.27980716415565, -1.1075354820394951, -1.141464768939832, -7.1228393970148804, 12.37911330258618, -6.964210318614652, -4.062948385168493, -3.815347144082894, -3.839566671830258, -1.10868684728387, -0.6115613530237651, -0.9848159251431035, -3.9871053556351854, -4.219342769770772, -6.864374321391777, -3.7081270715192907, -0.9246211816154647, -0.5096544644807003, -4.26938861327265, -0.6403307757448822, -0.01864034664732929, -4.175717649305849, 5.4641142977355015, -0.11594301178160414, -0.5693212511173809, -4.3984736826105655, -0.20802009723666076, -0.9860905425987443, -0.5868890077510681, -4.841248672400448, -1.439016726877434, -1.386790930397474, -7.434207924129591, -1.713498576161486, -5.196556384523463, -4.949525784853712, -7.830704663749145, -4.8403751385489295, -1.2120459678400812, -1.1054037871784912, -1.6876575065994968, -1.331249844296097, -7.34096034017187, -1.348339464772376, -1.2776791241797538, -1.8088830648446246, -6.901541667859413, -1.405068341661073, 3.0178783152003414, -0.8376692573550054, -4.838181980333934, -4.97208377296312, -7.535063883877578, -0.8348102459382822, -1.282623777338694, 0.9520718130850242, -1.5369526927061796, -2.3543276726738145, -5.453420183779492, -8.366012233931036, -1.3300116979777474, -5.673574897443702, 10.700789110831828, 3.100248108157576, 8.183807364178902, -8.557663435215145, -8.225804322403892, 0.16311855111483264, -2.723634955887119, -8.999173435953576, -2.7262802862733477, -9.127784625791188, -9.151356595208805, -2.440606265268035, -5.942623254133704, -5.765601304050136, 4.645502219304874, -3.249004685435442, -5.7356934321114315, -1.9822044985557146, -8.612869606690506, -5.319425574917053, -2.051625952855483, -3.5855818589611217, 6.245392736326581, -6.05466226925757, -9.147583973467489, -2.46408003413726, -2.103623854405217, -1.9871972197607741, -2.3290706221673263, -7.921644697089022, -8.162971427191636, -2.4875819692543617, -8.646517524227612, -5.783956848681656, -2.821694070898833, -3.917282483991954, -6.032468236839387, -5.811002945423308, -5.51851032135039, -5.920432933563919, -2.7254993651682184, -2.220445730070915, -1.7983529095720578, -8.049230264202748, -1.7133357196252739, 3.3714076340769474, -2.1190484988946823, -5.139696763539282, -1.7629199510024225, -1.4526790367978684, -1.7704541972670034, -1.9805203886427905, -4.916188201289196, 7.445205446596597, -1.5243341735094535, -7.38686797111732, -4.842687342861381, -0.9447398268365846, -1.5956359216400053, -1.712201931694128, -7.112785095374445, -7.40653857031994, -7.112068490611994, -1.479928077171459, -0.9635802460233189, -6.940108286163326, -6.668945121622574, -0.5545560281412011, -0.5811520043320294, -0.5755855781488496, -6.418978128367852, -0.44292830080719986, -3.922519811104493, -6.2866156528802755, -6.37696724805281, -3.810987786209659, -3.6836294541786914, 5.891182943643756, 0.1653547813353285, -2.8955352134995405, -6.144357728352175, 0.13698669933575225, -3.8171662834722024, 2.4953837553048825, -0.28170033202887523, -6.182098473682434, -3.7546893706435958, -0.0018605781083872014, 1.1765164954626153, 0.28634899023786714, -3.242764161010537, -2.914589446671682, 1.1239790322540255, 0.9122750430796495, -2.349649896720701, 17.853246465587276, -5.040948167188605, 9.82557570746399, 0.9624920045491655, -5.556411789777524, 12.24309721161439, 0.4427623146760348, 11.072199036263333, 6.611776058299518, -4.862441536278192, 1.0305144548923773, 0.2961453384814813, 0.3515849677699923, -3.0864031262562657, 1.0536984807291314, 0.46078371593420625, -5.408625273207269, 0.7382512282177388, 0.3973344115982692, 0.3788744703627036, 0.6514088450121815, 0.6359890674097144, 0.43505228895105313, 1.791879773305997, 0.8286467113762168, -4.545142218303198, 1.2840621078471666, 5.831439435283153, -0.03370929676117165, -4.698614681517916, -2.617358975974462, 1.3449702443034688, -4.985051635400424, 1.6528192761209017, -5.181456080351753, 1.5375665362884843, -1.8359811732552958, -4.58166753082768, 1.8348346109033533, -4.869046303205827, -4.131437297238918, 1.9875289509512437, 2.069942489239171, 2.138977357315464, -4.6821937972180185, 1.3074508713146575, -4.404397667927258, 1.4780084736395211, -2.097152756366067, 1.8117779601775625, 1.0924600419981576, -4.922640187092216, -2.0178461156032608, -4.505157590949904, 1.6493571368637179, 1.904943585531044, -2.2140059085107637, -2.6698568152153155, 1.1760646958654448, 6.065905220589979, 15.75157783956674, -2.8452076523050263, 0.7797666041186974, 0.5252493685638315, -5.085991604338797, 0.5271399225367177, 1.4502969030953183, -2.1255107043864747, -5.206799226886323, -4.9005684312162385, 1.6236140636725007, 1.6206213605577677, 1.5146168088006926, 2.1528574502257496, -3.0903133557426217, -1.7963839496965641, 1.1054196541099448, 0.6246152723311557, 0.976394735121656, 1.027228929230577, -1.0378452925051367, -4.662477591086405, 1.0708900793716016, 1.7214698841776284, -1.9675066655328157, -1.9891375270828642, -4.302588388404576, 1.2598893865728045, 1.2118453845790864, -2.270095384206329, -4.727744860161624, 1.4491636383487365, 5.498208983169005, 1.2418681188633292, 1.1344568852801857, -5.457500763210606, 1.0447099270352147, 0.8928653133273334, -3.029712033328438, -5.79045368464877, 2.9987760996696817, 2.4079366259902093, 0.35734540282854776, 1.9159520364510016, -6.362653562667205, -3.4992981131403216, 14.548006454674539, 17.152545561064752, 7.4770707325384365, -3.5894115598489083, 2.637498364933283, -2.7886524920133033, -6.227839409598998, -0.1837655070028069, -6.195852124618326, -3.78588166886948, -0.22224626327119562, -0.2801390634484756, 0.465201181426729, -0.8822295299072674, 2.823665854016062, -3.9501220586158055, -4.055231336170937, -0.6328995463829346, -7.170539183398601, -6.165838178505973, -6.416645314178364, 2.3767272718205303, 0.14994146340590087, -3.046827382519077, 0.36852733156638784, 0.20662474461476446, -0.049193665712921324, -3.204125863216815, -2.797830498156367, 0.2868281925738456, -3.502550811258811, -0.2861614862786457, -3.3348549589672785, 0.3132519763073981, -0.5434340017154873, -3.3252396210570048, -3.2457057393317656, 0.20151488157970493, -6.360389872723543, -6.243435807444488, 1.1626782583540356, -0.9840659454523923, -3.778526742393451, -4.300457721599139, 1.424331270424442, -4.36688947701275, -1.4712058859139039, -1.2768859710219325, -0.6665859624935079, -4.32249738236606, -0.4159703495573062, -3.3804407518773987, -0.13410500635178274, -6.203722782500967, 6.119840979683503, 4.992132500338851, -1.0764993907133589, -7.099600842730188, -0.4847648726799246, -3.80486564216132, -7.229043331036497, 5.37050140802154, -0.8198454617787556, -4.286488629830264, -4.145622729379098, -7.057009748534011, -3.96905809213633, -4.161066681347917, 2.9265970796002576, -0.921659159985885, -1.1538985795785122, -1.20205110639694, -0.7488225122639984, -1.2468640948143557, -4.342286966008522, -6.7687449845129795, -7.151957498599469, -4.368017667326522, -6.827538567456436, -0.3927689340882599, -0.2959351735578035, -0.6460500051318724, -4.369662501626512, -6.838524245275039, -0.9001144965441332, -0.7377226382988507, -1.2652574096276954, -7.303938722979176, -7.485509441080657, -7.416435724689842, -0.8480501919901874, -0.558922543671854, -0.6251051730390894, -7.216896849822561, -0.5342225725030187, -0.4676335545597336, 0.19648869326794424, 0.23608311417377778, -0.6179656439852879, -0.188641122925592, -4.233236616239531, -4.05675616521826, -6.554937364153098, -1.097062917932601, -3.8884285293522516, -3.612028491935986, -3.613765120830581, 0.10361034974273012, -0.5819770311746114, -3.44630011671982, -5.981364843645911, -3.1979617746931805, -2.645825879915526, -5.7175736572194165, -6.271689717019222, 6.6280498465778335, 0.741378951919434, -2.414619915059854, 1.099168013619202, -4.779839686992285, 1.4499410387717855, -1.8565099940605625, 5.217035932085911, -3.052043991895365, -4.554918428208551, -4.859183935318961, -4.6171509741103876, -1.611999693983739, -1.8086644566371737, -4.235076992055745, -1.4502540445398242, 8.700175407909644, 2.100347495212147, -3.5824925781465478, -1.1017173359938, 1.5331796533369428, 9.530332685451693, -1.8280123131020527, -4.872222742050429, -2.01734266032567, -1.9136769001212446, -4.6559377459838425, -1.8745658784979224, -4.78059376235442, -1.7902974319156524, -1.4648481645031135, -2.0320829471907436, 2.0032302358653657, 9.838416761290556, 6.890329144247834, 4.376673398629794, -1.8492955631359838, -2.861741465748716, 1.324730087555801, -4.603445831082012, 1.5172146007914147, -1.2514262680326336, -4.191111573928316, 1.9306643460573338, -1.2053322331887877, -4.046310720160032, -1.1338481663799447, 2.5091718183972587, 1.7064090609746054, 2.2413259129697027, 6.117197770049029, 2.601963146465697, 12.482926677807939, 2.333797215092243, -4.2794154834734055, -3.9880255855660387, -1.2729192435325425, 1.691612159263597, 2.0699041284526776, 1.4422590602430265, 2.04811144698663, 2.3919420841267267, 2.1805309924146425, 6.176210991433325, -4.789574296351501, -1.501021700783472, 1.747889231981788, -4.464199972965001, 8.736905012221483, 2.5163609602950974, 1.091406093246774, -1.3047640491912689, 7.000765120396125, 9.374574693981756, 4.982195319520618, 12.045811381560746, 1.4104652250185454, 2.9823280938153345, 3.674102565790406, -4.587129881733834, 8.205030676159728, 2.3173182792840525, -1.3771299330366593, 2.3983430879961487, -3.93826274886102, 2.1754563872453296, -1.5372353256204057, -4.436950149730826, 1.7550695139121133, 4.78499371464183, -4.163688201611153, 2.677768618657247, -1.0218297412157251, -3.2495393677090836, 3.0364710340453995, 3.414507786935753, -4.257476755629055, 8.882231005428396, 4.474165292886082, -0.32349797126529833, -1.9591974062447222, -3.3049315633266936, 2.27973758876804, -3.3386380796115955, 3.182282381212745, -1.5855443391748498, 1.769653828711096, -1.3178560640857184, -0.6978958789660712, 9.230019115412297, 4.316860424903986, -3.237248973469515, -2.929049549917206, -3.151385569232466, 3.3220766921139857, -0.12924870940634609, -2.634241315854035, 3.3347725822112206, 0.6777147755930832, 3.43105953865877, 9.359859174797693, 3.182426592342309, 2.989117112771297, 3.6430523205896677, 3.4281778823505373, -2.585785076687231, 0.12522300958753502, 3.1934020815096753, 3.066543330487725, 2.866775984445381, 5.954607058705559, -1.8616302728670222, 3.3695817166917745, -0.42321740604976643, 3.574895345844313, -2.8219831293582236, 10.687156436469275, 6.001498493541203, -2.528948299322697, 3.5248831966005745, 11.848414439897743, -0.22807242866276967, -2.7456006843041414, 3.4532809497881134, 3.2486895929774913, 0.7835442065891717, 4.173046569097868, 0.3986641713665066, 4.1912355250542115, 3.815820579154083, 0.6452900069762868, 0.6272954599994904, 3.35202224075154, -2.155241246560765, 4.196672243313464, 3.4566068178538245, 0.23330433254914673, 4.163293247934289, 2.7537364315283894, -0.5520603170561468, -2.7739463069750743, 3.459942586488275, -2.6992532583027806, -2.6392420739942914, -2.8918741515064728, 3.7384967765276476, 3.549188197605414, -2.3786905685259265, 0.08057432008515071, 3.418459786604829, 3.86076270304271, 3.2104004113291524, 3.332413164666057, 2.860481722679572, -2.6411641300490385, -0.04545395937274108, 0.08023790339564889, -0.12554455494855016, 5.888097121556575, -0.07835148255434547, 0.0958599101119939, 3.573860382165296, 3.9628932174108544, 0.05712743591732217, -2.8018175933437393, 0.6049985921578166, 3.399031792101281, 0.3867866977102252, -2.61498273717914, 4.199164717522327, 5.74992247784874, 0.640601534465683, -0.017353623601368287, 0.3234874314092304, 3.9145069124125222, 5.019941660910005, -2.276657124383248, -2.2579052367180648, 5.146984613122782, 4.164096983721257, 0.5278879457232012, -2.8488697357447235, 7.07868881580767, -0.12518737295205476, -2.4544381824202612, 3.812339262992261, 3.5253964416249537, -2.4204282804944595, 3.855174196836671, 0.17121575474541173, 4.336466266632384, 3.4326839765360084, -2.4373884214231154, 3.6462317482186473, -2.6764564301378777, 3.95123772911505, 3.071451702543889, 3.06644585942713, -2.419068265680297, 0.445976525509677, -2.8983074481033904, 3.5931049495754857, 2.67127672130553, -3.1773303192607774, -1.8285782861784523, -2.887869837967867, -3.0300381470297784, -0.30049273563314033, 3.2344529547208154, 1.251939583696285, -1.4728083078189766, 5.533191159412728, -2.612028134229795, 4.383153986661879, 3.3684868753065667, -2.3682388588146543, 4.104286798709127, 3.254566742813219, 3.8860117702939228, 2.8108180745473867, 1.5581252808818475, -3.243446393692373, 2.478017174313666, -0.2501604699829505, 2.8575660879733364, 3.192313989498835, 4.395972441697733, -3.1227381262944345, 0.14282355007491931, -0.3725887140818749, -2.9534240638545204, -2.05191155661624, 0.4082919663044535, -2.675707290262823, 4.003734400947753, 4.3137026808142815, 3.9192336900083298, 4.08191571460785, 4.581959063032397, -1.6873405234477026, -1.8799900808517205, 9.35821873972267, 0.7482584661028764, 1.2913424362402242, 5.407212175747709, -1.1405727519390194, 8.169976805947455, 1.803549924884089, 1.5848921276792904, 4.711528829595612, -1.5849729268976172, 4.093763611500164, 0.9767981349542515, 4.527393849167858, 7.91408797911322, -0.047142065582634354, 4.738536140468602, -1.4261773153330135, 4.9113919786112366, 4.508235446800117, 7.7848514578562105, 7.121936855856189, 0.8610258760980571, -1.4290211519979181, 0.9473694166374793, 4.955477926168623, 4.372067483320111, 0.788347653703444, 4.24321174901595, 4.2084721141025, -1.6568984848250303, 4.565271755634116, 4.493264149420804, -1.6489805419921972, 12.754823626840075, 8.869940192810574, 4.725475772196262, 1.1788929172778195, 1.1779371424473404, -1.6033502779531539, 0.8470926850002705, 4.451308976472482, -1.7423312799500743, 1.2537754359170452, 4.328457761447535, 11.268127441436043, 4.930112158638155, -1.6578850024157212, 3.7791947604788683, -1.8423987695695343, 4.942949362135354, -0.8749457369779469, 0.2497178610037237, 4.559702003299127, 3.8161658108228895, 3.9100064181753784, 3.657597732131804, 0.0418443295567912, 4.099117717072965, 14.515745581942289, 14.765924306393629, 3.4083532670588825, 3.3970852385532595, 0.3071878345106513, 0.2526989077524732, 9.565101085562612, 5.004040271577666, 4.630191769421337, 4.649066918849883, 9.556715716449238, 4.979392203390957, -1.7516630387828251, -1.1907157849813386, -2.2432587192318394, 7.081141338552632, 16.049658631830116, 1.0526755311548828, 4.576515391711769, 5.046098213083455, 4.817536860962398, -1.0313464586036265, 14.01590731945001, 1.583796247320849, 5.0645359513268176, 0.844004160424816, 1.012323897696119, 7.455456185577527, -1.0284717521342386, 5.0947194482846045, -1.9446075812470416, -1.197342138194759, 2.9842396798728967, 4.826090120121671, 9.845345740445671, 7.250054650230698, 1.9329010154262425, -1.477572529063385, 14.498834552034344, 3.973257684250672, 3.7211646433763232, 0.3996660176427375, 3.3847569197237903, 0.7041885333065981, 7.334457729970357, 4.3900898863801725, 4.313937476179124, 4.364281381048614, 4.2502319647760425, 0.9634694011421535, 4.935889481772485, -2.5344471714846506, -1.8587562745466426, 4.162459750123085, 3.241387481776797, -2.92432188791532, -2.4881636502990045, 0.576576922822829, 0.07941906668378178, 0.4004448581359735, -0.09256798037429712, 2.882246054977887, 3.164858384889481, -2.9466497645631513, 0.39192725689633645, -0.07595651617484124, 1.9737050955046653, 0.11465110131564303, 3.784530906069946, 0.20642837495489194, 6.46402220483262, 0.09648996946861729, 3.4884067302502966, -2.5947664030648903, 15.256224826542557, 12.203608028187263, -2.672139939736331, 3.4009540265302705, 3.5418777247839746, -2.5053133607252196, -0.3607580231347838, 2.6056343687952475, 9.092337562413197, 6.332664039063911, 9.90283585416194, 5.287841898840598, 3.0572561431461347, 2.961324338541622, 3.572039067537262, -2.7226724050152877, -2.069569726527109, -0.4373727940254932, -3.114679189090872, 2.767586796036995, 3.5967019259715416, 12.735984318049619, 3.2261282838603016, 3.0007888378638508, -0.6326518489011745, 3.055420452709172, 7.307577911269347, 0.796744894958413, 2.8572637969590535, 2.578318531062438, 6.859715259008601, 1.937450352563989, -3.4837772726695233, 5.631704743519364, -3.1007284193429925, 1.8459129047139038, -3.364037209755202, 2.5528837622444422, 6.554026864891219, -0.7717732333650169, 2.5973374710386916, 2.618500581153024, 2.3902991692647935, 2.5441678787179627, 2.1510533704778485, -3.908177578523639, -3.2821067736715, -0.8375294301822666, 2.7989917129680255, -3.868569746309731, 2.0669636943569443, -1.3935088907866944, 10.683661384762638, -1.215195846248931, -3.618870048371535, 2.3881902443546976, 9.12559876396008, 3.3104582138462395, 2.611460095650293, 2.855178861048968, 3.096425753061572, 3.355796744306769, 3.4571672774018287, -0.06676924882872352, 2.7935504156687516, 3.0732520598865904, 2.965136229033509, 2.196489642025136, 2.903177066619944, -0.5360460393088431, 2.853746741081286, -1.0513519022724362, 2.7101939278364786, 14.892250378448804, 2.5850674019787196, -3.5315410824145346, 2.7066876943514444, 3.5133958280601, 2.8715489546701165, -3.4969899335792936, 2.464276595841766, 2.766342236227008, 0.4969209101656251, -2.3247271556564346, -3.0467533822924135, -0.33512836130614343, 2.8025630644971034, 3.459113527584947, 8.491453853907327, -2.754137999354119, -0.14487393217426928, 6.555625188952051, -0.9630401309464293, 3.3818415821422763, 2.909066866519915, 3.4349541756707684, 4.160324187197084, -0.0728394704648016, 3.508910354363948, 3.609988225986976, 3.258447246465598, 15.515628129360353, 13.288600656962403, 3.140453114895016, 3.1851855608964796, 3.624131820253961, 10.588945227621721, -0.3029722649037957, 4.002587855437225, 4.465848185730534, 3.8161047108966946, 7.033673181943347, -0.24516867372786197, -3.0177863323293423, -0.47957181231243506, -2.905941017522844, -0.44289079969663475, 2.3090539611876584, -0.31074510685746876, 2.5026797898177198, 4.243527476112506, 1.5944890027062073, 2.161705245787637, -1.6024967459712185, 2.1426956482230803, -1.1040918325081943, 2.1704656432528444, -4.049711803400865, -1.398244715549932, 2.3186512640879076, 3.2066343928693377, 2.500080676815625, -3.7029113151612076, 3.1305681032778967, 2.0987089802649503, 2.870941290433073, 7.199092354165563, 2.551146642354576, 2.6785677929737552, 2.7703304499703116, -3.7925787328641154, 2.876084692778605, -3.4024924396769927, 11.29265071541511, 3.21490263310702, -2.847652072912693, 3.3273454854470685, 3.2194535581067893, -2.8070755609897753, -2.646915420759647, 15.65157047871731, 15.032875822125847, 0.12776764813376562, 4.02413784683926, -2.1584557736709384, 3.7661170540802384, 0.030041070699679453, 3.887237265965989, 4.170106082360018, 4.511193788635039, -2.251354080047665, 0.8850151850936924, 4.488373910033221, 3.9744834543792753, 4.262620244763083, 6.610605970482947, -1.8837708306646934, 4.188896725067588, 1.0622960226178244, 4.098125132908355, 4.186208440120229, -2.4494964894695848, 4.720860020678632, 6.589383671322385, 15.423698303918911, 7.65126742156684, -1.7387626274106616, 6.707983212263053, 4.87673932697498, -2.109893516261808, 3.9390944233517056, 4.599149160584774, 0.7850146142012937, 1.0510983418832336, 2.7495245021826737, 4.504130715383128, 1.2901812497029914, 4.243553119661142, 4.934742504171567, 0.6018517222236808, -1.8031061531406751, -1.2841944497420006, 4.323035000817697, 0.979987617729936, 4.636463508086205, 1.101137256600867, -1.7831008415004912, 0.6372751467225046, -1.9234761421688054, 0.7687734537979025, 4.344923670104627, 0.9651619449284051, 4.377535231716686, -1.9676560389451923, 5.110179569495733, 4.49704703647025, 4.860779007735041, 4.769653424390921, 4.862958527148342, 4.648916495167646, 4.80010936830775, -1.3405415696174754, 4.1759035107727, -1.7358281018777004, 4.025008242538721, -2.494946928749508, 4.257141956356322, 3.9169175337366298, 10.235951784437825, 5.372905982859818, 0.30970383232474497, 0.11319106366098343, -2.4688923268855096, 4.139773085638648, 4.178123377012548, 3.698633833939545, -2.0846115632936875, 6.16513059441373, 5.901049277483891, -2.084944518090811, 3.383147621836491, -2.654801543530953, 3.0424922303844206, 3.398415459859982, 6.971782480261582, 3.636833850406189, 3.133356014716307, -0.2121432720088744, 3.0381272389701457, 3.1278917112838336, -3.5930843795971494, -0.7006439662054519, 2.768662503441216, -0.9197969117970332, -2.975732740939194, 3.35597981843461, -3.091816872290188, 2.484013953196587, -0.36656370834624763, -0.556111615378923, 2.8074108034972, 2.7412254462640333, 2.447261725289921, 2.725737326864789, 3.5680075572838286, 3.1266599182971513, 0.8784823092531499, 2.5610706646777945, -2.7289902818708254, 8.75483397706573, 2.8701872523591496, 3.5842375112057043, 4.021977161634449, 3.137029471162132, 5.8742065718805545, 2.2495898560410375, -0.9477325325481221, -0.23995868239820436, 9.439607264554601, 14.599390120108174, 6.788490624203486, 2.9282518510645263, -0.05992266722205464, -0.14949079867266102, 8.242460479997524, 4.148043985753829, 3.72302426500899, -0.46190771728208513, 2.3534519265801785, 2.5450841365384056, 12.438587046432836, 0.5733805239913297, 2.9039466601401958, 14.753126445442078, 7.868275931519624, 3.385217351228209, 3.4653955294201726, -0.37340484424426235, 2.7546163258251934, 6.115954687233259, 3.1390136311708092, -0.3449591999660055, 3.7140141439887047, 0.5388734519399535, -2.743786507396137, -2.059639793922329, 3.3665558788575227, -2.895124282450804, 3.807436118490644, -2.8553590636983404, 3.52569004507854, -3.1680788246475253, 2.9630045108035343, 2.8744649738178496, 3.3584999093349674, -3.0201923306791727, 11.404057165405437, 1.794109143516044, 5.7034586534722616, 6.287475979189948, 3.1333016301515726, -2.750492094350051, -0.23493339093787324, 3.6296349490889726, -2.867426053027259, 1.5296821544763513, -2.809650282754567, -0.43370329403951663, 2.977625411530706, -1.7876856116940814, -2.498513658438668, -2.492681069868125, 3.900267519349819, 0.15182723911429952, -2.394397233543342, 0.3917700030405474, 3.3380394476850355, 3.7785205032105718, 3.5951838539039374, 3.809029540169254, 5.101016629215056, 3.9867011607749756, 3.450126147977121, -2.2271235056230974, 3.712253642923854, -2.2762186220237175, -0.05999943675696687, 3.119055380919597, 3.3038971541197517, 15.832747121236917, 2.985709670922439, 3.1538789800855884, 3.2744744952800295, 3.5140571832409826, -0.34942975631363044, 3.477868484949933, -3.0314139245159546, 3.663020750722381, 3.954632635091867, 0.4081216691363163, 3.1012010385697435, 5.523522660035211, -2.8970085500772984, 0.14838298928495428, 0.15969563237929127, 3.1796500413282263, 2.9000101132811715, 0.7135282345087843, 2.0432262996328596, -2.7235138636309975, -2.7111901680871955, 3.368820665658366, -0.2863756232213455, 3.544341683970119, -0.08251966571446714, -0.30159675636951105, -2.7286315714169, 3.141137653373195, -2.512248529962443, -2.7757550648623264, 8.664613286216957, 3.5322548543104233, -2.694996161026948, 3.405087885472978, 0.42231763563238306, 4.186856055420664, -2.48385250996267, 5.963580356763442, -0.4216620415994657, 2.2089748651438588, 3.7003121921827375, 3.7546461237060513, 9.760019218429324, 6.9173401752054255, 5.734865613471561, -2.7162628660038965, 3.9481453152805916, -2.734963701225604, -1.510075528918782, 3.4630588115659777, -0.1944276363018257, 6.009052967494096, 3.6894952884360226, -2.2019674264532156, 3.9536415011790362, 0.4339929747774374, 3.6752923098716304, -2.168640195010524, 0.5298507365120119, 3.242495027015679, 3.321500106713509, -0.21214774270543832, -0.28504067366498964, 8.927802410039494, 10.490374183283667, 5.6210038097808885, -0.08241818603625414, 3.561561842598639, 3.4795453367838185, 3.272541987927295, -3.3750151637363897, 3.907516365317771, 2.3011291902613857, -0.440281611295972, 2.844021559355104, 3.636780425429792, 10.817569809574877, 6.428363760141534, 4.280090033480635, -2.7930551799425154, 6.76777354809282, 4.157313716543662, 0.14121984854061462, 0.18377880468761676, -2.2528987592199026, 0.3322296407086628, 3.8509630738221405, 3.0493130708633975, -2.6540615173380915, -2.3640317255964196, 0.18449383564280222, 4.863837203134851, -0.2581847502841777, -2.361135403235121, 3.490606636123838, 3.9177195672389202, 3.3417246647919696, 4.239538527143836, 0.5113163621704827, 0.04423878799430706, 0.27337977683522174, 3.44295450656794, 0.3773965363522284, 3.2561227582382104, -0.06223793834688692, 0.12021691781250429, 0.46327657533197303, 0.32640368677322606, -2.5874443653576304, -2.401502774601059, 3.8353917536848785, 0.34414987986233025, 3.502902635624082, -0.6526128798502729, 3.0206782927618856, -0.48684139142109006, -2.905267554498219, 3.3006520221304, 3.2751440032791086, -3.003844136336868, 15.551043315994809, 2.8434901620363346, 3.1968227356724714, -0.45339361593637584, 2.723060550673068, 5.768206236397296, 4.780392730662525, 2.706114475181262, -0.8069774894717674, 5.080354666453769, -1.1457206823241344, -1.1055183936223223, 1.666486182168458, 1.9942414880609554, 11.673133340143874, 7.8986192245169935, -4.125207303846895, 3.546647438968829, 1.5312975591380145, -0.9518942781919119, 2.2784182223913234, 1.545618755482543, 12.494341006389654, 8.935453169445443, -1.184725316202229, 1.5993596905118668, -4.2631250214014695, 1.6153428037829332, 1.5342520208646064, 1.4073459553456493, 1.3024479569694332, 2.2949989691288795, 1.9195285111476867, 2.3406177293376507, -1.1953627466516676, 1.9494137038899844, 2.335159240716567, 1.4725990957309525, -4.593372525540601, 1.496144876234109, -4.374815656412383, -1.834019132158388, 1.010158577461186, 1.2519692744836508, 1.1460181432642222, -4.773856827258823, -4.650459135163399, -2.825330840123187, -2.2628927963536674, 0.11889262611388092, 1.1380190765748914, 1.868557544745559, -4.626318915827605, 1.482565482379865, 1.3487729889518054, 1.2079887543936787, 1.2959062253163005, 1.1118804804416662, -1.2545661973134048, 0.9382512024291012, 1.43399324712195, -5.423076862000904, 0.9715170780428378, 1.0524759900588758, 1.3554200775554426, -5.407167502585438, 1.6806680169901407, 1.1816921002979226, 0.9339480456035029, -5.448614232044529, 0.8544477919208374, -2.659101631472094, -4.824215470123862, -5.090356921379494, 0.4921201890674867, -2.9122823222110084, 0.4422242756725903, 0.6763364950078988, 0.6719235066548267, -5.014558373309157, -5.429333236856099, 1.035889060534893, -5.353516187479115, 1.0411507176400556, 6.813414093969819, -4.328939282049987, 2.3185289738738346, 1.196794083680591, 7.106428718553161, 2.8580932498897056, 1.6045894759393131, 2.0109982922507164, -1.6221947945717465, -4.219933668347625, -1.7599026822259958, 1.8762564700645779, 3.3299518308680387, 2.2270624093753106, 1.981804618288898, 1.7396271009619142, 2.12585431231567, 1.6950759946849645, -4.824961941518963, 1.1552887822622264, 7.237759378758073, 1.2341083450222323, 2.9389425089469454, -1.7997437618943959, -4.620093487307126, -2.017025478284191, -2.279916114072185, 1.2450239362212372, -2.0790454838089394, 2.096805505923157, -1.697138024640309, 1.6591469835137336, 1.8875362472544173, 1.9652152002046535, -1.4533845323758434, -1.442931938179259, 7.302778827041865, -4.579705479214114, 0.8230958309281392, 2.239329143956357, -4.471977108231818, 2.2585706068932367, 1.385418883036139, 6.5862065443489906, 1.396717236718896, -4.8984430327486, -2.386839742109961, -3.1105722019877646, -2.1082535866030674, -2.447846287932893, -5.056172434545548, -2.303155461398039, -2.4542304002982958, -4.827856539088077, 1.1294064984492331, 1.7584406859396988, 1.9682766213539613, 2.5961048250858036, -4.3719958694216565, 1.2296300936778892, -4.407794291259989, -4.421563369089875, -5.230326354106179, 1.348748210039251, 1.1318974459464717, -2.3338810203252054, 0.7346868314852858, 1.1715270474876056, 0.6660162330673782, 0.582223819049377, -4.69692383917221, -4.600956230652674, 1.2437883629571078, 2.826301436764809, 0.4797294758493897, -4.474336821370553, -1.8822130290142185, -4.616612184544798, 1.6999701459412984, -4.240565291269132, 1.1740042005739337, 1.4941475913706694, -5.512301046860106, -3.995527055451567, -5.098863578593608, -2.1358627597054505, 1.3321854439876168, 0.9004913414146754, 1.4200651225298442, 1.4011068844419643, -1.6828633526817258, -4.428471451373846, 1.727266235655831, 1.702002420110519, -1.6428875286449007, -5.097949983794281, 0.9449507391414663, -2.5573464344345305, 1.0600150818422998, -2.3718791177909244, -2.3605358265908323, 0.6512054605569317, 1.380117252787488, 1.2034271195301234, 5.247366771585157, 3.2058632583949924, 7.1117798936613354, 3.9278903569490424, 1.8479275140561355, -4.421981927050815, 1.5205011707621618, -2.283089305491238, -4.496459888804808, 1.2287189767981284, -2.106565480083153, 1.1563594743639916, 4.409895020605023, 1.8383056266786966, 1.8673946027011377, 1.5122143969380022, 5.758131477567685, -0.844701418136429, -2.4494888256178524, -0.3950475087577168, -3.138955277975973, -4.81216428509033, -2.730365739456116, 0.6493640824248289, -2.512024057656288, 0.6083169731512107, 0.45159268670871916, 1.0012359844653405, 0.17546126582916732, 0.8077248162533738, 0.7856650034094899, -2.5585890441130665, -2.294050178031634, -5.485874953137846, -5.66908242490085, 0.6520821128110154, 0.7626284571762921, 1.1466681993514698, -3.112927109362214, -5.657592545238748, -3.757431918217176, 0.4524460844317872, -0.1737988930020757, -3.3611563589384787, -6.15466860815861, -0.5250412129517269, -0.7013344377977695, 0.02992918401353497, 0.22746490870331648, -0.14367442551188653, -6.258112766290337, 7.503327602731454, 2.6787672278836387, 5.808007755644885, 1.780113145050988, -0.38010919316357744, -2.9314965997854094, 11.738010084047563, -1.4050147485829543, -4.231066194577933, 0.4730714661129054, 2.352245368539187, 0.49189095987114245, -5.648910479699463, -3.406837681086986, 0.48999511538572044, -5.570558986071445, -0.15769804549497077, -3.1605005358215115, -5.700713308001917, -5.652180057262098, -2.865738271454411, 1.139478840350179, -3.1240986351814444, -5.5739482594641885, -3.7522587666546583, 0.25702663427791067, -2.4314755274750524, -5.939795623415211, 0.6264024957098668, -2.245861821889249, -3.1830005678505096, -2.9359879668770477, -3.1140901551512035, -0.10536700146458493, 11.543416056548065, 8.196278609315218, -0.13138748668946632, 0.35884670836923127, -5.7090079566273335, -3.193984684273825, -3.0314233766450096, -2.889881841859101, -0.14430528126612716, 0.326809287407499, -0.03205971719597292, 0.1646317402407931, 0.20093735039869975, -2.4811137685658635, 0.20488515733685372, 0.5065079758621217, -3.455964421691175, -0.008452158829256031, 0.8595790931124409, 4.37310417133297, 1.0354065015088383, -5.7757855528297215, -3.071266386776655, 6.978024322659098, 12.564016292915154, -2.5543978766458157, 5.022335126632641], \"yaxis\": \"y\"}],                        {\"legend\": {\"tracegroupgap\": 0}, \"margin\": {\"t\": 60}, \"template\": {\"data\": {\"bar\": [{\"error_x\": {\"color\": \"#2a3f5f\"}, \"error_y\": {\"color\": \"#2a3f5f\"}, \"marker\": {\"line\": {\"color\": \"#E5ECF6\", \"width\": 0.5}}, \"type\": \"bar\"}], \"barpolar\": [{\"marker\": {\"line\": {\"color\": \"#E5ECF6\", \"width\": 0.5}}, \"type\": \"barpolar\"}], \"carpet\": [{\"aaxis\": {\"endlinecolor\": \"#2a3f5f\", \"gridcolor\": \"white\", \"linecolor\": \"white\", \"minorgridcolor\": \"white\", \"startlinecolor\": \"#2a3f5f\"}, \"baxis\": {\"endlinecolor\": \"#2a3f5f\", \"gridcolor\": \"white\", \"linecolor\": \"white\", \"minorgridcolor\": \"white\", \"startlinecolor\": \"#2a3f5f\"}, \"type\": \"carpet\"}], \"choropleth\": [{\"colorbar\": {\"outlinewidth\": 0, \"ticks\": \"\"}, \"type\": \"choropleth\"}], \"contour\": [{\"colorbar\": {\"outlinewidth\": 0, \"ticks\": \"\"}, \"colorscale\": [[0.0, \"#0d0887\"], [0.1111111111111111, \"#46039f\"], [0.2222222222222222, \"#7201a8\"], [0.3333333333333333, \"#9c179e\"], [0.4444444444444444, \"#bd3786\"], [0.5555555555555556, \"#d8576b\"], [0.6666666666666666, \"#ed7953\"], [0.7777777777777778, \"#fb9f3a\"], [0.8888888888888888, \"#fdca26\"], [1.0, \"#f0f921\"]], \"type\": \"contour\"}], \"contourcarpet\": [{\"colorbar\": {\"outlinewidth\": 0, \"ticks\": \"\"}, \"type\": \"contourcarpet\"}], \"heatmap\": [{\"colorbar\": {\"outlinewidth\": 0, \"ticks\": \"\"}, \"colorscale\": [[0.0, \"#0d0887\"], [0.1111111111111111, \"#46039f\"], [0.2222222222222222, \"#7201a8\"], [0.3333333333333333, \"#9c179e\"], [0.4444444444444444, \"#bd3786\"], [0.5555555555555556, \"#d8576b\"], [0.6666666666666666, \"#ed7953\"], [0.7777777777777778, \"#fb9f3a\"], [0.8888888888888888, \"#fdca26\"], [1.0, \"#f0f921\"]], \"type\": \"heatmap\"}], \"heatmapgl\": [{\"colorbar\": {\"outlinewidth\": 0, \"ticks\": \"\"}, \"colorscale\": [[0.0, \"#0d0887\"], [0.1111111111111111, \"#46039f\"], [0.2222222222222222, \"#7201a8\"], [0.3333333333333333, \"#9c179e\"], [0.4444444444444444, \"#bd3786\"], [0.5555555555555556, \"#d8576b\"], [0.6666666666666666, \"#ed7953\"], [0.7777777777777778, \"#fb9f3a\"], [0.8888888888888888, \"#fdca26\"], [1.0, \"#f0f921\"]], \"type\": \"heatmapgl\"}], \"histogram\": [{\"marker\": {\"colorbar\": {\"outlinewidth\": 0, \"ticks\": \"\"}}, \"type\": \"histogram\"}], \"histogram2d\": [{\"colorbar\": {\"outlinewidth\": 0, \"ticks\": \"\"}, \"colorscale\": [[0.0, \"#0d0887\"], [0.1111111111111111, \"#46039f\"], [0.2222222222222222, \"#7201a8\"], [0.3333333333333333, \"#9c179e\"], [0.4444444444444444, \"#bd3786\"], [0.5555555555555556, \"#d8576b\"], [0.6666666666666666, \"#ed7953\"], [0.7777777777777778, \"#fb9f3a\"], [0.8888888888888888, \"#fdca26\"], [1.0, \"#f0f921\"]], \"type\": \"histogram2d\"}], \"histogram2dcontour\": [{\"colorbar\": {\"outlinewidth\": 0, \"ticks\": \"\"}, \"colorscale\": [[0.0, \"#0d0887\"], [0.1111111111111111, \"#46039f\"], [0.2222222222222222, \"#7201a8\"], [0.3333333333333333, \"#9c179e\"], [0.4444444444444444, \"#bd3786\"], [0.5555555555555556, \"#d8576b\"], [0.6666666666666666, \"#ed7953\"], [0.7777777777777778, \"#fb9f3a\"], [0.8888888888888888, \"#fdca26\"], [1.0, \"#f0f921\"]], \"type\": \"histogram2dcontour\"}], \"mesh3d\": [{\"colorbar\": {\"outlinewidth\": 0, \"ticks\": \"\"}, \"type\": \"mesh3d\"}], \"parcoords\": [{\"line\": {\"colorbar\": {\"outlinewidth\": 0, \"ticks\": \"\"}}, \"type\": \"parcoords\"}], \"pie\": [{\"automargin\": true, \"type\": \"pie\"}], \"scatter\": [{\"marker\": {\"colorbar\": {\"outlinewidth\": 0, \"ticks\": \"\"}}, \"type\": \"scatter\"}], \"scatter3d\": [{\"line\": {\"colorbar\": {\"outlinewidth\": 0, \"ticks\": \"\"}}, \"marker\": {\"colorbar\": {\"outlinewidth\": 0, \"ticks\": \"\"}}, \"type\": \"scatter3d\"}], \"scattercarpet\": [{\"marker\": {\"colorbar\": {\"outlinewidth\": 0, \"ticks\": \"\"}}, \"type\": \"scattercarpet\"}], \"scattergeo\": [{\"marker\": {\"colorbar\": {\"outlinewidth\": 0, \"ticks\": \"\"}}, \"type\": \"scattergeo\"}], \"scattergl\": [{\"marker\": {\"colorbar\": {\"outlinewidth\": 0, \"ticks\": \"\"}}, \"type\": \"scattergl\"}], \"scattermapbox\": [{\"marker\": {\"colorbar\": {\"outlinewidth\": 0, \"ticks\": \"\"}}, \"type\": \"scattermapbox\"}], \"scatterpolar\": [{\"marker\": {\"colorbar\": {\"outlinewidth\": 0, \"ticks\": \"\"}}, \"type\": \"scatterpolar\"}], \"scatterpolargl\": [{\"marker\": {\"colorbar\": {\"outlinewidth\": 0, \"ticks\": \"\"}}, \"type\": \"scatterpolargl\"}], \"scatterternary\": [{\"marker\": {\"colorbar\": {\"outlinewidth\": 0, \"ticks\": \"\"}}, \"type\": \"scatterternary\"}], \"surface\": [{\"colorbar\": {\"outlinewidth\": 0, \"ticks\": \"\"}, \"colorscale\": [[0.0, \"#0d0887\"], [0.1111111111111111, \"#46039f\"], [0.2222222222222222, \"#7201a8\"], [0.3333333333333333, \"#9c179e\"], [0.4444444444444444, \"#bd3786\"], [0.5555555555555556, \"#d8576b\"], [0.6666666666666666, \"#ed7953\"], [0.7777777777777778, \"#fb9f3a\"], [0.8888888888888888, \"#fdca26\"], [1.0, \"#f0f921\"]], \"type\": \"surface\"}], \"table\": [{\"cells\": {\"fill\": {\"color\": \"#EBF0F8\"}, \"line\": {\"color\": \"white\"}}, \"header\": {\"fill\": {\"color\": \"#C8D4E3\"}, \"line\": {\"color\": \"white\"}}, \"type\": \"table\"}]}, \"layout\": {\"annotationdefaults\": {\"arrowcolor\": \"#2a3f5f\", \"arrowhead\": 0, \"arrowwidth\": 1}, \"coloraxis\": {\"colorbar\": {\"outlinewidth\": 0, \"ticks\": \"\"}}, \"colorscale\": {\"diverging\": [[0, \"#8e0152\"], [0.1, \"#c51b7d\"], [0.2, \"#de77ae\"], [0.3, \"#f1b6da\"], [0.4, \"#fde0ef\"], [0.5, \"#f7f7f7\"], [0.6, \"#e6f5d0\"], [0.7, \"#b8e186\"], [0.8, \"#7fbc41\"], [0.9, \"#4d9221\"], [1, \"#276419\"]], \"sequential\": [[0.0, \"#0d0887\"], [0.1111111111111111, \"#46039f\"], [0.2222222222222222, \"#7201a8\"], [0.3333333333333333, \"#9c179e\"], [0.4444444444444444, \"#bd3786\"], [0.5555555555555556, \"#d8576b\"], [0.6666666666666666, \"#ed7953\"], [0.7777777777777778, \"#fb9f3a\"], [0.8888888888888888, \"#fdca26\"], [1.0, \"#f0f921\"]], \"sequentialminus\": [[0.0, \"#0d0887\"], [0.1111111111111111, \"#46039f\"], [0.2222222222222222, \"#7201a8\"], [0.3333333333333333, \"#9c179e\"], [0.4444444444444444, \"#bd3786\"], [0.5555555555555556, \"#d8576b\"], [0.6666666666666666, \"#ed7953\"], [0.7777777777777778, \"#fb9f3a\"], [0.8888888888888888, \"#fdca26\"], [1.0, \"#f0f921\"]]}, \"colorway\": [\"#636efa\", \"#EF553B\", \"#00cc96\", \"#ab63fa\", \"#FFA15A\", \"#19d3f3\", \"#FF6692\", \"#B6E880\", \"#FF97FF\", \"#FECB52\"], \"font\": {\"color\": \"#2a3f5f\"}, \"geo\": {\"bgcolor\": \"white\", \"lakecolor\": \"white\", \"landcolor\": \"#E5ECF6\", \"showlakes\": true, \"showland\": true, \"subunitcolor\": \"white\"}, \"hoverlabel\": {\"align\": \"left\"}, \"hovermode\": \"closest\", \"mapbox\": {\"style\": \"light\"}, \"paper_bgcolor\": \"white\", \"plot_bgcolor\": \"#E5ECF6\", \"polar\": {\"angularaxis\": {\"gridcolor\": \"white\", \"linecolor\": \"white\", \"ticks\": \"\"}, \"bgcolor\": \"#E5ECF6\", \"radialaxis\": {\"gridcolor\": \"white\", \"linecolor\": \"white\", \"ticks\": \"\"}}, \"scene\": {\"xaxis\": {\"backgroundcolor\": \"#E5ECF6\", \"gridcolor\": \"white\", \"gridwidth\": 2, \"linecolor\": \"white\", \"showbackground\": true, \"ticks\": \"\", \"zerolinecolor\": \"white\"}, \"yaxis\": {\"backgroundcolor\": \"#E5ECF6\", \"gridcolor\": \"white\", \"gridwidth\": 2, \"linecolor\": \"white\", \"showbackground\": true, \"ticks\": \"\", \"zerolinecolor\": \"white\"}, \"zaxis\": {\"backgroundcolor\": \"#E5ECF6\", \"gridcolor\": \"white\", \"gridwidth\": 2, \"linecolor\": \"white\", \"showbackground\": true, \"ticks\": \"\", \"zerolinecolor\": \"white\"}}, \"shapedefaults\": {\"line\": {\"color\": \"#2a3f5f\"}}, \"ternary\": {\"aaxis\": {\"gridcolor\": \"white\", \"linecolor\": \"white\", \"ticks\": \"\"}, \"baxis\": {\"gridcolor\": \"white\", \"linecolor\": \"white\", \"ticks\": \"\"}, \"bgcolor\": \"#E5ECF6\", \"caxis\": {\"gridcolor\": \"white\", \"linecolor\": \"white\", \"ticks\": \"\"}}, \"title\": {\"x\": 0.05}, \"xaxis\": {\"automargin\": true, \"gridcolor\": \"white\", \"linecolor\": \"white\", \"ticks\": \"\", \"title\": {\"standoff\": 15}, \"zerolinecolor\": \"white\", \"zerolinewidth\": 2}, \"yaxis\": {\"automargin\": true, \"gridcolor\": \"white\", \"linecolor\": \"white\", \"ticks\": \"\", \"title\": {\"standoff\": 15}, \"zerolinecolor\": \"white\", \"zerolinewidth\": 2}}}, \"xaxis\": {\"anchor\": \"y\", \"domain\": [0.0, 1.0], \"title\": {\"text\": \"1st component\"}}, \"yaxis\": {\"anchor\": \"x\", \"domain\": [0.0, 1.0], \"title\": {\"text\": \"2nd component\"}}},                        {\"responsive\": true}                    ).then(function(){\n",
       "                            \n",
       "var gd = document.getElementById('e0ac3f58-576e-4e2c-ab96-9962e698f099');\n",
       "var x = new MutationObserver(function (mutations, observer) {{\n",
       "        var display = window.getComputedStyle(gd).display;\n",
       "        if (!display || display === 'none') {{\n",
       "            console.log([gd, 'removed!']);\n",
       "            Plotly.purge(gd);\n",
       "            observer.disconnect();\n",
       "        }}\n",
       "}});\n",
       "\n",
       "// Listen for the removal of the full notebook cells\n",
       "var notebookContainer = gd.closest('#notebook-container');\n",
       "if (notebookContainer) {{\n",
       "    x.observe(notebookContainer, {childList: true});\n",
       "}}\n",
       "\n",
       "// Listen for the clearing of the current output cell\n",
       "var outputEl = gd.closest('.output');\n",
       "if (outputEl) {{\n",
       "    x.observe(outputEl, {childList: true});\n",
       "}}\n",
       "\n",
       "                        })                };                });            </script>        </div>"
      ]
     },
     "metadata": {},
     "output_type": "display_data"
    }
   ],
   "source": [
    "px.scatter(df.T, x=\"1st component\", y=\"2nd component\")"
   ]
  },
  {
   "cell_type": "code",
   "execution_count": 65,
   "metadata": {},
   "outputs": [],
   "source": [
    "matches = sum(data_validation.loc[spikeIndexes_validation, 'knownClass'] == data_validation.loc[spikeIndexes_validation, 'predictedClass'])"
   ]
  },
  {
   "cell_type": "code",
   "execution_count": 66,
   "metadata": {},
   "outputs": [
    {
     "data": {
      "text/plain": [
       "0.9388335704125178"
      ]
     },
     "execution_count": 66,
     "metadata": {},
     "output_type": "execute_result"
    }
   ],
   "source": [
    "acc = matches/len(data_validation.loc[spikeIndexes_validation])\n",
    "acc"
   ]
  },
  {
   "cell_type": "markdown",
   "metadata": {},
   "source": [
    "---"
   ]
  },
  {
   "cell_type": "code",
   "execution_count": null,
   "metadata": {},
   "outputs": [],
   "source": [
    "data_validation.loc[spikeIndexes_validation]"
   ]
  },
  {
   "cell_type": "code",
   "execution_count": 67,
   "metadata": {},
   "outputs": [
    {
     "data": {
      "application/vnd.plotly.v1+json": {
       "config": {
        "plotlyServerURL": "https://plot.ly"
       },
       "data": [
        {
         "colorscale": [
          [
           0,
           "#440154"
          ],
          [
           0.1111111111111111,
           "#482878"
          ],
          [
           0.2222222222222222,
           "#3e4989"
          ],
          [
           0.3333333333333333,
           "#31688e"
          ],
          [
           0.4444444444444444,
           "#26828e"
          ],
          [
           0.5555555555555556,
           "#1f9e89"
          ],
          [
           0.6666666666666666,
           "#35b779"
          ],
          [
           0.7777777777777778,
           "#6ece58"
          ],
          [
           0.8888888888888888,
           "#b5de2b"
          ],
          [
           1,
           "#fde725"
          ]
         ],
         "reversescale": false,
         "showscale": true,
         "type": "heatmap",
         "x": [
          1,
          2,
          3,
          4
         ],
         "y": [
          1,
          2,
          3,
          4
         ],
         "z": [
          [
           167,
           5,
           0,
           0
          ],
          [
           3,
           166,
           14,
           4
          ],
          [
           3,
           4,
           181,
           0
          ],
          [
           3,
           4,
           3,
           146
          ]
         ]
        }
       ],
       "layout": {
        "annotations": [
         {
          "font": {
           "color": "#000000"
          },
          "showarrow": false,
          "text": "167",
          "x": 1,
          "xref": "x",
          "y": 1,
          "yref": "y"
         },
         {
          "font": {
           "color": "#FFFFFF"
          },
          "showarrow": false,
          "text": "5",
          "x": 2,
          "xref": "x",
          "y": 1,
          "yref": "y"
         },
         {
          "font": {
           "color": "#FFFFFF"
          },
          "showarrow": false,
          "text": "0",
          "x": 3,
          "xref": "x",
          "y": 1,
          "yref": "y"
         },
         {
          "font": {
           "color": "#FFFFFF"
          },
          "showarrow": false,
          "text": "0",
          "x": 4,
          "xref": "x",
          "y": 1,
          "yref": "y"
         },
         {
          "font": {
           "color": "#FFFFFF"
          },
          "showarrow": false,
          "text": "3",
          "x": 1,
          "xref": "x",
          "y": 2,
          "yref": "y"
         },
         {
          "font": {
           "color": "#000000"
          },
          "showarrow": false,
          "text": "166",
          "x": 2,
          "xref": "x",
          "y": 2,
          "yref": "y"
         },
         {
          "font": {
           "color": "#FFFFFF"
          },
          "showarrow": false,
          "text": "14",
          "x": 3,
          "xref": "x",
          "y": 2,
          "yref": "y"
         },
         {
          "font": {
           "color": "#FFFFFF"
          },
          "showarrow": false,
          "text": "4",
          "x": 4,
          "xref": "x",
          "y": 2,
          "yref": "y"
         },
         {
          "font": {
           "color": "#FFFFFF"
          },
          "showarrow": false,
          "text": "3",
          "x": 1,
          "xref": "x",
          "y": 3,
          "yref": "y"
         },
         {
          "font": {
           "color": "#FFFFFF"
          },
          "showarrow": false,
          "text": "4",
          "x": 2,
          "xref": "x",
          "y": 3,
          "yref": "y"
         },
         {
          "font": {
           "color": "#000000"
          },
          "showarrow": false,
          "text": "181",
          "x": 3,
          "xref": "x",
          "y": 3,
          "yref": "y"
         },
         {
          "font": {
           "color": "#FFFFFF"
          },
          "showarrow": false,
          "text": "0",
          "x": 4,
          "xref": "x",
          "y": 3,
          "yref": "y"
         },
         {
          "font": {
           "color": "#FFFFFF"
          },
          "showarrow": false,
          "text": "3",
          "x": 1,
          "xref": "x",
          "y": 4,
          "yref": "y"
         },
         {
          "font": {
           "color": "#FFFFFF"
          },
          "showarrow": false,
          "text": "4",
          "x": 2,
          "xref": "x",
          "y": 4,
          "yref": "y"
         },
         {
          "font": {
           "color": "#FFFFFF"
          },
          "showarrow": false,
          "text": "3",
          "x": 3,
          "xref": "x",
          "y": 4,
          "yref": "y"
         },
         {
          "font": {
           "color": "#000000"
          },
          "showarrow": false,
          "text": "146",
          "x": 4,
          "xref": "x",
          "y": 4,
          "yref": "y"
         },
         {
          "font": {
           "color": "black",
           "size": 17
          },
          "showarrow": false,
          "text": "Predicted value",
          "x": 0.5,
          "xref": "paper",
          "y": -0.15,
          "yref": "paper"
         },
         {
          "font": {
           "color": "black",
           "size": 17
          },
          "showarrow": false,
          "text": "Real value",
          "textangle": -90,
          "x": -0.35,
          "xref": "paper",
          "y": 0.5,
          "yref": "paper"
         }
        ],
        "margin": {
         "l": 200,
         "t": 50
        },
        "template": {
         "data": {
          "bar": [
           {
            "error_x": {
             "color": "#2a3f5f"
            },
            "error_y": {
             "color": "#2a3f5f"
            },
            "marker": {
             "line": {
              "color": "#E5ECF6",
              "width": 0.5
             }
            },
            "type": "bar"
           }
          ],
          "barpolar": [
           {
            "marker": {
             "line": {
              "color": "#E5ECF6",
              "width": 0.5
             }
            },
            "type": "barpolar"
           }
          ],
          "carpet": [
           {
            "aaxis": {
             "endlinecolor": "#2a3f5f",
             "gridcolor": "white",
             "linecolor": "white",
             "minorgridcolor": "white",
             "startlinecolor": "#2a3f5f"
            },
            "baxis": {
             "endlinecolor": "#2a3f5f",
             "gridcolor": "white",
             "linecolor": "white",
             "minorgridcolor": "white",
             "startlinecolor": "#2a3f5f"
            },
            "type": "carpet"
           }
          ],
          "choropleth": [
           {
            "colorbar": {
             "outlinewidth": 0,
             "ticks": ""
            },
            "type": "choropleth"
           }
          ],
          "contour": [
           {
            "colorbar": {
             "outlinewidth": 0,
             "ticks": ""
            },
            "colorscale": [
             [
              0,
              "#0d0887"
             ],
             [
              0.1111111111111111,
              "#46039f"
             ],
             [
              0.2222222222222222,
              "#7201a8"
             ],
             [
              0.3333333333333333,
              "#9c179e"
             ],
             [
              0.4444444444444444,
              "#bd3786"
             ],
             [
              0.5555555555555556,
              "#d8576b"
             ],
             [
              0.6666666666666666,
              "#ed7953"
             ],
             [
              0.7777777777777778,
              "#fb9f3a"
             ],
             [
              0.8888888888888888,
              "#fdca26"
             ],
             [
              1,
              "#f0f921"
             ]
            ],
            "type": "contour"
           }
          ],
          "contourcarpet": [
           {
            "colorbar": {
             "outlinewidth": 0,
             "ticks": ""
            },
            "type": "contourcarpet"
           }
          ],
          "heatmap": [
           {
            "colorbar": {
             "outlinewidth": 0,
             "ticks": ""
            },
            "colorscale": [
             [
              0,
              "#0d0887"
             ],
             [
              0.1111111111111111,
              "#46039f"
             ],
             [
              0.2222222222222222,
              "#7201a8"
             ],
             [
              0.3333333333333333,
              "#9c179e"
             ],
             [
              0.4444444444444444,
              "#bd3786"
             ],
             [
              0.5555555555555556,
              "#d8576b"
             ],
             [
              0.6666666666666666,
              "#ed7953"
             ],
             [
              0.7777777777777778,
              "#fb9f3a"
             ],
             [
              0.8888888888888888,
              "#fdca26"
             ],
             [
              1,
              "#f0f921"
             ]
            ],
            "type": "heatmap"
           }
          ],
          "heatmapgl": [
           {
            "colorbar": {
             "outlinewidth": 0,
             "ticks": ""
            },
            "colorscale": [
             [
              0,
              "#0d0887"
             ],
             [
              0.1111111111111111,
              "#46039f"
             ],
             [
              0.2222222222222222,
              "#7201a8"
             ],
             [
              0.3333333333333333,
              "#9c179e"
             ],
             [
              0.4444444444444444,
              "#bd3786"
             ],
             [
              0.5555555555555556,
              "#d8576b"
             ],
             [
              0.6666666666666666,
              "#ed7953"
             ],
             [
              0.7777777777777778,
              "#fb9f3a"
             ],
             [
              0.8888888888888888,
              "#fdca26"
             ],
             [
              1,
              "#f0f921"
             ]
            ],
            "type": "heatmapgl"
           }
          ],
          "histogram": [
           {
            "marker": {
             "colorbar": {
              "outlinewidth": 0,
              "ticks": ""
             }
            },
            "type": "histogram"
           }
          ],
          "histogram2d": [
           {
            "colorbar": {
             "outlinewidth": 0,
             "ticks": ""
            },
            "colorscale": [
             [
              0,
              "#0d0887"
             ],
             [
              0.1111111111111111,
              "#46039f"
             ],
             [
              0.2222222222222222,
              "#7201a8"
             ],
             [
              0.3333333333333333,
              "#9c179e"
             ],
             [
              0.4444444444444444,
              "#bd3786"
             ],
             [
              0.5555555555555556,
              "#d8576b"
             ],
             [
              0.6666666666666666,
              "#ed7953"
             ],
             [
              0.7777777777777778,
              "#fb9f3a"
             ],
             [
              0.8888888888888888,
              "#fdca26"
             ],
             [
              1,
              "#f0f921"
             ]
            ],
            "type": "histogram2d"
           }
          ],
          "histogram2dcontour": [
           {
            "colorbar": {
             "outlinewidth": 0,
             "ticks": ""
            },
            "colorscale": [
             [
              0,
              "#0d0887"
             ],
             [
              0.1111111111111111,
              "#46039f"
             ],
             [
              0.2222222222222222,
              "#7201a8"
             ],
             [
              0.3333333333333333,
              "#9c179e"
             ],
             [
              0.4444444444444444,
              "#bd3786"
             ],
             [
              0.5555555555555556,
              "#d8576b"
             ],
             [
              0.6666666666666666,
              "#ed7953"
             ],
             [
              0.7777777777777778,
              "#fb9f3a"
             ],
             [
              0.8888888888888888,
              "#fdca26"
             ],
             [
              1,
              "#f0f921"
             ]
            ],
            "type": "histogram2dcontour"
           }
          ],
          "mesh3d": [
           {
            "colorbar": {
             "outlinewidth": 0,
             "ticks": ""
            },
            "type": "mesh3d"
           }
          ],
          "parcoords": [
           {
            "line": {
             "colorbar": {
              "outlinewidth": 0,
              "ticks": ""
             }
            },
            "type": "parcoords"
           }
          ],
          "pie": [
           {
            "automargin": true,
            "type": "pie"
           }
          ],
          "scatter": [
           {
            "marker": {
             "colorbar": {
              "outlinewidth": 0,
              "ticks": ""
             }
            },
            "type": "scatter"
           }
          ],
          "scatter3d": [
           {
            "line": {
             "colorbar": {
              "outlinewidth": 0,
              "ticks": ""
             }
            },
            "marker": {
             "colorbar": {
              "outlinewidth": 0,
              "ticks": ""
             }
            },
            "type": "scatter3d"
           }
          ],
          "scattercarpet": [
           {
            "marker": {
             "colorbar": {
              "outlinewidth": 0,
              "ticks": ""
             }
            },
            "type": "scattercarpet"
           }
          ],
          "scattergeo": [
           {
            "marker": {
             "colorbar": {
              "outlinewidth": 0,
              "ticks": ""
             }
            },
            "type": "scattergeo"
           }
          ],
          "scattergl": [
           {
            "marker": {
             "colorbar": {
              "outlinewidth": 0,
              "ticks": ""
             }
            },
            "type": "scattergl"
           }
          ],
          "scattermapbox": [
           {
            "marker": {
             "colorbar": {
              "outlinewidth": 0,
              "ticks": ""
             }
            },
            "type": "scattermapbox"
           }
          ],
          "scatterpolar": [
           {
            "marker": {
             "colorbar": {
              "outlinewidth": 0,
              "ticks": ""
             }
            },
            "type": "scatterpolar"
           }
          ],
          "scatterpolargl": [
           {
            "marker": {
             "colorbar": {
              "outlinewidth": 0,
              "ticks": ""
             }
            },
            "type": "scatterpolargl"
           }
          ],
          "scatterternary": [
           {
            "marker": {
             "colorbar": {
              "outlinewidth": 0,
              "ticks": ""
             }
            },
            "type": "scatterternary"
           }
          ],
          "surface": [
           {
            "colorbar": {
             "outlinewidth": 0,
             "ticks": ""
            },
            "colorscale": [
             [
              0,
              "#0d0887"
             ],
             [
              0.1111111111111111,
              "#46039f"
             ],
             [
              0.2222222222222222,
              "#7201a8"
             ],
             [
              0.3333333333333333,
              "#9c179e"
             ],
             [
              0.4444444444444444,
              "#bd3786"
             ],
             [
              0.5555555555555556,
              "#d8576b"
             ],
             [
              0.6666666666666666,
              "#ed7953"
             ],
             [
              0.7777777777777778,
              "#fb9f3a"
             ],
             [
              0.8888888888888888,
              "#fdca26"
             ],
             [
              1,
              "#f0f921"
             ]
            ],
            "type": "surface"
           }
          ],
          "table": [
           {
            "cells": {
             "fill": {
              "color": "#EBF0F8"
             },
             "line": {
              "color": "white"
             }
            },
            "header": {
             "fill": {
              "color": "#C8D4E3"
             },
             "line": {
              "color": "white"
             }
            },
            "type": "table"
           }
          ]
         },
         "layout": {
          "annotationdefaults": {
           "arrowcolor": "#2a3f5f",
           "arrowhead": 0,
           "arrowwidth": 1
          },
          "coloraxis": {
           "colorbar": {
            "outlinewidth": 0,
            "ticks": ""
           }
          },
          "colorscale": {
           "diverging": [
            [
             0,
             "#8e0152"
            ],
            [
             0.1,
             "#c51b7d"
            ],
            [
             0.2,
             "#de77ae"
            ],
            [
             0.3,
             "#f1b6da"
            ],
            [
             0.4,
             "#fde0ef"
            ],
            [
             0.5,
             "#f7f7f7"
            ],
            [
             0.6,
             "#e6f5d0"
            ],
            [
             0.7,
             "#b8e186"
            ],
            [
             0.8,
             "#7fbc41"
            ],
            [
             0.9,
             "#4d9221"
            ],
            [
             1,
             "#276419"
            ]
           ],
           "sequential": [
            [
             0,
             "#0d0887"
            ],
            [
             0.1111111111111111,
             "#46039f"
            ],
            [
             0.2222222222222222,
             "#7201a8"
            ],
            [
             0.3333333333333333,
             "#9c179e"
            ],
            [
             0.4444444444444444,
             "#bd3786"
            ],
            [
             0.5555555555555556,
             "#d8576b"
            ],
            [
             0.6666666666666666,
             "#ed7953"
            ],
            [
             0.7777777777777778,
             "#fb9f3a"
            ],
            [
             0.8888888888888888,
             "#fdca26"
            ],
            [
             1,
             "#f0f921"
            ]
           ],
           "sequentialminus": [
            [
             0,
             "#0d0887"
            ],
            [
             0.1111111111111111,
             "#46039f"
            ],
            [
             0.2222222222222222,
             "#7201a8"
            ],
            [
             0.3333333333333333,
             "#9c179e"
            ],
            [
             0.4444444444444444,
             "#bd3786"
            ],
            [
             0.5555555555555556,
             "#d8576b"
            ],
            [
             0.6666666666666666,
             "#ed7953"
            ],
            [
             0.7777777777777778,
             "#fb9f3a"
            ],
            [
             0.8888888888888888,
             "#fdca26"
            ],
            [
             1,
             "#f0f921"
            ]
           ]
          },
          "colorway": [
           "#636efa",
           "#EF553B",
           "#00cc96",
           "#ab63fa",
           "#FFA15A",
           "#19d3f3",
           "#FF6692",
           "#B6E880",
           "#FF97FF",
           "#FECB52"
          ],
          "font": {
           "color": "#2a3f5f"
          },
          "geo": {
           "bgcolor": "white",
           "lakecolor": "white",
           "landcolor": "#E5ECF6",
           "showlakes": true,
           "showland": true,
           "subunitcolor": "white"
          },
          "hoverlabel": {
           "align": "left"
          },
          "hovermode": "closest",
          "mapbox": {
           "style": "light"
          },
          "paper_bgcolor": "white",
          "plot_bgcolor": "#E5ECF6",
          "polar": {
           "angularaxis": {
            "gridcolor": "white",
            "linecolor": "white",
            "ticks": ""
           },
           "bgcolor": "#E5ECF6",
           "radialaxis": {
            "gridcolor": "white",
            "linecolor": "white",
            "ticks": ""
           }
          },
          "scene": {
           "xaxis": {
            "backgroundcolor": "#E5ECF6",
            "gridcolor": "white",
            "gridwidth": 2,
            "linecolor": "white",
            "showbackground": true,
            "ticks": "",
            "zerolinecolor": "white"
           },
           "yaxis": {
            "backgroundcolor": "#E5ECF6",
            "gridcolor": "white",
            "gridwidth": 2,
            "linecolor": "white",
            "showbackground": true,
            "ticks": "",
            "zerolinecolor": "white"
           },
           "zaxis": {
            "backgroundcolor": "#E5ECF6",
            "gridcolor": "white",
            "gridwidth": 2,
            "linecolor": "white",
            "showbackground": true,
            "ticks": "",
            "zerolinecolor": "white"
           }
          },
          "shapedefaults": {
           "line": {
            "color": "#2a3f5f"
           }
          },
          "ternary": {
           "aaxis": {
            "gridcolor": "white",
            "linecolor": "white",
            "ticks": ""
           },
           "baxis": {
            "gridcolor": "white",
            "linecolor": "white",
            "ticks": ""
           },
           "bgcolor": "#E5ECF6",
           "caxis": {
            "gridcolor": "white",
            "linecolor": "white",
            "ticks": ""
           }
          },
          "title": {
           "x": 0.05
          },
          "xaxis": {
           "automargin": true,
           "gridcolor": "white",
           "linecolor": "white",
           "ticks": "",
           "title": {
            "standoff": 15
           },
           "zerolinecolor": "white",
           "zerolinewidth": 2
          },
          "yaxis": {
           "automargin": true,
           "gridcolor": "white",
           "linecolor": "white",
           "ticks": "",
           "title": {
            "standoff": 15
           },
           "zerolinecolor": "white",
           "zerolinewidth": 2
          }
         }
        },
        "title": {
         "text": "<i><b>Confusion matrix</b></i>"
        },
        "xaxis": {
         "dtick": 1,
         "gridcolor": "rgb(0, 0, 0)",
         "side": "top",
         "ticks": ""
        },
        "yaxis": {
         "dtick": 1,
         "ticks": "",
         "ticksuffix": "  "
        }
       }
      },
      "text/html": [
       "<div>                            <div id=\"4ebb0060-86b8-407a-b64b-a50cb5408312\" class=\"plotly-graph-div\" style=\"height:525px; width:100%;\"></div>            <script type=\"text/javascript\">                require([\"plotly\"], function(Plotly) {                    window.PLOTLYENV=window.PLOTLYENV || {};                                    if (document.getElementById(\"4ebb0060-86b8-407a-b64b-a50cb5408312\")) {                    Plotly.newPlot(                        \"4ebb0060-86b8-407a-b64b-a50cb5408312\",                        [{\"colorscale\": [[0.0, \"#440154\"], [0.1111111111111111, \"#482878\"], [0.2222222222222222, \"#3e4989\"], [0.3333333333333333, \"#31688e\"], [0.4444444444444444, \"#26828e\"], [0.5555555555555556, \"#1f9e89\"], [0.6666666666666666, \"#35b779\"], [0.7777777777777778, \"#6ece58\"], [0.8888888888888888, \"#b5de2b\"], [1.0, \"#fde725\"]], \"reversescale\": false, \"showscale\": true, \"type\": \"heatmap\", \"x\": [1, 2, 3, 4], \"y\": [1, 2, 3, 4], \"z\": [[167, 5, 0, 0], [3, 166, 14, 4], [3, 4, 181, 0], [3, 4, 3, 146]]}],                        {\"annotations\": [{\"font\": {\"color\": \"#000000\"}, \"showarrow\": false, \"text\": \"167\", \"x\": 1, \"xref\": \"x\", \"y\": 1, \"yref\": \"y\"}, {\"font\": {\"color\": \"#FFFFFF\"}, \"showarrow\": false, \"text\": \"5\", \"x\": 2, \"xref\": \"x\", \"y\": 1, \"yref\": \"y\"}, {\"font\": {\"color\": \"#FFFFFF\"}, \"showarrow\": false, \"text\": \"0\", \"x\": 3, \"xref\": \"x\", \"y\": 1, \"yref\": \"y\"}, {\"font\": {\"color\": \"#FFFFFF\"}, \"showarrow\": false, \"text\": \"0\", \"x\": 4, \"xref\": \"x\", \"y\": 1, \"yref\": \"y\"}, {\"font\": {\"color\": \"#FFFFFF\"}, \"showarrow\": false, \"text\": \"3\", \"x\": 1, \"xref\": \"x\", \"y\": 2, \"yref\": \"y\"}, {\"font\": {\"color\": \"#000000\"}, \"showarrow\": false, \"text\": \"166\", \"x\": 2, \"xref\": \"x\", \"y\": 2, \"yref\": \"y\"}, {\"font\": {\"color\": \"#FFFFFF\"}, \"showarrow\": false, \"text\": \"14\", \"x\": 3, \"xref\": \"x\", \"y\": 2, \"yref\": \"y\"}, {\"font\": {\"color\": \"#FFFFFF\"}, \"showarrow\": false, \"text\": \"4\", \"x\": 4, \"xref\": \"x\", \"y\": 2, \"yref\": \"y\"}, {\"font\": {\"color\": \"#FFFFFF\"}, \"showarrow\": false, \"text\": \"3\", \"x\": 1, \"xref\": \"x\", \"y\": 3, \"yref\": \"y\"}, {\"font\": {\"color\": \"#FFFFFF\"}, \"showarrow\": false, \"text\": \"4\", \"x\": 2, \"xref\": \"x\", \"y\": 3, \"yref\": \"y\"}, {\"font\": {\"color\": \"#000000\"}, \"showarrow\": false, \"text\": \"181\", \"x\": 3, \"xref\": \"x\", \"y\": 3, \"yref\": \"y\"}, {\"font\": {\"color\": \"#FFFFFF\"}, \"showarrow\": false, \"text\": \"0\", \"x\": 4, \"xref\": \"x\", \"y\": 3, \"yref\": \"y\"}, {\"font\": {\"color\": \"#FFFFFF\"}, \"showarrow\": false, \"text\": \"3\", \"x\": 1, \"xref\": \"x\", \"y\": 4, \"yref\": \"y\"}, {\"font\": {\"color\": \"#FFFFFF\"}, \"showarrow\": false, \"text\": \"4\", \"x\": 2, \"xref\": \"x\", \"y\": 4, \"yref\": \"y\"}, {\"font\": {\"color\": \"#FFFFFF\"}, \"showarrow\": false, \"text\": \"3\", \"x\": 3, \"xref\": \"x\", \"y\": 4, \"yref\": \"y\"}, {\"font\": {\"color\": \"#000000\"}, \"showarrow\": false, \"text\": \"146\", \"x\": 4, \"xref\": \"x\", \"y\": 4, \"yref\": \"y\"}, {\"font\": {\"color\": \"black\", \"size\": 17}, \"showarrow\": false, \"text\": \"Predicted value\", \"x\": 0.5, \"xref\": \"paper\", \"y\": -0.15, \"yref\": \"paper\"}, {\"font\": {\"color\": \"black\", \"size\": 17}, \"showarrow\": false, \"text\": \"Real value\", \"textangle\": -90, \"x\": -0.35, \"xref\": \"paper\", \"y\": 0.5, \"yref\": \"paper\"}], \"margin\": {\"l\": 200, \"t\": 50}, \"template\": {\"data\": {\"bar\": [{\"error_x\": {\"color\": \"#2a3f5f\"}, \"error_y\": {\"color\": \"#2a3f5f\"}, \"marker\": {\"line\": {\"color\": \"#E5ECF6\", \"width\": 0.5}}, \"type\": \"bar\"}], \"barpolar\": [{\"marker\": {\"line\": {\"color\": \"#E5ECF6\", \"width\": 0.5}}, \"type\": \"barpolar\"}], \"carpet\": [{\"aaxis\": {\"endlinecolor\": \"#2a3f5f\", \"gridcolor\": \"white\", \"linecolor\": \"white\", \"minorgridcolor\": \"white\", \"startlinecolor\": \"#2a3f5f\"}, \"baxis\": {\"endlinecolor\": \"#2a3f5f\", \"gridcolor\": \"white\", \"linecolor\": \"white\", \"minorgridcolor\": \"white\", \"startlinecolor\": \"#2a3f5f\"}, \"type\": \"carpet\"}], \"choropleth\": [{\"colorbar\": {\"outlinewidth\": 0, \"ticks\": \"\"}, \"type\": \"choropleth\"}], \"contour\": [{\"colorbar\": {\"outlinewidth\": 0, \"ticks\": \"\"}, \"colorscale\": [[0.0, \"#0d0887\"], [0.1111111111111111, \"#46039f\"], [0.2222222222222222, \"#7201a8\"], [0.3333333333333333, \"#9c179e\"], [0.4444444444444444, \"#bd3786\"], [0.5555555555555556, \"#d8576b\"], [0.6666666666666666, \"#ed7953\"], [0.7777777777777778, \"#fb9f3a\"], [0.8888888888888888, \"#fdca26\"], [1.0, \"#f0f921\"]], \"type\": \"contour\"}], \"contourcarpet\": [{\"colorbar\": {\"outlinewidth\": 0, \"ticks\": \"\"}, \"type\": \"contourcarpet\"}], \"heatmap\": [{\"colorbar\": {\"outlinewidth\": 0, \"ticks\": \"\"}, \"colorscale\": [[0.0, \"#0d0887\"], [0.1111111111111111, \"#46039f\"], [0.2222222222222222, \"#7201a8\"], [0.3333333333333333, \"#9c179e\"], [0.4444444444444444, \"#bd3786\"], [0.5555555555555556, \"#d8576b\"], [0.6666666666666666, \"#ed7953\"], [0.7777777777777778, \"#fb9f3a\"], [0.8888888888888888, \"#fdca26\"], [1.0, \"#f0f921\"]], \"type\": \"heatmap\"}], \"heatmapgl\": [{\"colorbar\": {\"outlinewidth\": 0, \"ticks\": \"\"}, \"colorscale\": [[0.0, \"#0d0887\"], [0.1111111111111111, \"#46039f\"], [0.2222222222222222, \"#7201a8\"], [0.3333333333333333, \"#9c179e\"], [0.4444444444444444, \"#bd3786\"], [0.5555555555555556, \"#d8576b\"], [0.6666666666666666, \"#ed7953\"], [0.7777777777777778, \"#fb9f3a\"], [0.8888888888888888, \"#fdca26\"], [1.0, \"#f0f921\"]], \"type\": \"heatmapgl\"}], \"histogram\": [{\"marker\": {\"colorbar\": {\"outlinewidth\": 0, \"ticks\": \"\"}}, \"type\": \"histogram\"}], \"histogram2d\": [{\"colorbar\": {\"outlinewidth\": 0, \"ticks\": \"\"}, \"colorscale\": [[0.0, \"#0d0887\"], [0.1111111111111111, \"#46039f\"], [0.2222222222222222, \"#7201a8\"], [0.3333333333333333, \"#9c179e\"], [0.4444444444444444, \"#bd3786\"], [0.5555555555555556, \"#d8576b\"], [0.6666666666666666, \"#ed7953\"], [0.7777777777777778, \"#fb9f3a\"], [0.8888888888888888, \"#fdca26\"], [1.0, \"#f0f921\"]], \"type\": \"histogram2d\"}], \"histogram2dcontour\": [{\"colorbar\": {\"outlinewidth\": 0, \"ticks\": \"\"}, \"colorscale\": [[0.0, \"#0d0887\"], [0.1111111111111111, \"#46039f\"], [0.2222222222222222, \"#7201a8\"], [0.3333333333333333, \"#9c179e\"], [0.4444444444444444, \"#bd3786\"], [0.5555555555555556, \"#d8576b\"], [0.6666666666666666, \"#ed7953\"], [0.7777777777777778, \"#fb9f3a\"], [0.8888888888888888, \"#fdca26\"], [1.0, \"#f0f921\"]], \"type\": \"histogram2dcontour\"}], \"mesh3d\": [{\"colorbar\": {\"outlinewidth\": 0, \"ticks\": \"\"}, \"type\": \"mesh3d\"}], \"parcoords\": [{\"line\": {\"colorbar\": {\"outlinewidth\": 0, \"ticks\": \"\"}}, \"type\": \"parcoords\"}], \"pie\": [{\"automargin\": true, \"type\": \"pie\"}], \"scatter\": [{\"marker\": {\"colorbar\": {\"outlinewidth\": 0, \"ticks\": \"\"}}, \"type\": \"scatter\"}], \"scatter3d\": [{\"line\": {\"colorbar\": {\"outlinewidth\": 0, \"ticks\": \"\"}}, \"marker\": {\"colorbar\": {\"outlinewidth\": 0, \"ticks\": \"\"}}, \"type\": \"scatter3d\"}], \"scattercarpet\": [{\"marker\": {\"colorbar\": {\"outlinewidth\": 0, \"ticks\": \"\"}}, \"type\": \"scattercarpet\"}], \"scattergeo\": [{\"marker\": {\"colorbar\": {\"outlinewidth\": 0, \"ticks\": \"\"}}, \"type\": \"scattergeo\"}], \"scattergl\": [{\"marker\": {\"colorbar\": {\"outlinewidth\": 0, \"ticks\": \"\"}}, \"type\": \"scattergl\"}], \"scattermapbox\": [{\"marker\": {\"colorbar\": {\"outlinewidth\": 0, \"ticks\": \"\"}}, \"type\": \"scattermapbox\"}], \"scatterpolar\": [{\"marker\": {\"colorbar\": {\"outlinewidth\": 0, \"ticks\": \"\"}}, \"type\": \"scatterpolar\"}], \"scatterpolargl\": [{\"marker\": {\"colorbar\": {\"outlinewidth\": 0, \"ticks\": \"\"}}, \"type\": \"scatterpolargl\"}], \"scatterternary\": [{\"marker\": {\"colorbar\": {\"outlinewidth\": 0, \"ticks\": \"\"}}, \"type\": \"scatterternary\"}], \"surface\": [{\"colorbar\": {\"outlinewidth\": 0, \"ticks\": \"\"}, \"colorscale\": [[0.0, \"#0d0887\"], [0.1111111111111111, \"#46039f\"], [0.2222222222222222, \"#7201a8\"], [0.3333333333333333, \"#9c179e\"], [0.4444444444444444, \"#bd3786\"], [0.5555555555555556, \"#d8576b\"], [0.6666666666666666, \"#ed7953\"], [0.7777777777777778, \"#fb9f3a\"], [0.8888888888888888, \"#fdca26\"], [1.0, \"#f0f921\"]], \"type\": \"surface\"}], \"table\": [{\"cells\": {\"fill\": {\"color\": \"#EBF0F8\"}, \"line\": {\"color\": \"white\"}}, \"header\": {\"fill\": {\"color\": \"#C8D4E3\"}, \"line\": {\"color\": \"white\"}}, \"type\": \"table\"}]}, \"layout\": {\"annotationdefaults\": {\"arrowcolor\": \"#2a3f5f\", \"arrowhead\": 0, \"arrowwidth\": 1}, \"coloraxis\": {\"colorbar\": {\"outlinewidth\": 0, \"ticks\": \"\"}}, \"colorscale\": {\"diverging\": [[0, \"#8e0152\"], [0.1, \"#c51b7d\"], [0.2, \"#de77ae\"], [0.3, \"#f1b6da\"], [0.4, \"#fde0ef\"], [0.5, \"#f7f7f7\"], [0.6, \"#e6f5d0\"], [0.7, \"#b8e186\"], [0.8, \"#7fbc41\"], [0.9, \"#4d9221\"], [1, \"#276419\"]], \"sequential\": [[0.0, \"#0d0887\"], [0.1111111111111111, \"#46039f\"], [0.2222222222222222, \"#7201a8\"], [0.3333333333333333, \"#9c179e\"], [0.4444444444444444, \"#bd3786\"], [0.5555555555555556, \"#d8576b\"], [0.6666666666666666, \"#ed7953\"], [0.7777777777777778, \"#fb9f3a\"], [0.8888888888888888, \"#fdca26\"], [1.0, \"#f0f921\"]], \"sequentialminus\": [[0.0, \"#0d0887\"], [0.1111111111111111, \"#46039f\"], [0.2222222222222222, \"#7201a8\"], [0.3333333333333333, \"#9c179e\"], [0.4444444444444444, \"#bd3786\"], [0.5555555555555556, \"#d8576b\"], [0.6666666666666666, \"#ed7953\"], [0.7777777777777778, \"#fb9f3a\"], [0.8888888888888888, \"#fdca26\"], [1.0, \"#f0f921\"]]}, \"colorway\": [\"#636efa\", \"#EF553B\", \"#00cc96\", \"#ab63fa\", \"#FFA15A\", \"#19d3f3\", \"#FF6692\", \"#B6E880\", \"#FF97FF\", \"#FECB52\"], \"font\": {\"color\": \"#2a3f5f\"}, \"geo\": {\"bgcolor\": \"white\", \"lakecolor\": \"white\", \"landcolor\": \"#E5ECF6\", \"showlakes\": true, \"showland\": true, \"subunitcolor\": \"white\"}, \"hoverlabel\": {\"align\": \"left\"}, \"hovermode\": \"closest\", \"mapbox\": {\"style\": \"light\"}, \"paper_bgcolor\": \"white\", \"plot_bgcolor\": \"#E5ECF6\", \"polar\": {\"angularaxis\": {\"gridcolor\": \"white\", \"linecolor\": \"white\", \"ticks\": \"\"}, \"bgcolor\": \"#E5ECF6\", \"radialaxis\": {\"gridcolor\": \"white\", \"linecolor\": \"white\", \"ticks\": \"\"}}, \"scene\": {\"xaxis\": {\"backgroundcolor\": \"#E5ECF6\", \"gridcolor\": \"white\", \"gridwidth\": 2, \"linecolor\": \"white\", \"showbackground\": true, \"ticks\": \"\", \"zerolinecolor\": \"white\"}, \"yaxis\": {\"backgroundcolor\": \"#E5ECF6\", \"gridcolor\": \"white\", \"gridwidth\": 2, \"linecolor\": \"white\", \"showbackground\": true, \"ticks\": \"\", \"zerolinecolor\": \"white\"}, \"zaxis\": {\"backgroundcolor\": \"#E5ECF6\", \"gridcolor\": \"white\", \"gridwidth\": 2, \"linecolor\": \"white\", \"showbackground\": true, \"ticks\": \"\", \"zerolinecolor\": \"white\"}}, \"shapedefaults\": {\"line\": {\"color\": \"#2a3f5f\"}}, \"ternary\": {\"aaxis\": {\"gridcolor\": \"white\", \"linecolor\": \"white\", \"ticks\": \"\"}, \"baxis\": {\"gridcolor\": \"white\", \"linecolor\": \"white\", \"ticks\": \"\"}, \"bgcolor\": \"#E5ECF6\", \"caxis\": {\"gridcolor\": \"white\", \"linecolor\": \"white\", \"ticks\": \"\"}}, \"title\": {\"x\": 0.05}, \"xaxis\": {\"automargin\": true, \"gridcolor\": \"white\", \"linecolor\": \"white\", \"ticks\": \"\", \"title\": {\"standoff\": 15}, \"zerolinecolor\": \"white\", \"zerolinewidth\": 2}, \"yaxis\": {\"automargin\": true, \"gridcolor\": \"white\", \"linecolor\": \"white\", \"ticks\": \"\", \"title\": {\"standoff\": 15}, \"zerolinecolor\": \"white\", \"zerolinewidth\": 2}}}, \"title\": {\"text\": \"<i><b>Confusion matrix</b></i>\"}, \"xaxis\": {\"dtick\": 1, \"gridcolor\": \"rgb(0, 0, 0)\", \"side\": \"top\", \"ticks\": \"\"}, \"yaxis\": {\"dtick\": 1, \"ticks\": \"\", \"ticksuffix\": \"  \"}},                        {\"responsive\": true}                    ).then(function(){\n",
       "                            \n",
       "var gd = document.getElementById('4ebb0060-86b8-407a-b64b-a50cb5408312');\n",
       "var x = new MutationObserver(function (mutations, observer) {{\n",
       "        var display = window.getComputedStyle(gd).display;\n",
       "        if (!display || display === 'none') {{\n",
       "            console.log([gd, 'removed!']);\n",
       "            Plotly.purge(gd);\n",
       "            observer.disconnect();\n",
       "        }}\n",
       "}});\n",
       "\n",
       "// Listen for the removal of the full notebook cells\n",
       "var notebookContainer = gd.closest('#notebook-container');\n",
       "if (notebookContainer) {{\n",
       "    x.observe(notebookContainer, {childList: true});\n",
       "}}\n",
       "\n",
       "// Listen for the clearing of the current output cell\n",
       "var outputEl = gd.closest('.output');\n",
       "if (outputEl) {{\n",
       "    x.observe(outputEl, {childList: true});\n",
       "}}\n",
       "\n",
       "                        })                };                });            </script>        </div>"
      ]
     },
     "metadata": {},
     "output_type": "display_data"
    },
    {
     "name": "stdout",
     "output_type": "stream",
     "text": [
      "              precision    recall  f1-score   support\n",
      "\n",
      "           1       0.95      0.97      0.96       172\n",
      "           2       0.93      0.89      0.91       187\n",
      "           3       0.91      0.96      0.94       188\n",
      "           4       0.97      0.94      0.95       156\n",
      "\n",
      "    accuracy                           0.94       703\n",
      "   macro avg       0.94      0.94      0.94       703\n",
      "weighted avg       0.94      0.94      0.94       703\n",
      "\n"
     ]
    }
   ],
   "source": [
    "utilities.getConfusion(actual=data_validation.loc[spikeIndexes_validation, 'knownClass'], \n",
    "                       predicted=data_validation.loc[spikeIndexes_validation, 'predictedClass'])"
   ]
  },
  {
   "cell_type": "code",
   "execution_count": null,
   "metadata": {},
   "outputs": [],
   "source": []
  }
 ],
 "metadata": {
  "kernelspec": {
   "display_name": "Python 3",
   "language": "python",
   "name": "python3"
  },
  "language_info": {
   "codemirror_mode": {
    "name": "ipython",
    "version": 3
   },
   "file_extension": ".py",
   "mimetype": "text/x-python",
   "name": "python",
   "nbconvert_exporter": "python",
   "pygments_lexer": "ipython3",
   "version": "3.8.1"
  }
 },
 "nbformat": 4,
 "nbformat_minor": 4
}
