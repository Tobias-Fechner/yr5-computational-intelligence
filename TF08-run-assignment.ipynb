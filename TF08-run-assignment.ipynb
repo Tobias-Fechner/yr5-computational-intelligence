{
 "cells": [
  {
   "cell_type": "markdown",
   "metadata": {},
   "source": [
    "# Imports"
   ]
  },
  {
   "cell_type": "code",
   "execution_count": null,
   "metadata": {},
   "outputs": [],
   "source": [
    "import pandas as pd\n",
    "from nn_spikes import NeuralNetwork, batchTrain, test\n",
    "import spike_tools, utilities, KNN_spikes\n",
    "from nn_spikes import getInputsAndTargets\n",
    "import plotly.express as px"
   ]
  },
  {
   "cell_type": "code",
   "execution_count": null,
   "metadata": {},
   "outputs": [],
   "source": [
    "data = pd.read_csv('./datasources/spikes/training_data.csv')\n",
    "spikeLocations = pd.read_csv('./datasources/spikes/training_spike_locations.csv', index_col=0)"
   ]
  },
  {
   "cell_type": "code",
   "execution_count": null,
   "metadata": {
    "scrolled": true
   },
   "outputs": [],
   "source": [
    "data_training, data_validation, spikeIndexes_training, spikeIndexes_validation = spike_tools.dataPreProcess(data, spikeLocations, waveformWindow=100)"
   ]
  },
  {
   "cell_type": "code",
   "execution_count": null,
   "metadata": {},
   "outputs": [],
   "source": [
    "#spike_tools.getAverageWaveforms(data_training, spikeIndexes_training[:200], classToPlot=3)"
   ]
  },
  {
   "cell_type": "code",
   "execution_count": null,
   "metadata": {},
   "outputs": [],
   "source": [
    "#spike_tools.getAverageWaveforms(data_training, spikeIndexes_training[:200], classToPlot=2)"
   ]
  },
  {
   "cell_type": "code",
   "execution_count": null,
   "metadata": {},
   "outputs": [],
   "source": [
    "#spike_tools.getAverageWaveforms(data_training, spikeIndexes_training[:200], classToPlot=1)"
   ]
  },
  {
   "cell_type": "code",
   "execution_count": null,
   "metadata": {},
   "outputs": [],
   "source": [
    "#spike_tools.getAverageWaveforms(data_training, spikeIndexes_training[:200], classToPlot=0)"
   ]
  },
  {
   "cell_type": "code",
   "execution_count": null,
   "metadata": {},
   "outputs": [],
   "source": []
  },
  {
   "cell_type": "markdown",
   "metadata": {},
   "source": [
    "# Run Neural Network Classifier"
   ]
  },
  {
   "cell_type": "code",
   "execution_count": null,
   "metadata": {},
   "outputs": [],
   "source": [
    "results = utilities.createResultsRepo([500])"
   ]
  },
  {
   "cell_type": "code",
   "execution_count": null,
   "metadata": {},
   "outputs": [],
   "source": [
    "for hid in results.keys():\n",
    "    \n",
    "    nn = NeuralNetwork(input_nodes=61, \n",
    "                       hidden_nodes=int(hid), \n",
    "                       output_nodes=4, \n",
    "                       lr=0.1,\n",
    "                       error_function='difference-squared')\n",
    "\n",
    "    nn, trainingCurve, validationCurve = batchTrain(data_training=data_training,\n",
    "                                                              data_validation=data_validation,\n",
    "                                                              spikeIndexes_training=spikeIndexes_training, \n",
    "                                                              spikeIndexes_validation=spikeIndexes_validation, \n",
    "                                                              nn=nn,\n",
    "                                                              epochs=30,\n",
    "                                                              plotCurves=False)\n",
    "    results[hid]['nn'] = nn\n",
    "    results[hid]['trainingCurve'] = trainingCurve\n",
    "    results[hid]['validationCurve'] = validationCurve"
   ]
  },
  {
   "cell_type": "code",
   "execution_count": null,
   "metadata": {},
   "outputs": [],
   "source": [
    "waveforms = data_validation[data_validation['predictedSpike']==True]['waveform']\n",
    "predictionsMLP = spike_tools.classifySpikesMLP(waveforms, nn)"
   ]
  },
  {
   "cell_type": "markdown",
   "metadata": {},
   "source": [
    "# Run KNN Classifier"
   ]
  },
  {
   "cell_type": "code",
   "execution_count": null,
   "metadata": {},
   "outputs": [],
   "source": [
    "for index in spikeIndexes_validation:\n",
    "    _, _, label = getInputsAndTargets(data_validation.loc[index, 'waveform'], 4, data_validation.loc[index - 10:index + 5, 'knownClass'])\n",
    "    data_validation.loc[index, 'knownClass'] = label + 1\n",
    "    \n",
    "for index in spikeIndexes_training:\n",
    "    _, _, label = getInputsAndTargets(data_training.loc[index, 'waveform'], 4, data_training.loc[index - 10:index + 5, 'knownClass'])\n",
    "    data_training.loc[index, 'knownClass'] = label + 1"
   ]
  },
  {
   "cell_type": "markdown",
   "metadata": {},
   "source": [
    "Run KNN for a range of neighbors and components"
   ]
  },
  {
   "cell_type": "code",
   "execution_count": null,
   "metadata": {},
   "outputs": [],
   "source": [
    "results = {}\n",
    "for n_neighbors in [3,4,5,6,7,8]:\n",
    "    for n_components in [3,4,5,6,7,8,9,10]:\n",
    "        predictionsKNN, componentsTraining, cs = KNN_spikes.KNN_classifier(data_training.loc[spikeIndexes_training, 'waveform'].to_list(), \n",
    "                                                         data_validation.loc[spikeIndexes_validation, 'waveform'].to_list(), \n",
    "                                                         data_training.loc[spikeIndexes_training, 'knownClass'].to_list(), n_components=int(n_components), n_neighbors=n_neighbors)\n",
    "\n",
    "        results['comps:' + str(n_components) + '_neigh:' + str(n_neighbors)] = predictionsKNN"
   ]
  },
  {
   "cell_type": "markdown",
   "metadata": {},
   "source": [
    "Calculate accuracies for all and store in new dict"
   ]
  },
  {
   "cell_type": "code",
   "execution_count": null,
   "metadata": {},
   "outputs": [],
   "source": [
    "accuracies = {}\n",
    "for key in results.keys():\n",
    "    data_validation.loc[spikeIndexes_validation, 'predictedClass'] = results[key]\n",
    "    matches = sum(data_validation.loc[spikeIndexes_validation, 'knownClass'] == data_validation.loc[spikeIndexes_validation, 'predictedClass'])\n",
    "    acc = matches/len(data_validation.loc[spikeIndexes_validation])\n",
    "    accuracies[key] = acc"
   ]
  },
  {
   "cell_type": "markdown",
   "metadata": {},
   "source": [
    "Convert dict into something plotly can plot"
   ]
  },
  {
   "cell_type": "code",
   "execution_count": null,
   "metadata": {},
   "outputs": [],
   "source": [
    "df = pd.DataFrame(data=accuracies, index=[0]).T\n",
    "df.columns = ['accuracy']"
   ]
  },
  {
   "cell_type": "code",
   "execution_count": null,
   "metadata": {},
   "outputs": [],
   "source": [
    "px.scatter(df, y=\"accuracy\")"
   ]
  },
  {
   "cell_type": "code",
   "execution_count": null,
   "metadata": {},
   "outputs": [],
   "source": [
    "df = pd.DataFrame(data=cs, index=np.arange(0, len(cs)), columns=['cumulative sum of explained variance'])\n",
    "px.line(df, y=\"cumulative sum of explained variance\")"
   ]
  },
  {
   "cell_type": "code",
   "execution_count": null,
   "metadata": {},
   "outputs": [],
   "source": [
    "data_validation.loc[spikeIndexes_validation, 'predictedClass'] = results['comps:8_neigh:6']"
   ]
  },
  {
   "cell_type": "code",
   "execution_count": null,
   "metadata": {},
   "outputs": [],
   "source": [
    "df = pd.DataFrame(data=(componentsTraining.T[0], componentsTraining.T[1]), index=['1st component', '2nd component'])"
   ]
  },
  {
   "cell_type": "code",
   "execution_count": null,
   "metadata": {},
   "outputs": [],
   "source": [
    "df.T"
   ]
  },
  {
   "cell_type": "code",
   "execution_count": null,
   "metadata": {},
   "outputs": [],
   "source": [
    "px.scatter(df.T, x=\"1st component\", y=\"2nd component\")"
   ]
  },
  {
   "cell_type": "code",
   "execution_count": null,
   "metadata": {},
   "outputs": [],
   "source": [
    "matches = sum(data_validation.loc[spikeIndexes_validation, 'knownClass'] == data_validation.loc[spikeIndexes_validation, 'predictedClass'])"
   ]
  },
  {
   "cell_type": "code",
   "execution_count": null,
   "metadata": {},
   "outputs": [],
   "source": [
    "acc = matches/len(data_validation.loc[spikeIndexes_validation])\n",
    "acc"
   ]
  },
  {
   "cell_type": "markdown",
   "metadata": {},
   "source": [
    "---"
   ]
  },
  {
   "cell_type": "code",
   "execution_count": null,
   "metadata": {},
   "outputs": [],
   "source": [
    "data_validation.loc[spikeIndexes_validation]"
   ]
  },
  {
   "cell_type": "code",
   "execution_count": null,
   "metadata": {},
   "outputs": [],
   "source": [
    "utilities.getConfusion(actual=data_validation.loc[spikeIndexes_validation, 'knownClass'], \n",
    "                       predicted=data_validation.loc[spikeIndexes_validation, 'predictedClass'])"
   ]
  },
  {
   "cell_type": "code",
   "execution_count": null,
   "metadata": {},
   "outputs": [],
   "source": []
  }
 ],
 "metadata": {
  "kernelspec": {
   "display_name": "Python 3",
   "language": "python",
   "name": "python3"
  },
  "language_info": {
   "codemirror_mode": {
    "name": "ipython",
    "version": 3
   },
   "file_extension": ".py",
   "mimetype": "text/x-python",
   "name": "python",
   "nbconvert_exporter": "python",
   "pygments_lexer": "ipython3",
   "version": "3.8.1"
  }
 },
 "nbformat": 4,
 "nbformat_minor": 4
}
