{
 "cells": [
  {
   "cell_type": "markdown",
   "metadata": {},
   "source": [
    "# Imports"
   ]
  },
  {
   "cell_type": "code",
   "execution_count": null,
   "metadata": {},
   "outputs": [],
   "source": [
    "import pandas as pd\n",
    "import numpy as np\n",
    "from nn_spikes import NeuralNetwork, batchTrain\n",
    "from spike_tools import classifySpikesMLP, getSpikeWaveforms\n",
    "import plotly.express as px\n",
    "from simulated_annealing import anneal"
   ]
  },
  {
   "cell_type": "code",
   "execution_count": null,
   "metadata": {},
   "outputs": [],
   "source": [
    "data = pd.read_csv('./datasources/spikes/training_data.csv')\n",
    "spikeLocations = pd.read_csv('./datasources/spikes/training_spike_locations.csv', index_col=0)"
   ]
  },
  {
   "cell_type": "markdown",
   "metadata": {},
   "source": [
    "data_training = pd.read_csv('./datasources/spikes/dev/data_training_SA.csv')\n",
    "data_training.set_index(data_training.columns[0], drop=True, inplace=True)\n",
    "data_training.index.name='index'\n",
    "data_training.head(3)"
   ]
  },
  {
   "cell_type": "markdown",
   "metadata": {},
   "source": [
    "data_validation = pd.read_csv('./datasources/spikes/dev/data_validation_SA.csv')\n",
    "data_validation.set_index(data_validation.columns[0], drop=True, inplace=True)\n",
    "data_validation.index.name='index'\n",
    "data_validation.head(3)"
   ]
  },
  {
   "cell_type": "markdown",
   "metadata": {},
   "source": [
    "spikeIndexes_training = pd.read_csv('./datasources/spikes/dev/spikeIndexes_training_SA.csv')\n",
    "spikeIndexes_training.set_index(spikeIndexes_training.columns[0], drop=True, inplace=True)\n",
    "spikeIndexes_training = spikeIndexes_training.values.flatten()\n",
    "spikeIndexes_training[:5]"
   ]
  },
  {
   "cell_type": "markdown",
   "metadata": {},
   "source": [
    "spikeIndexes_validation = pd.read_csv('./datasources/spikes/dev/spikeIndexes_validation_SA.csv')\n",
    "spikeIndexes_validation.set_index(spikeIndexes_validation.columns[0], drop=True, inplace=True)\n",
    "spikeIndexes_validation = spikeIndexes_validation.values.flatten()\n",
    "spikeIndexes_validation[:5]"
   ]
  },
  {
   "cell_type": "markdown",
   "metadata": {},
   "source": [
    "# Run simulated annealing optimiser"
   ]
  },
  {
   "cell_type": "code",
   "execution_count": null,
   "metadata": {},
   "outputs": [],
   "source": [
    "# epochs, hidden_nodes, lr\n",
    "solution = [15,500,0.2] \n",
    "\n",
    "# Simulated annealing optimisation\n",
    "results = anneal(solution, spikeLocations, iterations=4, alpha=0.6, variation=0.3)"
   ]
  },
  {
   "cell_type": "code",
   "execution_count": null,
   "metadata": {},
   "outputs": [],
   "source": [
    "df = pd.DataFrame(results, columns=['Temperature', 'iteration', 'Solution', 'Error'])\n",
    "df.set_index('Temperature', drop=True, inplace=True)"
   ]
  },
  {
   "cell_type": "code",
   "execution_count": null,
   "metadata": {},
   "outputs": [],
   "source": [
    "df"
   ]
  },
  {
   "cell_type": "code",
   "execution_count": null,
   "metadata": {},
   "outputs": [],
   "source": [
    "px.line(df['Error'], y=\"Error\")"
   ]
  },
  {
   "cell_type": "code",
   "execution_count": null,
   "metadata": {},
   "outputs": [],
   "source": [
    "print(\"Best performance\", 99.9-results[-1][-1])"
   ]
  },
  {
   "cell_type": "markdown",
   "metadata": {},
   "source": [
    "### Predict on validation dataset"
   ]
  },
  {
   "cell_type": "code",
   "execution_count": null,
   "metadata": {},
   "outputs": [],
   "source": [
    "waveforms = data_validation.loc[spikeIndexes_validation, 'waveform']\n",
    "predictions = spike_tools.classifySpikesMLP(waveforms, results['1100']['nn'])\n",
    "data_validation.at[spikeIndexes_validation, 'predictedClass'] = pd.Series(predictions).values"
   ]
  },
  {
   "cell_type": "code",
   "execution_count": null,
   "metadata": {},
   "outputs": [],
   "source": [
    "data_validation.loc[spikeIndexes_validation]"
   ]
  },
  {
   "cell_type": "code",
   "execution_count": null,
   "metadata": {},
   "outputs": [],
   "source": []
  }
 ],
 "metadata": {
  "kernelspec": {
   "display_name": "Python 3",
   "language": "python",
   "name": "python3"
  },
  "language_info": {
   "codemirror_mode": {
    "name": "ipython",
    "version": 3
   },
   "file_extension": ".py",
   "mimetype": "text/x-python",
   "name": "python",
   "nbconvert_exporter": "python",
   "pygments_lexer": "ipython3",
   "version": "3.8.1"
  }
 },
 "nbformat": 4,
 "nbformat_minor": 4
}
