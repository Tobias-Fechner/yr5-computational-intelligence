{
 "cells": [
  {
   "cell_type": "markdown",
   "metadata": {},
   "source": [
    "# Imports"
   ]
  },
  {
   "cell_type": "code",
   "execution_count": null,
   "metadata": {},
   "outputs": [],
   "source": [
    "import pandas as pd\n",
    "import numpy as np\n",
    "from nn_spikes import NeuralNetwork, batchTrain\n",
    "from spike_tools import classifySpikesMLP, getSpikeWaveforms\n",
    "import plotly.express as px\n",
    "from simulated_annealing import anneal"
   ]
  },
  {
   "cell_type": "code",
   "execution_count": null,
   "metadata": {},
   "outputs": [],
   "source": [
    "data = pd.read_csv('./datasources/spikes/training_data.csv')\n",
    "spikeLocations = pd.read_csv('./datasources/spikes/training_spike_locations.csv', index_col=0)"
   ]
  },
  {
   "cell_type": "markdown",
   "metadata": {},
   "source": [
    "data_training = pd.read_csv('./datasources/spikes/dev/data_training_SA.csv')\n",
    "data_training.set_index(data_training.columns[0], drop=True, inplace=True)\n",
    "data_training.index.name='index'\n",
    "data_training.head(3)"
   ]
  },
  {
   "cell_type": "markdown",
   "metadata": {},
   "source": [
    "data_validation = pd.read_csv('./datasources/spikes/dev/data_validation_SA.csv')\n",
    "data_validation.set_index(data_validation.columns[0], drop=True, inplace=True)\n",
    "data_validation.index.name='index'\n",
    "data_validation.head(3)"
   ]
  },
  {
   "cell_type": "markdown",
   "metadata": {},
   "source": [
    "spikeIndexes_training = pd.read_csv('./datasources/spikes/dev/spikeIndexes_training_SA.csv')\n",
    "spikeIndexes_training.set_index(spikeIndexes_training.columns[0], drop=True, inplace=True)\n",
    "spikeIndexes_training = spikeIndexes_training.values.flatten()\n",
    "spikeIndexes_training[:5]"
   ]
  },
  {
   "cell_type": "markdown",
   "metadata": {},
   "source": [
    "spikeIndexes_validation = pd.read_csv('./datasources/spikes/dev/spikeIndexes_validation_SA.csv')\n",
    "spikeIndexes_validation.set_index(spikeIndexes_validation.columns[0], drop=True, inplace=True)\n",
    "spikeIndexes_validation = spikeIndexes_validation.values.flatten()\n",
    "spikeIndexes_validation[:5]"
   ]
  },
  {
   "cell_type": "markdown",
   "metadata": {},
   "source": [
    "# Run simulated annealing optimiser"
   ]
  },
  {
   "cell_type": "code",
   "execution_count": null,
   "metadata": {},
   "outputs": [],
   "source": [
    "# epochs, hidden_nodes, lr\n",
    "solution = [150,1000,0.3] \n",
    "\n",
    "# Simulated annealing optimisation\n",
    "results = anneal(solution, spikeLocations, iterations=4, alpha=0.6, variation=0.3)"
   ]
  },
  {
   "cell_type": "code",
   "execution_count": null,
   "metadata": {},
   "outputs": [],
   "source": [
    "results"
   ]
  },
  {
   "cell_type": "code",
   "execution_count": null,
   "metadata": {},
   "outputs": [],
   "source": [
    "results['windowSizes'] = [a[0] for a in results['Solution']]\n",
    "results['hiddenNodes'] = [a[1] for a in results['Solution']]\n",
    "results['initialLR'] = [a[2] for a in results['Solution']]"
   ]
  },
  {
   "cell_type": "code",
   "execution_count": null,
   "metadata": {},
   "outputs": [],
   "source": [
    "results"
   ]
  },
  {
   "cell_type": "code",
   "execution_count": null,
   "metadata": {},
   "outputs": [],
   "source": [
    "import plotly.graph_objects as go\n",
    "from plotly.subplots import make_subplots\n",
    "\n",
    "# Create figure with secondary y-axis\n",
    "fig = make_subplots(specs=[[{\"secondary_y\": True}]])\n",
    "\n",
    "# Add traces\n",
    "fig.add_trace(\n",
    "    go.Scatter(x=results.index, y=results['windowSizes'], name=\"Window Size\"),\n",
    "    secondary_y=False,\n",
    ")\n",
    "\n",
    "fig.add_trace(\n",
    "    go.Scatter(x=results.index, y=results['hiddenNodes'], name=\"Hidden Nodes\"),\n",
    "    secondary_y=False,\n",
    ")\n",
    "\n",
    "fig.add_trace(\n",
    "    go.Scatter(x=results.index, y=results['initialLR'], name=\"Initial LR\"),\n",
    "    secondary_y=True,\n",
    ")\n",
    "\n",
    "fig.add_trace(\n",
    "    go.Scatter(x=results.index, y=results['Temperature'], name=\"Temperature\"),\n",
    "    secondary_y=True,\n",
    ")\n",
    "\n",
    "fig.add_trace(\n",
    "    go.Scatter(x=results.index, y=results['Error'], name=\"Error\"),\n",
    "    secondary_y=True,\n",
    ")\n",
    "\n",
    "# Add figure title\n",
    "fig.update_layout(\n",
    "    title_text=\"Window and InitialLR\"\n",
    ")\n",
    "\n",
    "# Set x-axis title\n",
    "fig.update_xaxes(title_text=\"combination\")\n",
    "\n",
    "# Set y-axes titles\n",
    "fig.update_yaxes(title_text=\"Model Parameters\", secondary_y=False)\n",
    "fig.update_yaxes(title_text=\"Error\", secondary_y=True)\n",
    "\n",
    "fig.show()"
   ]
  },
  {
   "cell_type": "code",
   "execution_count": null,
   "metadata": {},
   "outputs": [],
   "source": [
    "pb = str(round(99.9-results.loc[20, 'Error'], 2))\n",
    "print(\"Best performance\", pb+'%')"
   ]
  },
  {
   "cell_type": "code",
   "execution_count": null,
   "metadata": {},
   "outputs": [],
   "source": [
    "fpath = './datasources/spikes/dev/sa_results_seed_' + str(results.loc[0,'windowSizes']) + '_' + str(results.loc[0,'hiddenNodes']) + '_' + str(results.loc[0,'initialLR']) + '_' + pb + '.csv'\n",
    "print(fpath)"
   ]
  },
  {
   "cell_type": "code",
   "execution_count": null,
   "metadata": {},
   "outputs": [],
   "source": [
    "results.to_csv(fpath)"
   ]
  },
  {
   "cell_type": "code",
   "execution_count": null,
   "metadata": {},
   "outputs": [],
   "source": []
  }
 ],
 "metadata": {
  "kernelspec": {
   "display_name": "Python 3",
   "language": "python",
   "name": "python3"
  },
  "language_info": {
   "codemirror_mode": {
    "name": "ipython",
    "version": 3
   },
   "file_extension": ".py",
   "mimetype": "text/x-python",
   "name": "python",
   "nbconvert_exporter": "python",
   "pygments_lexer": "ipython3",
   "version": "3.8.1"
  }
 },
 "nbformat": 4,
 "nbformat_minor": 4
}
